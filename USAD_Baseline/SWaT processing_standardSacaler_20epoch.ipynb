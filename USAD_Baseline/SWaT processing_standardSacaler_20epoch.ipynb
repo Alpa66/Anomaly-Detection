{
 "cells": [
  {
   "cell_type": "markdown",
   "id": "9f6c384a",
   "metadata": {},
   "source": [
    "# USAD\n",
    "## Importing packages"
   ]
  },
  {
   "cell_type": "code",
   "execution_count": 1,
   "id": "06186c5f",
   "metadata": {},
   "outputs": [],
   "source": [
    "import pandas as pd\n",
    "import numpy as np\n",
    "import torch\n",
    "import torch.nn as nn\n",
    "import matplotlib.pyplot as plt\n",
    "import random\n",
    "\n",
    "from torch.utils.data import Dataset, DataLoader\n",
    "from sklearn.preprocessing import MinMaxScaler, StandardScaler\n",
    "\n",
    "from sklearn.metrics import confusion_matrix, f1_score, roc_curve, roc_auc_score, precision_score, recall_score"
   ]
  },
  {
   "cell_type": "markdown",
   "id": "7d53da8a",
   "metadata": {},
   "source": [
    "## Reading data"
   ]
  },
  {
   "cell_type": "code",
   "execution_count": 2,
   "id": "e471dbed-a691-4550-b508-133c927c759e",
   "metadata": {},
   "outputs": [],
   "source": [
    "def set_seed(seed):\n",
    "    torch.manual_seed(seed)\n",
    "    torch.cuda.manual_seed_all(seed)\n",
    "    np.random.seed(seed)\n",
    "    random.seed(seed)\n",
    "    torch.backends.cudnn.deterministic = True\n",
    "    torch.backends.cudnn.benchmark = False"
   ]
  },
  {
   "cell_type": "code",
   "execution_count": 3,
   "id": "cebe72ce-78ed-4f3d-a76d-be88dc042d16",
   "metadata": {},
   "outputs": [],
   "source": [
    "seed_num = 11884\n",
    "set_seed(seed_num)"
   ]
  },
  {
   "cell_type": "code",
   "execution_count": 4,
   "id": "4c83de10",
   "metadata": {},
   "outputs": [],
   "source": [
    "df = pd.read_csv('../../../Projects/data/SWaT_Dataset_Normal_v1.csv')\n",
    "df = df.drop(columns=[' Timestamp', 'Normal/Attack'])\n",
    "df = df.astype('float64')\n",
    "grouping_array = np.arange(len(df)) // 5\n",
    "df = df.groupby(grouping_array).median()"
   ]
  },
  {
   "cell_type": "markdown",
   "id": "55f4af0a",
   "metadata": {},
   "source": [
    "### Processing data"
   ]
  },
  {
   "cell_type": "code",
   "execution_count": 5,
   "id": "ae339864",
   "metadata": {},
   "outputs": [],
   "source": [
    "window_size = 12\n",
    "input_size = window_size * 51\n",
    "latent_space = 40\n",
    "epochs = 70"
   ]
  },
  {
   "cell_type": "code",
   "execution_count": 6,
   "id": "7dfe6caa",
   "metadata": {},
   "outputs": [],
   "source": [
    "mm = StandardScaler()"
   ]
  },
  {
   "cell_type": "code",
   "execution_count": 7,
   "id": "83abe587",
   "metadata": {},
   "outputs": [],
   "source": [
    "Normalized = pd.DataFrame(mm.fit_transform(df))\n",
    "train_set = Normalized[: int(0.8 * Normalized.shape[0])]\n",
    "validation_set = Normalized[int(0.8 * Normalized.shape[0]):]"
   ]
  },
  {
   "cell_type": "code",
   "execution_count": 8,
   "id": "c3de137d",
   "metadata": {},
   "outputs": [
    {
     "name": "stdout",
     "output_type": "stream",
     "text": [
      "cuda:0\n"
     ]
    }
   ],
   "source": [
    "device = torch.device('cuda:0' if torch.cuda.is_available() else 'cpu')\n",
    "# device = torch.device('cpu')\n",
    "print(device)"
   ]
  },
  {
   "cell_type": "code",
   "execution_count": 9,
   "id": "fad13d19",
   "metadata": {},
   "outputs": [],
   "source": [
    "#device = torch.device('cpu')"
   ]
  },
  {
   "cell_type": "code",
   "execution_count": 10,
   "id": "130e5791",
   "metadata": {},
   "outputs": [],
   "source": [
    "class SWat_dataset(Dataset):\n",
    "    def __init__(self, dataframe: pd.DataFrame, target: pd.DataFrame,  window_size):\n",
    "        self.data = dataframe\n",
    "        self.window_size = window_size\n",
    "\n",
    "    def __len__(self):\n",
    "        return len(self.data) - self.window_size\n",
    "\n",
    "    def __getitem__(self, idx):\n",
    "        window = self.data[idx: idx + self.window_size]\n",
    "        features = torch.tensor(window.iloc[:,:].values).float().to(device)\n",
    "        return features"
   ]
  },
  {
   "cell_type": "code",
   "execution_count": 11,
   "id": "7bb00e04",
   "metadata": {},
   "outputs": [],
   "source": [
    "train_dataset = SWat_dataset(train_set, train_set, window_size)\n",
    "validation_dataset = SWat_dataset(validation_set, validation_set, window_size)\n",
    "\n",
    "batch_size = 4096\n",
    "train_loader = DataLoader(train_dataset, batch_size=batch_size, shuffle=True, num_workers=0)\n",
    "validation_loader = DataLoader(validation_dataset, batch_size=batch_size, shuffle=True, num_workers=0)"
   ]
  },
  {
   "cell_type": "markdown",
   "id": "22cf1ae6",
   "metadata": {},
   "source": [
    "## Setting up the model structure"
   ]
  },
  {
   "cell_type": "code",
   "execution_count": 12,
   "id": "4582b348",
   "metadata": {},
   "outputs": [],
   "source": [
    "class Encoder(nn.Module):\n",
    "    def __init__(self, input_size, hidden_size):\n",
    "        super(Encoder, self).__init__()\n",
    "        self.input_size = input_size\n",
    "        self.hidden_size = hidden_size\n",
    "        self.fc1 = nn.Linear(input_size, input_size // 2)\n",
    "        self.relu = nn.ReLU(True)\n",
    "        self.fc2 = nn.Linear(input_size // 2, input_size // 4)\n",
    "        self.fc3 = nn.Linear(input_size // 4, hidden_size)\n",
    "    \n",
    "    def forward(self, x):\n",
    "        out = self.relu(self.fc1(x))\n",
    "        out = self.relu(self.fc2(out))\n",
    "        out = self.relu(self.fc3(out))\n",
    "        return out\n",
    "\n",
    "\n",
    "class AutoEncoder(nn.Module):\n",
    "    def __init__(self, input_size, hidden_size, encoder):        \n",
    "        super(AutoEncoder, self).__init__()\n",
    "        self.encoder = encoder\n",
    "        self.input_size = input_size\n",
    "        self.hidden_size = hidden_size\n",
    "        self.sigmoid = nn.Sigmoid()\n",
    "        self.relu = nn.ReLU(True)\n",
    "        self.fc1 = nn.Linear(hidden_size, input_size // 4)\n",
    "        self.fc2 = nn.Linear(input_size // 4, input_size // 2)\n",
    "        self.fc3 = nn.Linear(input_size // 2, input_size)\n",
    "        \n",
    "    def forward(self, x):\n",
    "        out = self.encoder(x)\n",
    "        out = self.relu(self.fc1(out))\n",
    "        out = self.relu(self.fc2(out))\n",
    "        out = self.fc3(out)\n",
    "        return out"
   ]
  },
  {
   "cell_type": "code",
   "execution_count": 13,
   "id": "7aa83ddb",
   "metadata": {},
   "outputs": [],
   "source": [
    "shared_encoder = Encoder(input_size, latent_space)\n",
    "AE1 = AutoEncoder(input_size, latent_space, shared_encoder)\n",
    "AE2 = AutoEncoder(input_size, latent_space, shared_encoder)"
   ]
  },
  {
   "cell_type": "code",
   "execution_count": 14,
   "id": "4d306383",
   "metadata": {},
   "outputs": [
    {
     "data": {
      "text/plain": [
       "AutoEncoder(\n",
       "  (encoder): Encoder(\n",
       "    (fc1): Linear(in_features=612, out_features=306, bias=True)\n",
       "    (relu): ReLU(inplace=True)\n",
       "    (fc2): Linear(in_features=306, out_features=153, bias=True)\n",
       "    (fc3): Linear(in_features=153, out_features=40, bias=True)\n",
       "  )\n",
       "  (sigmoid): Sigmoid()\n",
       "  (relu): ReLU(inplace=True)\n",
       "  (fc1): Linear(in_features=40, out_features=153, bias=True)\n",
       "  (fc2): Linear(in_features=153, out_features=306, bias=True)\n",
       "  (fc3): Linear(in_features=306, out_features=612, bias=True)\n",
       ")"
      ]
     },
     "execution_count": 14,
     "metadata": {},
     "output_type": "execute_result"
    }
   ],
   "source": [
    "shared_encoder.to(device)\n",
    "AE1.to(device)\n",
    "AE2.to(device)"
   ]
  },
  {
   "cell_type": "code",
   "execution_count": 15,
   "id": "b37bf476",
   "metadata": {},
   "outputs": [],
   "source": [
    "optimizer1 = torch.optim.Adam(AE1.parameters())\n",
    "optimizer2 = torch.optim.Adam(AE2.parameters())"
   ]
  },
  {
   "cell_type": "code",
   "execution_count": 16,
   "id": "17056e4a-22c6-4498-9948-1e6c548cb8e9",
   "metadata": {},
   "outputs": [],
   "source": [
    "model_1 = 'AE1_downsampled_seed_' + str(seed_num) + '.pth'\n",
    "model_2 = 'AE2_downsampled_seed_' + str(seed_num) + '.pth'"
   ]
  },
  {
   "cell_type": "markdown",
   "id": "015328f9",
   "metadata": {},
   "source": [
    "## Training the model"
   ]
  },
  {
   "cell_type": "markdown",
   "id": "abf47e12",
   "metadata": {},
   "source": [
    "### Training"
   ]
  },
  {
   "cell_type": "code",
   "execution_count": 17,
   "id": "4a86afc5",
   "metadata": {},
   "outputs": [
    {
     "name": "stdout",
     "output_type": "stream",
     "text": [
      "Epoch: 0 ---> Val loss: AE1 0.2783, AE2: 0.2621\n",
      "Train loss: AE1 0.5830, AE2 0.5644\n",
      "Epoch: 1 ---> Val loss: AE1 0.2697, AE2: -0.0453\n",
      "Train loss: AE1 0.3824, AE2 -0.0486\n",
      "Epoch: 2 ---> Val loss: AE1 0.3272, AE2: -0.1649\n",
      "Train loss: AE1 0.5783, AE2 -0.2691\n",
      "Epoch: 3 ---> Val loss: AE1 0.3628, AE2: -0.2501\n",
      "Train loss: AE1 0.7319, AE2 -0.5008\n",
      "Epoch: 4 ---> Val loss: AE1 0.3761, AE2: -0.2959\n",
      "Train loss: AE1 0.7584, AE2 -0.6241\n",
      "Epoch: 5 ---> Val loss: AE1 0.3895, AE2: -0.3287\n",
      "Train loss: AE1 0.7773, AE2 -0.6888\n",
      "Epoch: 6 ---> Val loss: AE1 0.4002, AE2: -0.3525\n",
      "Train loss: AE1 0.7873, AE2 -0.7195\n",
      "Epoch: 7 ---> Val loss: AE1 0.4041, AE2: -0.3653\n",
      "Train loss: AE1 0.7969, AE2 -0.7465\n",
      "Epoch: 8 ---> Val loss: AE1 0.4103, AE2: -0.3755\n",
      "Train loss: AE1 0.8096, AE2 -0.7668\n",
      "Epoch: 9 ---> Val loss: AE1 0.4189, AE2: -0.3905\n",
      "Train loss: AE1 0.8210, AE2 -0.7827\n",
      "Epoch: 10 ---> Val loss: AE1 0.4173, AE2: -0.3922\n",
      "Train loss: AE1 0.8261, AE2 -0.7950\n",
      "Epoch: 11 ---> Val loss: AE1 0.4213, AE2: -0.3993\n",
      "Train loss: AE1 0.8306, AE2 -0.8037\n",
      "Epoch: 12 ---> Val loss: AE1 0.4191, AE2: -0.3990\n",
      "Train loss: AE1 0.8242, AE2 -0.7999\n",
      "Epoch: 13 ---> Val loss: AE1 0.4252, AE2: -0.4073\n",
      "Train loss: AE1 0.8312, AE2 -0.8098\n",
      "Epoch: 14 ---> Val loss: AE1 0.4221, AE2: -0.4058\n",
      "Train loss: AE1 0.8345, AE2 -0.8152\n",
      "Epoch: 15 ---> Val loss: AE1 0.4261, AE2: -0.4115\n",
      "Train loss: AE1 0.8335, AE2 -0.8159\n",
      "Epoch: 16 ---> Val loss: AE1 0.4253, AE2: -0.4121\n",
      "Train loss: AE1 0.8387, AE2 -0.8228\n",
      "Epoch: 17 ---> Val loss: AE1 0.4253, AE2: -0.4128\n",
      "Train loss: AE1 0.8421, AE2 -0.8232\n",
      "Epoch: 18 ---> Val loss: AE1 0.4278, AE2: -0.4167\n",
      "Train loss: AE1 0.8482, AE2 -0.8311\n",
      "Epoch: 19 ---> Val loss: AE1 0.4270, AE2: -0.4166\n",
      "Train loss: AE1 0.8491, AE2 -0.8351\n",
      "Epoch: 20 ---> Val loss: AE1 0.4284, AE2: -0.4189\n",
      "Train loss: AE1 0.8407, AE2 -0.8290\n",
      "Epoch: 21 ---> Val loss: AE1 0.4303, AE2: -0.4214\n",
      "Train loss: AE1 0.8463, AE2 -0.8359\n",
      "Epoch: 22 ---> Val loss: AE1 0.4267, AE2: -0.4184\n",
      "Train loss: AE1 0.8468, AE2 -0.8371\n",
      "Epoch: 23 ---> Val loss: AE1 0.4332, AE2: -0.4254\n",
      "Train loss: AE1 0.8498, AE2 -0.8404\n",
      "Epoch: 24 ---> Val loss: AE1 0.4288, AE2: -0.4213\n",
      "Train loss: AE1 0.8570, AE2 -0.8484\n",
      "Epoch: 25 ---> Val loss: AE1 0.4303, AE2: -0.4233\n",
      "Train loss: AE1 0.8586, AE2 -0.8509\n",
      "Epoch: 26 ---> Val loss: AE1 0.4301, AE2: -0.4224\n",
      "Train loss: AE1 0.8542, AE2 -0.8465\n",
      "Epoch: 27 ---> Val loss: AE1 0.4302, AE2: -0.4237\n",
      "Train loss: AE1 0.8512, AE2 -0.8439\n",
      "Epoch: 28 ---> Val loss: AE1 0.4320, AE2: -0.4258\n",
      "Train loss: AE1 0.8533, AE2 -0.8465\n",
      "Epoch: 29 ---> Val loss: AE1 0.4324, AE2: -0.4266\n",
      "Train loss: AE1 0.8618, AE2 -0.8555\n",
      "Epoch: 30 ---> Val loss: AE1 0.4323, AE2: -0.4269\n",
      "Train loss: AE1 0.8579, AE2 -0.8521\n",
      "Epoch: 31 ---> Val loss: AE1 0.4316, AE2: -0.4264\n",
      "Train loss: AE1 0.8545, AE2 -0.8491\n",
      "Epoch: 32 ---> Val loss: AE1 0.4323, AE2: -0.4273\n",
      "Train loss: AE1 0.8534, AE2 -0.8483\n",
      "Epoch: 33 ---> Val loss: AE1 0.4348, AE2: -0.4294\n",
      "Train loss: AE1 0.8520, AE2 -0.8446\n",
      "Epoch: 34 ---> Val loss: AE1 0.4346, AE2: -0.4296\n",
      "Train loss: AE1 0.8551, AE2 -0.8491\n",
      "Epoch: 35 ---> Val loss: AE1 0.4317, AE2: -0.4263\n",
      "Train loss: AE1 0.8596, AE2 -0.8539\n",
      "Epoch: 36 ---> Val loss: AE1 0.4348, AE2: -0.4302\n",
      "Train loss: AE1 0.8521, AE2 -0.8471\n",
      "Epoch: 37 ---> Val loss: AE1 0.4319, AE2: -0.4276\n",
      "Train loss: AE1 0.8509, AE2 -0.8464\n",
      "Epoch: 38 ---> Val loss: AE1 0.4326, AE2: -0.4284\n",
      "Train loss: AE1 0.8676, AE2 -0.8633\n",
      "Epoch: 39 ---> Val loss: AE1 0.4340, AE2: -0.4300\n",
      "Train loss: AE1 0.8578, AE2 -0.8538\n",
      "Epoch: 40 ---> Val loss: AE1 0.4316, AE2: -0.4278\n",
      "Train loss: AE1 0.8598, AE2 -0.8559\n",
      "Epoch: 41 ---> Val loss: AE1 0.4335, AE2: -0.4297\n",
      "Train loss: AE1 0.8633, AE2 -0.8596\n",
      "Epoch: 42 ---> Val loss: AE1 0.4347, AE2: -0.4311\n",
      "Train loss: AE1 0.8534, AE2 -0.8498\n",
      "Epoch: 43 ---> Val loss: AE1 0.4328, AE2: -0.4292\n",
      "Train loss: AE1 0.8583, AE2 -0.8546\n",
      "Epoch: 44 ---> Val loss: AE1 0.4339, AE2: -0.4305\n",
      "Train loss: AE1 0.8663, AE2 -0.8627\n",
      "Epoch: 45 ---> Val loss: AE1 0.4345, AE2: -0.4312\n",
      "Train loss: AE1 0.8579, AE2 -0.8545\n",
      "Epoch: 46 ---> Val loss: AE1 0.4347, AE2: -0.4314\n",
      "Train loss: AE1 0.8598, AE2 -0.8564\n",
      "Epoch: 47 ---> Val loss: AE1 0.4341, AE2: -0.4309\n",
      "Train loss: AE1 0.8611, AE2 -0.8576\n",
      "Epoch: 48 ---> Val loss: AE1 0.4358, AE2: -0.4328\n",
      "Train loss: AE1 0.8587, AE2 -0.8552\n",
      "Epoch: 49 ---> Val loss: AE1 0.4335, AE2: -0.4305\n",
      "Train loss: AE1 0.8632, AE2 -0.8599\n",
      "Epoch: 50 ---> Val loss: AE1 0.4349, AE2: -0.4320\n",
      "Train loss: AE1 0.8528, AE2 -0.8497\n",
      "Epoch: 51 ---> Val loss: AE1 0.4347, AE2: -0.4319\n",
      "Train loss: AE1 0.8597, AE2 -0.8568\n",
      "Epoch: 52 ---> Val loss: AE1 0.4344, AE2: -0.4316\n",
      "Train loss: AE1 0.8564, AE2 -0.8536\n",
      "Epoch: 53 ---> Val loss: AE1 0.4335, AE2: -0.4308\n",
      "Train loss: AE1 0.8616, AE2 -0.8589\n",
      "Epoch: 54 ---> Val loss: AE1 0.4341, AE2: -0.4316\n",
      "Train loss: AE1 0.8556, AE2 -0.8529\n",
      "Epoch: 55 ---> Val loss: AE1 0.4350, AE2: -0.4325\n",
      "Train loss: AE1 0.8691, AE2 -0.8665\n",
      "Epoch: 56 ---> Val loss: AE1 0.4340, AE2: -0.4316\n",
      "Train loss: AE1 0.8608, AE2 -0.8583\n",
      "Epoch: 57 ---> Val loss: AE1 0.4349, AE2: -0.4326\n",
      "Train loss: AE1 0.8540, AE2 -0.8516\n",
      "Epoch: 58 ---> Val loss: AE1 0.4339, AE2: -0.4315\n",
      "Train loss: AE1 0.8545, AE2 -0.8521\n",
      "Epoch: 59 ---> Val loss: AE1 0.4342, AE2: -0.4319\n",
      "Train loss: AE1 0.8620, AE2 -0.8597\n",
      "Epoch: 60 ---> Val loss: AE1 0.4350, AE2: -0.4328\n",
      "Train loss: AE1 0.8610, AE2 -0.8588\n",
      "Epoch: 61 ---> Val loss: AE1 0.4349, AE2: -0.4327\n",
      "Train loss: AE1 0.8575, AE2 -0.8553\n",
      "Epoch: 62 ---> Val loss: AE1 0.4348, AE2: -0.4326\n",
      "Train loss: AE1 0.8624, AE2 -0.8603\n",
      "Epoch: 63 ---> Val loss: AE1 0.4357, AE2: -0.4336\n",
      "Train loss: AE1 0.8596, AE2 -0.8575\n",
      "Epoch: 64 ---> Val loss: AE1 0.4355, AE2: -0.4335\n",
      "Train loss: AE1 0.8598, AE2 -0.8578\n",
      "Epoch: 65 ---> Val loss: AE1 0.4351, AE2: -0.4332\n",
      "Train loss: AE1 0.8668, AE2 -0.8648\n",
      "Epoch: 66 ---> Val loss: AE1 0.4347, AE2: -0.4327\n",
      "Train loss: AE1 0.8625, AE2 -0.8605\n",
      "Epoch: 67 ---> Val loss: AE1 0.4360, AE2: -0.4341\n",
      "Train loss: AE1 0.8669, AE2 -0.8649\n",
      "Epoch: 68 ---> Val loss: AE1 0.4360, AE2: -0.4341\n",
      "Train loss: AE1 0.8586, AE2 -0.8567\n",
      "Epoch: 69 ---> Val loss: AE1 0.4361, AE2: -0.4343\n",
      "Train loss: AE1 0.8628, AE2 -0.8610\n",
      "CPU times: user 11min 31s, sys: 15.7 s, total: 11min 47s\n",
      "Wall time: 8min 35s\n"
     ]
    }
   ],
   "source": [
    "%%time\n",
    "AE1_val_history = []\n",
    "AE2_val_history = []\n",
    "for i in range(epochs):\n",
    "    running_loss_AE1 = []\n",
    "    running_loss_AE2 = []\n",
    "    val_loss_AE1 = []\n",
    "    val_loss_AE2 = []\n",
    "    for index_b, features in enumerate(train_loader):\n",
    "        features = features.view(features.shape[0], -1)\n",
    "        \n",
    "        w1 = AE1(features)\n",
    "        w2 = AE2(features)\n",
    "        w3 = AE2(w1)\n",
    "        lossAE1 = (1 / (i + 1)) * torch.mean((features - w1) ** 2) + (1 - (1 / (i + 1))) * torch.mean((features - w3) ** 2)\n",
    "        lossAE2 = (1 / (i + 1)) * torch.mean((features - w2) ** 2) - (1 - (1 / (i + 1))) * torch.mean((features - w3) ** 2)\n",
    "        \n",
    "        running_loss_AE1.append(lossAE1)\n",
    "        lossAE1.backward()\n",
    "        optimizer1.step()\n",
    "        optimizer1.zero_grad()\n",
    "        \n",
    "        w1 = AE1(features)\n",
    "        w2 = AE2(features)\n",
    "        w3 = AE2(w1)\n",
    "        lossAE1 = (1 / (i + 1)) * torch.mean((features - w1) ** 2) + (1 - (1 / (i + 1))) * torch.mean((features - w3) ** 2)\n",
    "        lossAE2 = (1 / (i + 1)) * torch.mean((features - w2) ** 2) - (1 - (1 / (i + 1))) * torch.mean((features - w3) ** 2)\n",
    "        \n",
    "        running_loss_AE2.append(lossAE2)\n",
    "        lossAE2.backward()\n",
    "        optimizer2.step()\n",
    "        optimizer2.zero_grad()\n",
    "    \n",
    "    for index_b, features in enumerate(validation_loader):\n",
    "        with torch.no_grad():\n",
    "            features = features.view(features.shape[0], -1)\n",
    "        \n",
    "            w1 = AE1(features)\n",
    "            w2 = AE2(features)\n",
    "            w3 = AE2(w1)\n",
    "            lossAE1 = (1 / (i + 1)) * torch.mean((features - w1) ** 2) + (1 - (1 / (i + 1))) * torch.mean((features - w3) ** 2)\n",
    "            lossAE2 = (1 / (i + 1)) * torch.mean((features - w2) ** 2) - (1 - (1 / (i + 1))) * torch.mean((features - w3) ** 2)\n",
    "            val_loss_AE1.append(lossAE1)\n",
    "            val_loss_AE2.append(lossAE2)\n",
    "    AE1_val_history.append(torch.stack(val_loss_AE1).mean().item())\n",
    "    AE2_val_history.append(torch.stack(val_loss_AE2).mean().item())\n",
    "    print(f'Epoch: {i} ---> Val loss: AE1 {AE1_val_history[-1]:.4f}, AE2: {AE2_val_history[-1]:.4f}')\n",
    "    print(f'Train loss: AE1 {torch.stack(running_loss_AE1).mean().item():.4f}, AE2 {torch.stack(running_loss_AE2).mean().item():.4f}')\n",
    "torch.save(AE1.state_dict(), model_1)\n",
    "torch.save(AE2.state_dict(), model_2)"
   ]
  },
  {
   "cell_type": "code",
   "execution_count": 18,
   "id": "c0445749-d836-4611-9fc3-bdbcbaa52cda",
   "metadata": {},
   "outputs": [],
   "source": [
    "def plot_history(losses1, losses2):\n",
    "    plt.plot(losses1, '-x', label=\"loss1\")\n",
    "    plt.plot(losses2, '-x', label=\"loss2\")\n",
    "    plt.xlabel('epoch')\n",
    "    plt.ylabel('loss')\n",
    "    plt.legend()\n",
    "    plt.title('Losses vs. No. of epochs')\n",
    "    plt.grid()\n",
    "    plt.savefig('Training_history.png')\n",
    "    plt.show()"
   ]
  },
  {
   "cell_type": "code",
   "execution_count": 19,
   "id": "ba9d6536-38ca-491a-938f-231c67614048",
   "metadata": {},
   "outputs": [
    {
     "data": {
      "image/png": "[encoded data removed]",
      "text/plain": [
       "<Figure size 640x480 with 1 Axes>"
      ]
     },
     "metadata": {},
     "output_type": "display_data"
    }
   ],
   "source": [
    "plot_history(AE1_val_history, AE2_val_history)"
   ]
  },
  {
   "cell_type": "code",
   "execution_count": 20,
   "id": "685d44f1",
   "metadata": {},
   "outputs": [
    {
     "data": {
      "text/plain": [
       "<All keys matched successfully>"
      ]
     },
     "execution_count": 20,
     "metadata": {},
     "output_type": "execute_result"
    }
   ],
   "source": [
    "AE1.load_state_dict(torch.load(model_1))\n",
    "AE2.load_state_dict(torch.load(model_2))"
   ]
  },
  {
   "cell_type": "markdown",
   "id": "93a3cc44",
   "metadata": {},
   "source": [
    "## Testing"
   ]
  },
  {
   "cell_type": "code",
   "execution_count": 6,
   "id": "caf3ee9f",
   "metadata": {},
   "outputs": [
    {
     "name": "stdout",
     "output_type": "stream",
     "text": [
      "(54621, 54)\n"
     ]
    }
   ],
   "source": [
    "df2 = pd.read_csv('../../../Projects/data/SWaT_Dataset_Attack_v0.csv')\n",
    "df2.columns = df2.columns.str.strip()\n",
    "df2['attack'] = df2['Normal/Attack'].map({'Normal':0, 'Attack':1, 'A ttack':1})\n",
    "df2 = df2.drop(columns=['Timestamp', 'Normal/Attack'])\n",
    "df2 = df2.astype('float64')\n",
    "df2 = df2.astype('float')\n",
    "grouping_array = np.arange(len(df2)) // 5\n",
    "df2 = df2.groupby(grouping_array).median()\n",
    "labels = df2['attack']\n",
    "df2 = df2.drop(columns=['attack'])"
   ]
  },
  {
   "cell_type": "code",
   "execution_count": null,
   "id": "04ae932e-414b-4893-ae3f-7cddee758eec",
   "metadata": {},
   "outputs": [],
   "source": [
    "df2 = pd.read_csv('../../../Projects/data/SWaT_Dataset_Attack_v0.csv')"
   ]
  },
  {
   "cell_type": "code",
   "execution_count": 22,
   "id": "b8cd8f00",
   "metadata": {},
   "outputs": [],
   "source": [
    "test_normalized = pd.DataFrame(mm.transform(df2))"
   ]
  },
  {
   "cell_type": "code",
   "execution_count": 23,
   "id": "74fb20b9",
   "metadata": {},
   "outputs": [],
   "source": [
    "test_dataset = SWat_dataset(test_normalized, test_normalized, window_size)\n",
    "test_loader = DataLoader(test_dataset, batch_size=batch_size, shuffle=False, num_workers=0)"
   ]
  },
  {
   "cell_type": "code",
   "execution_count": 24,
   "id": "53ae0a10",
   "metadata": {},
   "outputs": [],
   "source": [
    "def testing(test_loader, alpha=.5, beta=.5):\n",
    "    results=[]\n",
    "    with torch.no_grad():\n",
    "        for batch in test_loader:\n",
    "            batch = batch.view(batch.shape[0], -1)\n",
    "            w1=AE1(batch)\n",
    "            w2=AE2(w1)\n",
    "            results.append(alpha*torch.mean((batch-w1)**2,axis=1)+beta*torch.mean((batch-w2)**2,axis=1))\n",
    "    return results"
   ]
  },
  {
   "cell_type": "code",
   "execution_count": 25,
   "id": "19a22d18",
   "metadata": {},
   "outputs": [],
   "source": [
    "labels = labels.values\n",
    "labels = [0 if (lab == 0) else 1 for lab in labels]"
   ]
  },
  {
   "cell_type": "code",
   "execution_count": 26,
   "id": "812d1112",
   "metadata": {},
   "outputs": [],
   "source": [
    "windows_labels=[]\n",
    "for i in range(len(labels)-window_size):\n",
    "    windows_labels.append(list(np.int32(labels[i:i+window_size])))"
   ]
  },
  {
   "cell_type": "code",
   "execution_count": 27,
   "id": "a2caf045",
   "metadata": {},
   "outputs": [],
   "source": [
    "y_test = [1.0 if (np.sum(window) > 0) else 0 for window in windows_labels]"
   ]
  },
  {
   "cell_type": "code",
   "execution_count": 28,
   "id": "9d9385ba",
   "metadata": {},
   "outputs": [],
   "source": [
    "results=testing(test_loader)"
   ]
  },
  {
   "cell_type": "code",
   "execution_count": 29,
   "id": "fbacc678",
   "metadata": {},
   "outputs": [],
   "source": [
    "y_pred=np.concatenate([torch.stack(results[:-1]).flatten().detach().cpu().numpy(), \n",
    "                       results[-1].flatten().detach().cpu().numpy()])"
   ]
  },
  {
   "cell_type": "code",
   "execution_count": 30,
   "id": "123b12c1",
   "metadata": {},
   "outputs": [],
   "source": [
    "def ROC(y_test,y_pred):\n",
    "    fpr,tpr,tr=roc_curve(y_test,y_pred)\n",
    "    auc=roc_auc_score(y_test,y_pred)\n",
    "    idx=np.argwhere(np.diff(np.sign(tpr-(1-fpr)))).flatten()\n",
    "\n",
    "    plt.xlabel(\"FPR\")\n",
    "    plt.ylabel(\"TPR\")\n",
    "    plt.plot(fpr,tpr,label=\"AUC=\"+str(auc))\n",
    "    plt.plot(fpr,1-fpr,'r:')\n",
    "    plt.plot(fpr[idx],tpr[idx], 'ro')\n",
    "    plt.legend(loc=4)\n",
    "    plt.grid()\n",
    "    plt.show()\n",
    "    return tr[idx]"
   ]
  },
  {
   "cell_type": "code",
   "execution_count": 31,
   "id": "f9eeda54",
   "metadata": {},
   "outputs": [
    {
     "data": {
      "image/png": "[encoded data removed]",
      "text/plain": [
       "<Figure size 640x480 with 1 Axes>"
      ]
     },
     "metadata": {},
     "output_type": "display_data"
    },
    {
     "data": {
      "text/plain": [
       "array([5.599038], dtype=float32)"
      ]
     },
     "execution_count": 31,
     "metadata": {},
     "output_type": "execute_result"
    }
   ],
   "source": [
    "threshold = ROC(y_test,y_pred)\n",
    "threshold"
   ]
  },
  {
   "cell_type": "code",
   "execution_count": 32,
   "id": "2d55e079-9c53-4b65-87e8-cac7831390ef",
   "metadata": {},
   "outputs": [],
   "source": [
    "def print_metrics(y_pred, y_true):\n",
    "    conf_matrix = confusion_matrix(y_true, y_pred)\n",
    "    TP = conf_matrix[1, 1]\n",
    "    TN = conf_matrix[0, 0]\n",
    "    FP = conf_matrix[0, 1]\n",
    "    FN = conf_matrix[1, 0]\n",
    "    F1 = f1_score(y_true, y_pred)\n",
    "    precision = precision_score(y_true, y_pred)\n",
    "    recall = recall_score(y_true, y_pred)\n",
    "    print(f'False positive: {FP} \\nTrue positive: {TP} \\nFalse negative: {FN} \\nTrue negative: {TN}')\n",
    "    print(f'Precision: {100 * precision} \\nRecall: {100 * recall}')\n",
    "    print(f'F1: {F1 * 100}')\n",
    "\n",
    "def print_detection_percentage(y_pred_int, y_test, anomaly_segments):\n",
    "    for index, (i, j) in enumerate(anomaly_segments):\n",
    "        cur_pred = y_pred_int[i:j]\n",
    "        cur_true = y_test[i:j]\n",
    "        print(f'Segment number {index} has {np.sum((cur_pred < cur_true).astype(int))} points undetected while total is {len(cur_pred)}')"
   ]
  },
  {
   "cell_type": "code",
   "execution_count": 33,
   "id": "513a1746",
   "metadata": {},
   "outputs": [
    {
     "name": "stdout",
     "output_type": "stream",
     "text": [
      "best: 10.428571428571427 F1: 0.7607341855129465\n",
      "False positive: 37 \n",
      "True positive: 6963 \n",
      "False negative: 4343 \n",
      "True negative: 78629\n",
      "Precision: 99.47142857142856 \n",
      "Recall: 61.58676808774102\n",
      "F1: 76.07341855129465\n"
     ]
    },
    {
     "data": {
      "image/png": "[encoded data removed]",
      "text/plain": [
       "<Figure size 640x480 with 1 Axes>"
      ]
     },
     "metadata": {},
     "output_type": "display_data"
    }
   ],
   "source": [
    "ff = 0\n",
    "f_history = []\n",
    "initial_y = 6\n",
    "best = -1\n",
    "for inc in np.linspace(0, 7, 50):\n",
    "    y_pred_int = [1 if (yy > initial_y + inc) else 0 for yy in y_pred]\n",
    "    conf_matrix = confusion_matrix(y_test, y_pred_int)\n",
    "    TP = conf_matrix[1, 1]\n",
    "    TN = conf_matrix[0, 0]\n",
    "    FP = conf_matrix[0, 1]\n",
    "    FN = conf_matrix[1, 0]\n",
    "    F1 = f1_score(y_test, y_pred_int)\n",
    "    f_history.append(F1)\n",
    "\n",
    "    precision = precision_score(y_test, y_pred_int)\n",
    "    recall = recall_score(y_test, y_pred_int)\n",
    "    if F1 > ff:\n",
    "        ff = F1\n",
    "        best = inc + initial_y\n",
    "print(f'best: {best} F1: {ff}')\n",
    "plt.plot(f_history)\n",
    "y_pred_int = (y_pred > best).astype(int)\n",
    "print_metrics(y_pred_int, y_test)"
   ]
  },
  {
   "cell_type": "code",
   "execution_count": 34,
   "id": "c63f4973",
   "metadata": {},
   "outputs": [],
   "source": [
    "started = False\n",
    "anomaly_segments = []\n",
    "for i in range(len(y_test)):\n",
    "    if y_test[i] == 1 and not started:\n",
    "        started = True\n",
    "        left_side = i\n",
    "    if y_test[i] == 0 and started:\n",
    "        started = False\n",
    "        anomaly_segments.append((left_side, i - 1))"
   ]
  },
  {
   "cell_type": "code",
   "execution_count": 35,
   "id": "17526e59-d173-422c-840e-e78c15762bdb",
   "metadata": {},
   "outputs": [
    {
     "name": "stdout",
     "output_type": "stream",
     "text": [
      "115.0\n"
     ]
    }
   ],
   "source": [
    "y_pred_int = np.array((y_pred > best).astype(int))\n",
    "latency_times = []\n",
    "for index, (i, j) in enumerate(anomaly_segments):\n",
    "    current_arr = y_pred_int[i: j]\n",
    "    first_detection = np.where(current_arr == 1)[0]\n",
    "    if first_detection.shape[0] > 0:\n",
    "        latency_times.append(first_detection[0])\n",
    "print(np.mean(latency_times))"
   ]
  },
  {
   "cell_type": "code",
   "execution_count": 36,
   "id": "dfe7785f-f569-43fc-88e9-965f6d3f5cc8",
   "metadata": {},
   "outputs": [
    {
     "name": "stdout",
     "output_type": "stream",
     "text": [
      "False positive: 37 \n",
      "True positive: 7917 \n",
      "False negative: 3389 \n",
      "True negative: 78629\n",
      "Precision: 99.53482524515967 \n",
      "Recall: 70.0247656111799\n",
      "F1: 82.21183800623054\n"
     ]
    }
   ],
   "source": [
    "for i, j in anomaly_segments:\n",
    "    if np.sum(y_pred_int[i: j]) / (j - i) > 0.2:\n",
    "        y_pred_int[i:j + 1] = [1 for _ in range(j - i + 1)]\n",
    "print_metrics(y_pred_int, y_test)"
   ]
  },
  {
   "cell_type": "code",
   "execution_count": 37,
   "id": "767e776b-abd4-4bbc-99bb-f1e806eba76d",
   "metadata": {},
   "outputs": [
    {
     "name": "stdout",
     "output_type": "stream",
     "text": [
      "False positive: 37 \n",
      "True positive: 7917 \n",
      "False negative: 3389 \n",
      "True negative: 78629\n",
      "Precision: 99.53482524515967 \n",
      "Recall: 70.0247656111799\n",
      "F1: 82.21183800623054\n"
     ]
    }
   ],
   "source": [
    "for i, j in anomaly_segments:\n",
    "    if np.sum(y_pred_int[i: j]) > 0:\n",
    "        y_pred_int[i:j + 1] = [1 for _ in range(j - i + 1)]\n",
    "print_metrics(y_pred_int, y_test)"
   ]
  },
  {
   "cell_type": "markdown",
   "id": "9ee47f5c-9fde-4809-b6eb-3de158eac2f3",
   "metadata": {},
   "source": [
    "# Try adjust point"
   ]
  },
  {
   "cell_type": "markdown",
   "id": "8be9115d-b840-45ce-b515-16762f235d34",
   "metadata": {},
   "source": [
    "## Point Adjust"
   ]
  },
  {
   "cell_type": "code",
   "execution_count": 38,
   "id": "b58b91f0-0841-4832-b956-ecccd4238789",
   "metadata": {},
   "outputs": [
    {
     "name": "stdout",
     "output_type": "stream",
     "text": [
      "best: 7.857142857142857 F1: 0.8289818499466174\n"
     ]
    },
    {
     "data": {
      "text/plain": [
       "[<matplotlib.lines.Line2D at 0x76646cc26ab0>]"
      ]
     },
     "execution_count": 38,
     "metadata": {},
     "output_type": "execute_result"
    },
    {
     "data": {
      "image/png": "[encoded data removed]",
      "text/plain": [
       "<Figure size 640x480 with 1 Axes>"
      ]
     },
     "metadata": {},
     "output_type": "display_data"
    }
   ],
   "source": [
    "ff = 0\n",
    "f_history = []\n",
    "initial_y = 6\n",
    "best = -1\n",
    "for inc in np.linspace(0, 7, 50):\n",
    "    y_pred_int = [1 if (yy > initial_y + inc) else 0 for yy in y_pred]\n",
    "    for i, j in anomaly_segments:\n",
    "        if np.sum(y_pred_int[i: j]) > 0:\n",
    "            y_pred_int[i:j + 1] = [1 for _ in range(j - i + 1)]\n",
    "    conf_matrix = confusion_matrix(y_test, y_pred_int)\n",
    "    TP = conf_matrix[1, 1]\n",
    "    TN = conf_matrix[0, 0]\n",
    "    FP = conf_matrix[0, 1]\n",
    "    FN = conf_matrix[1, 0]\n",
    "    F1 = f1_score(y_test, y_pred_int)\n",
    "    f_history.append(F1)\n",
    "\n",
    "    precision = precision_score(y_test, y_pred_int)\n",
    "    recall = recall_score(y_test, y_pred_int)\n",
    "    if F1 > ff:\n",
    "        ff = F1\n",
    "        best = inc\n",
    "print(f'best: {best + initial_y} F1: {ff}')\n",
    "plt.plot(f_history)"
   ]
  },
  {
   "cell_type": "markdown",
   "id": "5f26c9a9-c938-4530-ba79-2fb68bc2e263",
   "metadata": {},
   "source": [
    "## Point Adjust 20%"
   ]
  },
  {
   "cell_type": "code",
   "execution_count": 39,
   "id": "b7d26cf2-0ff4-4943-867c-8f0081918950",
   "metadata": {},
   "outputs": [
    {
     "name": "stdout",
     "output_type": "stream",
     "text": [
      "best: 11.0 F1: 0.822246455834242\n"
     ]
    },
    {
     "data": {
      "text/plain": [
       "[<matplotlib.lines.Line2D at 0x76646cdea0f0>]"
      ]
     },
     "execution_count": 39,
     "metadata": {},
     "output_type": "execute_result"
    },
    {
     "data": {
      "image/png": "[encoded data removed]",
      "text/plain": [
       "<Figure size 640x480 with 1 Axes>"
      ]
     },
     "metadata": {},
     "output_type": "display_data"
    }
   ],
   "source": [
    "ff = 0\n",
    "f_history = []\n",
    "initial_y = 6\n",
    "best = -1\n",
    "for inc in np.linspace(0, 7, 50):\n",
    "    y_pred_int = [1 if (yy > initial_y + inc) else 0 for yy in y_pred]\n",
    "    for i, j in anomaly_segments:\n",
    "        if np.sum(y_pred_int[i: j]) / (j - i) > 0.3:\n",
    "            y_pred_int[i:j + 1] = [1 for _ in range(j - i + 1)]\n",
    "    conf_matrix = confusion_matrix(y_test, y_pred_int)\n",
    "    TP = conf_matrix[1, 1]\n",
    "    TN = conf_matrix[0, 0]\n",
    "    FP = conf_matrix[0, 1]\n",
    "    FN = conf_matrix[1, 0]\n",
    "    F1 = f1_score(y_test, y_pred_int)\n",
    "    f_history.append(F1)\n",
    "\n",
    "    precision = precision_score(y_test, y_pred_int)\n",
    "    recall = recall_score(y_test, y_pred_int)\n",
    "    if F1 > ff:\n",
    "        ff = F1\n",
    "        best = inc\n",
    "print(f'best: {best + initial_y} F1: {ff}')\n",
    "plt.plot(f_history)"
   ]
  },
  {
   "cell_type": "markdown",
   "id": "43e89a1a-d826-48c4-9874-548c597bf1dc",
   "metadata": {},
   "source": [
    "## Visualization"
   ]
  },
  {
   "cell_type": "code",
   "execution_count": 40,
   "id": "e7a0ac7a-0a4d-4bfa-9c97-eeb402e388fd",
   "metadata": {},
   "outputs": [
    {
     "data": {
      "image/png": "[encoded data removed]",
      "text/plain": [
       "<Figure size 640x480 with 1 Axes>"
      ]
     },
     "metadata": {},
     "output_type": "display_data"
    }
   ],
   "source": [
    "x_vals = 0. + np.linspace(0, 20, 50)\n",
    "plt.plot(x_vals, f_history)\n",
    "plt.xlabel('Threshold')\n",
    "plt.ylabel('F1 score')\n",
    "\n",
    "max_y = max(f_history)\n",
    "max_x = np.argmax(f_history)\n",
    "plt.axhline(y=max_y, color='r', linestyle='--', label='Max Y')\n",
    "plt.text(0.6, max_y + 0.05, f'Max F1= {max_y: .4f}', color='r')\n",
    "plt.ylim(0, 1)\n",
    "plt.grid(True)\n",
    "\n",
    "# plt.savefig('my_plot.png')\n",
    "\n",
    "plt.show()"
   ]
  },
  {
   "cell_type": "code",
   "execution_count": 41,
   "id": "381802ba-3236-42ce-9e3b-1f177c545bee",
   "metadata": {},
   "outputs": [
    {
     "name": "stdout",
     "output_type": "stream",
     "text": [
      "723271\n"
     ]
    }
   ],
   "source": [
    "sum1 = sum(p.numel() for p in AE1.parameters() if p.requires_grad)\n",
    "sum2 = sum(p.numel() for p in AE2.parameters() if p.requires_grad)\n",
    "sum3 = sum(p.numel() for p in shared_encoder.parameters() if p.requires_grad)\n",
    "print(sum1 + sum2 - sum3)"
   ]
  },
  {
   "cell_type": "code",
   "execution_count": null,
   "id": "f09ad252-7ba7-417f-9e99-cd1f4dd13e1a",
   "metadata": {},
   "outputs": [],
   "source": []
  }
 ],
 "metadata": {
  "kernelspec": {
   "display_name": "NIS2",
   "language": "python",
   "name": "art2"
  },
  "language_info": {
   "codemirror_mode": {
    "name": "ipython",
    "version": 3
   },
   "file_extension": ".py",
   "mimetype": "text/x-python",
   "name": "python",
   "nbconvert_exporter": "python",
   "pygments_lexer": "ipython3",
   "version": "3.12.2"
  }
 },
 "nbformat": 4,
 "nbformat_minor": 5
}
