{
 "cells": [
  {
   "cell_type": "markdown",
   "id": "9f6c384a",
   "metadata": {},
   "source": [
    "# USAD\n",
    "## Importing packages"
   ]
  },
  {
   "cell_type": "code",
   "execution_count": 1,
   "id": "06186c5f",
   "metadata": {},
   "outputs": [],
   "source": [
    "import pandas as pd\n",
    "import numpy as np\n",
    "import torch\n",
    "import torch.nn as nn\n",
    "import matplotlib.pyplot as plt\n",
    "import random\n",
    "\n",
    "from torch.utils.data import Dataset, DataLoader\n",
    "from sklearn.preprocessing import MinMaxScaler, StandardScaler\n",
    "\n",
    "from sklearn.metrics import confusion_matrix, f1_score, roc_curve, roc_auc_score, precision_score, recall_score"
   ]
  },
  {
   "cell_type": "markdown",
   "id": "7d53da8a",
   "metadata": {},
   "source": [
    "## Reading data"
   ]
  },
  {
   "cell_type": "code",
   "execution_count": 2,
   "id": "e471dbed-a691-4550-b508-133c927c759e",
   "metadata": {},
   "outputs": [],
   "source": [
    "def set_seed(seed):\n",
    "    torch.manual_seed(seed)\n",
    "    torch.cuda.manual_seed_all(seed)\n",
    "    np.random.seed(seed)\n",
    "    random.seed(seed)\n",
    "    torch.backends.cudnn.deterministic = True\n",
    "    torch.backends.cudnn.benchmark = False"
   ]
  },
  {
   "cell_type": "code",
   "execution_count": 3,
   "id": "cebe72ce-78ed-4f3d-a76d-be88dc042d16",
   "metadata": {},
   "outputs": [],
   "source": [
    "seed_num = 11884\n",
    "set_seed(seed_num)"
   ]
  },
  {
   "cell_type": "code",
   "execution_count": 4,
   "id": "9a335abf-8929-49dc-9b6a-12a2e534ac28",
   "metadata": {},
   "outputs": [],
   "source": [
    "na_columns = ['2_LS_001_AL', '2_LS_002_AL', '2_P_001_STATUS', '2_P_002_STATUS', '1_LS_001_AL', '1_LS_001_AL', 'Row', 'Date', 'Time']"
   ]
  },
  {
   "cell_type": "code",
   "execution_count": 5,
   "id": "4c83de10",
   "metadata": {},
   "outputs": [],
   "source": [
    "df = pd.read_csv('../../../Projects/data/WADI/WADI_14days_new.csv')\n",
    "df.columns = df.columns.str.strip()\n",
    "df = df.drop(columns=na_columns, inplace=False)\n",
    "df = df.ffill(inplace=False)\n",
    "df = df.astype('float')\n",
    "grouping_array = np.arange(len(df)) // 5\n",
    "df = df.groupby(grouping_array).median()\n",
    "mm = StandardScaler()\n",
    "df = pd.DataFrame(mm.fit_transform(df))\n",
    "validation_set = df[int(df.shape[0] * 0.8):]\n",
    "train_set = df[:int(df.shape[0] * 0.8)]"
   ]
  },
  {
   "cell_type": "code",
   "execution_count": 6,
   "id": "7af0d978-2f20-44fb-ac25-e373ce0f7d2f",
   "metadata": {},
   "outputs": [
    {
     "data": {
      "text/plain": [
       "device(type='cuda')"
      ]
     },
     "execution_count": 6,
     "metadata": {},
     "output_type": "execute_result"
    }
   ],
   "source": [
    "device = torch.device('cuda' if torch.cuda.is_available() else 'cpu')\n",
    "device"
   ]
  },
  {
   "cell_type": "code",
   "execution_count": 7,
   "id": "ae339864",
   "metadata": {},
   "outputs": [],
   "source": [
    "window_size = 10\n",
    "input_size = window_size * 122\n",
    "latent_space = 100\n",
    "epochs = 70"
   ]
  },
  {
   "cell_type": "code",
   "execution_count": 8,
   "id": "130e5791",
   "metadata": {},
   "outputs": [],
   "source": [
    "class SWat_dataset(Dataset):\n",
    "    def __init__(self, dataframe: pd.DataFrame, target: pd.DataFrame,  window_size, device):\n",
    "        self.data = dataframe\n",
    "        self.window_size = window_size\n",
    "\n",
    "    def __len__(self):\n",
    "        return len(self.data) - self.window_size\n",
    "\n",
    "    def __getitem__(self, idx):\n",
    "        window = self.data[idx: idx + self.window_size]\n",
    "        features = torch.tensor(window.iloc[:,:].values).float().to(device)\n",
    "        return features"
   ]
  },
  {
   "cell_type": "code",
   "execution_count": 9,
   "id": "7bb00e04",
   "metadata": {},
   "outputs": [],
   "source": [
    "train_dataset = SWat_dataset(train_set, train_set, window_size, device)\n",
    "validation_dataset = SWat_dataset(validation_set, validation_set, window_size, device)\n",
    "\n",
    "batch_size = 4096\n",
    "train_loader = DataLoader(train_dataset, batch_size=batch_size, shuffle=True, num_workers=0)\n",
    "validation_loader = DataLoader(validation_dataset, batch_size=batch_size, shuffle=True, num_workers=0)"
   ]
  },
  {
   "cell_type": "markdown",
   "id": "22cf1ae6",
   "metadata": {},
   "source": [
    "## Setting up the model structure"
   ]
  },
  {
   "cell_type": "code",
   "execution_count": 10,
   "id": "4582b348",
   "metadata": {},
   "outputs": [],
   "source": [
    "class Encoder(nn.Module):\n",
    "    def __init__(self, input_size, hidden_size):\n",
    "        super(Encoder, self).__init__()\n",
    "        self.input_size = input_size\n",
    "        self.hidden_size = hidden_size\n",
    "        self.fc1 = nn.Linear(input_size, input_size // 2)\n",
    "        self.relu = nn.ReLU(True)\n",
    "        self.fc2 = nn.Linear(input_size // 2, input_size // 4)\n",
    "        self.fc3 = nn.Linear(input_size // 4, hidden_size)\n",
    "    \n",
    "    def forward(self, x):\n",
    "        out = self.relu(self.fc1(x))\n",
    "        out = self.relu(self.fc2(out))\n",
    "        out = self.relu(self.fc3(out))\n",
    "        return out\n",
    "\n",
    "\n",
    "class AutoEncoder(nn.Module):\n",
    "    def __init__(self, input_size, hidden_size, encoder):        \n",
    "        super(AutoEncoder, self).__init__()\n",
    "        self.encoder = encoder\n",
    "        self.input_size = input_size\n",
    "        self.hidden_size = hidden_size\n",
    "        self.sigmoid = nn.Sigmoid()\n",
    "        self.relu = nn.ReLU(True)\n",
    "        self.fc1 = nn.Linear(hidden_size, input_size // 4)\n",
    "        self.fc2 = nn.Linear(input_size // 4, input_size // 2)\n",
    "        self.fc3 = nn.Linear(input_size // 2, input_size)\n",
    "        \n",
    "    def forward(self, x):\n",
    "        out = self.encoder(x)\n",
    "        out = self.relu(self.fc1(out))\n",
    "        out = self.relu(self.fc2(out))\n",
    "        out = self.fc3(out)\n",
    "        return out"
   ]
  },
  {
   "cell_type": "code",
   "execution_count": 11,
   "id": "7aa83ddb",
   "metadata": {},
   "outputs": [],
   "source": [
    "shared_encoder = Encoder(input_size, latent_space)\n",
    "AE1 = AutoEncoder(input_size, latent_space, shared_encoder)\n",
    "AE2 = AutoEncoder(input_size, latent_space, shared_encoder)"
   ]
  },
  {
   "cell_type": "code",
   "execution_count": 12,
   "id": "4d306383",
   "metadata": {},
   "outputs": [
    {
     "data": {
      "text/plain": [
       "AutoEncoder(\n",
       "  (encoder): Encoder(\n",
       "    (fc1): Linear(in_features=1220, out_features=610, bias=True)\n",
       "    (relu): ReLU(inplace=True)\n",
       "    (fc2): Linear(in_features=610, out_features=305, bias=True)\n",
       "    (fc3): Linear(in_features=305, out_features=100, bias=True)\n",
       "  )\n",
       "  (sigmoid): Sigmoid()\n",
       "  (relu): ReLU(inplace=True)\n",
       "  (fc1): Linear(in_features=100, out_features=305, bias=True)\n",
       "  (fc2): Linear(in_features=305, out_features=610, bias=True)\n",
       "  (fc3): Linear(in_features=610, out_features=1220, bias=True)\n",
       ")"
      ]
     },
     "execution_count": 12,
     "metadata": {},
     "output_type": "execute_result"
    }
   ],
   "source": [
    "shared_encoder.to(device)\n",
    "AE1.to(device)\n",
    "AE2.to(device)"
   ]
  },
  {
   "cell_type": "code",
   "execution_count": 13,
   "id": "b37bf476",
   "metadata": {},
   "outputs": [],
   "source": [
    "optimizer1 = torch.optim.Adam(AE1.parameters())\n",
    "optimizer2 = torch.optim.Adam(AE2.parameters())"
   ]
  },
  {
   "cell_type": "code",
   "execution_count": 14,
   "id": "2214264e-1f8d-4777-ab5b-bcf62b9a9e1b",
   "metadata": {},
   "outputs": [],
   "source": [
    "model_path_AE1 = 'my_USAD_downsampled_AE1_WADI_seed_' + str(seed_num) + '.pth'\n",
    "model_path_AE2 = 'my_USAD_downsampled_AE2_WADI_seed_' + str(seed_num) + '.pth'"
   ]
  },
  {
   "cell_type": "markdown",
   "id": "015328f9",
   "metadata": {},
   "source": [
    "## Training the model"
   ]
  },
  {
   "cell_type": "markdown",
   "id": "abf47e12",
   "metadata": {},
   "source": [
    "### Training"
   ]
  },
  {
   "cell_type": "code",
   "execution_count": 15,
   "id": "4a86afc5",
   "metadata": {},
   "outputs": [
    {
     "name": "stdout",
     "output_type": "stream",
     "text": [
      "Epoch: 0 ---> Val loss: AE1 0.5002, AE2: 0.5192\n",
      "Train loss: AE1 0.4910, AE2 0.4949\n",
      "Epoch: 1 ---> Val loss: AE1 0.5818, AE2: -0.0601\n",
      "Train loss: AE1 0.4716, AE2 -0.0459\n",
      "Epoch: 2 ---> Val loss: AE1 0.7258, AE2: -0.3871\n",
      "Train loss: AE1 0.6017, AE2 -0.2918\n",
      "Epoch: 3 ---> Val loss: AE1 0.7397, AE2: -0.5021\n",
      "Train loss: AE1 0.6533, AE2 -0.4854\n",
      "Epoch: 4 ---> Val loss: AE1 0.7509, AE2: -0.5665\n",
      "Train loss: AE1 0.6579, AE2 -0.5485\n",
      "Epoch: 5 ---> Val loss: AE1 0.7663, AE2: -0.6160\n",
      "Train loss: AE1 0.6680, AE2 -0.5872\n",
      "Epoch: 6 ---> Val loss: AE1 0.7708, AE2: -0.6383\n",
      "Train loss: AE1 0.6793, AE2 -0.6130\n",
      "Epoch: 7 ---> Val loss: AE1 0.7720, AE2: -0.6650\n",
      "Train loss: AE1 0.6904, AE2 -0.6309\n",
      "Epoch: 8 ---> Val loss: AE1 0.7756, AE2: -0.6840\n",
      "Train loss: AE1 0.6907, AE2 -0.6469\n",
      "Epoch: 9 ---> Val loss: AE1 0.7777, AE2: -0.6975\n",
      "Train loss: AE1 0.6948, AE2 -0.6583\n",
      "Epoch: 10 ---> Val loss: AE1 0.7822, AE2: -0.7096\n",
      "Train loss: AE1 0.6992, AE2 -0.6676\n",
      "Epoch: 11 ---> Val loss: AE1 0.7831, AE2: -0.7174\n",
      "Train loss: AE1 0.7034, AE2 -0.6747\n",
      "Epoch: 12 ---> Val loss: AE1 0.7849, AE2: -0.7266\n",
      "Train loss: AE1 0.7069, AE2 -0.6819\n",
      "Epoch: 13 ---> Val loss: AE1 0.7864, AE2: -0.7329\n",
      "Train loss: AE1 0.7089, AE2 -0.6870\n",
      "Epoch: 14 ---> Val loss: AE1 0.7900, AE2: -0.7409\n",
      "Train loss: AE1 0.7109, AE2 -0.6912\n",
      "Epoch: 15 ---> Val loss: AE1 0.7913, AE2: -0.7445\n",
      "Train loss: AE1 0.7175, AE2 -0.6938\n",
      "Epoch: 16 ---> Val loss: AE1 0.7899, AE2: -0.7473\n",
      "Train loss: AE1 0.7164, AE2 -0.6980\n",
      "Epoch: 17 ---> Val loss: AE1 0.7989, AE2: -0.7483\n",
      "Train loss: AE1 0.7262, AE2 -0.6955\n",
      "Epoch: 18 ---> Val loss: AE1 0.7939, AE2: -0.7542\n",
      "Train loss: AE1 0.7235, AE2 -0.7019\n",
      "Epoch: 19 ---> Val loss: AE1 0.7963, AE2: -0.7563\n",
      "Train loss: AE1 0.7223, AE2 -0.7052\n",
      "Epoch: 20 ---> Val loss: AE1 0.7947, AE2: -0.7597\n",
      "Train loss: AE1 0.7241, AE2 -0.7071\n",
      "Epoch: 21 ---> Val loss: AE1 0.8062, AE2: -0.7737\n",
      "Train loss: AE1 0.7236, AE2 -0.7102\n",
      "Epoch: 22 ---> Val loss: AE1 0.7986, AE2: -0.7640\n",
      "Train loss: AE1 0.7307, AE2 -0.7094\n",
      "Epoch: 23 ---> Val loss: AE1 0.7969, AE2: -0.7658\n",
      "Train loss: AE1 0.7273, AE2 -0.7127\n",
      "Epoch: 24 ---> Val loss: AE1 0.7984, AE2: -0.7691\n",
      "Train loss: AE1 0.7279, AE2 -0.7138\n",
      "Epoch: 25 ---> Val loss: AE1 0.8125, AE2: -0.7554\n",
      "Train loss: AE1 0.7714, AE2 -0.7119\n",
      "Epoch: 26 ---> Val loss: AE1 0.8044, AE2: -0.7672\n",
      "Train loss: AE1 0.7393, AE2 -0.7036\n",
      "Epoch: 27 ---> Val loss: AE1 0.8019, AE2: -0.7721\n",
      "Train loss: AE1 0.7343, AE2 -0.7128\n",
      "Epoch: 28 ---> Val loss: AE1 0.8037, AE2: -0.7736\n",
      "Train loss: AE1 0.7364, AE2 -0.7135\n",
      "Epoch: 29 ---> Val loss: AE1 0.8021, AE2: -0.7768\n",
      "Train loss: AE1 0.7339, AE2 -0.7178\n",
      "Epoch: 30 ---> Val loss: AE1 0.8019, AE2: -0.7783\n",
      "Train loss: AE1 0.7337, AE2 -0.7198\n",
      "Epoch: 31 ---> Val loss: AE1 0.8029, AE2: -0.7805\n",
      "Train loss: AE1 0.7339, AE2 -0.7214\n",
      "Epoch: 32 ---> Val loss: AE1 0.8022, AE2: -0.7806\n",
      "Train loss: AE1 0.7340, AE2 -0.7218\n",
      "Epoch: 33 ---> Val loss: AE1 0.8022, AE2: -0.7819\n",
      "Train loss: AE1 0.7335, AE2 -0.7231\n",
      "Epoch: 34 ---> Val loss: AE1 0.8074, AE2: -0.7789\n",
      "Train loss: AE1 0.7394, AE2 -0.7172\n",
      "Epoch: 35 ---> Val loss: AE1 0.8050, AE2: -0.7843\n",
      "Train loss: AE1 0.7377, AE2 -0.7232\n",
      "Epoch: 36 ---> Val loss: AE1 0.8019, AE2: -0.7827\n",
      "Train loss: AE1 0.7369, AE2 -0.7246\n",
      "Epoch: 37 ---> Val loss: AE1 0.8040, AE2: -0.7855\n",
      "Train loss: AE1 0.7356, AE2 -0.7256\n",
      "Epoch: 38 ---> Val loss: AE1 0.8031, AE2: -0.7849\n",
      "Train loss: AE1 0.7374, AE2 -0.7258\n",
      "Epoch: 39 ---> Val loss: AE1 0.8063, AE2: -0.7865\n",
      "Train loss: AE1 0.7361, AE2 -0.7267\n",
      "Epoch: 40 ---> Val loss: AE1 0.8047, AE2: -0.7879\n",
      "Train loss: AE1 0.7372, AE2 -0.7274\n",
      "Epoch: 41 ---> Val loss: AE1 0.8046, AE2: -0.7890\n",
      "Train loss: AE1 0.7364, AE2 -0.7283\n",
      "Epoch: 42 ---> Val loss: AE1 0.8051, AE2: -0.7866\n",
      "Train loss: AE1 0.7363, AE2 -0.7288\n",
      "Epoch: 43 ---> Val loss: AE1 0.8071, AE2: -0.7905\n",
      "Train loss: AE1 0.7395, AE2 -0.7279\n",
      "Epoch: 44 ---> Val loss: AE1 0.8058, AE2: -0.7911\n",
      "Train loss: AE1 0.7379, AE2 -0.7299\n",
      "Epoch: 45 ---> Val loss: AE1 0.8049, AE2: -0.7909\n",
      "Train loss: AE1 0.7375, AE2 -0.7305\n",
      "Epoch: 46 ---> Val loss: AE1 0.8062, AE2: -0.7924\n",
      "Train loss: AE1 0.7377, AE2 -0.7308\n",
      "Epoch: 47 ---> Val loss: AE1 0.8052, AE2: -0.7920\n",
      "Train loss: AE1 0.7376, AE2 -0.7313\n",
      "Epoch: 48 ---> Val loss: AE1 0.8080, AE2: -0.7888\n",
      "Train loss: AE1 0.7397, AE2 -0.7292\n",
      "Epoch: 49 ---> Val loss: AE1 0.8062, AE2: -0.7927\n",
      "Train loss: AE1 0.7399, AE2 -0.7305\n",
      "Epoch: 50 ---> Val loss: AE1 0.8071, AE2: -0.7945\n",
      "Train loss: AE1 0.7389, AE2 -0.7323\n",
      "Epoch: 51 ---> Val loss: AE1 0.8080, AE2: -0.7959\n",
      "Train loss: AE1 0.7389, AE2 -0.7329\n",
      "Epoch: 52 ---> Val loss: AE1 0.8057, AE2: -0.7939\n",
      "Train loss: AE1 0.7387, AE2 -0.7331\n",
      "Epoch: 53 ---> Val loss: AE1 0.8072, AE2: -0.7958\n",
      "Train loss: AE1 0.7388, AE2 -0.7334\n",
      "Epoch: 54 ---> Val loss: AE1 0.8092, AE2: -0.7935\n",
      "Train loss: AE1 0.7419, AE2 -0.7327\n",
      "Epoch: 55 ---> Val loss: AE1 0.8077, AE2: -0.7956\n",
      "Train loss: AE1 0.7406, AE2 -0.7335\n",
      "Epoch: 56 ---> Val loss: AE1 0.8072, AE2: -0.7960\n",
      "Train loss: AE1 0.7396, AE2 -0.7341\n",
      "Epoch: 57 ---> Val loss: AE1 0.8068, AE2: -0.7960\n",
      "Train loss: AE1 0.7400, AE2 -0.7349\n",
      "Epoch: 58 ---> Val loss: AE1 0.8094, AE2: -0.7981\n",
      "Train loss: AE1 0.7404, AE2 -0.7349\n",
      "Epoch: 59 ---> Val loss: AE1 0.8061, AE2: -0.7956\n",
      "Train loss: AE1 0.7403, AE2 -0.7352\n",
      "Epoch: 60 ---> Val loss: AE1 0.8084, AE2: -0.7981\n",
      "Train loss: AE1 0.7399, AE2 -0.7352\n",
      "Epoch: 61 ---> Val loss: AE1 0.8103, AE2: -0.8001\n",
      "Train loss: AE1 0.7403, AE2 -0.7358\n",
      "Epoch: 62 ---> Val loss: AE1 0.8074, AE2: -0.7967\n",
      "Train loss: AE1 0.7406, AE2 -0.7359\n",
      "Epoch: 63 ---> Val loss: AE1 0.8091, AE2: -0.7992\n",
      "Train loss: AE1 0.7406, AE2 -0.7359\n",
      "Epoch: 64 ---> Val loss: AE1 0.8084, AE2: -0.7988\n",
      "Train loss: AE1 0.7408, AE2 -0.7365\n",
      "Epoch: 65 ---> Val loss: AE1 0.8102, AE2: -0.8008\n",
      "Train loss: AE1 0.7409, AE2 -0.7368\n",
      "Epoch: 66 ---> Val loss: AE1 0.8108, AE2: -0.8016\n",
      "Train loss: AE1 0.7407, AE2 -0.7367\n",
      "Epoch: 67 ---> Val loss: AE1 0.8152, AE2: -0.7946\n",
      "Train loss: AE1 0.7450, AE2 -0.7311\n",
      "Epoch: 68 ---> Val loss: AE1 0.8111, AE2: -0.7960\n",
      "Train loss: AE1 0.7452, AE2 -0.7310\n",
      "Epoch: 69 ---> Val loss: AE1 0.8141, AE2: -0.7927\n",
      "Train loss: AE1 0.7967, AE2 -0.7318\n",
      "CPU times: user 18min 4s, sys: 18.3 s, total: 18min 22s\n",
      "Wall time: 15min 4s\n"
     ]
    }
   ],
   "source": [
    "%%time\n",
    "AE1_val_history = []\n",
    "AE2_val_history = []\n",
    "for i in range(epochs):\n",
    "    running_loss_AE1 = []\n",
    "    running_loss_AE2 = []\n",
    "    val_loss_AE1 = []\n",
    "    val_loss_AE2 = []\n",
    "    for index_b, features in enumerate(train_loader):\n",
    "        features = features.view(features.shape[0], -1)\n",
    "        \n",
    "        w1 = AE1(features)\n",
    "        w2 = AE2(features)\n",
    "        w3 = AE2(w1)\n",
    "        lossAE1 = (1 / (i + 1)) * torch.mean((features - w1) ** 2) + (1 - (1 / (i + 1))) * torch.mean((features - w3) ** 2)\n",
    "        lossAE2 = (1 / (i + 1)) * torch.mean((features - w2) ** 2) - (1 - (1 / (i + 1))) * torch.mean((features - w3) ** 2)\n",
    "        \n",
    "        running_loss_AE1.append(lossAE1)\n",
    "        lossAE1.backward()\n",
    "        optimizer1.step()\n",
    "        optimizer1.zero_grad()\n",
    "        \n",
    "        w1 = AE1(features)\n",
    "        w2 = AE2(features)\n",
    "        w3 = AE2(w1)\n",
    "        lossAE1 = (1 / (i + 1)) * torch.mean((features - w1) ** 2) + (1 - (1 / (i + 1))) * torch.mean((features - w3) ** 2)\n",
    "        lossAE2 = (1 / (i + 1)) * torch.mean((features - w2) ** 2) - (1 - (1 / (i + 1))) * torch.mean((features - w3) ** 2)\n",
    "        \n",
    "        running_loss_AE2.append(lossAE2)\n",
    "        lossAE2.backward()\n",
    "        optimizer2.step()\n",
    "        optimizer2.zero_grad()\n",
    "    \n",
    "    for index_b, features in enumerate(validation_loader):\n",
    "        with torch.no_grad():\n",
    "            features = features.view(features.shape[0], -1)\n",
    "        \n",
    "            w1 = AE1(features)\n",
    "            w2 = AE2(features)\n",
    "            w3 = AE2(w1)\n",
    "            lossAE1 = (1 / (i + 1)) * torch.mean((features - w1) ** 2) + (1 - (1 / (i + 1))) * torch.mean((features - w3) ** 2)\n",
    "            lossAE2 = (1 / (i + 1)) * torch.mean((features - w2) ** 2) - (1 - (1 / (i + 1))) * torch.mean((features - w3) ** 2)\n",
    "            val_loss_AE1.append(lossAE1)\n",
    "            val_loss_AE2.append(lossAE2)\n",
    "    AE1_val_history.append(torch.stack(val_loss_AE1).mean().item())\n",
    "    AE2_val_history.append(torch.stack(val_loss_AE2).mean().item())\n",
    "    print(f'Epoch: {i} ---> Val loss: AE1 {AE1_val_history[-1]:.4f}, AE2: {AE2_val_history[-1]:.4f}')\n",
    "    print(f'Train loss: AE1 {torch.stack(running_loss_AE1).mean().item():.4f}, AE2 {torch.stack(running_loss_AE2).mean().item():.4f}')\n",
    "torch.save(AE1.state_dict(), model_path_AE1)\n",
    "torch.save(AE2.state_dict(), model_path_AE2)"
   ]
  },
  {
   "cell_type": "code",
   "execution_count": 16,
   "id": "c0445749-d836-4611-9fc3-bdbcbaa52cda",
   "metadata": {},
   "outputs": [],
   "source": [
    "def plot_history(losses1, losses2):\n",
    "    plt.plot(losses1, '-x', label=\"loss1\")\n",
    "    plt.plot(losses2, '-x', label=\"loss2\")\n",
    "    plt.xlabel('epoch')\n",
    "    plt.ylabel('loss')\n",
    "    plt.legend()\n",
    "    plt.title('Losses vs. No. of epochs')\n",
    "    plt.grid()\n",
    "    plt.show()"
   ]
  },
  {
   "cell_type": "code",
   "execution_count": 17,
   "id": "ba9d6536-38ca-491a-938f-231c67614048",
   "metadata": {},
   "outputs": [
    {
     "data": {
      "image/png": "[encoded data removed]",
      "text/plain": [
       "<Figure size 640x480 with 1 Axes>"
      ]
     },
     "metadata": {},
     "output_type": "display_data"
    }
   ],
   "source": [
    "plot_history(AE1_val_history, AE2_val_history)"
   ]
  },
  {
   "cell_type": "code",
   "execution_count": 18,
   "id": "685d44f1",
   "metadata": {},
   "outputs": [
    {
     "data": {
      "text/plain": [
       "<All keys matched successfully>"
      ]
     },
     "execution_count": 18,
     "metadata": {},
     "output_type": "execute_result"
    }
   ],
   "source": [
    "AE1.load_state_dict(torch.load(model_path_AE1))\n",
    "AE2.load_state_dict(torch.load(model_path_AE2))"
   ]
  },
  {
   "cell_type": "markdown",
   "id": "93a3cc44",
   "metadata": {},
   "source": [
    "## Testing"
   ]
  },
  {
   "cell_type": "code",
   "execution_count": 19,
   "id": "caf3ee9f",
   "metadata": {},
   "outputs": [],
   "source": [
    "df_test = pd.read_csv('../../../Projects/data/WADI/WADI_attackdataLABLE.csv')\n",
    "df_test = df_test[:-2]\n",
    "df_test.columns = df_test.columns.str.strip()\n",
    "df_test = df_test.drop(columns=na_columns, inplace=False)\n",
    "df_test = df_test.astype('float')\n",
    "grouping_array = np.arange(len(df_test)) // 5\n",
    "df_test = df_test.groupby(grouping_array).median()\n",
    "labels = df_test['Attack LABLE (1:No Attack, -1:Attack)']\n",
    "df_test = df_test.drop(columns=['Attack LABLE (1:No Attack, -1:Attack)'], inplace=False)\n",
    "df_test = df_test.ffill(inplace=False)\n",
    "df_test = df_test.astype('float')\n",
    "test_normalized = pd.DataFrame(mm.fit_transform(df_test))"
   ]
  },
  {
   "cell_type": "code",
   "execution_count": 20,
   "id": "74fb20b9",
   "metadata": {},
   "outputs": [],
   "source": [
    "test_dataset = SWat_dataset(test_normalized, test_normalized, window_size, device)\n",
    "test_loader = DataLoader(test_dataset, batch_size=batch_size, shuffle=False, num_workers=0)"
   ]
  },
  {
   "cell_type": "code",
   "execution_count": 21,
   "id": "53ae0a10",
   "metadata": {},
   "outputs": [],
   "source": [
    "def testing(test_loader, alpha=.5, beta=.5):\n",
    "    results=[]\n",
    "    with torch.no_grad():\n",
    "        for batch in test_loader:\n",
    "            batch = batch.view(batch.shape[0], -1)\n",
    "            w1=AE1(batch)\n",
    "            w2=AE2(w1)\n",
    "            results.append(alpha*torch.mean((batch-w1)**2,axis=1)+beta*torch.mean((batch-w2)**2,axis=1))\n",
    "    return results"
   ]
  },
  {
   "cell_type": "code",
   "execution_count": 22,
   "id": "19a22d18",
   "metadata": {},
   "outputs": [],
   "source": [
    "labels = labels.values\n",
    "labels = [0 if (lab == 1) else 1 for lab in labels]"
   ]
  },
  {
   "cell_type": "code",
   "execution_count": 23,
   "id": "812d1112",
   "metadata": {},
   "outputs": [],
   "source": [
    "windows_labels=[]\n",
    "for i in range(len(labels)-window_size):\n",
    "    windows_labels.append(list(np.int32(labels[i:i+window_size])))"
   ]
  },
  {
   "cell_type": "code",
   "execution_count": 24,
   "id": "a2caf045",
   "metadata": {},
   "outputs": [],
   "source": [
    "y_test = [1.0 if (np.sum(window) > 0) else 0 for window in windows_labels]"
   ]
  },
  {
   "cell_type": "code",
   "execution_count": 25,
   "id": "9d9385ba",
   "metadata": {},
   "outputs": [],
   "source": [
    "results=testing(test_loader)"
   ]
  },
  {
   "cell_type": "code",
   "execution_count": 26,
   "id": "fbacc678",
   "metadata": {},
   "outputs": [],
   "source": [
    "y_pred=np.concatenate([torch.stack(results[:-1]).flatten().detach().cpu().numpy(), \n",
    "                       results[-1].flatten().detach().cpu().numpy()])"
   ]
  },
  {
   "cell_type": "code",
   "execution_count": 27,
   "id": "123b12c1",
   "metadata": {},
   "outputs": [],
   "source": [
    "def ROC(y_test,y_pred):\n",
    "    fpr,tpr,tr=roc_curve(y_test,y_pred)\n",
    "    auc=roc_auc_score(y_test,y_pred)\n",
    "    idx=np.argwhere(np.diff(np.sign(tpr-(1-fpr)))).flatten()\n",
    "\n",
    "    plt.xlabel(\"FPR\")\n",
    "    plt.ylabel(\"TPR\")\n",
    "    plt.plot(fpr,tpr,label=\"AUC=\"+str(auc))\n",
    "    plt.plot(fpr,1-fpr,'r:')\n",
    "    plt.plot(fpr[idx],tpr[idx], 'ro')\n",
    "    plt.legend(loc=4)\n",
    "    plt.grid()\n",
    "    plt.show()\n",
    "    return tr[idx]"
   ]
  },
  {
   "cell_type": "code",
   "execution_count": 28,
   "id": "f9eeda54",
   "metadata": {},
   "outputs": [
    {
     "data": {
      "image/png": "[encoded data removed]",
      "text/plain": [
       "<Figure size 640x480 with 1 Axes>"
      ]
     },
     "metadata": {},
     "output_type": "display_data"
    },
    {
     "data": {
      "text/plain": [
       "array([0.5526061], dtype=float32)"
      ]
     },
     "execution_count": 28,
     "metadata": {},
     "output_type": "execute_result"
    }
   ],
   "source": [
    "threshold = ROC(y_test,y_pred)\n",
    "threshold"
   ]
  },
  {
   "cell_type": "code",
   "execution_count": 29,
   "id": "bfeeca57-f4f4-4ec4-8de0-054b6cddb86b",
   "metadata": {},
   "outputs": [],
   "source": [
    "def print_metrics(y_pred, y_true):\n",
    "    conf_matrix = confusion_matrix(y_true, y_pred)\n",
    "    TP = conf_matrix[1, 1]\n",
    "    TN = conf_matrix[0, 0]\n",
    "    FP = conf_matrix[0, 1]\n",
    "    FN = conf_matrix[1, 0]\n",
    "    F1 = f1_score(y_true, y_pred)\n",
    "    precision = precision_score(y_true, y_pred)\n",
    "    recall = recall_score(y_true, y_pred)\n",
    "    print(f'False positive: {FP} \\nTrue positive: {TP} \\nFalse negative: {FN} \\nTrue negative: {TN}')\n",
    "    print(f'Precision: {100 * precision} \\nRecall: {100 * recall}')\n",
    "    print(f'F1: {F1 * 100}')\n",
    "\n",
    "def print_detection_percentage(y_pred_int, y_test, anomaly_segments):\n",
    "    for index, (i, j) in enumerate(anomaly_segments):\n",
    "        cur_pred = y_pred_int[i:j]\n",
    "        cur_true = y_test[i:j]\n",
    "        print(f'Segment number {index} has {np.sum((cur_pred < cur_true).astype(int))} points undetected while total is {len(cur_pred)}')"
   ]
  },
  {
   "cell_type": "code",
   "execution_count": 30,
   "id": "513a1746",
   "metadata": {},
   "outputs": [
    {
     "name": "stdout",
     "output_type": "stream",
     "text": [
      "best: 1.6764705882352942 F1: 0.330124923202949\n",
      "False positive: 1958 \n",
      "True positive: 806 \n",
      "False negative: 1313 \n",
      "True negative: 30474\n",
      "Precision: 29.160636758321274 \n",
      "Recall: 38.036809815950924\n",
      "F1: 33.0124923202949\n"
     ]
    },
    {
     "data": {
      "image/png": "[encoded data removed]",
      "text/plain": [
       "<Figure size 640x480 with 1 Axes>"
      ]
     },
     "metadata": {},
     "output_type": "display_data"
    }
   ],
   "source": [
    "ff = 0\n",
    "f_history = []\n",
    "initial_y = 0\n",
    "best = -1\n",
    "for inc in np.linspace(0, 3, 35):\n",
    "    y_pred_int = (y_pred > (initial_y + inc)).astype(int)\n",
    "    conf_matrix = confusion_matrix(y_test, y_pred_int)\n",
    "    TP = conf_matrix[1, 1]\n",
    "    TN = conf_matrix[0, 0]\n",
    "    FP = conf_matrix[0, 1]\n",
    "    FN = conf_matrix[1, 0]\n",
    "    F1 = f1_score(y_test, y_pred_int)\n",
    "    f_history.append(F1)\n",
    "\n",
    "    precision = precision_score(y_test, y_pred_int)\n",
    "    recall = recall_score(y_test, y_pred_int)\n",
    "    if F1 > ff:\n",
    "        ff = F1\n",
    "        best = inc + initial_y\n",
    "print(f'best: {best} F1: {ff}')\n",
    "plt.plot(f_history)\n",
    "y_pred_int = (y_pred > best).astype(int)\n",
    "print_metrics(y_pred_int, y_test)"
   ]
  },
  {
   "cell_type": "code",
   "execution_count": 31,
   "id": "436a6cd1-e80e-40fb-9ba4-b1dc80450e62",
   "metadata": {},
   "outputs": [],
   "source": [
    "started = False\n",
    "anomaly_segments = []\n",
    "for i in range(len(y_test)):\n",
    "    if y_test[i] == 1 and not started:\n",
    "        started = True\n",
    "        left_side = i\n",
    "    if y_test[i] == 0 and started:\n",
    "        started = False\n",
    "        anomaly_segments.append((left_side, i - 1))"
   ]
  },
  {
   "cell_type": "code",
   "execution_count": 32,
   "id": "952f22e3-0efa-4e74-a37e-d8efedf4e390",
   "metadata": {},
   "outputs": [
    {
     "name": "stdout",
     "output_type": "stream",
     "text": [
      "172.72727272727275\n"
     ]
    }
   ],
   "source": [
    "y_pred_int = np.array((y_pred > best).astype(int))\n",
    "latency_times = []\n",
    "for index, (i, j) in enumerate(anomaly_segments):\n",
    "    current_arr = y_pred_int[i: j]\n",
    "    first_detection = np.where(current_arr == 1)[0]\n",
    "    if first_detection.shape[0] > 0:\n",
    "        latency_times.append(first_detection[0])\n",
    "print(np.mean(latency_times) * 5)"
   ]
  },
  {
   "cell_type": "code",
   "execution_count": 33,
   "id": "6533d308-60ab-4b1b-ae91-00ad91a8c2d4",
   "metadata": {},
   "outputs": [
    {
     "name": "stdout",
     "output_type": "stream",
     "text": [
      "False positive: 1958 \n",
      "True positive: 1099 \n",
      "False negative: 1020 \n",
      "True negative: 30474\n",
      "Precision: 35.950278050376184 \n",
      "Recall: 51.86408683341198\n",
      "F1: 42.465224111282836\n"
     ]
    }
   ],
   "source": [
    "for i, j in anomaly_segments:\n",
    "    if np.sum(y_pred_int[i: j]) / (j - i) > 0.2:\n",
    "        y_pred_int[i:j + 1] = [1 for _ in range(j - i + 1)]\n",
    "print_metrics(y_pred_int, y_test)"
   ]
  },
  {
   "cell_type": "code",
   "execution_count": 34,
   "id": "8d3ef8f4-55a3-4daf-8274-797b9cc39a0e",
   "metadata": {},
   "outputs": [
    {
     "name": "stdout",
     "output_type": "stream",
     "text": [
      "False positive: 1958 \n",
      "True positive: 1810 \n",
      "False negative: 309 \n",
      "True negative: 30474\n",
      "Precision: 48.03609341825902 \n",
      "Recall: 85.41764983482774\n",
      "F1: 61.49142177679633\n"
     ]
    }
   ],
   "source": [
    "for i, j in anomaly_segments:\n",
    "    if np.sum(y_pred_int[i: j]) > 0:\n",
    "        y_pred_int[i:j + 1] = [1 for _ in range(j - i + 1)]\n",
    "print_metrics(y_pred_int, y_test)"
   ]
  },
  {
   "cell_type": "markdown",
   "id": "9ee47f5c-9fde-4809-b6eb-3de158eac2f3",
   "metadata": {},
   "source": [
    "# Try adjust point"
   ]
  },
  {
   "cell_type": "markdown",
   "id": "8be9115d-b840-45ce-b515-16762f235d34",
   "metadata": {},
   "source": [
    "## Point Adjust"
   ]
  },
  {
   "cell_type": "code",
   "execution_count": 35,
   "id": "b58b91f0-0841-4832-b956-ecccd4238789",
   "metadata": {},
   "outputs": [],
   "source": [
    "# ff = 0\n",
    "# f_history = []\n",
    "# initial_y = 0\n",
    "# best = -1\n",
    "# for inc in np.linspace(0, 5, 50):\n",
    "#     y_pred_int = (y_pred > initial_y + inc).astype(int)\n",
    "#     for i, j in anomaly_segments:\n",
    "#         if np.sum(y_pred_int[i: j]) > 0:\n",
    "#             y_pred_int[i:j + 1] = [1 for _ in range(j - i + 1)]\n",
    "#     conf_matrix = confusion_matrix(labels, y_pred_int)\n",
    "#     TP = conf_matrix[1, 1]\n",
    "#     TN = conf_matrix[0, 0]\n",
    "#     FP = conf_matrix[0, 1]\n",
    "#     FN = conf_matrix[1, 0]\n",
    "#     F1 = f1_score(labels, y_pred_int)\n",
    "#     f_history.append(F1)\n",
    "\n",
    "#     precision = precision_score(labels, y_pred_int)\n",
    "#     recall = recall_score(labels, y_pred_int)\n",
    "#     if F1 > ff:\n",
    "#         ff = F1\n",
    "#         best = inc + initial_y\n",
    "# print(f'best: {best} F1: {ff}')\n",
    "# plt.plot(f_history)"
   ]
  },
  {
   "cell_type": "markdown",
   "id": "5f26c9a9-c938-4530-ba79-2fb68bc2e263",
   "metadata": {},
   "source": [
    "## Point Adjust 20%"
   ]
  },
  {
   "cell_type": "code",
   "execution_count": 36,
   "id": "b7d26cf2-0ff4-4943-867c-8f0081918950",
   "metadata": {},
   "outputs": [],
   "source": [
    "# ff = 0\n",
    "# f_history = []\n",
    "# initial_y = 0\n",
    "# best = -1\n",
    "# for inc in np.linspace(0, 5, 50):\n",
    "#     y_pred_int = [1 if (yy > initial_y + inc) else 0 for yy in y_pred]\n",
    "#     for i, j in anomaly_segments:\n",
    "#         if np.sum(y_pred_int[i: j]) / (j - i) > 0.2:\n",
    "#             y_pred_int[i:j + 1] = [1 for _ in range(j - i + 1)]\n",
    "#     conf_matrix = confusion_matrix(y_test, y_pred_int)\n",
    "#     TP = conf_matrix[1, 1]\n",
    "#     TN = conf_matrix[0, 0]\n",
    "#     FP = conf_matrix[0, 1]\n",
    "#     FN = conf_matrix[1, 0]\n",
    "#     F1 = f1_score(y_test, y_pred_int)\n",
    "#     f_history.append(F1)\n",
    "\n",
    "#     precision = precision_score(y_test, y_pred_int)\n",
    "#     recall = recall_score(y_test, y_pred_int)\n",
    "#     if F1 > ff:\n",
    "#         ff = F1\n",
    "#         best = inc + initial_y\n",
    "# print(f'best: {best} F1: {ff}')\n",
    "# plt.plot(f_history)"
   ]
  },
  {
   "cell_type": "markdown",
   "id": "43e89a1a-d826-48c4-9874-548c597bf1dc",
   "metadata": {},
   "source": [
    "## Visualization"
   ]
  },
  {
   "cell_type": "code",
   "execution_count": 37,
   "id": "e7a0ac7a-0a4d-4bfa-9c97-eeb402e388fd",
   "metadata": {},
   "outputs": [],
   "source": [
    "# x_vals = 0. + np.linspace(0, 20, 50)\n",
    "# plt.plot(x_vals, f_history)\n",
    "# plt.xlabel('Threshold')\n",
    "# plt.ylabel('F1 score')\n",
    "\n",
    "# max_y = max(f_history)\n",
    "# max_x = np.argmax(f_history)\n",
    "# plt.axhline(y=max_y, color='r', linestyle='--', label='Max Y')\n",
    "# plt.text(0.6, max_y + 0.05, f'Max F1= {max_y: .4f}', color='r')\n",
    "# plt.ylim(0, 1)\n",
    "# plt.grid(True)\n",
    "\n",
    "# # plt.savefig('my_plot.png')\n",
    "\n",
    "# plt.show()"
   ]
  },
  {
   "cell_type": "code",
   "execution_count": 38,
   "id": "381802ba-3236-42ce-9e3b-1f177c545bee",
   "metadata": {},
   "outputs": [
    {
     "name": "stdout",
     "output_type": "stream",
     "text": [
      "2887535\n"
     ]
    }
   ],
   "source": [
    "sum1 = sum(p.numel() for p in AE1.parameters() if p.requires_grad)\n",
    "sum2 = sum(p.numel() for p in AE2.parameters() if p.requires_grad)\n",
    "sum3 = sum(p.numel() for p in shared_encoder.parameters() if p.requires_grad)\n",
    "print(sum1 + sum2 - sum3)"
   ]
  },
  {
   "cell_type": "code",
   "execution_count": null,
   "id": "f09ad252-7ba7-417f-9e99-cd1f4dd13e1a",
   "metadata": {},
   "outputs": [],
   "source": []
  }
 ],
 "metadata": {
  "kernelspec": {
   "display_name": "NIS2",
   "language": "python",
   "name": "art2"
  },
  "language_info": {
   "codemirror_mode": {
    "name": "ipython",
    "version": 3
   },
   "file_extension": ".py",
   "mimetype": "text/x-python",
   "name": "python",
   "nbconvert_exporter": "python",
   "pygments_lexer": "ipython3",
   "version": "3.12.2"
  }
 },
 "nbformat": 4,
 "nbformat_minor": 5
}
