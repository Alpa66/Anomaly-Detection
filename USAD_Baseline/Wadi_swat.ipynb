{
 "cells": [
  {
   "cell_type": "markdown",
   "id": "9f6c384a",
   "metadata": {},
   "source": [
    "# USAD\n",
    "## Importing packages"
   ]
  },
  {
   "cell_type": "code",
   "execution_count": 1,
   "id": "06186c5f",
   "metadata": {},
   "outputs": [],
   "source": [
    "import pandas as pd\n",
    "import numpy as np\n",
    "import torch\n",
    "import torch.nn as nn\n",
    "import matplotlib.pyplot as plt\n",
    "import random\n",
    "\n",
    "from torch.utils.data import Dataset, DataLoader\n",
    "from sklearn.preprocessing import MinMaxScaler, StandardScaler\n",
    "\n",
    "from sklearn.metrics import confusion_matrix, f1_score, roc_curve, roc_auc_score, precision_score, recall_score"
   ]
  },
  {
   "cell_type": "markdown",
   "id": "7d53da8a",
   "metadata": {},
   "source": [
    "## Reading data"
   ]
  },
  {
   "cell_type": "code",
   "execution_count": 2,
   "id": "e471dbed-a691-4550-b508-133c927c759e",
   "metadata": {},
   "outputs": [],
   "source": [
    "def set_seed(seed):\n",
    "    torch.manual_seed(seed)\n",
    "    torch.cuda.manual_seed_all(seed)\n",
    "    np.random.seed(seed)\n",
    "    random.seed(seed)\n",
    "    torch.backends.cudnn.deterministic = True\n",
    "    torch.backends.cudnn.benchmark = False"
   ]
  },
  {
   "cell_type": "code",
   "execution_count": 66,
   "id": "cebe72ce-78ed-4f3d-a76d-be88dc042d16",
   "metadata": {},
   "outputs": [],
   "source": [
    "seed_num = 439\n",
    "set_seed(seed_num)"
   ]
  },
  {
   "cell_type": "code",
   "execution_count": 4,
   "id": "9a335abf-8929-49dc-9b6a-12a2e534ac28",
   "metadata": {},
   "outputs": [],
   "source": [
    "na_columns = ['2_LS_001_AL', '2_LS_002_AL', '2_P_001_STATUS', '2_P_002_STATUS', '1_LS_001_AL', '1_LS_001_AL', 'Row', 'Date', 'Time']"
   ]
  },
  {
   "cell_type": "code",
   "execution_count": 5,
   "id": "4c83de10",
   "metadata": {},
   "outputs": [],
   "source": [
    "df = pd.read_csv('../../../Projects/data/WADI/WADI_14days_new.csv')\n",
    "df.columns = df.columns.str.strip()\n",
    "df = df.drop(columns=na_columns, inplace=False)\n",
    "df = df.ffill(inplace=False)\n",
    "df = df.astype('float')\n",
    "grouping_array = np.arange(len(df)) // 5\n",
    "df = df.groupby(grouping_array).median()\n",
    "mm = StandardScaler()\n",
    "df = pd.DataFrame(mm.fit_transform(df))\n",
    "validation_set = df[int(df.shape[0] * 0.8):]\n",
    "train_set = df[:int(df.shape[0] * 0.8)]"
   ]
  },
  {
   "cell_type": "code",
   "execution_count": 6,
   "id": "7af0d978-2f20-44fb-ac25-e373ce0f7d2f",
   "metadata": {},
   "outputs": [
    {
     "data": {
      "text/plain": [
       "device(type='cuda')"
      ]
     },
     "execution_count": 6,
     "metadata": {},
     "output_type": "execute_result"
    }
   ],
   "source": [
    "device = torch.device('cuda' if torch.cuda.is_available() else 'cpu')\n",
    "device"
   ]
  },
  {
   "cell_type": "code",
   "execution_count": 7,
   "id": "ae339864",
   "metadata": {},
   "outputs": [],
   "source": [
    "window_size = 10\n",
    "input_size = window_size * 122\n",
    "latent_space = 10 * window_size\n",
    "epochs = 70"
   ]
  },
  {
   "cell_type": "code",
   "execution_count": 8,
   "id": "130e5791",
   "metadata": {},
   "outputs": [],
   "source": [
    "class SWat_dataset(Dataset):\n",
    "    def __init__(self, dataframe: pd.DataFrame, target: pd.DataFrame,  window_size, device):\n",
    "        self.data = dataframe\n",
    "        self.window_size = window_size\n",
    "\n",
    "    def __len__(self):\n",
    "        return len(self.data) - self.window_size\n",
    "\n",
    "    def __getitem__(self, idx):\n",
    "        window = self.data[idx: idx + self.window_size]\n",
    "        features = torch.tensor(window.iloc[:,:].values).float().to(device)\n",
    "        return features"
   ]
  },
  {
   "cell_type": "code",
   "execution_count": 9,
   "id": "7bb00e04",
   "metadata": {},
   "outputs": [],
   "source": [
    "train_dataset = SWat_dataset(train_set, train_set, window_size, device)\n",
    "validation_dataset = SWat_dataset(validation_set, validation_set, window_size, device)\n",
    "\n",
    "batch_size = 4096\n",
    "train_loader = DataLoader(train_dataset, batch_size=batch_size, shuffle=True, num_workers=0)\n",
    "validation_loader = DataLoader(validation_dataset, batch_size=batch_size, shuffle=True, num_workers=0)"
   ]
  },
  {
   "cell_type": "markdown",
   "id": "22cf1ae6",
   "metadata": {},
   "source": [
    "## Setting up the model structure"
   ]
  },
  {
   "cell_type": "code",
   "execution_count": 10,
   "id": "4582b348",
   "metadata": {},
   "outputs": [],
   "source": [
    "class Encoder(nn.Module):\n",
    "    def __init__(self, input_size, hidden_size):\n",
    "        super(Encoder, self).__init__()\n",
    "        self.input_size = input_size\n",
    "        self.hidden_size = hidden_size\n",
    "        self.fc1 = nn.Linear(input_size, input_size // 2)\n",
    "        self.relu = nn.ReLU(True)\n",
    "        self.fc2 = nn.Linear(input_size // 2, input_size // 4)\n",
    "        self.fc3 = nn.Linear(input_size // 4, hidden_size)\n",
    "    \n",
    "    def forward(self, x):\n",
    "        out = self.relu(self.fc1(x))\n",
    "        out = self.relu(self.fc2(out))\n",
    "        out = self.relu(self.fc3(out))\n",
    "        return out\n",
    "\n",
    "\n",
    "class AutoEncoder(nn.Module):\n",
    "    def __init__(self, input_size, hidden_size, encoder):        \n",
    "        super(AutoEncoder, self).__init__()\n",
    "        self.encoder = encoder\n",
    "        self.input_size = input_size\n",
    "        self.hidden_size = hidden_size\n",
    "        self.sigmoid = nn.Sigmoid()\n",
    "        self.relu = nn.ReLU(True)\n",
    "        self.fc1 = nn.Linear(hidden_size, input_size // 4)\n",
    "        self.fc2 = nn.Linear(input_size // 4, input_size // 2)\n",
    "        self.fc3 = nn.Linear(input_size // 2, input_size)\n",
    "        \n",
    "    def forward(self, x):\n",
    "        out = self.encoder(x)\n",
    "        out = self.relu(self.fc1(out))\n",
    "        out = self.relu(self.fc2(out))\n",
    "        out = self.fc3(out)\n",
    "        return out"
   ]
  },
  {
   "cell_type": "code",
   "execution_count": 11,
   "id": "7aa83ddb",
   "metadata": {},
   "outputs": [],
   "source": [
    "shared_encoder = Encoder(input_size, latent_space)\n",
    "AE1 = AutoEncoder(input_size, latent_space, shared_encoder)\n",
    "AE2 = AutoEncoder(input_size, latent_space, shared_encoder)"
   ]
  },
  {
   "cell_type": "code",
   "execution_count": 12,
   "id": "4d306383",
   "metadata": {},
   "outputs": [
    {
     "data": {
      "text/plain": [
       "AutoEncoder(\n",
       "  (encoder): Encoder(\n",
       "    (fc1): Linear(in_features=1220, out_features=610, bias=True)\n",
       "    (relu): ReLU(inplace=True)\n",
       "    (fc2): Linear(in_features=610, out_features=305, bias=True)\n",
       "    (fc3): Linear(in_features=305, out_features=100, bias=True)\n",
       "  )\n",
       "  (sigmoid): Sigmoid()\n",
       "  (relu): ReLU(inplace=True)\n",
       "  (fc1): Linear(in_features=100, out_features=305, bias=True)\n",
       "  (fc2): Linear(in_features=305, out_features=610, bias=True)\n",
       "  (fc3): Linear(in_features=610, out_features=1220, bias=True)\n",
       ")"
      ]
     },
     "execution_count": 12,
     "metadata": {},
     "output_type": "execute_result"
    }
   ],
   "source": [
    "shared_encoder.to(device)\n",
    "AE1.to(device)\n",
    "AE2.to(device)"
   ]
  },
  {
   "cell_type": "code",
   "execution_count": 13,
   "id": "b37bf476",
   "metadata": {},
   "outputs": [],
   "source": [
    "optimizer1 = torch.optim.Adam(AE1.parameters())\n",
    "optimizer2 = torch.optim.Adam(AE2.parameters())"
   ]
  },
  {
   "cell_type": "code",
   "execution_count": 67,
   "id": "2214264e-1f8d-4777-ab5b-bcf62b9a9e1b",
   "metadata": {},
   "outputs": [],
   "source": [
    "model_path_AE1 = 'my_USAD_downsampled_AE1_hidden_10_seed_' + str(seed_num) + '.pth'\n",
    "model_path_AE2 = 'my_USAD_downsampled_AE2_hidden_10_seed_' + str(seed_num) + '.pth'"
   ]
  },
  {
   "cell_type": "markdown",
   "id": "015328f9",
   "metadata": {},
   "source": [
    "## Training the model"
   ]
  },
  {
   "cell_type": "markdown",
   "id": "abf47e12",
   "metadata": {},
   "source": [
    "### Training"
   ]
  },
  {
   "cell_type": "code",
   "execution_count": 14,
   "id": "4a86afc5",
   "metadata": {},
   "outputs": [
    {
     "name": "stdout",
     "output_type": "stream",
     "text": [
      "Epoch: 0 ---> Val loss: AE1 0.5061, AE2: 0.5131\n",
      "Train loss: AE1 0.4928, AE2 0.4946\n",
      "Epoch: 1 ---> Val loss: AE1 0.6255, AE2: -0.0595\n",
      "Train loss: AE1 0.4874, AE2 -0.0453\n",
      "Epoch: 2 ---> Val loss: AE1 0.7388, AE2: -0.3760\n",
      "Train loss: AE1 0.6752, AE2 -0.3194\n",
      "Epoch: 3 ---> Val loss: AE1 0.7535, AE2: -0.5029\n",
      "Train loss: AE1 0.6608, AE2 -0.4767\n",
      "Epoch: 4 ---> Val loss: AE1 0.7579, AE2: -0.5605\n",
      "Train loss: AE1 0.6638, AE2 -0.5419\n",
      "Epoch: 5 ---> Val loss: AE1 0.7733, AE2: -0.6078\n",
      "Train loss: AE1 0.6866, AE2 -0.5817\n",
      "Epoch: 6 ---> Val loss: AE1 0.7725, AE2: -0.6401\n",
      "Train loss: AE1 0.6840, AE2 -0.6089\n",
      "Epoch: 7 ---> Val loss: AE1 0.7776, AE2: -0.6628\n",
      "Train loss: AE1 0.6880, AE2 -0.6299\n",
      "Epoch: 8 ---> Val loss: AE1 0.7797, AE2: -0.6816\n",
      "Train loss: AE1 0.6924, AE2 -0.6445\n",
      "Epoch: 9 ---> Val loss: AE1 0.7929, AE2: -0.6866\n",
      "Train loss: AE1 0.7034, AE2 -0.6519\n",
      "Epoch: 10 ---> Val loss: AE1 0.7858, AE2: -0.7036\n",
      "Train loss: AE1 0.7179, AE2 -0.6601\n",
      "Epoch: 11 ---> Val loss: AE1 0.7832, AE2: -0.7148\n",
      "Train loss: AE1 0.7109, AE2 -0.6708\n",
      "Epoch: 12 ---> Val loss: AE1 0.7855, AE2: -0.7245\n",
      "Train loss: AE1 0.7102, AE2 -0.6786\n",
      "Epoch: 13 ---> Val loss: AE1 0.7852, AE2: -0.7293\n",
      "Train loss: AE1 0.7118, AE2 -0.6843\n",
      "Epoch: 14 ---> Val loss: AE1 0.7870, AE2: -0.7358\n",
      "Train loss: AE1 0.7135, AE2 -0.6890\n",
      "Epoch: 15 ---> Val loss: AE1 0.7906, AE2: -0.7422\n",
      "Train loss: AE1 0.7160, AE2 -0.6935\n",
      "Epoch: 16 ---> Val loss: AE1 0.7900, AE2: -0.7457\n",
      "Train loss: AE1 0.7179, AE2 -0.6967\n",
      "Epoch: 17 ---> Val loss: AE1 0.7915, AE2: -0.7496\n",
      "Train loss: AE1 0.7189, AE2 -0.7000\n",
      "Epoch: 18 ---> Val loss: AE1 0.7932, AE2: -0.7525\n",
      "Train loss: AE1 0.7212, AE2 -0.7027\n",
      "Epoch: 19 ---> Val loss: AE1 0.7941, AE2: -0.7569\n",
      "Train loss: AE1 0.7229, AE2 -0.7052\n",
      "Epoch: 20 ---> Val loss: AE1 0.7941, AE2: -0.7595\n",
      "Train loss: AE1 0.7231, AE2 -0.7075\n",
      "Epoch: 21 ---> Val loss: AE1 0.7965, AE2: -0.7638\n",
      "Train loss: AE1 0.7238, AE2 -0.7094\n",
      "Epoch: 22 ---> Val loss: AE1 0.8000, AE2: -0.7636\n",
      "Train loss: AE1 0.7291, AE2 -0.7102\n",
      "Epoch: 23 ---> Val loss: AE1 0.8009, AE2: -0.7697\n",
      "Train loss: AE1 0.7282, AE2 -0.7126\n",
      "Epoch: 24 ---> Val loss: AE1 0.7985, AE2: -0.7692\n",
      "Train loss: AE1 0.7290, AE2 -0.7142\n",
      "Epoch: 25 ---> Val loss: AE1 0.7976, AE2: -0.7701\n",
      "Train loss: AE1 0.7288, AE2 -0.7160\n",
      "Epoch: 26 ---> Val loss: AE1 0.7994, AE2: -0.7731\n",
      "Train loss: AE1 0.7287, AE2 -0.7171\n",
      "Epoch: 27 ---> Val loss: AE1 0.8015, AE2: -0.7730\n",
      "Train loss: AE1 0.7314, AE2 -0.7183\n",
      "Epoch: 28 ---> Val loss: AE1 0.7887, AE2: -0.7637\n",
      "Train loss: AE1 0.7321, AE2 -0.7192\n",
      "Epoch: 29 ---> Val loss: AE1 0.7992, AE2: -0.7751\n",
      "Train loss: AE1 0.7320, AE2 -0.7202\n",
      "Epoch: 30 ---> Val loss: AE1 0.7990, AE2: -0.7750\n",
      "Train loss: AE1 0.7325, AE2 -0.7213\n",
      "Epoch: 31 ---> Val loss: AE1 0.8009, AE2: -0.7785\n",
      "Train loss: AE1 0.7325, AE2 -0.7225\n",
      "Epoch: 32 ---> Val loss: AE1 0.8052, AE2: -0.7822\n",
      "Train loss: AE1 0.7328, AE2 -0.7233\n",
      "Epoch: 33 ---> Val loss: AE1 0.8039, AE2: -0.7813\n",
      "Train loss: AE1 0.7344, AE2 -0.7241\n",
      "Epoch: 34 ---> Val loss: AE1 0.8025, AE2: -0.7822\n",
      "Train loss: AE1 0.7345, AE2 -0.7248\n",
      "Epoch: 35 ---> Val loss: AE1 0.8032, AE2: -0.7838\n",
      "Train loss: AE1 0.7338, AE2 -0.7258\n",
      "Epoch: 36 ---> Val loss: AE1 0.8030, AE2: -0.7844\n",
      "Train loss: AE1 0.7339, AE2 -0.7264\n",
      "Epoch: 37 ---> Val loss: AE1 0.8052, AE2: -0.7858\n",
      "Train loss: AE1 0.7355, AE2 -0.7260\n",
      "Epoch: 38 ---> Val loss: AE1 0.8047, AE2: -0.7860\n",
      "Train loss: AE1 0.7358, AE2 -0.7269\n",
      "Epoch: 39 ---> Val loss: AE1 0.8065, AE2: -0.7878\n",
      "Train loss: AE1 0.7360, AE2 -0.7282\n",
      "Epoch: 40 ---> Val loss: AE1 0.8037, AE2: -0.7867\n",
      "Train loss: AE1 0.7361, AE2 -0.7285\n",
      "Epoch: 41 ---> Val loss: AE1 0.8030, AE2: -0.7868\n",
      "Train loss: AE1 0.7361, AE2 -0.7296\n",
      "Epoch: 42 ---> Val loss: AE1 0.8027, AE2: -0.7871\n",
      "Train loss: AE1 0.7361, AE2 -0.7299\n",
      "Epoch: 43 ---> Val loss: AE1 0.8069, AE2: -0.7916\n",
      "Train loss: AE1 0.7361, AE2 -0.7303\n",
      "Epoch: 44 ---> Val loss: AE1 0.8083, AE2: -0.7890\n",
      "Train loss: AE1 0.7405, AE2 -0.7287\n",
      "Epoch: 45 ---> Val loss: AE1 0.8071, AE2: -0.7909\n",
      "Train loss: AE1 0.7395, AE2 -0.7303\n",
      "Epoch: 46 ---> Val loss: AE1 0.8068, AE2: -0.7914\n",
      "Train loss: AE1 0.7381, AE2 -0.7312\n",
      "Epoch: 47 ---> Val loss: AE1 0.8117, AE2: -0.7816\n",
      "Train loss: AE1 0.7781, AE2 -0.7220\n",
      "Epoch: 48 ---> Val loss: AE1 0.8112, AE2: -0.7892\n",
      "Train loss: AE1 0.7441, AE2 -0.7235\n",
      "Epoch: 49 ---> Val loss: AE1 0.8086, AE2: -0.7886\n",
      "Train loss: AE1 0.7421, AE2 -0.7269\n",
      "Epoch: 50 ---> Val loss: AE1 0.8091, AE2: -0.7902\n",
      "Train loss: AE1 0.7428, AE2 -0.7283\n",
      "Epoch: 51 ---> Val loss: AE1 0.8082, AE2: -0.7916\n",
      "Train loss: AE1 0.7415, AE2 -0.7297\n",
      "Epoch: 52 ---> Val loss: AE1 0.8098, AE2: -0.7935\n",
      "Train loss: AE1 0.7409, AE2 -0.7304\n",
      "Epoch: 53 ---> Val loss: AE1 0.8085, AE2: -0.7937\n",
      "Train loss: AE1 0.7413, AE2 -0.7316\n",
      "Epoch: 54 ---> Val loss: AE1 0.8061, AE2: -0.7925\n",
      "Train loss: AE1 0.7405, AE2 -0.7319\n",
      "Epoch: 55 ---> Val loss: AE1 0.8094, AE2: -0.7950\n",
      "Train loss: AE1 0.7408, AE2 -0.7326\n",
      "Epoch: 56 ---> Val loss: AE1 0.8083, AE2: -0.7953\n",
      "Train loss: AE1 0.7416, AE2 -0.7334\n",
      "Epoch: 57 ---> Val loss: AE1 0.8087, AE2: -0.7965\n",
      "Train loss: AE1 0.7410, AE2 -0.7337\n",
      "Epoch: 58 ---> Val loss: AE1 0.8077, AE2: -0.7962\n",
      "Train loss: AE1 0.7408, AE2 -0.7340\n",
      "Epoch: 59 ---> Val loss: AE1 0.8094, AE2: -0.7977\n",
      "Train loss: AE1 0.7416, AE2 -0.7340\n",
      "Epoch: 60 ---> Val loss: AE1 0.8135, AE2: -0.7912\n",
      "Train loss: AE1 0.7495, AE2 -0.7240\n",
      "Epoch: 61 ---> Val loss: AE1 0.8135, AE2: -0.7937\n",
      "Train loss: AE1 0.7457, AE2 -0.7270\n",
      "Epoch: 62 ---> Val loss: AE1 0.8151, AE2: -0.7985\n",
      "Train loss: AE1 0.7443, AE2 -0.7299\n",
      "Epoch: 63 ---> Val loss: AE1 0.8134, AE2: -0.7987\n",
      "Train loss: AE1 0.7433, AE2 -0.7322\n",
      "Epoch: 64 ---> Val loss: AE1 0.8170, AE2: -0.7948\n",
      "Train loss: AE1 0.7491, AE2 -0.7295\n",
      "Epoch: 65 ---> Val loss: AE1 0.8144, AE2: -0.7979\n",
      "Train loss: AE1 0.7464, AE2 -0.7300\n",
      "Epoch: 66 ---> Val loss: AE1 0.8147, AE2: -0.7992\n",
      "Train loss: AE1 0.7450, AE2 -0.7319\n",
      "Epoch: 67 ---> Val loss: AE1 0.8132, AE2: -0.7997\n",
      "Train loss: AE1 0.7443, AE2 -0.7341\n",
      "Epoch: 68 ---> Val loss: AE1 0.8144, AE2: -0.8011\n",
      "Train loss: AE1 0.7441, AE2 -0.7346\n",
      "Epoch: 69 ---> Val loss: AE1 0.8143, AE2: -0.8020\n",
      "Train loss: AE1 0.7438, AE2 -0.7355\n",
      "CPU times: user 18min 16s, sys: 16.5 s, total: 18min 32s\n",
      "Wall time: 15min 14s\n"
     ]
    }
   ],
   "source": [
    "%%time\n",
    "AE1_val_history = []\n",
    "AE2_val_history = []\n",
    "for i in range(epochs):\n",
    "    running_loss_AE1 = []\n",
    "    running_loss_AE2 = []\n",
    "    val_loss_AE1 = []\n",
    "    val_loss_AE2 = []\n",
    "    for index_b, features in enumerate(train_loader):\n",
    "        features = features.view(features.shape[0], -1)\n",
    "        \n",
    "        w1 = AE1(features)\n",
    "        w2 = AE2(features)\n",
    "        w3 = AE2(w1)\n",
    "        lossAE1 = (1 / (i + 1)) * torch.mean((features - w1) ** 2) + (1 - (1 / (i + 1))) * torch.mean((features - w3) ** 2)\n",
    "        lossAE2 = (1 / (i + 1)) * torch.mean((features - w2) ** 2) - (1 - (1 / (i + 1))) * torch.mean((features - w3) ** 2)\n",
    "        \n",
    "        running_loss_AE1.append(lossAE1)\n",
    "        lossAE1.backward()\n",
    "        optimizer1.step()\n",
    "        optimizer1.zero_grad()\n",
    "        \n",
    "        w1 = AE1(features)\n",
    "        w2 = AE2(features)\n",
    "        w3 = AE2(w1)\n",
    "        lossAE1 = (1 / (i + 1)) * torch.mean((features - w1) ** 2) + (1 - (1 / (i + 1))) * torch.mean((features - w3) ** 2)\n",
    "        lossAE2 = (1 / (i + 1)) * torch.mean((features - w2) ** 2) - (1 - (1 / (i + 1))) * torch.mean((features - w3) ** 2)\n",
    "        \n",
    "        running_loss_AE2.append(lossAE2)\n",
    "        lossAE2.backward()\n",
    "        optimizer2.step()\n",
    "        optimizer2.zero_grad()\n",
    "    \n",
    "    for index_b, features in enumerate(validation_loader):\n",
    "        with torch.no_grad():\n",
    "            features = features.view(features.shape[0], -1)\n",
    "        \n",
    "            w1 = AE1(features)\n",
    "            w2 = AE2(features)\n",
    "            w3 = AE2(w1)\n",
    "            lossAE1 = (1 / (i + 1)) * torch.mean((features - w1) ** 2) + (1 - (1 / (i + 1))) * torch.mean((features - w3) ** 2)\n",
    "            lossAE2 = (1 / (i + 1)) * torch.mean((features - w2) ** 2) - (1 - (1 / (i + 1))) * torch.mean((features - w3) ** 2)\n",
    "            val_loss_AE1.append(lossAE1)\n",
    "            val_loss_AE2.append(lossAE2)\n",
    "    AE1_val_history.append(torch.stack(val_loss_AE1).mean().item())\n",
    "    AE2_val_history.append(torch.stack(val_loss_AE2).mean().item())\n",
    "    print(f'Epoch: {i} ---> Val loss: AE1 {AE1_val_history[-1]:.4f}, AE2: {AE2_val_history[-1]:.4f}')\n",
    "    print(f'Train loss: AE1 {torch.stack(running_loss_AE1).mean().item():.4f}, AE2 {torch.stack(running_loss_AE2).mean().item():.4f}')"
   ]
  },
  {
   "cell_type": "code",
   "execution_count": 15,
   "id": "c0445749-d836-4611-9fc3-bdbcbaa52cda",
   "metadata": {},
   "outputs": [],
   "source": [
    "def plot_history(losses1, losses2):\n",
    "    plt.plot(losses1, '-x', label=\"loss1\")\n",
    "    plt.plot(losses2, '-x', label=\"loss2\")\n",
    "    plt.xlabel('epoch')\n",
    "    plt.ylabel('loss')\n",
    "    plt.legend()\n",
    "    plt.title('Losses vs. No. of epochs')\n",
    "    plt.grid()\n",
    "    plt.show()"
   ]
  },
  {
   "cell_type": "code",
   "execution_count": 16,
   "id": "ba9d6536-38ca-491a-938f-231c67614048",
   "metadata": {},
   "outputs": [
    {
     "data": {
      "image/png": "[encoded data removed]",
      "text/plain": [
       "<Figure size 640x480 with 1 Axes>"
      ]
     },
     "metadata": {},
     "output_type": "display_data"
    }
   ],
   "source": [
    "plot_history(AE1_val_history, AE2_val_history)"
   ]
  },
  {
   "cell_type": "code",
   "execution_count": 68,
   "id": "d7c94e94",
   "metadata": {},
   "outputs": [],
   "source": [
    "torch.save(AE1.state_dict(), model_path_AE1)\n",
    "torch.save(AE2.state_dict(), model_path_AE2)"
   ]
  },
  {
   "cell_type": "code",
   "execution_count": 18,
   "id": "685d44f1",
   "metadata": {},
   "outputs": [],
   "source": [
    "AE1.load_state_dict(torch.load(model_path_AE1))\n",
    "AE2.load_state_dict(torch.load(model_path_AE2))"
   ]
  },
  {
   "cell_type": "markdown",
   "id": "93a3cc44",
   "metadata": {},
   "source": [
    "## Testing"
   ]
  },
  {
   "cell_type": "code",
   "execution_count": 19,
   "id": "caf3ee9f",
   "metadata": {},
   "outputs": [],
   "source": [
    "df_test = pd.read_csv('../../../Projects/data/WADI/WADI_attackdataLABLE.csv')\n",
    "df_test = df_test[:-2]\n",
    "df_test.columns = df_test.columns.str.strip()\n",
    "df_test = df_test.drop(columns=na_columns, inplace=False)\n",
    "df_test = df_test.astype('float')\n",
    "grouping_array = np.arange(len(df_test)) // 5\n",
    "df_test = df_test.groupby(grouping_array).median()\n",
    "labels = df_test['Attack LABLE (1:No Attack, -1:Attack)']\n",
    "df_test = df_test.drop(columns=['Attack LABLE (1:No Attack, -1:Attack)'], inplace=False)\n",
    "df_test = df_test.ffill(inplace=False)\n",
    "df_test = df_test.astype('float')\n",
    "test_normalized = pd.DataFrame(mm.fit_transform(df_test))"
   ]
  },
  {
   "cell_type": "code",
   "execution_count": 20,
   "id": "74fb20b9",
   "metadata": {},
   "outputs": [],
   "source": [
    "test_dataset = SWat_dataset(test_normalized, test_normalized, window_size, device)\n",
    "test_loader = DataLoader(test_dataset, batch_size=batch_size, shuffle=False, num_workers=0)"
   ]
  },
  {
   "cell_type": "code",
   "execution_count": 21,
   "id": "53ae0a10",
   "metadata": {},
   "outputs": [],
   "source": [
    "def testing(test_loader, alpha=.5, beta=.5):\n",
    "    results=[]\n",
    "    with torch.no_grad():\n",
    "        for batch in test_loader:\n",
    "            batch = batch.view(batch.shape[0], -1)\n",
    "            w1=AE1(batch)\n",
    "            w2=AE2(w1)\n",
    "            results.append(alpha*torch.mean((batch-w1)**2,axis=1)+beta*torch.mean((batch-w2)**2,axis=1))\n",
    "    return results"
   ]
  },
  {
   "cell_type": "code",
   "execution_count": 22,
   "id": "19a22d18",
   "metadata": {},
   "outputs": [],
   "source": [
    "labels = labels.values\n",
    "labels = [0 if (lab == 1) else 1 for lab in labels]"
   ]
  },
  {
   "cell_type": "code",
   "execution_count": 23,
   "id": "812d1112",
   "metadata": {},
   "outputs": [],
   "source": [
    "windows_labels=[]\n",
    "for i in range(len(labels)-window_size):\n",
    "    windows_labels.append(list(np.int32(labels[i:i+window_size])))"
   ]
  },
  {
   "cell_type": "code",
   "execution_count": 24,
   "id": "a2caf045",
   "metadata": {},
   "outputs": [],
   "source": [
    "y_test = [1.0 if (np.sum(window) > 0) else 0 for window in windows_labels]"
   ]
  },
  {
   "cell_type": "code",
   "execution_count": 25,
   "id": "9d9385ba",
   "metadata": {},
   "outputs": [],
   "source": [
    "results=testing(test_loader)"
   ]
  },
  {
   "cell_type": "code",
   "execution_count": 26,
   "id": "fbacc678",
   "metadata": {},
   "outputs": [],
   "source": [
    "y_pred=np.concatenate([torch.stack(results[:-1]).flatten().detach().cpu().numpy(), \n",
    "                       results[-1].flatten().detach().cpu().numpy()])"
   ]
  },
  {
   "cell_type": "code",
   "execution_count": 27,
   "id": "123b12c1",
   "metadata": {},
   "outputs": [],
   "source": [
    "def ROC(y_test,y_pred):\n",
    "    fpr,tpr,tr=roc_curve(y_test,y_pred)\n",
    "    auc=roc_auc_score(y_test,y_pred)\n",
    "    idx=np.argwhere(np.diff(np.sign(tpr-(1-fpr)))).flatten()\n",
    "\n",
    "    plt.xlabel(\"FPR\")\n",
    "    plt.ylabel(\"TPR\")\n",
    "    plt.plot(fpr,tpr,label=\"AUC=\"+str(auc))\n",
    "    plt.plot(fpr,1-fpr,'r:')\n",
    "    plt.plot(fpr[idx],tpr[idx], 'ro')\n",
    "    plt.legend(loc=4)\n",
    "    plt.grid()\n",
    "    plt.show()\n",
    "    return tr[idx]"
   ]
  },
  {
   "cell_type": "code",
   "execution_count": 28,
   "id": "f9eeda54",
   "metadata": {},
   "outputs": [
    {
     "data": {
      "image/png": "[encoded data removed]",
      "text/plain": [
       "<Figure size 640x480 with 1 Axes>"
      ]
     },
     "metadata": {},
     "output_type": "display_data"
    }
   ],
   "source": [
    "threshold = ROC(y_test,y_pred)"
   ]
  },
  {
   "cell_type": "code",
   "execution_count": 29,
   "id": "71bf6f2c",
   "metadata": {},
   "outputs": [
    {
     "data": {
      "text/plain": [
       "array([0.41606244], dtype=float32)"
      ]
     },
     "execution_count": 29,
     "metadata": {},
     "output_type": "execute_result"
    }
   ],
   "source": [
    "threshold"
   ]
  },
  {
   "cell_type": "code",
   "execution_count": 36,
   "id": "513a1746",
   "metadata": {},
   "outputs": [
    {
     "name": "stdout",
     "output_type": "stream",
     "text": [
      "best: 1.5882352941176472 F1: 0.3385539583780305\n"
     ]
    },
    {
     "data": {
      "text/plain": [
       "[<matplotlib.lines.Line2D at 0x773b1cbd77d0>]"
      ]
     },
     "execution_count": 36,
     "metadata": {},
     "output_type": "execute_result"
    },
    {
     "data": {
      "image/png": "[encoded data removed]",
      "text/plain": [
       "<Figure size 640x480 with 1 Axes>"
      ]
     },
     "metadata": {},
     "output_type": "display_data"
    }
   ],
   "source": [
    "ff = 0\n",
    "f_history = []\n",
    "initial_y = 0\n",
    "best = -1\n",
    "for inc in np.linspace(0, 3, 35):\n",
    "    y_pred_int = (y_pred > (initial_y + inc)).astype(int)\n",
    "    conf_matrix = confusion_matrix(y_test, y_pred_int)\n",
    "    TP = conf_matrix[1, 1]\n",
    "    TN = conf_matrix[0, 0]\n",
    "    FP = conf_matrix[0, 1]\n",
    "    FN = conf_matrix[1, 0]\n",
    "    F1 = f1_score(y_test, y_pred_int)\n",
    "    f_history.append(F1)\n",
    "\n",
    "    precision = precision_score(y_test, y_pred_int)\n",
    "    recall = recall_score(y_test, y_pred_int)\n",
    "    if F1 > ff:\n",
    "        ff = F1\n",
    "        best = inc + initial_y\n",
    "print(f'best: {best} F1: {ff}')\n",
    "plt.plot(f_history)"
   ]
  },
  {
   "cell_type": "code",
   "execution_count": 60,
   "id": "8341d86a-efe7-48fe-958d-ea3cc5734fc0",
   "metadata": {},
   "outputs": [
    {
     "data": {
      "text/plain": [
       "1993"
      ]
     },
     "execution_count": 60,
     "metadata": {},
     "output_type": "execute_result"
    }
   ],
   "source": [
    "np.sum(labels)"
   ]
  },
  {
   "cell_type": "code",
   "execution_count": 62,
   "id": "e4870834-4acf-41da-9465-1ec3950545b8",
   "metadata": {},
   "outputs": [
    {
     "data": {
      "text/plain": [
       "34551"
      ]
     },
     "execution_count": 62,
     "metadata": {},
     "output_type": "execute_result"
    }
   ],
   "source": [
    "len(y_pred)"
   ]
  },
  {
   "cell_type": "code",
   "execution_count": 59,
   "id": "952f22e3-0efa-4e74-a37e-d8efedf4e390",
   "metadata": {},
   "outputs": [
    {
     "name": "stdout",
     "output_type": "stream",
     "text": [
      "First detection of aomaly_segment number 0 is: []\n",
      "First detection of aomaly_segment number 1 is: [38 39 40 41 42 43 44 45 46 47 69 70 71 72 73 74 75 76 77 78 79 80 81 82]\n",
      "First detection of aomaly_segment number 2 is: [ 43  44  45  46  47  48  49  50  51  52  53  54  55 154 155 156 157 158\n",
      " 159 160 161 162 163 164 165 166 167 168 169 170 171 172 173 174 175 176\n",
      " 177 178 179 180 181 182 183 184 185 186 187 188 189 190 191 192 193 194\n",
      " 195 196 197 198 199 200 201 202 203 204 205 206 207 208 209 210 211 212\n",
      " 213 214 215 216 217 218 219 220 221 222 223 224 225 226 227 228 229 230\n",
      " 231 232 233 234 235 236 237 238 239 240 241 242 243 244 245 246 247 248\n",
      " 249 250 251 252 253 254 255 256 257 258 259 260 261 262 263 264 265 266\n",
      " 267 268 269 270 271 272 273 274 275 276 277 278 279 280 281 282 283 284\n",
      " 285 286 287 288 289 290 291 292 293 294 295 296 297 298 299 300 301 302\n",
      " 303 304 305 306 307 308 309 310 311 312 313 314 315 316 317 318 319 320\n",
      " 321 322 323 324 325 326 327 328 329 330 331 332 333 334 335 336 337 338\n",
      " 339 340 341 342 343 344 345 346]\n",
      "First detection of aomaly_segment number 3 is: [  0   1   2   3   4   5   6   7   8   9  10  11  12  13  14  15  16  17\n",
      "  18  19  20  21  22  23  24  25  26  27  28  29  30  31  32  33  34  35\n",
      "  36  37  38  39  40  41  42  43  44  45  46  47  48  49  50  51  52  53\n",
      "  54  55  56  57  58  59  60  61  62  63  64  65  66  67  68  69  70  71\n",
      "  72  73  74  75  76  77  78  79  80  81  82  83  84  85  86  87  88  89\n",
      "  90  91  92  93  94  95  96  97  98  99 100 101 102 103 104 105 106 107\n",
      " 108 109 110 111 112 113 114 115 116 117 118 119 120 121 122 123 124 125\n",
      " 126 127 128 129 130 131 132 133 134 135 136 137 138 139 140 141 142 143\n",
      " 144 145 146 147 148 149 150 151 152 153 154 155 156 157]\n",
      "First detection of aomaly_segment number 4 is: [47 48 49 50 51 52 53 54 55 56 57]\n",
      "First detection of aomaly_segment number 5 is: [  0   1   2   3   4   5   6   7   8   9  10  11  12  13  14  15  16  17\n",
      "  18  19  20  21  22  23  24  25  26  27  28  29  30  31  32  33  34  35\n",
      "  36  37  38  39  40  41  42  43  44  45  46  47  48  49  50  51  52  53\n",
      "  54  55  56  57  58  59  60  61  62  63  64  65  66  67  68  69  70  71\n",
      "  72  73  74  75  76  77  78  79  80  81  82  83  84  85  86  87  88  89\n",
      "  90  91  92  93  94  95  96  97  98  99 100 101 102 103 104 105 106 107\n",
      " 108 109 110 111 112 113 114 115 116 117 118 119 120 121 122 123 124 125\n",
      " 126 127 128 129 130 131 132 133 134 135 136 137 138]\n",
      "First detection of aomaly_segment number 6 is: []\n",
      "First detection of aomaly_segment number 7 is: []\n",
      "First detection of aomaly_segment number 8 is: [ 0  1  2  3  4  5  6  7  8  9 10 11 12 13 14 15]\n",
      "First detection of aomaly_segment number 9 is: [84 85 86 87 88 89 90 91 92 93 94]\n",
      "First detection of aomaly_segment number 10 is: [ 27  28  29  30  31  32  33  34  35  36  37  38  39  40  41  42  43  44\n",
      "  45  46  47  48  49  50  51  52  53  54  55  56  57  58  59  60  61  62\n",
      "  63  64  65  66  67  68  69  70  71  72  73  74  75  76  77  78  79  80\n",
      "  81  82  83  84  85  86  87  88  89  90  91  92  93  94  95  96  97  98\n",
      "  99 100 101 102 103 104 105 106 107 108 109 110 111 112 113 114 115 116\n",
      " 117 118 119 120 121 122 123 124 125 126 127 128 129 130 131 132 133]\n",
      "First detection of aomaly_segment number 11 is: [14 15 16 17 18 19 20 21 22 23 24 25 26 27 28 29 30 31 32 33 34 35 36 37\n",
      " 38 39 40 41 42 43 44 45 46 47 48 49 50 51 52 53 54 55 56 57 58 59 60 61\n",
      " 62 63 64 65 66 67 68 69 70]\n",
      "First detection of aomaly_segment number 12 is: [ 7  8  9 10 11 12 13 14]\n",
      "First detection of aomaly_segment number 13 is: []\n",
      "26.0\n"
     ]
    }
   ],
   "source": [
    "y_pred_int = np.array((y_pred > (initial_y + best)).astype(int))\n",
    "latency_times = []\n",
    "for index, (i, j) in enumerate(anomaly_segments):\n",
    "    current_arr = y_pred_int[i: j]\n",
    "    first_detection = np.where(current_arr == 1)[0]\n",
    "    print(f'First detection of aomaly_segment number {index} is: {first_detection}')\n",
    "    if first_detection.shape[0] > 0:\n",
    "        latency_times.append(first_detection[0])\n",
    "print(np.mean(latency_times))"
   ]
  },
  {
   "cell_type": "markdown",
   "id": "9ee47f5c-9fde-4809-b6eb-3de158eac2f3",
   "metadata": {},
   "source": [
    "# Try adjust point"
   ]
  },
  {
   "cell_type": "code",
   "execution_count": 31,
   "id": "c63f4973",
   "metadata": {},
   "outputs": [],
   "source": [
    "labels = labels[window_size:]\n",
    "started = False\n",
    "anomaly_segments = []\n",
    "for i in range(len(labels)):\n",
    "    if labels[i] == 1 and not started:\n",
    "        started = True\n",
    "        left_side = i\n",
    "    if labels[i] == 0 and started:\n",
    "        started = False\n",
    "        anomaly_segments.append((left_side, i - 1))"
   ]
  },
  {
   "cell_type": "markdown",
   "id": "8be9115d-b840-45ce-b515-16762f235d34",
   "metadata": {},
   "source": [
    "## Point Adjust"
   ]
  },
  {
   "cell_type": "code",
   "execution_count": 65,
   "id": "b58b91f0-0841-4832-b956-ecccd4238789",
   "metadata": {},
   "outputs": [
    {
     "name": "stdout",
     "output_type": "stream",
     "text": [
      "best: 2.2448979591836737 F1: 0.6013921113689095\n"
     ]
    },
    {
     "data": {
      "text/plain": [
       "[<matplotlib.lines.Line2D at 0x773af5415040>]"
      ]
     },
     "execution_count": 65,
     "metadata": {},
     "output_type": "execute_result"
    },
    {
     "data": {
      "image/png": "[encoded data removed]",
      "text/plain": [
       "<Figure size 640x480 with 1 Axes>"
      ]
     },
     "metadata": {},
     "output_type": "display_data"
    }
   ],
   "source": [
    "ff = 0\n",
    "f_history = []\n",
    "initial_y = 0\n",
    "best = -1\n",
    "for inc in np.linspace(0, 5, 50):\n",
    "    y_pred_int = (y_pred > initial_y + inc).astype(int)\n",
    "    for i, j in anomaly_segments:\n",
    "        if np.sum(y_pred_int[i: j]) > 0:\n",
    "            y_pred_int[i:j + 1] = [1 for _ in range(j - i + 1)]\n",
    "    conf_matrix = confusion_matrix(labels, y_pred_int)\n",
    "    TP = conf_matrix[1, 1]\n",
    "    TN = conf_matrix[0, 0]\n",
    "    FP = conf_matrix[0, 1]\n",
    "    FN = conf_matrix[1, 0]\n",
    "    F1 = f1_score(labels, y_pred_int)\n",
    "    f_history.append(F1)\n",
    "\n",
    "    precision = precision_score(labels, y_pred_int)\n",
    "    recall = recall_score(labels, y_pred_int)\n",
    "    if F1 > ff:\n",
    "        ff = F1\n",
    "        best = inc + initial_y\n",
    "print(f'best: {best} F1: {ff}')\n",
    "plt.plot(f_history)"
   ]
  },
  {
   "cell_type": "markdown",
   "id": "5f26c9a9-c938-4530-ba79-2fb68bc2e263",
   "metadata": {},
   "source": [
    "## Point Adjust 20%"
   ]
  },
  {
   "cell_type": "code",
   "execution_count": 34,
   "id": "b7d26cf2-0ff4-4943-867c-8f0081918950",
   "metadata": {},
   "outputs": [
    {
     "name": "stdout",
     "output_type": "stream",
     "text": [
      "best: 1.9387755102040818 F1: 0.43967093235831806\n"
     ]
    },
    {
     "data": {
      "text/plain": [
       "[<matplotlib.lines.Line2D at 0x773b1db63680>]"
      ]
     },
     "execution_count": 34,
     "metadata": {},
     "output_type": "execute_result"
    },
    {
     "data": {
      "image/png": "[encoded data removed]",
      "text/plain": [
       "<Figure size 640x480 with 1 Axes>"
      ]
     },
     "metadata": {},
     "output_type": "display_data"
    }
   ],
   "source": [
    "ff = 0\n",
    "f_history = []\n",
    "initial_y = 0\n",
    "best = -1\n",
    "for inc in np.linspace(0, 5, 50):\n",
    "    y_pred_int = [1 if (yy > initial_y + inc) else 0 for yy in y_pred]\n",
    "    for i, j in anomaly_segments:\n",
    "        if np.sum(y_pred_int[i: j]) / (j - i) > 0.2:\n",
    "            y_pred_int[i:j + 1] = [1 for _ in range(j - i + 1)]\n",
    "    conf_matrix = confusion_matrix(y_test, y_pred_int)\n",
    "    TP = conf_matrix[1, 1]\n",
    "    TN = conf_matrix[0, 0]\n",
    "    FP = conf_matrix[0, 1]\n",
    "    FN = conf_matrix[1, 0]\n",
    "    F1 = f1_score(y_test, y_pred_int)\n",
    "    f_history.append(F1)\n",
    "\n",
    "    precision = precision_score(y_test, y_pred_int)\n",
    "    recall = recall_score(y_test, y_pred_int)\n",
    "    if F1 > ff:\n",
    "        ff = F1\n",
    "        best = inc + initial_y\n",
    "print(f'best: {best} F1: {ff}')\n",
    "plt.plot(f_history)"
   ]
  },
  {
   "cell_type": "markdown",
   "id": "43e89a1a-d826-48c4-9874-548c597bf1dc",
   "metadata": {},
   "source": [
    "## Visualization"
   ]
  },
  {
   "cell_type": "code",
   "execution_count": null,
   "id": "e7a0ac7a-0a4d-4bfa-9c97-eeb402e388fd",
   "metadata": {},
   "outputs": [],
   "source": [
    "x_vals = 0. + np.linspace(0, 20, 50)\n",
    "plt.plot(x_vals, f_history)\n",
    "plt.xlabel('Threshold')\n",
    "plt.ylabel('F1 score')\n",
    "\n",
    "max_y = max(f_history)\n",
    "max_x = np.argmax(f_history)\n",
    "plt.axhline(y=max_y, color='r', linestyle='--', label='Max Y')\n",
    "plt.text(0.6, max_y + 0.05, f'Max F1= {max_y: .4f}', color='r')\n",
    "plt.ylim(0, 1)\n",
    "plt.grid(True)\n",
    "\n",
    "# plt.savefig('my_plot.png')\n",
    "\n",
    "plt.show()"
   ]
  },
  {
   "cell_type": "code",
   "execution_count": null,
   "id": "381802ba-3236-42ce-9e3b-1f177c545bee",
   "metadata": {},
   "outputs": [],
   "source": [
    "sum1 = sum(p.numel() for p in AE1.parameters() if p.requires_grad)\n",
    "sum2 = sum(p.numel() for p in AE2.parameters() if p.requires_grad)\n",
    "sum3 = sum(p.numel() for p in shared_encoder.parameters() if p.requires_grad)\n",
    "print(sum1 + sum2 - sum3)"
   ]
  },
  {
   "cell_type": "code",
   "execution_count": null,
   "id": "f09ad252-7ba7-417f-9e99-cd1f4dd13e1a",
   "metadata": {},
   "outputs": [],
   "source": []
  }
 ],
 "metadata": {
  "kernelspec": {
   "display_name": "NIS2",
   "language": "python",
   "name": "art2"
  },
  "language_info": {
   "codemirror_mode": {
    "name": "ipython",
    "version": 3
   },
   "file_extension": ".py",
   "mimetype": "text/x-python",
   "name": "python",
   "nbconvert_exporter": "python",
   "pygments_lexer": "ipython3",
   "version": "3.12.2"
  }
 },
 "nbformat": 4,
 "nbformat_minor": 5
}
