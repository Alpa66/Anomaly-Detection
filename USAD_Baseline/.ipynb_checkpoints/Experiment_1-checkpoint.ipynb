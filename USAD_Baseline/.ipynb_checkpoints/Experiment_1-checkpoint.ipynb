{
 "cells": [
  {
   "cell_type": "code",
   "execution_count": 1,
   "id": "05318542-e5d2-4b24-a30b-32b3edbe524d",
   "metadata": {},
   "outputs": [],
   "source": [
    "from utils import *\n",
    "import torch\n",
    "\n",
    "set_seed(17)"
   ]
  },
  {
   "cell_type": "code",
   "execution_count": 2,
   "id": "18b46ace-fbce-44ac-bb18-5e5facbd9556",
   "metadata": {},
   "outputs": [],
   "source": [
    "device = torch.device('cuda' if torch.cuda.is_available() else 'cpu')"
   ]
  },
  {
   "cell_type": "code",
   "execution_count": 3,
   "id": "1e6a62b7-c571-4089-bbe2-92510d5aec3b",
   "metadata": {},
   "outputs": [
    {
     "data": {
      "text/plain": [
       "device(type='cuda')"
      ]
     },
     "execution_count": 3,
     "metadata": {},
     "output_type": "execute_result"
    }
   ],
   "source": [
    "device"
   ]
  },
  {
   "cell_type": "code",
   "execution_count": 4,
   "id": "55b00afa-8964-4c85-a5fe-aeeae92120fa",
   "metadata": {},
   "outputs": [],
   "source": [
    "batch_size = 4096\n",
    "window_size = 100\n",
    "epochs = 20\n",
    "hidden_size = 10 * window_size\n",
    "num_features = 51"
   ]
  },
  {
   "cell_type": "code",
   "execution_count": 5,
   "id": "bcffc73a-de9e-405a-a961-c8a7b30b9efa",
   "metadata": {},
   "outputs": [],
   "source": [
    "train_loader, validation_loader, columns, mm = get_train_val_dataloaders(batch_size, window_size, device)"
   ]
  },
  {
   "cell_type": "code",
   "execution_count": 6,
   "id": "9b1d68a2-a294-4b69-ae84-8dcdfdcf86cb",
   "metadata": {},
   "outputs": [],
   "source": [
    "Shared_encoder = Encoder(window_size * num_features, hidden_size)\n",
    "AE1 = AutoEncoder(window_size * num_features, hidden_size, Shared_encoder)\n",
    "AE2 = AutoEncoder(window_size * num_features, hidden_size, Shared_encoder)"
   ]
  },
  {
   "cell_type": "code",
   "execution_count": 7,
   "id": "af84bb93-f92a-4bc3-b2f9-9703df1d6d33",
   "metadata": {},
   "outputs": [
    {
     "data": {
      "text/plain": [
       "AutoEncoder(\n",
       "  (encoder): Encoder(\n",
       "    (fc1): Linear(in_features=5100, out_features=2550, bias=True)\n",
       "    (relu): ReLU(inplace=True)\n",
       "    (fc2): Linear(in_features=2550, out_features=1275, bias=True)\n",
       "    (fc3): Linear(in_features=1275, out_features=1000, bias=True)\n",
       "  )\n",
       "  (sigmoid): Sigmoid()\n",
       "  (relu): ReLU(inplace=True)\n",
       "  (fc1): Linear(in_features=1000, out_features=1275, bias=True)\n",
       "  (fc2): Linear(in_features=1275, out_features=2550, bias=True)\n",
       "  (fc3): Linear(in_features=2550, out_features=5100, bias=True)\n",
       ")"
      ]
     },
     "execution_count": 7,
     "metadata": {},
     "output_type": "execute_result"
    }
   ],
   "source": [
    "Shared_encoder.to(device)\n",
    "AE1.to(device)\n",
    "AE2.to(device)"
   ]
  },
  {
   "cell_type": "code",
   "execution_count": 8,
   "id": "13a8e289-ce39-4bf6-801d-1da52ef7bdb2",
   "metadata": {},
   "outputs": [],
   "source": [
    "optimizer1 = torch.optim.Adam(AE1.parameters())\n",
    "optimizer2 = torch.optim.Adam(AE2.parameters())"
   ]
  },
  {
   "cell_type": "code",
   "execution_count": 9,
   "id": "cef46f54-1074-4f94-832f-54d96ad2d241",
   "metadata": {},
   "outputs": [
    {
     "name": "stdout",
     "output_type": "stream",
     "text": [
      "Epoch: 0 ---> Val loss: AE1 0.4368, AE2: 0.4339\n",
      "Train loss: AE1 0.8754, AE2 0.8694\n",
      "Epoch: 1 ---> Val loss: AE1 0.4371, AE2: 0.0000\n",
      "Train loss: AE1 0.8683, AE2 0.0000\n",
      "Epoch: 2 ---> Val loss: AE1 0.4331, AE2: -0.1440\n",
      "Train loss: AE1 0.8675, AE2 -0.2885\n",
      "Epoch: 3 ---> Val loss: AE1 0.4333, AE2: -0.2163\n",
      "Train loss: AE1 0.8667, AE2 -0.4327\n",
      "Epoch: 4 ---> Val loss: AE1 0.4336, AE2: -0.2598\n",
      "Train loss: AE1 0.8667, AE2 -0.5194\n",
      "Epoch: 5 ---> Val loss: AE1 0.4343, AE2: -0.2892\n",
      "Train loss: AE1 0.8662, AE2 -0.5769\n",
      "Epoch: 6 ---> Val loss: AE1 0.4336, AE2: -0.3094\n",
      "Train loss: AE1 0.8662, AE2 -0.6181\n",
      "Epoch: 7 ---> Val loss: AE1 0.4334, AE2: -0.3247\n",
      "Train loss: AE1 0.8667, AE2 -0.6495\n",
      "Epoch: 8 ---> Val loss: AE1 0.4342, AE2: -0.3374\n",
      "Train loss: AE1 0.8657, AE2 -0.6728\n",
      "Epoch: 9 ---> Val loss: AE1 0.4340, AE2: -0.3470\n",
      "Train loss: AE1 0.8661, AE2 -0.6925\n",
      "Epoch: 10 ---> Val loss: AE1 0.4348, AE2: -0.3555\n",
      "Train loss: AE1 0.8659, AE2 -0.7081\n",
      "Epoch: 11 ---> Val loss: AE1 0.4331, AE2: -0.3608\n",
      "Train loss: AE1 0.8660, AE2 -0.7213\n",
      "Epoch: 12 ---> Val loss: AE1 0.4335, AE2: -0.3666\n",
      "Train loss: AE1 0.8657, AE2 -0.7322\n",
      "Epoch: 13 ---> Val loss: AE1 0.4338, AE2: -0.3717\n",
      "Train loss: AE1 0.8662, AE2 -0.7421\n",
      "Epoch: 14 ---> Val loss: AE1 0.4335, AE2: -0.3755\n",
      "Train loss: AE1 0.8658, AE2 -0.7501\n",
      "Epoch: 15 ---> Val loss: AE1 0.4336, AE2: -0.3793\n",
      "Train loss: AE1 0.8656, AE2 -0.7571\n",
      "Epoch: 16 ---> Val loss: AE1 0.4339, AE2: -0.3827\n",
      "Train loss: AE1 0.8663, AE2 -0.7641\n"
     ]
    },
    {
     "ename": "KeyboardInterrupt",
     "evalue": "",
     "output_type": "error",
     "traceback": [
      "\u001b[0;31m---------------------------------------------------------------------------\u001b[0m",
      "\u001b[0;31mKeyboardInterrupt\u001b[0m                         Traceback (most recent call last)",
      "Cell \u001b[0;32mIn[9], line 1\u001b[0m\n\u001b[0;32m----> 1\u001b[0m AE1, AE2, AE1_history, AE2_history \u001b[38;5;241m=\u001b[39m train_USAD(AE1, AE2, optimizer1, optimizer2, train_loader, validation_loader, epochs)\n",
      "File \u001b[0;32m~/Desktop/Study/NIS/Article/Anomaly-Detection/USAD_Baseline/utils.py:60\u001b[0m, in \u001b[0;36mtrain_USAD\u001b[0;34m(AE1, AE2, optimizer1, optimizer2, train_loader, validation_loader, epochs)\u001b[0m\n\u001b[1;32m     58\u001b[0m val_loss_AE1 \u001b[38;5;241m=\u001b[39m []\n\u001b[1;32m     59\u001b[0m val_loss_AE2 \u001b[38;5;241m=\u001b[39m []\n\u001b[0;32m---> 60\u001b[0m \u001b[38;5;28;01mfor\u001b[39;00m _ , features \u001b[38;5;129;01min\u001b[39;00m \u001b[38;5;28menumerate\u001b[39m(train_loader):\n\u001b[1;32m     61\u001b[0m     features \u001b[38;5;241m=\u001b[39m features\u001b[38;5;241m.\u001b[39mview(features\u001b[38;5;241m.\u001b[39mshape[\u001b[38;5;241m0\u001b[39m], \u001b[38;5;241m-\u001b[39m\u001b[38;5;241m1\u001b[39m)\n\u001b[1;32m     63\u001b[0m     w1 \u001b[38;5;241m=\u001b[39m AE1(features)\n",
      "File \u001b[0;32m~/anaconda3/envs/art2/lib/python3.12/site-packages/torch/utils/data/dataloader.py:631\u001b[0m, in \u001b[0;36m_BaseDataLoaderIter.__next__\u001b[0;34m(self)\u001b[0m\n\u001b[1;32m    628\u001b[0m \u001b[38;5;28;01mif\u001b[39;00m \u001b[38;5;28mself\u001b[39m\u001b[38;5;241m.\u001b[39m_sampler_iter \u001b[38;5;129;01mis\u001b[39;00m \u001b[38;5;28;01mNone\u001b[39;00m:\n\u001b[1;32m    629\u001b[0m     \u001b[38;5;66;03m# TODO(https://github.com/pytorch/pytorch/issues/76750)\u001b[39;00m\n\u001b[1;32m    630\u001b[0m     \u001b[38;5;28mself\u001b[39m\u001b[38;5;241m.\u001b[39m_reset()  \u001b[38;5;66;03m# type: ignore[call-arg]\u001b[39;00m\n\u001b[0;32m--> 631\u001b[0m data \u001b[38;5;241m=\u001b[39m \u001b[38;5;28mself\u001b[39m\u001b[38;5;241m.\u001b[39m_next_data()\n\u001b[1;32m    632\u001b[0m \u001b[38;5;28mself\u001b[39m\u001b[38;5;241m.\u001b[39m_num_yielded \u001b[38;5;241m+\u001b[39m\u001b[38;5;241m=\u001b[39m \u001b[38;5;241m1\u001b[39m\n\u001b[1;32m    633\u001b[0m \u001b[38;5;28;01mif\u001b[39;00m \u001b[38;5;28mself\u001b[39m\u001b[38;5;241m.\u001b[39m_dataset_kind \u001b[38;5;241m==\u001b[39m _DatasetKind\u001b[38;5;241m.\u001b[39mIterable \u001b[38;5;129;01mand\u001b[39;00m \\\n\u001b[1;32m    634\u001b[0m         \u001b[38;5;28mself\u001b[39m\u001b[38;5;241m.\u001b[39m_IterableDataset_len_called \u001b[38;5;129;01mis\u001b[39;00m \u001b[38;5;129;01mnot\u001b[39;00m \u001b[38;5;28;01mNone\u001b[39;00m \u001b[38;5;129;01mand\u001b[39;00m \\\n\u001b[1;32m    635\u001b[0m         \u001b[38;5;28mself\u001b[39m\u001b[38;5;241m.\u001b[39m_num_yielded \u001b[38;5;241m>\u001b[39m \u001b[38;5;28mself\u001b[39m\u001b[38;5;241m.\u001b[39m_IterableDataset_len_called:\n",
      "File \u001b[0;32m~/anaconda3/envs/art2/lib/python3.12/site-packages/torch/utils/data/dataloader.py:675\u001b[0m, in \u001b[0;36m_SingleProcessDataLoaderIter._next_data\u001b[0;34m(self)\u001b[0m\n\u001b[1;32m    673\u001b[0m \u001b[38;5;28;01mdef\u001b[39;00m \u001b[38;5;21m_next_data\u001b[39m(\u001b[38;5;28mself\u001b[39m):\n\u001b[1;32m    674\u001b[0m     index \u001b[38;5;241m=\u001b[39m \u001b[38;5;28mself\u001b[39m\u001b[38;5;241m.\u001b[39m_next_index()  \u001b[38;5;66;03m# may raise StopIteration\u001b[39;00m\n\u001b[0;32m--> 675\u001b[0m     data \u001b[38;5;241m=\u001b[39m \u001b[38;5;28mself\u001b[39m\u001b[38;5;241m.\u001b[39m_dataset_fetcher\u001b[38;5;241m.\u001b[39mfetch(index)  \u001b[38;5;66;03m# may raise StopIteration\u001b[39;00m\n\u001b[1;32m    676\u001b[0m     \u001b[38;5;28;01mif\u001b[39;00m \u001b[38;5;28mself\u001b[39m\u001b[38;5;241m.\u001b[39m_pin_memory:\n\u001b[1;32m    677\u001b[0m         data \u001b[38;5;241m=\u001b[39m _utils\u001b[38;5;241m.\u001b[39mpin_memory\u001b[38;5;241m.\u001b[39mpin_memory(data, \u001b[38;5;28mself\u001b[39m\u001b[38;5;241m.\u001b[39m_pin_memory_device)\n",
      "File \u001b[0;32m~/anaconda3/envs/art2/lib/python3.12/site-packages/torch/utils/data/_utils/fetch.py:51\u001b[0m, in \u001b[0;36m_MapDatasetFetcher.fetch\u001b[0;34m(self, possibly_batched_index)\u001b[0m\n\u001b[1;32m     49\u001b[0m         data \u001b[38;5;241m=\u001b[39m \u001b[38;5;28mself\u001b[39m\u001b[38;5;241m.\u001b[39mdataset\u001b[38;5;241m.\u001b[39m__getitems__(possibly_batched_index)\n\u001b[1;32m     50\u001b[0m     \u001b[38;5;28;01melse\u001b[39;00m:\n\u001b[0;32m---> 51\u001b[0m         data \u001b[38;5;241m=\u001b[39m [\u001b[38;5;28mself\u001b[39m\u001b[38;5;241m.\u001b[39mdataset[idx] \u001b[38;5;28;01mfor\u001b[39;00m idx \u001b[38;5;129;01min\u001b[39;00m possibly_batched_index]\n\u001b[1;32m     52\u001b[0m \u001b[38;5;28;01melse\u001b[39;00m:\n\u001b[1;32m     53\u001b[0m     data \u001b[38;5;241m=\u001b[39m \u001b[38;5;28mself\u001b[39m\u001b[38;5;241m.\u001b[39mdataset[possibly_batched_index]\n",
      "File \u001b[0;32m~/Desktop/Study/NIS/Article/Anomaly-Detection/USAD_Baseline/utils.py:24\u001b[0m, in \u001b[0;36mSWat_dataset.__getitem__\u001b[0;34m(self, idx)\u001b[0m\n\u001b[1;32m     22\u001b[0m \u001b[38;5;28;01mdef\u001b[39;00m \u001b[38;5;21m__getitem__\u001b[39m(\u001b[38;5;28mself\u001b[39m, idx):\n\u001b[1;32m     23\u001b[0m     window \u001b[38;5;241m=\u001b[39m \u001b[38;5;28mself\u001b[39m\u001b[38;5;241m.\u001b[39mdata[idx: idx \u001b[38;5;241m+\u001b[39m \u001b[38;5;28mself\u001b[39m\u001b[38;5;241m.\u001b[39mwindow_size]\n\u001b[0;32m---> 24\u001b[0m     features \u001b[38;5;241m=\u001b[39m torch\u001b[38;5;241m.\u001b[39mtensor(window\u001b[38;5;241m.\u001b[39miloc[:,:]\u001b[38;5;241m.\u001b[39mvalues)\u001b[38;5;241m.\u001b[39mfloat()\u001b[38;5;241m.\u001b[39mto(\u001b[38;5;28mself\u001b[39m\u001b[38;5;241m.\u001b[39mdevice)\n\u001b[1;32m     25\u001b[0m     \u001b[38;5;28;01mreturn\u001b[39;00m features\n",
      "File \u001b[0;32m~/anaconda3/envs/art2/lib/python3.12/site-packages/pandas/core/indexing.py:1184\u001b[0m, in \u001b[0;36m_LocationIndexer.__getitem__\u001b[0;34m(self, key)\u001b[0m\n\u001b[1;32m   1182\u001b[0m     \u001b[38;5;28;01mif\u001b[39;00m \u001b[38;5;28mself\u001b[39m\u001b[38;5;241m.\u001b[39m_is_scalar_access(key):\n\u001b[1;32m   1183\u001b[0m         \u001b[38;5;28;01mreturn\u001b[39;00m \u001b[38;5;28mself\u001b[39m\u001b[38;5;241m.\u001b[39mobj\u001b[38;5;241m.\u001b[39m_get_value(\u001b[38;5;241m*\u001b[39mkey, takeable\u001b[38;5;241m=\u001b[39m\u001b[38;5;28mself\u001b[39m\u001b[38;5;241m.\u001b[39m_takeable)\n\u001b[0;32m-> 1184\u001b[0m     \u001b[38;5;28;01mreturn\u001b[39;00m \u001b[38;5;28mself\u001b[39m\u001b[38;5;241m.\u001b[39m_getitem_tuple(key)\n\u001b[1;32m   1185\u001b[0m \u001b[38;5;28;01melse\u001b[39;00m:\n\u001b[1;32m   1186\u001b[0m     \u001b[38;5;66;03m# we by definition only have the 0th axis\u001b[39;00m\n\u001b[1;32m   1187\u001b[0m     axis \u001b[38;5;241m=\u001b[39m \u001b[38;5;28mself\u001b[39m\u001b[38;5;241m.\u001b[39maxis \u001b[38;5;129;01mor\u001b[39;00m \u001b[38;5;241m0\u001b[39m\n",
      "File \u001b[0;32m~/anaconda3/envs/art2/lib/python3.12/site-packages/pandas/core/indexing.py:1694\u001b[0m, in \u001b[0;36m_iLocIndexer._getitem_tuple\u001b[0;34m(self, tup)\u001b[0m\n\u001b[1;32m   1691\u001b[0m \u001b[38;5;28;01mwith\u001b[39;00m suppress(IndexingError):\n\u001b[1;32m   1692\u001b[0m     \u001b[38;5;28;01mreturn\u001b[39;00m \u001b[38;5;28mself\u001b[39m\u001b[38;5;241m.\u001b[39m_getitem_lowerdim(tup)\n\u001b[0;32m-> 1694\u001b[0m \u001b[38;5;28;01mreturn\u001b[39;00m \u001b[38;5;28mself\u001b[39m\u001b[38;5;241m.\u001b[39m_getitem_tuple_same_dim(tup)\n",
      "File \u001b[0;32m~/anaconda3/envs/art2/lib/python3.12/site-packages/pandas/core/indexing.py:1028\u001b[0m, in \u001b[0;36m_LocationIndexer._getitem_tuple_same_dim\u001b[0;34m(self, tup)\u001b[0m\n\u001b[1;32m   1023\u001b[0m     \u001b[38;5;28;01massert\u001b[39;00m retval\u001b[38;5;241m.\u001b[39mndim \u001b[38;5;241m==\u001b[39m \u001b[38;5;28mself\u001b[39m\u001b[38;5;241m.\u001b[39mndim\n\u001b[1;32m   1025\u001b[0m \u001b[38;5;28;01mif\u001b[39;00m retval \u001b[38;5;129;01mis\u001b[39;00m \u001b[38;5;28mself\u001b[39m\u001b[38;5;241m.\u001b[39mobj:\n\u001b[1;32m   1026\u001b[0m     \u001b[38;5;66;03m# if all axes were a null slice (`df.loc[:, :]`), ensure we still\u001b[39;00m\n\u001b[1;32m   1027\u001b[0m     \u001b[38;5;66;03m# return a new object (https://github.com/pandas-dev/pandas/pull/49469)\u001b[39;00m\n\u001b[0;32m-> 1028\u001b[0m     retval \u001b[38;5;241m=\u001b[39m retval\u001b[38;5;241m.\u001b[39mcopy(deep\u001b[38;5;241m=\u001b[39m\u001b[38;5;28;01mFalse\u001b[39;00m)\n\u001b[1;32m   1030\u001b[0m \u001b[38;5;28;01mreturn\u001b[39;00m retval\n",
      "File \u001b[0;32m~/anaconda3/envs/art2/lib/python3.12/site-packages/pandas/core/generic.py:6808\u001b[0m, in \u001b[0;36mNDFrame.copy\u001b[0;34m(self, deep)\u001b[0m\n\u001b[1;32m   6659\u001b[0m \u001b[38;5;129m@final\u001b[39m\n\u001b[1;32m   6660\u001b[0m \u001b[38;5;28;01mdef\u001b[39;00m \u001b[38;5;21mcopy\u001b[39m(\u001b[38;5;28mself\u001b[39m, deep: bool_t \u001b[38;5;241m|\u001b[39m \u001b[38;5;28;01mNone\u001b[39;00m \u001b[38;5;241m=\u001b[39m \u001b[38;5;28;01mTrue\u001b[39;00m) \u001b[38;5;241m-\u001b[39m\u001b[38;5;241m>\u001b[39m Self:\n\u001b[1;32m   6661\u001b[0m \u001b[38;5;250m    \u001b[39m\u001b[38;5;124;03m\"\"\"\u001b[39;00m\n\u001b[1;32m   6662\u001b[0m \u001b[38;5;124;03m    Make a copy of this object's indices and data.\u001b[39;00m\n\u001b[1;32m   6663\u001b[0m \n\u001b[0;32m   (...)\u001b[0m\n\u001b[1;32m   6806\u001b[0m \u001b[38;5;124;03m    dtype: int64\u001b[39;00m\n\u001b[1;32m   6807\u001b[0m \u001b[38;5;124;03m    \"\"\"\u001b[39;00m\n\u001b[0;32m-> 6808\u001b[0m     data \u001b[38;5;241m=\u001b[39m \u001b[38;5;28mself\u001b[39m\u001b[38;5;241m.\u001b[39m_mgr\u001b[38;5;241m.\u001b[39mcopy(deep\u001b[38;5;241m=\u001b[39mdeep)\n\u001b[1;32m   6809\u001b[0m     \u001b[38;5;28mself\u001b[39m\u001b[38;5;241m.\u001b[39m_clear_item_cache()\n\u001b[1;32m   6810\u001b[0m     \u001b[38;5;28;01mreturn\u001b[39;00m \u001b[38;5;28mself\u001b[39m\u001b[38;5;241m.\u001b[39m_constructor_from_mgr(data, axes\u001b[38;5;241m=\u001b[39mdata\u001b[38;5;241m.\u001b[39maxes)\u001b[38;5;241m.\u001b[39m__finalize__(\n\u001b[1;32m   6811\u001b[0m         \u001b[38;5;28mself\u001b[39m, method\u001b[38;5;241m=\u001b[39m\u001b[38;5;124m\"\u001b[39m\u001b[38;5;124mcopy\u001b[39m\u001b[38;5;124m\"\u001b[39m\n\u001b[1;32m   6812\u001b[0m     )\n",
      "File \u001b[0;32m~/anaconda3/envs/art2/lib/python3.12/site-packages/pandas/core/internals/managers.py:593\u001b[0m, in \u001b[0;36mBaseBlockManager.copy\u001b[0;34m(self, deep)\u001b[0m\n\u001b[1;32m    590\u001b[0m     \u001b[38;5;28;01melse\u001b[39;00m:\n\u001b[1;32m    591\u001b[0m         new_axes \u001b[38;5;241m=\u001b[39m \u001b[38;5;28mlist\u001b[39m(\u001b[38;5;28mself\u001b[39m\u001b[38;5;241m.\u001b[39maxes)\n\u001b[0;32m--> 593\u001b[0m res \u001b[38;5;241m=\u001b[39m \u001b[38;5;28mself\u001b[39m\u001b[38;5;241m.\u001b[39mapply(\u001b[38;5;124m\"\u001b[39m\u001b[38;5;124mcopy\u001b[39m\u001b[38;5;124m\"\u001b[39m, deep\u001b[38;5;241m=\u001b[39mdeep)\n\u001b[1;32m    594\u001b[0m res\u001b[38;5;241m.\u001b[39maxes \u001b[38;5;241m=\u001b[39m new_axes\n\u001b[1;32m    596\u001b[0m \u001b[38;5;28;01mif\u001b[39;00m \u001b[38;5;28mself\u001b[39m\u001b[38;5;241m.\u001b[39mndim \u001b[38;5;241m>\u001b[39m \u001b[38;5;241m1\u001b[39m:\n\u001b[1;32m    597\u001b[0m     \u001b[38;5;66;03m# Avoid needing to re-compute these\u001b[39;00m\n",
      "File \u001b[0;32m~/anaconda3/envs/art2/lib/python3.12/site-packages/pandas/core/internals/managers.py:363\u001b[0m, in \u001b[0;36mBaseBlockManager.apply\u001b[0;34m(self, f, align_keys, **kwargs)\u001b[0m\n\u001b[1;32m    361\u001b[0m         applied \u001b[38;5;241m=\u001b[39m b\u001b[38;5;241m.\u001b[39mapply(f, \u001b[38;5;241m*\u001b[39m\u001b[38;5;241m*\u001b[39mkwargs)\n\u001b[1;32m    362\u001b[0m     \u001b[38;5;28;01melse\u001b[39;00m:\n\u001b[0;32m--> 363\u001b[0m         applied \u001b[38;5;241m=\u001b[39m \u001b[38;5;28mgetattr\u001b[39m(b, f)(\u001b[38;5;241m*\u001b[39m\u001b[38;5;241m*\u001b[39mkwargs)\n\u001b[1;32m    364\u001b[0m     result_blocks \u001b[38;5;241m=\u001b[39m extend_blocks(applied, result_blocks)\n\u001b[1;32m    366\u001b[0m out \u001b[38;5;241m=\u001b[39m \u001b[38;5;28mtype\u001b[39m(\u001b[38;5;28mself\u001b[39m)\u001b[38;5;241m.\u001b[39mfrom_blocks(result_blocks, \u001b[38;5;28mself\u001b[39m\u001b[38;5;241m.\u001b[39maxes)\n",
      "File \u001b[0;32m~/anaconda3/envs/art2/lib/python3.12/site-packages/pandas/core/internals/blocks.py:800\u001b[0m, in \u001b[0;36mBlock.copy\u001b[0;34m(self, deep)\u001b[0m\n\u001b[1;32m    798\u001b[0m \u001b[38;5;28;01melse\u001b[39;00m:\n\u001b[1;32m    799\u001b[0m     refs \u001b[38;5;241m=\u001b[39m \u001b[38;5;28mself\u001b[39m\u001b[38;5;241m.\u001b[39mrefs\n\u001b[0;32m--> 800\u001b[0m \u001b[38;5;28;01mreturn\u001b[39;00m \u001b[38;5;28mtype\u001b[39m(\u001b[38;5;28mself\u001b[39m)(values, placement\u001b[38;5;241m=\u001b[39m\u001b[38;5;28mself\u001b[39m\u001b[38;5;241m.\u001b[39m_mgr_locs, ndim\u001b[38;5;241m=\u001b[39m\u001b[38;5;28mself\u001b[39m\u001b[38;5;241m.\u001b[39mndim, refs\u001b[38;5;241m=\u001b[39mrefs)\n",
      "\u001b[0;31mKeyboardInterrupt\u001b[0m: "
     ]
    }
   ],
   "source": [
    "AE1, AE2, AE1_history, AE2_history = train_USAD(AE1, AE2, optimizer1, optimizer2, train_loader, validation_loader, epochs)"
   ]
  },
  {
   "cell_type": "code",
   "execution_count": null,
   "id": "223eb2d8-1d47-4fdf-ad8a-d3900f3bf29d",
   "metadata": {},
   "outputs": [],
   "source": [
    "def plot_history(losses1, losses2):\n",
    "    plt.plot(losses1, '-x', label=\"loss1\")\n",
    "    plt.plot(losses2, '-x', label=\"loss2\")\n",
    "    plt.xlabel('epoch')\n",
    "    plt.ylabel('loss')\n",
    "    plt.legend()\n",
    "    plt.title('Losses vs. No. of epochs')\n",
    "    plt.grid()\n",
    "    plt.savefig('Training_history.png')\n",
    "    plt.show()"
   ]
  },
  {
   "cell_type": "code",
   "execution_count": null,
   "id": "f161ba0f-512f-49c6-83d5-94bce720add3",
   "metadata": {},
   "outputs": [],
   "source": [
    "plot_history(AE1_history, AE2_history)"
   ]
  },
  {
   "cell_type": "code",
   "execution_count": null,
   "id": "1e535699-32ec-4799-ad8c-87fb6c5823b6",
   "metadata": {},
   "outputs": [],
   "source": [
    "# AE1.load_state_dict(torch.load('my_USAD_without_downsampling_AE1_hidden_10_random.pth'))\n",
    "# AE2.load_state_dict(torch.load('my_USAD_without_downsampling_AE2_hidden_10_random.pth'))"
   ]
  },
  {
   "cell_type": "code",
   "execution_count": null,
   "id": "72117bb6-3246-4b25-bd81-638bab47d6ef",
   "metadata": {},
   "outputs": [],
   "source": [
    "test_loader, y_test = get_test_loader(columns, batch_size, window_size, device, mm)"
   ]
  },
  {
   "cell_type": "code",
   "execution_count": null,
   "id": "3f894cc9-c4ba-432d-aaf0-1c90e8ad49b3",
   "metadata": {},
   "outputs": [],
   "source": [
    "results = testing(AE1, AE2, test_loader)\n",
    "y_pred=np.concatenate([torch.stack(results[:-1]).flatten().detach().cpu().numpy(),\n",
    "                       results[-1].flatten().detach().cpu().numpy()])\n",
    "threshold = ROC(y_test, y_pred)"
   ]
  },
  {
   "cell_type": "code",
   "execution_count": null,
   "id": "6e6120d8-db67-49b9-80f1-7c9a04a46dca",
   "metadata": {},
   "outputs": [],
   "source": [
    "threshold"
   ]
  },
  {
   "cell_type": "code",
   "execution_count": null,
   "id": "bbd6c9ba-45a7-44b2-be9b-73d6794cee6d",
   "metadata": {},
   "outputs": [],
   "source": [
    "ff = 0\n",
    "f_history = []\n",
    "initial_y = 7\n",
    "best = -1\n",
    "for inc in np.linspace(0, 7, 40):\n",
    "    y_pred_int = [1 if (yy > initial_y + inc) else 0 for yy in y_pred]\n",
    "    conf_matrix = confusion_matrix(y_test, y_pred_int)\n",
    "    TP = conf_matrix[1, 1]\n",
    "    TN = conf_matrix[0, 0]\n",
    "    FP = conf_matrix[0, 1]\n",
    "    FN = conf_matrix[1, 0]\n",
    "    F1 = f1_score(y_test, y_pred_int)\n",
    "    f_history.append(F1)\n",
    "\n",
    "    precision = precision_score(y_test, y_pred_int)\n",
    "    recall = recall_score(y_test, y_pred_int)\n",
    "    if F1 > ff:\n",
    "        ff = F1\n",
    "        best = inc\n",
    "print(f'best: {best + initial_y} F1: {ff}')\n",
    "plt.plot(f_history)"
   ]
  },
  {
   "cell_type": "code",
   "execution_count": null,
   "id": "ec48caf7-656b-4122-a1b3-8568bd56bc09",
   "metadata": {},
   "outputs": [],
   "source": []
  }
 ],
 "metadata": {
  "kernelspec": {
   "display_name": "NIS2",
   "language": "python",
   "name": "art2"
  },
  "language_info": {
   "codemirror_mode": {
    "name": "ipython",
    "version": 3
   },
   "file_extension": ".py",
   "mimetype": "text/x-python",
   "name": "python",
   "nbconvert_exporter": "python",
   "pygments_lexer": "ipython3",
   "version": "3.12.2"
  }
 },
 "nbformat": 4,
 "nbformat_minor": 5
}
