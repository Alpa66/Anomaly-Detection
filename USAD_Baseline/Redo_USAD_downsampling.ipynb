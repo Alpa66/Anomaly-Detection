{
 "cells": [
  {
   "cell_type": "markdown",
   "id": "9f6c384a",
   "metadata": {},
   "source": [
    "# USAD\n",
    "## Importing packages"
   ]
  },
  {
   "cell_type": "code",
   "execution_count": 1,
   "id": "06186c5f",
   "metadata": {},
   "outputs": [],
   "source": [
    "import pandas as pd\n",
    "import numpy as np\n",
    "import torch\n",
    "import torch.nn as nn\n",
    "import matplotlib.pyplot as plt\n",
    "from torch.utils.data import Dataset, DataLoader\n",
    "from sklearn.preprocessing import MinMaxScaler, StandardScaler\n",
    "\n",
    "from sklearn.metrics import confusion_matrix, f1_score, roc_curve, roc_auc_score, precision_score, recall_score"
   ]
  },
  {
   "cell_type": "code",
   "execution_count": 2,
   "id": "9c3c4c7a",
   "metadata": {},
   "outputs": [
    {
     "name": "stdout",
     "output_type": "stream",
     "text": [
      "test.csv  train.csv\n"
     ]
    }
   ],
   "source": [
    "!ls ../data"
   ]
  },
  {
   "cell_type": "markdown",
   "id": "7d53da8a",
   "metadata": {},
   "source": [
    "## Reading data"
   ]
  },
  {
   "cell_type": "code",
   "execution_count": 3,
   "id": "4c83de10",
   "metadata": {},
   "outputs": [],
   "source": [
    "df = pd.read_csv('../../../Projects/data/SWaT_Dataset_Normal_v1.csv')\n",
    "df.columns = df.columns.str.strip()\n",
    "df = df.drop(columns=['Timestamp', 'Normal/Attack'])\n",
    "grouping_array = np.arange(len(df)) // 5\n",
    "df = df.groupby(grouping_array).median()"
   ]
  },
  {
   "cell_type": "markdown",
   "id": "55f4af0a",
   "metadata": {},
   "source": [
    "### Processing data"
   ]
  },
  {
   "cell_type": "code",
   "execution_count": 4,
   "id": "ae339864",
   "metadata": {},
   "outputs": [],
   "source": [
    "window_size = 12\n",
    "input_size = window_size * 51\n",
    "latent_space = 10 * window_size\n",
    "epochs = 100"
   ]
  },
  {
   "cell_type": "code",
   "execution_count": 5,
   "id": "83abe587",
   "metadata": {},
   "outputs": [],
   "source": [
    "mm = MinMaxScaler()\n",
    "Normalized = pd.DataFrame(mm.fit_transform(df))\n",
    "train_set = Normalized[: int(0.8 * Normalized.shape[0])]\n",
    "validation_set = Normalized[int(0.8 * Normalized.shape[0]):]"
   ]
  },
  {
   "cell_type": "code",
   "execution_count": 6,
   "id": "c3de137d",
   "metadata": {},
   "outputs": [
    {
     "name": "stdout",
     "output_type": "stream",
     "text": [
      "cuda:0\n"
     ]
    }
   ],
   "source": [
    "device = torch.device('cuda:0' if torch.cuda.is_available() else 'cpu')\n",
    "# device = torch.device('cpu')\n",
    "print(device)"
   ]
  },
  {
   "cell_type": "code",
   "execution_count": 7,
   "id": "130e5791",
   "metadata": {},
   "outputs": [],
   "source": [
    "class SWat_dataset(Dataset):\n",
    "    def __init__(self, dataframe: pd.DataFrame, target: pd.DataFrame,  window_size, device):\n",
    "        self.data = dataframe\n",
    "        self.window_size = window_size\n",
    "        self.device = device\n",
    "\n",
    "    def __len__(self):\n",
    "        return len(self.data) - self.window_size\n",
    "\n",
    "    def __getitem__(self, idx):\n",
    "        window = self.data[idx: idx + self.window_size]\n",
    "        features = torch.tensor(window.iloc[:,:].values).float().to(self.device)\n",
    "        return features"
   ]
  },
  {
   "cell_type": "code",
   "execution_count": 8,
   "id": "7bb00e04",
   "metadata": {},
   "outputs": [],
   "source": [
    "train_dataset = SWat_dataset(train_set, train_set, window_size, device)\n",
    "validation_dataset = SWat_dataset(validation_set, validation_set, window_size, device)\n",
    "\n",
    "batch_size = 7096\n",
    "train_loader = DataLoader(train_dataset, batch_size=batch_size, shuffle=True, num_workers=0)\n",
    "validation_loader = DataLoader(validation_dataset, batch_size=batch_size, shuffle=True, num_workers=0)"
   ]
  },
  {
   "cell_type": "markdown",
   "id": "22cf1ae6",
   "metadata": {},
   "source": [
    "## Setting up the model structure"
   ]
  },
  {
   "cell_type": "code",
   "execution_count": 9,
   "id": "4582b348",
   "metadata": {},
   "outputs": [],
   "source": [
    "class Encoder(nn.Module):\n",
    "    def __init__(self, input_size, hidden_size):\n",
    "        super(Encoder, self).__init__()\n",
    "        self.input_size = input_size\n",
    "        self.hidden_size = hidden_size\n",
    "        self.fc1 = nn.Linear(input_size, input_size // 2)\n",
    "        self.relu = nn.ReLU(True)\n",
    "        self.fc2 = nn.Linear(input_size // 2, input_size // 4)\n",
    "        self.fc3 = nn.Linear(input_size // 4, hidden_size)\n",
    "    \n",
    "    def forward(self, x):\n",
    "        out = self.relu(self.fc1(x))\n",
    "        out = self.relu(self.fc2(out))\n",
    "        out = self.relu(self.fc3(out))\n",
    "        return out\n",
    "\n",
    "\n",
    "class AutoEncoder(nn.Module):\n",
    "    def __init__(self, input_size, hidden_size, encoder):        \n",
    "        super(AutoEncoder, self).__init__()\n",
    "        self.encoder = encoder\n",
    "        self.input_size = input_size\n",
    "        self.hidden_size = hidden_size\n",
    "        self.sigmoid = nn.Sigmoid()\n",
    "        self.relu = nn.ReLU(True)\n",
    "        self.fc1 = nn.Linear(hidden_size, input_size // 4)\n",
    "        self.fc2 = nn.Linear(input_size // 4, input_size // 2)\n",
    "        self.fc3 = nn.Linear(input_size // 2, input_size)\n",
    "        \n",
    "    def forward(self, x):\n",
    "        out = self.encoder(x)\n",
    "        out = self.relu(self.fc1(out))\n",
    "        out = self.relu(self.fc2(out))\n",
    "        out = self.fc3(out)\n",
    "        return out"
   ]
  },
  {
   "cell_type": "code",
   "execution_count": 10,
   "id": "7aa83ddb",
   "metadata": {},
   "outputs": [],
   "source": [
    "shared_encoder = Encoder(input_size, latent_space)\n",
    "AE1 = AutoEncoder(input_size, latent_space, shared_encoder)\n",
    "AE2 = AutoEncoder(input_size, latent_space, shared_encoder)"
   ]
  },
  {
   "cell_type": "code",
   "execution_count": 11,
   "id": "4d306383",
   "metadata": {},
   "outputs": [
    {
     "data": {
      "text/plain": [
       "AutoEncoder(\n",
       "  (encoder): Encoder(\n",
       "    (fc1): Linear(in_features=612, out_features=306, bias=True)\n",
       "    (relu): ReLU(inplace=True)\n",
       "    (fc2): Linear(in_features=306, out_features=153, bias=True)\n",
       "    (fc3): Linear(in_features=153, out_features=120, bias=True)\n",
       "  )\n",
       "  (sigmoid): Sigmoid()\n",
       "  (relu): ReLU(inplace=True)\n",
       "  (fc1): Linear(in_features=120, out_features=153, bias=True)\n",
       "  (fc2): Linear(in_features=153, out_features=306, bias=True)\n",
       "  (fc3): Linear(in_features=306, out_features=612, bias=True)\n",
       ")"
      ]
     },
     "execution_count": 11,
     "metadata": {},
     "output_type": "execute_result"
    }
   ],
   "source": [
    "shared_encoder.to(device)\n",
    "AE1.to(device)\n",
    "AE2.to(device)"
   ]
  },
  {
   "cell_type": "code",
   "execution_count": 12,
   "id": "b37bf476",
   "metadata": {},
   "outputs": [],
   "source": [
    "optimizer1 = torch.optim.Adam(AE1.parameters())\n",
    "optimizer2 = torch.optim.Adam(AE2.parameters())"
   ]
  },
  {
   "cell_type": "markdown",
   "id": "015328f9",
   "metadata": {},
   "source": [
    "## Training the model"
   ]
  },
  {
   "cell_type": "markdown",
   "id": "abf47e12",
   "metadata": {},
   "source": [
    "### Training"
   ]
  },
  {
   "cell_type": "code",
   "execution_count": 13,
   "id": "4a86afc5",
   "metadata": {
    "scrolled": true
   },
   "outputs": [
    {
     "name": "stdout",
     "output_type": "stream",
     "text": [
      "Epoch: 0 ---> Val loss: AE1 0.0469, AE2: 0.0483\n",
      "Train loss: AE1 0.2457, AE2 0.2164\n",
      "Epoch: 1 ---> Val loss: AE1 0.0382, AE2: 0.0006\n",
      "Train loss: AE1 0.0733, AE2 -0.0056\n",
      "Epoch: 2 ---> Val loss: AE1 0.1842, AE2: -0.1005\n",
      "Train loss: AE1 0.1653, AE2 -0.0827\n",
      "Epoch: 3 ---> Val loss: AE1 0.0462, AE2: -0.0263\n",
      "Train loss: AE1 0.1413, AE2 -0.0532\n",
      "Epoch: 4 ---> Val loss: AE1 0.2907, AE2: -0.2018\n",
      "Train loss: AE1 0.2748, AE2 -0.1405\n",
      "Epoch: 5 ---> Val loss: AE1 0.3370, AE2: -0.2403\n",
      "Train loss: AE1 0.3240, AE2 -0.2337\n",
      "Epoch: 6 ---> Val loss: AE1 0.3122, AE2: -0.2436\n",
      "Train loss: AE1 0.3290, AE2 -0.2496\n",
      "Epoch: 7 ---> Val loss: AE1 0.2573, AE2: -0.2361\n",
      "Train loss: AE1 0.2878, AE2 -0.2423\n",
      "Epoch: 8 ---> Val loss: AE1 0.2402, AE2: -0.2279\n",
      "Train loss: AE1 0.2478, AE2 -0.2297\n",
      "Epoch: 9 ---> Val loss: AE1 0.2345, AE2: -0.2238\n",
      "Train loss: AE1 0.2402, AE2 -0.2266\n",
      "Epoch: 10 ---> Val loss: AE1 0.2319, AE2: -0.2224\n",
      "Train loss: AE1 0.2327, AE2 -0.2209\n",
      "Epoch: 11 ---> Val loss: AE1 0.2346, AE2: -0.2280\n",
      "Train loss: AE1 0.2351, AE2 -0.2259\n",
      "Epoch: 12 ---> Val loss: AE1 0.2299, AE2: -0.2233\n",
      "Train loss: AE1 0.2354, AE2 -0.2268\n",
      "Epoch: 13 ---> Val loss: AE1 0.2258, AE2: -0.2194\n",
      "Train loss: AE1 0.2287, AE2 -0.2208\n",
      "Epoch: 14 ---> Val loss: AE1 0.2271, AE2: -0.2220\n",
      "Train loss: AE1 0.2266, AE2 -0.2199\n",
      "Epoch: 15 ---> Val loss: AE1 0.2235, AE2: -0.2187\n",
      "Train loss: AE1 0.2260, AE2 -0.2198\n",
      "Epoch: 16 ---> Val loss: AE1 0.2241, AE2: -0.2198\n",
      "Train loss: AE1 0.2261, AE2 -0.2203\n",
      "Epoch: 17 ---> Val loss: AE1 0.2249, AE2: -0.2211\n",
      "Train loss: AE1 0.2257, AE2 -0.2204\n",
      "Epoch: 18 ---> Val loss: AE1 0.2224, AE2: -0.2180\n",
      "Train loss: AE1 0.2247, AE2 -0.2200\n",
      "Epoch: 19 ---> Val loss: AE1 0.2226, AE2: -0.2190\n",
      "Train loss: AE1 0.2227, AE2 -0.2180\n",
      "Epoch: 20 ---> Val loss: AE1 0.2238, AE2: -0.2206\n",
      "Train loss: AE1 0.2237, AE2 -0.2196\n",
      "Epoch: 21 ---> Val loss: AE1 0.2173, AE2: -0.2091\n",
      "Train loss: AE1 0.2242, AE2 -0.2176\n",
      "Epoch: 22 ---> Val loss: AE1 0.2073, AE2: -0.2024\n",
      "Train loss: AE1 0.2109, AE2 -0.2041\n",
      "Epoch: 23 ---> Val loss: AE1 0.2060, AE2: -0.2030\n",
      "Train loss: AE1 0.2094, AE2 -0.2048\n",
      "Epoch: 24 ---> Val loss: AE1 0.1818, AE2: -0.1771\n",
      "Train loss: AE1 0.1963, AE2 -0.1905\n",
      "Epoch: 25 ---> Val loss: AE1 0.1836, AE2: -0.1791\n",
      "Train loss: AE1 0.1818, AE2 -0.1758\n",
      "Epoch: 26 ---> Val loss: AE1 0.1877, AE2: -0.1848\n",
      "Train loss: AE1 0.1854, AE2 -0.1811\n",
      "Epoch: 27 ---> Val loss: AE1 0.1898, AE2: -0.1874\n",
      "Train loss: AE1 0.1908, AE2 -0.1872\n",
      "Epoch: 28 ---> Val loss: AE1 0.1859, AE2: -0.1827\n",
      "Train loss: AE1 0.1885, AE2 -0.1852\n",
      "Epoch: 29 ---> Val loss: AE1 0.1821, AE2: -0.1799\n",
      "Train loss: AE1 0.1844, AE2 -0.1813\n",
      "Epoch: 30 ---> Val loss: AE1 0.1815, AE2: -0.1795\n",
      "Train loss: AE1 0.1838, AE2 -0.1809\n",
      "Epoch: 31 ---> Val loss: AE1 0.1699, AE2: -0.1666\n",
      "Train loss: AE1 0.1808, AE2 -0.1756\n",
      "Epoch: 32 ---> Val loss: AE1 0.1652, AE2: -0.1618\n",
      "Train loss: AE1 0.1669, AE2 -0.1625\n",
      "Epoch: 33 ---> Val loss: AE1 0.1618, AE2: -0.1594\n",
      "Train loss: AE1 0.1647, AE2 -0.1612\n",
      "Epoch: 34 ---> Val loss: AE1 0.1605, AE2: -0.1585\n",
      "Train loss: AE1 0.1624, AE2 -0.1598\n",
      "Epoch: 35 ---> Val loss: AE1 0.1596, AE2: -0.1574\n",
      "Train loss: AE1 0.1609, AE2 -0.1584\n",
      "Epoch: 36 ---> Val loss: AE1 0.1544, AE2: -0.1526\n",
      "Train loss: AE1 0.1570, AE2 -0.1546\n",
      "Epoch: 37 ---> Val loss: AE1 0.1550, AE2: -0.1534\n",
      "Train loss: AE1 0.1563, AE2 -0.1540\n",
      "Epoch: 38 ---> Val loss: AE1 0.1522, AE2: -0.1505\n",
      "Train loss: AE1 0.1561, AE2 -0.1538\n",
      "Epoch: 39 ---> Val loss: AE1 0.1504, AE2: -0.1489\n",
      "Train loss: AE1 0.1508, AE2 -0.1487\n",
      "Epoch: 40 ---> Val loss: AE1 0.1492, AE2: -0.1478\n",
      "Train loss: AE1 0.1514, AE2 -0.1494\n",
      "Epoch: 41 ---> Val loss: AE1 0.1445, AE2: -0.1429\n",
      "Train loss: AE1 0.1483, AE2 -0.1464\n",
      "Epoch: 42 ---> Val loss: AE1 0.1409, AE2: -0.1395\n",
      "Train loss: AE1 0.1416, AE2 -0.1397\n",
      "Epoch: 43 ---> Val loss: AE1 0.1434, AE2: -0.1421\n",
      "Train loss: AE1 0.1427, AE2 -0.1410\n",
      "Epoch: 44 ---> Val loss: AE1 0.1414, AE2: -0.1402\n",
      "Train loss: AE1 0.1421, AE2 -0.1404\n",
      "Epoch: 45 ---> Val loss: AE1 0.1377, AE2: -0.1363\n",
      "Train loss: AE1 0.1398, AE2 -0.1380\n",
      "Epoch: 46 ---> Val loss: AE1 0.1392, AE2: -0.1381\n",
      "Train loss: AE1 0.1354, AE2 -0.1339\n",
      "Epoch: 47 ---> Val loss: AE1 0.1427, AE2: -0.1416\n",
      "Train loss: AE1 0.1412, AE2 -0.1396\n",
      "Epoch: 48 ---> Val loss: AE1 0.1309, AE2: -0.1297\n",
      "Train loss: AE1 0.1352, AE2 -0.1337\n",
      "Epoch: 49 ---> Val loss: AE1 0.1154, AE2: -0.1141\n",
      "Train loss: AE1 0.1237, AE2 -0.1220\n",
      "Epoch: 50 ---> Val loss: AE1 0.1114, AE2: -0.1104\n",
      "Train loss: AE1 0.1108, AE2 -0.1094\n",
      "Epoch: 51 ---> Val loss: AE1 0.1155, AE2: -0.1145\n",
      "Train loss: AE1 0.1126, AE2 -0.1114\n",
      "Epoch: 52 ---> Val loss: AE1 0.1183, AE2: -0.1174\n",
      "Train loss: AE1 0.1153, AE2 -0.1141\n",
      "Epoch: 53 ---> Val loss: AE1 0.1204, AE2: -0.1195\n",
      "Train loss: AE1 0.1184, AE2 -0.1173\n",
      "Epoch: 54 ---> Val loss: AE1 0.1118, AE2: -0.1110\n",
      "Train loss: AE1 0.1159, AE2 -0.1148\n",
      "Epoch: 55 ---> Val loss: AE1 0.1057, AE2: -0.1050\n",
      "Train loss: AE1 0.1083, AE2 -0.1072\n",
      "Epoch: 56 ---> Val loss: AE1 0.1056, AE2: -0.1049\n",
      "Train loss: AE1 0.1056, AE2 -0.1046\n",
      "Epoch: 57 ---> Val loss: AE1 0.1085, AE2: -0.1078\n",
      "Train loss: AE1 0.1069, AE2 -0.1060\n",
      "Epoch: 58 ---> Val loss: AE1 0.1094, AE2: -0.1087\n",
      "Train loss: AE1 0.1089, AE2 -0.1079\n",
      "Epoch: 59 ---> Val loss: AE1 0.1079, AE2: -0.1072\n",
      "Train loss: AE1 0.1087, AE2 -0.1078\n",
      "Epoch: 60 ---> Val loss: AE1 0.1075, AE2: -0.1068\n",
      "Train loss: AE1 0.1080, AE2 -0.1072\n",
      "Epoch: 61 ---> Val loss: AE1 0.1070, AE2: -0.1064\n",
      "Train loss: AE1 0.1078, AE2 -0.1069\n",
      "Epoch: 62 ---> Val loss: AE1 0.1070, AE2: -0.1064\n",
      "Train loss: AE1 0.1077, AE2 -0.1069\n",
      "Epoch: 63 ---> Val loss: AE1 0.1049, AE2: -0.1043\n",
      "Train loss: AE1 0.1074, AE2 -0.1067\n",
      "Epoch: 64 ---> Val loss: AE1 0.1036, AE2: -0.1032\n",
      "Train loss: AE1 0.1059, AE2 -0.1052\n",
      "Epoch: 65 ---> Val loss: AE1 0.1031, AE2: -0.1027\n",
      "Train loss: AE1 0.1055, AE2 -0.1049\n",
      "Epoch: 66 ---> Val loss: AE1 0.1030, AE2: -0.1026\n",
      "Train loss: AE1 0.1051, AE2 -0.1046\n",
      "Epoch: 67 ---> Val loss: AE1 0.1021, AE2: -0.1017\n",
      "Train loss: AE1 0.1049, AE2 -0.1044\n",
      "Epoch: 68 ---> Val loss: AE1 0.1021, AE2: -0.1018\n",
      "Train loss: AE1 0.1044, AE2 -0.1039\n",
      "Epoch: 69 ---> Val loss: AE1 0.1016, AE2: -0.1014\n",
      "Train loss: AE1 0.1040, AE2 -0.1036\n",
      "Epoch: 70 ---> Val loss: AE1 0.1008, AE2: -0.1005\n",
      "Train loss: AE1 0.1026, AE2 -0.1022\n",
      "Epoch: 71 ---> Val loss: AE1 0.1017, AE2: -0.1015\n",
      "Train loss: AE1 0.1027, AE2 -0.1023\n",
      "Epoch: 72 ---> Val loss: AE1 0.1004, AE2: -0.1001\n",
      "Train loss: AE1 0.1027, AE2 -0.1024\n",
      "Epoch: 73 ---> Val loss: AE1 0.0993, AE2: -0.0990\n",
      "Train loss: AE1 0.1013, AE2 -0.1010\n",
      "Epoch: 74 ---> Val loss: AE1 0.1010, AE2: -0.1008\n",
      "Train loss: AE1 0.1017, AE2 -0.1014\n",
      "Epoch: 75 ---> Val loss: AE1 0.0996, AE2: -0.0994\n",
      "Train loss: AE1 0.1021, AE2 -0.1018\n",
      "Epoch: 76 ---> Val loss: AE1 0.0992, AE2: -0.0990\n",
      "Train loss: AE1 0.1010, AE2 -0.1007\n",
      "Epoch: 77 ---> Val loss: AE1 0.0976, AE2: -0.0973\n",
      "Train loss: AE1 0.0998, AE2 -0.0995\n",
      "Epoch: 78 ---> Val loss: AE1 0.0977, AE2: -0.0972\n",
      "Train loss: AE1 0.0990, AE2 -0.0986\n",
      "Epoch: 79 ---> Val loss: AE1 0.0945, AE2: -0.0941\n",
      "Train loss: AE1 0.0984, AE2 -0.0979\n",
      "Epoch: 80 ---> Val loss: AE1 0.0932, AE2: -0.0929\n",
      "Train loss: AE1 0.0950, AE2 -0.0946\n",
      "Epoch: 81 ---> Val loss: AE1 0.0855, AE2: -0.0836\n",
      "Train loss: AE1 0.0937, AE2 -0.0924\n",
      "Epoch: 82 ---> Val loss: AE1 0.0765, AE2: -0.0759\n",
      "Train loss: AE1 0.0826, AE2 -0.0813\n",
      "Epoch: 83 ---> Val loss: AE1 0.0696, AE2: -0.0690\n",
      "Train loss: AE1 0.0756, AE2 -0.0747\n",
      "Epoch: 84 ---> Val loss: AE1 0.0633, AE2: -0.0626\n",
      "Train loss: AE1 0.0703, AE2 -0.0694\n",
      "Epoch: 85 ---> Val loss: AE1 0.0717, AE2: -0.0709\n",
      "Train loss: AE1 0.0756, AE2 -0.0746\n",
      "Epoch: 86 ---> Val loss: AE1 0.0665, AE2: -0.0660\n",
      "Train loss: AE1 0.0712, AE2 -0.0704\n",
      "Epoch: 87 ---> Val loss: AE1 0.0652, AE2: -0.0643\n",
      "Train loss: AE1 0.0751, AE2 -0.0736\n",
      "Epoch: 88 ---> Val loss: AE1 0.0761, AE2: -0.0755\n",
      "Train loss: AE1 0.0749, AE2 -0.0738\n",
      "Epoch: 89 ---> Val loss: AE1 0.0668, AE2: -0.0663\n",
      "Train loss: AE1 0.0747, AE2 -0.0738\n",
      "Epoch: 90 ---> Val loss: AE1 0.0695, AE2: -0.0690\n",
      "Train loss: AE1 0.0719, AE2 -0.0709\n",
      "Epoch: 91 ---> Val loss: AE1 0.0758, AE2: -0.0754\n",
      "Train loss: AE1 0.0778, AE2 -0.0772\n",
      "Epoch: 92 ---> Val loss: AE1 0.0647, AE2: -0.0643\n",
      "Train loss: AE1 0.0738, AE2 -0.0732\n",
      "Epoch: 93 ---> Val loss: AE1 0.0634, AE2: -0.0631\n",
      "Train loss: AE1 0.0681, AE2 -0.0677\n",
      "Epoch: 94 ---> Val loss: AE1 0.0624, AE2: -0.0621\n",
      "Train loss: AE1 0.0667, AE2 -0.0662\n",
      "Epoch: 95 ---> Val loss: AE1 0.0639, AE2: -0.0636\n",
      "Train loss: AE1 0.0675, AE2 -0.0671\n",
      "Epoch: 96 ---> Val loss: AE1 0.0645, AE2: -0.0643\n",
      "Train loss: AE1 0.0685, AE2 -0.0682\n",
      "Epoch: 97 ---> Val loss: AE1 0.0625, AE2: -0.0622\n",
      "Train loss: AE1 0.0686, AE2 -0.0683\n",
      "Epoch: 98 ---> Val loss: AE1 0.0611, AE2: -0.0608\n",
      "Train loss: AE1 0.0665, AE2 -0.0662\n",
      "Epoch: 99 ---> Val loss: AE1 0.0611, AE2: -0.0609\n",
      "Train loss: AE1 0.0663, AE2 -0.0659\n"
     ]
    }
   ],
   "source": [
    "AE1_val_history = []\n",
    "AE2_val_history = []\n",
    "for i in range(epochs):\n",
    "    running_loss_AE1 = []\n",
    "    running_loss_AE2 = []\n",
    "    val_loss_AE1 = []\n",
    "    val_loss_AE2 = []\n",
    "    for index_b, features in enumerate(train_loader):\n",
    "        features = features.view(features.shape[0], -1)\n",
    "        \n",
    "        w1 = AE1(features)\n",
    "        w2 = AE2(features)\n",
    "        w3 = AE2(w1)\n",
    "        lossAE1 = (1 / (i + 1)) * torch.mean((features - w1) ** 2) + (1 - (1 / (i + 1))) * torch.mean((features - w3) ** 2)\n",
    "        lossAE2 = (1 / (i + 1)) * torch.mean((features - w2) ** 2) - (1 - (1 / (i + 1))) * torch.mean((features - w3) ** 2)\n",
    "        \n",
    "        running_loss_AE1.append(lossAE1)\n",
    "        lossAE1.backward()\n",
    "        optimizer1.step()\n",
    "        optimizer1.zero_grad()\n",
    "        \n",
    "        w1 = AE1(features)\n",
    "        w2 = AE2(features)\n",
    "        w3 = AE2(w1)\n",
    "        lossAE1 = (1 / (i + 1)) * torch.mean((features - w1) ** 2) + (1 - (1 / (i + 1))) * torch.mean((features - w3) ** 2)\n",
    "        lossAE2 = (1 / (i + 1)) * torch.mean((features - w2) ** 2) - (1 - (1 / (i + 1))) * torch.mean((features - w3) ** 2)\n",
    "        \n",
    "        running_loss_AE2.append(lossAE2)\n",
    "        lossAE2.backward()\n",
    "        optimizer2.step()\n",
    "        optimizer2.zero_grad()\n",
    "    \n",
    "    for index_b, features in enumerate(validation_loader):\n",
    "        with torch.no_grad():\n",
    "            features = features.view(features.shape[0], -1)\n",
    "        \n",
    "            w1 = AE1(features)\n",
    "            w2 = AE2(features)\n",
    "            w3 = AE2(w1)\n",
    "            lossAE1 = (1 / (i + 1)) * torch.mean((features - w1) ** 2) + (1 - (1 / (i + 1))) * torch.mean((features - w3) ** 2)\n",
    "            lossAE2 = (1 / (i + 1)) * torch.mean((features - w2) ** 2) - (1 - (1 / (i + 1))) * torch.mean((features - w3) ** 2)\n",
    "            val_loss_AE1.append(lossAE1)\n",
    "            val_loss_AE2.append(lossAE2)\n",
    "    AE1_val_history.append(torch.stack(val_loss_AE1).mean().item())\n",
    "    AE2_val_history.append(torch.stack(val_loss_AE2).mean().item())\n",
    "    print(f'Epoch: {i} ---> Val loss: AE1 {AE1_val_history[-1]:.4f}, AE2: {AE2_val_history[-1]:.4f}')\n",
    "    print(f'Train loss: AE1 {torch.stack(running_loss_AE1).mean().item():.4f}, AE2 {torch.stack(running_loss_AE2).mean().item():.4f}')"
   ]
  },
  {
   "cell_type": "code",
   "execution_count": 14,
   "id": "c0445749-d836-4611-9fc3-bdbcbaa52cda",
   "metadata": {},
   "outputs": [],
   "source": [
    "def plot_history(losses1, losses2):\n",
    "    plt.plot(losses1, '-x', label=\"loss1\")\n",
    "    plt.plot(losses2, '-x', label=\"loss2\")\n",
    "    plt.xlabel('epoch')\n",
    "    plt.ylabel('loss')\n",
    "    plt.legend()\n",
    "    plt.title('Losses vs. No. of epochs')\n",
    "    plt.grid()\n",
    "    plt.savefig('Training_history.png')\n",
    "    plt.show()"
   ]
  },
  {
   "cell_type": "code",
   "execution_count": 15,
   "id": "ba9d6536-38ca-491a-938f-231c67614048",
   "metadata": {},
   "outputs": [
    {
     "data": {
      "image/png": "[encoded data removed]",
      "text/plain": [
       "<Figure size 640x480 with 1 Axes>"
      ]
     },
     "metadata": {},
     "output_type": "display_data"
    }
   ],
   "source": [
    "plot_history(AE1_val_history, AE2_val_history)"
   ]
  },
  {
   "cell_type": "code",
   "execution_count": 16,
   "id": "d7c94e94",
   "metadata": {},
   "outputs": [],
   "source": [
    "# torch.save(AE1.state_dict(), 'my_USAD_without_downsampling_AE1_hidden_10_random.pth')\n",
    "# torch.save(AE2.state_dict(), 'my_USAD_without_downsampling_AE2_hidden_10_random.pth')"
   ]
  },
  {
   "cell_type": "code",
   "execution_count": 17,
   "id": "685d44f1",
   "metadata": {},
   "outputs": [],
   "source": [
    "# AE1.load_state_dict(torch.load('my_USAD_without_downsampling_AE1_100_hidden.pth'))\n",
    "# AE2.load_state_dict(torch.load('my_USAD_without_downsampling_AE2_100_hidden.pth'))"
   ]
  },
  {
   "cell_type": "markdown",
   "id": "93a3cc44",
   "metadata": {},
   "source": [
    "## Testing"
   ]
  },
  {
   "cell_type": "code",
   "execution_count": 18,
   "id": "caf3ee9f",
   "metadata": {},
   "outputs": [
    {
     "name": "stderr",
     "output_type": "stream",
     "text": [
      "/tmp/ipykernel_130774/3058025915.py:3: FutureWarning: Downcasting behavior in `replace` is deprecated and will be removed in a future version. To retain the old behavior, explicitly call `result.infer_objects(copy=False)`. To opt-in to the future behavior, set `pd.set_option('future.no_silent_downcasting', True)`\n",
      "  df2['attack'] = df2['Normal/Attack'].replace({'Normal': 0, 'Attack': 1, 'A ttack': 1})\n"
     ]
    }
   ],
   "source": [
    "df2 = pd.read_csv('../../../Projects/data/SWaT_Dataset_Attack_v0.csv')\n",
    "df2.columns = df2.columns.str.strip()\n",
    "df2['attack'] = df2['Normal/Attack'].replace({'Normal': 0, 'Attack': 1, 'A ttack': 1})\n",
    "df2 = df2.drop(columns=['Timestamp', 'Normal/Attack'])\n",
    "grouping_array = np.arange(len(df2)) // 5\n",
    "df2 = df2.groupby(grouping_array).median()\n",
    "labels = df2['attack']\n",
    "df2 = df2.drop(columns=['attack'])"
   ]
  },
  {
   "cell_type": "code",
   "execution_count": 19,
   "id": "fe1666cd-f5b6-46e9-9c26-2a382e331985",
   "metadata": {},
   "outputs": [
    {
     "data": {
      "text/html": [
       "<div>\n",
       "<style scoped>\n",
       "    .dataframe tbody tr th:only-of-type {\n",
       "        vertical-align: middle;\n",
       "    }\n",
       "\n",
       "    .dataframe tbody tr th {\n",
       "        vertical-align: top;\n",
       "    }\n",
       "\n",
       "    .dataframe thead th {\n",
       "        text-align: right;\n",
       "    }\n",
       "</style>\n",
       "<table border=\"1\" class=\"dataframe\">\n",
       "  <thead>\n",
       "    <tr style=\"text-align: right;\">\n",
       "      <th></th>\n",
       "      <th>FIT101</th>\n",
       "      <th>LIT101</th>\n",
       "      <th>MV101</th>\n",
       "      <th>P101</th>\n",
       "      <th>P102</th>\n",
       "      <th>AIT201</th>\n",
       "      <th>AIT202</th>\n",
       "      <th>AIT203</th>\n",
       "      <th>FIT201</th>\n",
       "      <th>MV201</th>\n",
       "      <th>...</th>\n",
       "      <th>FIT504</th>\n",
       "      <th>P501</th>\n",
       "      <th>P502</th>\n",
       "      <th>PIT501</th>\n",
       "      <th>PIT502</th>\n",
       "      <th>PIT503</th>\n",
       "      <th>FIT601</th>\n",
       "      <th>P601</th>\n",
       "      <th>P602</th>\n",
       "      <th>P603</th>\n",
       "    </tr>\n",
       "  </thead>\n",
       "  <tbody>\n",
       "    <tr>\n",
       "      <th>0</th>\n",
       "      <td>2.489191</td>\n",
       "      <td>522.88600</td>\n",
       "      <td>2.0</td>\n",
       "      <td>2.0</td>\n",
       "      <td>1.0</td>\n",
       "      <td>262.0161</td>\n",
       "      <td>8.394514</td>\n",
       "      <td>328.6337</td>\n",
       "      <td>2.443085</td>\n",
       "      <td>2.0</td>\n",
       "      <td>...</td>\n",
       "      <td>0.308619</td>\n",
       "      <td>2.0</td>\n",
       "      <td>1.0</td>\n",
       "      <td>250.8812</td>\n",
       "      <td>1.649953</td>\n",
       "      <td>189.6148</td>\n",
       "      <td>0.000128</td>\n",
       "      <td>1.0</td>\n",
       "      <td>1.0</td>\n",
       "      <td>1.0</td>\n",
       "    </tr>\n",
       "    <tr>\n",
       "      <th>1</th>\n",
       "      <td>2.649970</td>\n",
       "      <td>524.10280</td>\n",
       "      <td>2.0</td>\n",
       "      <td>2.0</td>\n",
       "      <td>1.0</td>\n",
       "      <td>262.0161</td>\n",
       "      <td>8.394514</td>\n",
       "      <td>328.6337</td>\n",
       "      <td>2.441803</td>\n",
       "      <td>2.0</td>\n",
       "      <td>...</td>\n",
       "      <td>0.308619</td>\n",
       "      <td>2.0</td>\n",
       "      <td>1.0</td>\n",
       "      <td>250.7530</td>\n",
       "      <td>1.649953</td>\n",
       "      <td>189.5027</td>\n",
       "      <td>0.000128</td>\n",
       "      <td>1.0</td>\n",
       "      <td>1.0</td>\n",
       "      <td>1.0</td>\n",
       "    </tr>\n",
       "    <tr>\n",
       "      <th>2</th>\n",
       "      <td>2.616020</td>\n",
       "      <td>523.43550</td>\n",
       "      <td>2.0</td>\n",
       "      <td>2.0</td>\n",
       "      <td>1.0</td>\n",
       "      <td>262.0161</td>\n",
       "      <td>8.390669</td>\n",
       "      <td>328.6337</td>\n",
       "      <td>2.441803</td>\n",
       "      <td>2.0</td>\n",
       "      <td>...</td>\n",
       "      <td>0.306633</td>\n",
       "      <td>2.0</td>\n",
       "      <td>1.0</td>\n",
       "      <td>251.1856</td>\n",
       "      <td>1.649953</td>\n",
       "      <td>189.9994</td>\n",
       "      <td>0.000128</td>\n",
       "      <td>1.0</td>\n",
       "      <td>1.0</td>\n",
       "      <td>1.0</td>\n",
       "    </tr>\n",
       "    <tr>\n",
       "      <th>3</th>\n",
       "      <td>2.534350</td>\n",
       "      <td>522.68970</td>\n",
       "      <td>2.0</td>\n",
       "      <td>2.0</td>\n",
       "      <td>1.0</td>\n",
       "      <td>262.0161</td>\n",
       "      <td>8.390669</td>\n",
       "      <td>328.6081</td>\n",
       "      <td>2.439881</td>\n",
       "      <td>2.0</td>\n",
       "      <td>...</td>\n",
       "      <td>0.307850</td>\n",
       "      <td>2.0</td>\n",
       "      <td>1.0</td>\n",
       "      <td>251.1856</td>\n",
       "      <td>1.649953</td>\n",
       "      <td>189.8872</td>\n",
       "      <td>0.000128</td>\n",
       "      <td>1.0</td>\n",
       "      <td>1.0</td>\n",
       "      <td>1.0</td>\n",
       "    </tr>\n",
       "    <tr>\n",
       "      <th>4</th>\n",
       "      <td>2.458764</td>\n",
       "      <td>522.88600</td>\n",
       "      <td>2.0</td>\n",
       "      <td>2.0</td>\n",
       "      <td>1.0</td>\n",
       "      <td>262.0161</td>\n",
       "      <td>8.390669</td>\n",
       "      <td>328.6337</td>\n",
       "      <td>2.439881</td>\n",
       "      <td>2.0</td>\n",
       "      <td>...</td>\n",
       "      <td>0.307978</td>\n",
       "      <td>2.0</td>\n",
       "      <td>1.0</td>\n",
       "      <td>251.1856</td>\n",
       "      <td>1.649953</td>\n",
       "      <td>189.8872</td>\n",
       "      <td>0.000128</td>\n",
       "      <td>1.0</td>\n",
       "      <td>1.0</td>\n",
       "      <td>1.0</td>\n",
       "    </tr>\n",
       "    <tr>\n",
       "      <th>...</th>\n",
       "      <td>...</td>\n",
       "      <td>...</td>\n",
       "      <td>...</td>\n",
       "      <td>...</td>\n",
       "      <td>...</td>\n",
       "      <td>...</td>\n",
       "      <td>...</td>\n",
       "      <td>...</td>\n",
       "      <td>...</td>\n",
       "      <td>...</td>\n",
       "      <td>...</td>\n",
       "      <td>...</td>\n",
       "      <td>...</td>\n",
       "      <td>...</td>\n",
       "      <td>...</td>\n",
       "      <td>...</td>\n",
       "      <td>...</td>\n",
       "      <td>...</td>\n",
       "      <td>...</td>\n",
       "      <td>...</td>\n",
       "      <td>...</td>\n",
       "    </tr>\n",
       "    <tr>\n",
       "      <th>89979</th>\n",
       "      <td>2.431221</td>\n",
       "      <td>519.23550</td>\n",
       "      <td>2.0</td>\n",
       "      <td>2.0</td>\n",
       "      <td>1.0</td>\n",
       "      <td>168.0979</td>\n",
       "      <td>8.643489</td>\n",
       "      <td>301.8457</td>\n",
       "      <td>2.459488</td>\n",
       "      <td>2.0</td>\n",
       "      <td>...</td>\n",
       "      <td>0.308426</td>\n",
       "      <td>2.0</td>\n",
       "      <td>1.0</td>\n",
       "      <td>251.3618</td>\n",
       "      <td>0.977157</td>\n",
       "      <td>189.0381</td>\n",
       "      <td>0.000000</td>\n",
       "      <td>1.0</td>\n",
       "      <td>1.0</td>\n",
       "      <td>1.0</td>\n",
       "    </tr>\n",
       "    <tr>\n",
       "      <th>89980</th>\n",
       "      <td>2.538833</td>\n",
       "      <td>517.42990</td>\n",
       "      <td>2.0</td>\n",
       "      <td>2.0</td>\n",
       "      <td>1.0</td>\n",
       "      <td>168.0979</td>\n",
       "      <td>8.643489</td>\n",
       "      <td>301.8457</td>\n",
       "      <td>2.460898</td>\n",
       "      <td>2.0</td>\n",
       "      <td>...</td>\n",
       "      <td>0.308426</td>\n",
       "      <td>2.0</td>\n",
       "      <td>1.0</td>\n",
       "      <td>251.2176</td>\n",
       "      <td>0.849005</td>\n",
       "      <td>188.8779</td>\n",
       "      <td>0.000000</td>\n",
       "      <td>1.0</td>\n",
       "      <td>1.0</td>\n",
       "      <td>1.0</td>\n",
       "    </tr>\n",
       "    <tr>\n",
       "      <th>89981</th>\n",
       "      <td>2.656055</td>\n",
       "      <td>516.56630</td>\n",
       "      <td>2.0</td>\n",
       "      <td>2.0</td>\n",
       "      <td>1.0</td>\n",
       "      <td>168.0979</td>\n",
       "      <td>8.642528</td>\n",
       "      <td>301.8457</td>\n",
       "      <td>2.462051</td>\n",
       "      <td>2.0</td>\n",
       "      <td>...</td>\n",
       "      <td>0.308426</td>\n",
       "      <td>2.0</td>\n",
       "      <td>1.0</td>\n",
       "      <td>251.2176</td>\n",
       "      <td>0.945119</td>\n",
       "      <td>189.0381</td>\n",
       "      <td>0.000000</td>\n",
       "      <td>1.0</td>\n",
       "      <td>1.0</td>\n",
       "      <td>1.0</td>\n",
       "    </tr>\n",
       "    <tr>\n",
       "      <th>89982</th>\n",
       "      <td>2.606091</td>\n",
       "      <td>518.17570</td>\n",
       "      <td>2.0</td>\n",
       "      <td>2.0</td>\n",
       "      <td>1.0</td>\n",
       "      <td>168.0979</td>\n",
       "      <td>8.639965</td>\n",
       "      <td>301.9226</td>\n",
       "      <td>2.459488</td>\n",
       "      <td>2.0</td>\n",
       "      <td>...</td>\n",
       "      <td>0.306569</td>\n",
       "      <td>2.0</td>\n",
       "      <td>1.0</td>\n",
       "      <td>251.3779</td>\n",
       "      <td>0.945119</td>\n",
       "      <td>189.1182</td>\n",
       "      <td>0.000000</td>\n",
       "      <td>1.0</td>\n",
       "      <td>1.0</td>\n",
       "      <td>1.0</td>\n",
       "    </tr>\n",
       "    <tr>\n",
       "      <th>89983</th>\n",
       "      <td>2.526343</td>\n",
       "      <td>520.70745</td>\n",
       "      <td>2.0</td>\n",
       "      <td>2.0</td>\n",
       "      <td>1.0</td>\n",
       "      <td>168.0979</td>\n",
       "      <td>8.638683</td>\n",
       "      <td>301.9226</td>\n",
       "      <td>2.459808</td>\n",
       "      <td>2.0</td>\n",
       "      <td>...</td>\n",
       "      <td>0.307273</td>\n",
       "      <td>2.0</td>\n",
       "      <td>1.0</td>\n",
       "      <td>251.0734</td>\n",
       "      <td>0.865024</td>\n",
       "      <td>188.9259</td>\n",
       "      <td>0.000000</td>\n",
       "      <td>1.0</td>\n",
       "      <td>1.0</td>\n",
       "      <td>1.0</td>\n",
       "    </tr>\n",
       "  </tbody>\n",
       "</table>\n",
       "<p>89984 rows × 51 columns</p>\n",
       "</div>"
      ],
      "text/plain": [
       "         FIT101     LIT101  MV101  P101  P102    AIT201    AIT202    AIT203  \\\n",
       "0      2.489191  522.88600    2.0   2.0   1.0  262.0161  8.394514  328.6337   \n",
       "1      2.649970  524.10280    2.0   2.0   1.0  262.0161  8.394514  328.6337   \n",
       "2      2.616020  523.43550    2.0   2.0   1.0  262.0161  8.390669  328.6337   \n",
       "3      2.534350  522.68970    2.0   2.0   1.0  262.0161  8.390669  328.6081   \n",
       "4      2.458764  522.88600    2.0   2.0   1.0  262.0161  8.390669  328.6337   \n",
       "...         ...        ...    ...   ...   ...       ...       ...       ...   \n",
       "89979  2.431221  519.23550    2.0   2.0   1.0  168.0979  8.643489  301.8457   \n",
       "89980  2.538833  517.42990    2.0   2.0   1.0  168.0979  8.643489  301.8457   \n",
       "89981  2.656055  516.56630    2.0   2.0   1.0  168.0979  8.642528  301.8457   \n",
       "89982  2.606091  518.17570    2.0   2.0   1.0  168.0979  8.639965  301.9226   \n",
       "89983  2.526343  520.70745    2.0   2.0   1.0  168.0979  8.638683  301.9226   \n",
       "\n",
       "         FIT201  MV201  ...    FIT504  P501  P502    PIT501    PIT502  \\\n",
       "0      2.443085    2.0  ...  0.308619   2.0   1.0  250.8812  1.649953   \n",
       "1      2.441803    2.0  ...  0.308619   2.0   1.0  250.7530  1.649953   \n",
       "2      2.441803    2.0  ...  0.306633   2.0   1.0  251.1856  1.649953   \n",
       "3      2.439881    2.0  ...  0.307850   2.0   1.0  251.1856  1.649953   \n",
       "4      2.439881    2.0  ...  0.307978   2.0   1.0  251.1856  1.649953   \n",
       "...         ...    ...  ...       ...   ...   ...       ...       ...   \n",
       "89979  2.459488    2.0  ...  0.308426   2.0   1.0  251.3618  0.977157   \n",
       "89980  2.460898    2.0  ...  0.308426   2.0   1.0  251.2176  0.849005   \n",
       "89981  2.462051    2.0  ...  0.308426   2.0   1.0  251.2176  0.945119   \n",
       "89982  2.459488    2.0  ...  0.306569   2.0   1.0  251.3779  0.945119   \n",
       "89983  2.459808    2.0  ...  0.307273   2.0   1.0  251.0734  0.865024   \n",
       "\n",
       "         PIT503    FIT601  P601  P602  P603  \n",
       "0      189.6148  0.000128   1.0   1.0   1.0  \n",
       "1      189.5027  0.000128   1.0   1.0   1.0  \n",
       "2      189.9994  0.000128   1.0   1.0   1.0  \n",
       "3      189.8872  0.000128   1.0   1.0   1.0  \n",
       "4      189.8872  0.000128   1.0   1.0   1.0  \n",
       "...         ...       ...   ...   ...   ...  \n",
       "89979  189.0381  0.000000   1.0   1.0   1.0  \n",
       "89980  188.8779  0.000000   1.0   1.0   1.0  \n",
       "89981  189.0381  0.000000   1.0   1.0   1.0  \n",
       "89982  189.1182  0.000000   1.0   1.0   1.0  \n",
       "89983  188.9259  0.000000   1.0   1.0   1.0  \n",
       "\n",
       "[89984 rows x 51 columns]"
      ]
     },
     "execution_count": 19,
     "metadata": {},
     "output_type": "execute_result"
    }
   ],
   "source": [
    "df2"
   ]
  },
  {
   "cell_type": "code",
   "execution_count": 20,
   "id": "b8cd8f00",
   "metadata": {},
   "outputs": [],
   "source": [
    "test_normalized = pd.DataFrame(mm.transform(df2))"
   ]
  },
  {
   "cell_type": "code",
   "execution_count": 21,
   "id": "74fb20b9",
   "metadata": {},
   "outputs": [],
   "source": [
    "test_dataset = SWat_dataset(test_normalized, test_normalized, window_size, device)\n",
    "test_loader = DataLoader(test_dataset, batch_size=batch_size, shuffle=False, num_workers=0)"
   ]
  },
  {
   "cell_type": "code",
   "execution_count": 22,
   "id": "53ae0a10",
   "metadata": {},
   "outputs": [],
   "source": [
    "def testing(test_loader, alpha=.5, beta=.5):\n",
    "    results=[]\n",
    "    with torch.no_grad():\n",
    "        for batch in test_loader:\n",
    "            batch = batch.view(batch.shape[0], -1)\n",
    "            w1=AE1(batch)\n",
    "            w2=AE2(w1)\n",
    "            results.append(alpha*torch.mean((batch-w1)**2,axis=1)+beta*torch.mean((batch-w2)**2,axis=1))\n",
    "    return results"
   ]
  },
  {
   "cell_type": "code",
   "execution_count": 23,
   "id": "812d1112",
   "metadata": {},
   "outputs": [],
   "source": [
    "windows_labels=[]\n",
    "for i in range(len(labels)-window_size):\n",
    "    windows_labels.append(list(np.int32(labels[i:i+window_size])))"
   ]
  },
  {
   "cell_type": "code",
   "execution_count": 24,
   "id": "a2caf045",
   "metadata": {},
   "outputs": [],
   "source": [
    "y_test = [1.0 if (np.sum(window) > 0) else 0 for window in windows_labels]"
   ]
  },
  {
   "cell_type": "code",
   "execution_count": 25,
   "id": "b40ee266-cc6c-4d16-8779-cbb6a2afa5c2",
   "metadata": {},
   "outputs": [
    {
     "data": {
      "text/plain": [
       "11306.0"
      ]
     },
     "execution_count": 25,
     "metadata": {},
     "output_type": "execute_result"
    }
   ],
   "source": [
    "np.sum(y_test)"
   ]
  },
  {
   "cell_type": "code",
   "execution_count": 26,
   "id": "9d9385ba",
   "metadata": {},
   "outputs": [],
   "source": [
    "results=testing(test_loader)"
   ]
  },
  {
   "cell_type": "code",
   "execution_count": 27,
   "id": "fbacc678",
   "metadata": {},
   "outputs": [],
   "source": [
    "y_pred=np.concatenate([torch.stack(results[:-1]).flatten().detach().cpu().numpy(),\n",
    "                       results[-1].flatten().detach().cpu().numpy()])"
   ]
  },
  {
   "cell_type": "code",
   "execution_count": 28,
   "id": "123b12c1",
   "metadata": {},
   "outputs": [],
   "source": [
    "def ROC(y_test,y_pred):\n",
    "    fpr,tpr,tr=roc_curve(y_test,y_pred)\n",
    "    auc=roc_auc_score(y_test,y_pred)\n",
    "    idx=np.argwhere(np.diff(np.sign(tpr-(1-fpr)))).flatten()\n",
    "\n",
    "    plt.xlabel(\"FPR\")\n",
    "    plt.ylabel(\"TPR\")\n",
    "    plt.plot(fpr,tpr,label=\"AUC=\"+str(auc))\n",
    "    plt.plot(fpr,1-fpr,'r:')\n",
    "    plt.plot(fpr[idx],tpr[idx], 'ro')\n",
    "    plt.legend(loc=4)\n",
    "    plt.grid()\n",
    "    plt.show()\n",
    "    return tr[idx]"
   ]
  },
  {
   "cell_type": "code",
   "execution_count": 29,
   "id": "f9eeda54",
   "metadata": {},
   "outputs": [
    {
     "data": {
      "image/png": "[encoded data removed]",
      "text/plain": [
       "<Figure size 640x480 with 1 Axes>"
      ]
     },
     "metadata": {},
     "output_type": "display_data"
    }
   ],
   "source": [
    "threshold = ROC(y_test,y_pred)"
   ]
  },
  {
   "cell_type": "code",
   "execution_count": 30,
   "id": "71bf6f2c",
   "metadata": {},
   "outputs": [
    {
     "data": {
      "text/plain": [
       "array([0.3857151], dtype=float32)"
      ]
     },
     "execution_count": 30,
     "metadata": {},
     "output_type": "execute_result"
    }
   ],
   "source": [
    "threshold"
   ]
  },
  {
   "cell_type": "code",
   "execution_count": 31,
   "id": "513a1746",
   "metadata": {},
   "outputs": [
    {
     "name": "stdout",
     "output_type": "stream",
     "text": [
      "best: 0.463265306122449 F1: 0.5352897289231533\n"
     ]
    },
    {
     "data": {
      "text/plain": [
       "[<matplotlib.lines.Line2D at 0x73a510570d10>]"
      ]
     },
     "execution_count": 31,
     "metadata": {},
     "output_type": "execute_result"
    },
    {
     "data": {
      "image/png": "[encoded data removed]",
      "text/plain": [
       "<Figure size 640x480 with 1 Axes>"
      ]
     },
     "metadata": {},
     "output_type": "display_data"
    }
   ],
   "source": [
    "ff = 0\n",
    "f_history = []\n",
    "initial_y = 0.3\n",
    "best = -1\n",
    "for inc in np.linspace(0, 0.2, 50):\n",
    "    y_pred_int = [1 if (yy > initial_y + inc) else 0 for yy in y_pred]\n",
    "    conf_matrix = confusion_matrix(y_test, y_pred_int)\n",
    "    TP = conf_matrix[1, 1]\n",
    "    TN = conf_matrix[0, 0]\n",
    "    FP = conf_matrix[0, 1]\n",
    "    FN = conf_matrix[1, 0]\n",
    "    F1 = f1_score(y_test, y_pred_int)\n",
    "    f_history.append(F1)\n",
    "\n",
    "    precision = precision_score(y_test, y_pred_int)\n",
    "    recall = recall_score(y_test, y_pred_int)\n",
    "    if F1 > ff:\n",
    "        ff = F1\n",
    "        best = inc\n",
    "print(f'best: {best + initial_y} F1: {ff}')\n",
    "plt.plot(f_history)"
   ]
  },
  {
   "cell_type": "markdown",
   "id": "9ee47f5c-9fde-4809-b6eb-3de158eac2f3",
   "metadata": {},
   "source": [
    "# Try adjust point"
   ]
  },
  {
   "cell_type": "code",
   "execution_count": 32,
   "id": "c63f4973",
   "metadata": {},
   "outputs": [
    {
     "data": {
      "text/plain": [
       "0.163265306122449"
      ]
     },
     "execution_count": 32,
     "metadata": {},
     "output_type": "execute_result"
    }
   ],
   "source": [
    "best"
   ]
  },
  {
   "cell_type": "code",
   "execution_count": null,
   "id": "71669c67-aeb3-482d-898f-5aafe15a2226",
   "metadata": {},
   "outputs": [],
   "source": []
  }
 ],
 "metadata": {
  "kernelspec": {
   "display_name": "NIS2",
   "language": "python",
   "name": "art2"
  },
  "language_info": {
   "codemirror_mode": {
    "name": "ipython",
    "version": 3
   },
   "file_extension": ".py",
   "mimetype": "text/x-python",
   "name": "python",
   "nbconvert_exporter": "python",
   "pygments_lexer": "ipython3",
   "version": "3.12.2"
  }
 },
 "nbformat": 4,
 "nbformat_minor": 5
}
