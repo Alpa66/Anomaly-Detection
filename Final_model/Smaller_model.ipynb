{
 "cells": [
  {
   "cell_type": "markdown",
   "metadata": {},
   "source": [
    "# Experiment 6\n",
    "In this experiment, the adversarial learning technique is dropped altogether, a single Variational Graph-based auto-encoder is used, using the torch geometry implementation of the VGAE\n",
    "\n",
    "VGAE proved to be inferior (to be tested) so back to experimenting with a model written from scratch"
   ]
  },
  {
   "cell_type": "code",
   "execution_count": 1,
   "metadata": {},
   "outputs": [
    {
     "name": "stdout",
     "output_type": "stream",
     "text": [
      "ls: cannot access '../../Projects/data/': No such file or directory\n"
     ]
    }
   ],
   "source": [
    "!ls ../../Projects/data/"
   ]
  },
  {
   "cell_type": "code",
   "execution_count": 1,
   "metadata": {},
   "outputs": [],
   "source": [
    "import numpy as np\n",
    "import pandas as pd\n",
    "import torch\n",
    "import torch.nn as nn\n",
    "import matplotlib.pyplot as plt\n",
    "import torch.nn.functional as F\n",
    "import torch_geometric.transforms as T\n",
    "\n",
    "\n",
    "from torch.utils.data import DataLoader\n",
    "from sklearn.preprocessing import StandardScaler\n",
    "from layers import *\n",
    "\n",
    "from sklearn.metrics import confusion_matrix, f1_score, precision_score, recall_score"
   ]
  },
  {
   "cell_type": "code",
   "execution_count": 2,
   "metadata": {},
   "outputs": [],
   "source": [
    "seed_num = 6493\n",
    "set_seed(seed_num)"
   ]
  },
  {
   "cell_type": "markdown",
   "metadata": {},
   "source": [
    "### Dataset:"
   ]
  },
  {
   "cell_type": "code",
   "execution_count": 3,
   "metadata": {},
   "outputs": [],
   "source": [
    "df = pd.read_csv('../../../Projects/data/SWaT_Dataset_Normal_v1.csv')\n",
    "df = df.drop(columns=[' Timestamp', 'Normal/Attack'])\n",
    "df = df.astype('float64')\n",
    "mm = StandardScaler()\n",
    "cols = df.columns\n",
    "df = pd.DataFrame(mm.fit_transform(df))\n",
    "validation_set = df[int(0.5 * df.shape[0]) : int(0.7 * df.shape[0])]\n",
    "train_1 = df[:int(0.5 * df.shape[0])]\n",
    "train_2 = df[int(0.7 * df.shape[0]):]\n",
    "train_set = pd.concat([train_1, train_2], axis=0)"
   ]
  },
  {
   "cell_type": "code",
   "execution_count": 4,
   "metadata": {},
   "outputs": [
    {
     "data": {
      "text/plain": [
       "device(type='cuda')"
      ]
     },
     "execution_count": 4,
     "metadata": {},
     "output_type": "execute_result"
    }
   ],
   "source": [
    "device = torch.device('cuda' if torch.cuda.is_available() else 'cpu')\n",
    "device"
   ]
  },
  {
   "cell_type": "markdown",
   "metadata": {},
   "source": [
    "### Dataloader:"
   ]
  },
  {
   "cell_type": "code",
   "execution_count": 5,
   "metadata": {},
   "outputs": [],
   "source": [
    "window_size = 64\n",
    "\n",
    "train_dataset = SWat_dataset(train_set, train_set, window_size, device)\n",
    "validation_dataset = SWat_dataset(validation_set, validation_set, window_size, device)\n",
    "\n",
    "batch_size = 4096\n",
    "train_loader = DataLoader(train_dataset, batch_size=batch_size, shuffle=True, num_workers=0)\n",
    "validation_loader = DataLoader(validation_dataset, batch_size=batch_size, shuffle=True, num_workers=0)"
   ]
  },
  {
   "cell_type": "markdown",
   "metadata": {},
   "source": [
    "### Model:"
   ]
  },
  {
   "cell_type": "code",
   "execution_count": 6,
   "metadata": {},
   "outputs": [],
   "source": [
    "class GEncoder(nn.Module):\n",
    "    def __init__(self, num_nodes, window_size, alpha, k, device):\n",
    "        super(GEncoder, self).__init__()\n",
    "        self.num_nodes = num_nodes\n",
    "        self.window_size = window_size\n",
    "        self.conv1 = GCNLayer(window_size, window_size // 2)\n",
    "        self.conv2 = GCNLayer(window_size // 2, window_size // 4)\n",
    "        self.idx = torch.arange(num_nodes).to(device)\n",
    "        self.A = Graph_Directed_A(num_nodes, window_size, alpha, k, device)\n",
    "        self.device = device\n",
    "\n",
    "    def forward(self, X):\n",
    "        X = torch.transpose(X, 1, 2)\n",
    "        adj = self.A(self.idx)\n",
    "        h = self.conv1(adj, X).relu()\n",
    "        h = self.conv2(adj, h).relu()\n",
    "        return h\n",
    "        \n",
    "        \n",
    "\n",
    "class GCN_autoencoder(nn.Module):\n",
    "    def __init__(self, encoder, num_nodes, window_size):\n",
    "        super(GCN_autoencoder, self).__init__()\n",
    "        self.window_size = window_size\n",
    "        self.num_nodes = num_nodes\n",
    "        self.encoder = encoder\n",
    "        self.decoder = nn.Sequential(\n",
    "            nn.Linear(window_size // 4 * num_nodes, window_size // 2 * num_nodes),\n",
    "            nn.ReLU(),\n",
    "            nn.Linear(window_size // 2 * num_nodes, num_nodes * window_size)\n",
    "        )\n",
    "        \n",
    "    def forward(self, X):\n",
    "        x = self.encoder(X)\n",
    "        x = torch.flatten(x,1)\n",
    "        x = self.decoder(x)\n",
    "        return x.view(-1, self.window_size, self.num_nodes)\n",
    "\n",
    "    def get_adj(self):\n",
    "        return self.encoder.A(self.encoder.idx)"
   ]
  },
  {
   "cell_type": "code",
   "execution_count": 7,
   "metadata": {},
   "outputs": [],
   "source": [
    "num_nodes = 51 # number of nodes\n",
    "alpha = 0.20 # hyperparameter for weights of edges\n",
    "k = None  # max number of edges for each node\n",
    "epochs = 30"
   ]
  },
  {
   "cell_type": "code",
   "execution_count": 8,
   "metadata": {},
   "outputs": [],
   "source": [
    "Encoder = GEncoder(num_nodes, window_size, alpha, k, device)\n",
    "AE1 = GCN_autoencoder(Encoder, num_nodes, window_size)"
   ]
  },
  {
   "cell_type": "code",
   "execution_count": 9,
   "metadata": {},
   "outputs": [
    {
     "data": {
      "text/plain": [
       "GCN_autoencoder(\n",
       "  (encoder): GEncoder(\n",
       "    (conv1): GCNLayer(\n",
       "      (dense): Linear(in_features=64, out_features=32, bias=True)\n",
       "    )\n",
       "    (conv2): GCNLayer(\n",
       "      (dense): Linear(in_features=32, out_features=16, bias=True)\n",
       "    )\n",
       "    (A): Graph_Directed_A(\n",
       "      (e1): Embedding(51, 64)\n",
       "      (e2): Embedding(51, 64)\n",
       "      (l1): Linear(in_features=64, out_features=64, bias=True)\n",
       "      (l2): Linear(in_features=64, out_features=64, bias=True)\n",
       "    )\n",
       "  )\n",
       "  (decoder): Sequential(\n",
       "    (0): Linear(in_features=816, out_features=1632, bias=True)\n",
       "    (1): ReLU()\n",
       "    (2): Linear(in_features=1632, out_features=3264, bias=True)\n",
       "  )\n",
       ")"
      ]
     },
     "execution_count": 9,
     "metadata": {},
     "output_type": "execute_result"
    }
   ],
   "source": [
    "AE1.to(device)"
   ]
  },
  {
   "cell_type": "code",
   "execution_count": 10,
   "metadata": {},
   "outputs": [],
   "source": [
    "optimizer1 = torch.optim.Adam(AE1.parameters())"
   ]
  },
  {
   "cell_type": "code",
   "execution_count": 11,
   "metadata": {},
   "outputs": [],
   "source": [
    "model_path = 'AE1_new_model_best_seed_' + str(seed_num) + '.pth'"
   ]
  },
  {
   "cell_type": "code",
   "execution_count": 13,
   "metadata": {},
   "outputs": [],
   "source": [
    "# from torch.utils.tensorboard import SummaryWriter"
   ]
  },
  {
   "cell_type": "code",
   "execution_count": 14,
   "metadata": {},
   "outputs": [
    {
     "name": "stdout",
     "output_type": "stream",
     "text": [
      "Epoch: 0 ---> Val loss: AE1 0.03414\n",
      "Train loss: AE1 0.14506\n",
      "Epoch: 1 ---> Val loss: AE1 0.01891\n",
      "Train loss: AE1 0.02670\n",
      "Epoch: 2 ---> Val loss: AE1 0.01284\n",
      "Train loss: AE1 0.01689\n",
      "Epoch: 3 ---> Val loss: AE1 0.01040\n",
      "Train loss: AE1 0.01272\n",
      "Epoch: 4 ---> Val loss: AE1 0.00908\n",
      "Train loss: AE1 0.01069\n",
      "Epoch: 5 ---> Val loss: AE1 0.00857\n",
      "Train loss: AE1 0.00943\n",
      "Epoch: 6 ---> Val loss: AE1 0.00769\n",
      "Train loss: AE1 0.00868\n",
      "Epoch: 7 ---> Val loss: AE1 0.00712\n",
      "Train loss: AE1 0.00804\n",
      "Epoch: 8 ---> Val loss: AE1 0.00691\n",
      "Train loss: AE1 0.00752\n",
      "Epoch: 9 ---> Val loss: AE1 0.00638\n",
      "Train loss: AE1 0.00709\n",
      "Epoch: 10 ---> Val loss: AE1 0.00602\n",
      "Train loss: AE1 0.00696\n",
      "Epoch: 11 ---> Val loss: AE1 0.00586\n",
      "Train loss: AE1 0.00639\n",
      "Epoch: 12 ---> Val loss: AE1 0.00580\n",
      "Train loss: AE1 0.00609\n",
      "Epoch: 13 ---> Val loss: AE1 0.00599\n",
      "Train loss: AE1 0.00590\n",
      "Epoch: 14 ---> Val loss: AE1 0.00527\n",
      "Train loss: AE1 0.00579\n",
      "Epoch: 15 ---> Val loss: AE1 0.00549\n",
      "Train loss: AE1 0.00559\n",
      "Epoch: 16 ---> Val loss: AE1 0.00491\n",
      "Train loss: AE1 0.00534\n",
      "Epoch: 17 ---> Val loss: AE1 0.00510\n",
      "Train loss: AE1 0.00520\n",
      "Epoch: 18 ---> Val loss: AE1 0.00486\n",
      "Train loss: AE1 0.00508\n",
      "Epoch: 19 ---> Val loss: AE1 0.00456\n",
      "Train loss: AE1 0.00501\n",
      "Epoch: 20 ---> Val loss: AE1 0.00463\n",
      "Train loss: AE1 0.00498\n",
      "CPU times: user 15min 50s, sys: 9.25 s, total: 15min 59s\n",
      "Wall time: 14min 17s\n"
     ]
    }
   ],
   "source": [
    "%%time\n",
    "patience = 4\n",
    "best_val = None\n",
    "AE1_val_history = []\n",
    "for i in range(epochs):\n",
    "    running_loss_AE1 = []\n",
    "    val_loss_AE1 = []\n",
    "    AE1.train()\n",
    "    for index_b, features in enumerate(train_loader):\n",
    "        \n",
    "        w1 = AE1(features)\n",
    "        lossAE1 = torch.mean((features - w1) ** 2)\n",
    "        \n",
    "        running_loss_AE1.append(lossAE1)\n",
    "        lossAE1.backward()\n",
    "        optimizer1.step()\n",
    "        optimizer1.zero_grad()\n",
    "\n",
    "    AE1.eval()\n",
    "    for index_b, features in enumerate(validation_loader):\n",
    "        with torch.no_grad():\n",
    "\n",
    "            w1 = AE1(features)\n",
    "            lossAE1 = torch.mean((features - w1) ** 2)\n",
    "            val_loss_AE1.append(lossAE1)\n",
    "    AE1_val_history.append(torch.stack(val_loss_AE1).mean().item())\n",
    "    # writer.add_scalar('Autoendoer_1_train_loss epoch', torch.stack(running_loss_AE1).mean().item(), i + 1)\n",
    "    # writer.add_scalar('Autoendoer_1_train_loss epoch', AE1_val_history[-1], i + 1)\n",
    "    print(f'Epoch: {i} ---> Val loss: AE1 {AE1_val_history[-1]:.5f}')\n",
    "    print(f'Train loss: AE1 {torch.stack(running_loss_AE1).mean().item():.5f}')\n",
    "    # if round(torch.stack(running_loss_AE1).mean().item(), 4) > 0.004:\n",
    "    #     continue\n",
    "    val_er = round(AE1_val_history[-1], 5)\n",
    "    train_er = round(torch.stack(running_loss_AE1).mean().item(), 5)\n",
    "    if best_val:\n",
    "        if val_er > best_val:\n",
    "            patience = patience - 1\n",
    "            if patience == 0:\n",
    "                break;\n",
    "    if best_val:\n",
    "        if best_val > val_er:\n",
    "            best_val = val_er\n",
    "            torch.save(AE1.state_dict(), model_path)\n",
    "    else:\n",
    "        best_val = val_er"
   ]
  },
  {
   "cell_type": "code",
   "execution_count": 12,
   "metadata": {},
   "outputs": [
    {
     "data": {
      "text/plain": [
       "<All keys matched successfully>"
      ]
     },
     "execution_count": 12,
     "metadata": {},
     "output_type": "execute_result"
    }
   ],
   "source": [
    "AE1.load_state_dict(torch.load(model_path))"
   ]
  },
  {
   "cell_type": "markdown",
   "metadata": {},
   "source": [
    "# Testing"
   ]
  },
  {
   "cell_type": "code",
   "execution_count": 13,
   "metadata": {},
   "outputs": [],
   "source": [
    "df2 = pd.read_csv('../../../Projects/data/SWaT_Dataset_Attack_v0.csv')\n",
    "labels = df2['Normal/Attack']\n",
    "df2 = df2.drop(columns=[' Timestamp', 'Normal/Attack'])\n",
    "df2 = df2.astype('float64')\n",
    "df2.columns = cols\n",
    "test_normalized = pd.DataFrame(mm.fit_transform(df2))"
   ]
  },
  {
   "cell_type": "code",
   "execution_count": 14,
   "metadata": {},
   "outputs": [],
   "source": [
    "test_dataset = SWat_dataset(test_normalized, test_normalized, window_size, device)\n",
    "test_loader = DataLoader(test_dataset, batch_size=batch_size, shuffle=False, num_workers=0)"
   ]
  },
  {
   "cell_type": "code",
   "execution_count": 15,
   "metadata": {},
   "outputs": [],
   "source": [
    "def testing(test_loader):\n",
    "    results=[]\n",
    "    AE1.eval()\n",
    "    with torch.no_grad():\n",
    "        for batch in test_loader:\n",
    "            w1=AE1(batch)\n",
    "            results.append(torch.mean((batch-w1)**2, axis=1))\n",
    "    return results\n",
    "\n",
    "def get_threshold(val_loader):\n",
    "    recon_errors = testing(val_loader)\n",
    "    complete_vals = np.concatenate([torch.stack(recon_errors[:-1]).view(-1, num_nodes).detach().cpu().numpy(),\n",
    "                                    recon_errors[-1].view(-1, num_nodes).detach().cpu().numpy()])\n",
    "    return np.max(complete_vals, axis=0), np.quantile(complete_vals, 0.9999, axis = 0)"
   ]
  },
  {
   "cell_type": "code",
   "execution_count": 16,
   "metadata": {},
   "outputs": [],
   "source": [
    "thresholds, percentile = get_threshold(validation_loader)"
   ]
  },
  {
   "cell_type": "code",
   "execution_count": 17,
   "metadata": {},
   "outputs": [],
   "source": [
    "labels = labels.values\n",
    "labels = [0 if (lab == 'Normal') else 1 for lab in labels]\n",
    "windows_labels=[]\n",
    "for i in range(len(labels)-window_size):\n",
    "    windows_labels.append(list(np.int32(labels[i:i+window_size])))"
   ]
  },
  {
   "cell_type": "code",
   "execution_count": 18,
   "metadata": {},
   "outputs": [],
   "source": [
    "y_test = [1.0 if (np.sum(window) > 0) else 0 for window in windows_labels]\n",
    "labels = labels[window_size:]"
   ]
  },
  {
   "cell_type": "code",
   "execution_count": 19,
   "metadata": {},
   "outputs": [],
   "source": [
    "results=testing(test_loader)"
   ]
  },
  {
   "cell_type": "code",
   "execution_count": 20,
   "metadata": {},
   "outputs": [],
   "source": [
    "diagnosis_reference = np.concatenate([torch.stack(results[:-1]).view(-1, num_nodes).detach().cpu().numpy(),\n",
    "                                      results[-1].view(-1, num_nodes).detach().cpu().numpy()])\n",
    "y_pred = np.mean(diagnosis_reference, axis=1)"
   ]
  },
  {
   "cell_type": "code",
   "execution_count": 21,
   "metadata": {},
   "outputs": [
    {
     "data": {
      "image/png": "[encoded data removed]",
      "text/plain": [
       "<Figure size 640x480 with 1 Axes>"
      ]
     },
     "metadata": {},
     "output_type": "display_data"
    },
    {
     "data": {
      "text/plain": [
       "array([0.06799543], dtype=float32)"
      ]
     },
     "execution_count": 21,
     "metadata": {},
     "output_type": "execute_result"
    }
   ],
   "source": [
    "threshold = ROC(y_test,y_pred)\n",
    "threshold"
   ]
  },
  {
   "cell_type": "code",
   "execution_count": 22,
   "metadata": {},
   "outputs": [
    {
     "data": {
      "text/plain": [
       "[<matplotlib.lines.Line2D at 0x753b29d5c620>]"
      ]
     },
     "execution_count": 22,
     "metadata": {},
     "output_type": "execute_result"
    },
    {
     "data": {
      "image/png": "[encoded data removed]",
      "text/plain": [
       "<Figure size 640x480 with 1 Axes>"
      ]
     },
     "metadata": {},
     "output_type": "display_data"
    }
   ],
   "source": [
    "plt.plot(y_pred)"
   ]
  },
  {
   "cell_type": "code",
   "execution_count": 23,
   "metadata": {},
   "outputs": [],
   "source": [
    "def print_metrics(y_pred, y_true):\n",
    "    conf_matrix = confusion_matrix(y_true, y_pred)\n",
    "    TP = conf_matrix[1, 1]\n",
    "    TN = conf_matrix[0, 0]\n",
    "    FP = conf_matrix[0, 1]\n",
    "    FN = conf_matrix[1, 0]\n",
    "    F1 = f1_score(y_true, y_pred)\n",
    "    precision = precision_score(y_true, y_pred)\n",
    "    recall = recall_score(y_true, y_pred)\n",
    "    print(f'False positive: {FP} \\nTrue positive: {TP} \\nFalse negative: {FN} \\nTrue negative: {TN}')\n",
    "    print(f'Precision: {100 * precision} \\nRecall: {100 * recall}')\n",
    "    print(f'F1: {F1 * 100}')\n",
    "\n",
    "def print_detection_percentage(y_pred_int, y_test, anomaly_segments):\n",
    "    for index, (i, j) in enumerate(anomaly_segments):\n",
    "        cur_pred = y_pred_int[i:j]\n",
    "        cur_true = y_test[i:j]\n",
    "        print(f'Segment number {index} has {np.sum((cur_pred < cur_true).astype(int))} points undetected while total is {len(cur_pred)}')"
   ]
  },
  {
   "cell_type": "code",
   "execution_count": 24,
   "metadata": {},
   "outputs": [
    {
     "name": "stdout",
     "output_type": "stream",
     "text": [
      "best: 0.3382352941176471 F1: 0.8253050806341036\n",
      "False positive: 1066 \n",
      "True positive: 39124 \n",
      "False negative: 15497 \n",
      "True negative: 394168\n",
      "Precision: 97.3475989052003 \n",
      "Recall: 71.62812837553322\n",
      "F1: 82.53050806341035\n"
     ]
    },
    {
     "data": {
      "image/png": "[encoded data removed]",
      "text/plain": [
       "<Figure size 640x480 with 1 Axes>"
      ]
     },
     "metadata": {},
     "output_type": "display_data"
    }
   ],
   "source": [
    "ff = 0\n",
    "f_history = []\n",
    "initial_y = 0\n",
    "best = -1\n",
    "for inc in np.linspace(0, 0.5, 35):\n",
    "    y_pred_int = (y_pred > initial_y + inc).astype(int)\n",
    "    conf_matrix = confusion_matrix(labels, y_pred_int)\n",
    "    TP = conf_matrix[1, 1]\n",
    "    TN = conf_matrix[0, 0]\n",
    "    FP = conf_matrix[0, 1]\n",
    "    FN = conf_matrix[1, 0]\n",
    "    F1 = f1_score(labels, y_pred_int)\n",
    "    f_history.append(F1)\n",
    "\n",
    "    precision = precision_score(labels, y_pred_int)\n",
    "    recall = recall_score(labels, y_pred_int)\n",
    "    if F1 > ff:\n",
    "        ff = F1\n",
    "        best = inc + initial_y\n",
    "print(f'best: {best} F1: {ff}')\n",
    "plt.plot(f_history)\n",
    "y_pred_int = (y_pred > best).astype(int)\n",
    "print_metrics(y_pred_int, labels)"
   ]
  },
  {
   "cell_type": "code",
   "execution_count": 25,
   "metadata": {},
   "outputs": [],
   "source": [
    "# print_detection_percentage(y_pred_int, labels, anomaly_segments)"
   ]
  },
  {
   "cell_type": "code",
   "execution_count": 26,
   "metadata": {},
   "outputs": [],
   "source": [
    "started = False\n",
    "anomaly_segments = []\n",
    "for i in range(len(labels)):\n",
    "    if labels[i] == 1 and not started:\n",
    "        started = True\n",
    "        left_side = i\n",
    "    if labels[i] == 0 and started:\n",
    "        started = False\n",
    "        anomaly_segments.append((left_side, i - 1))"
   ]
  },
  {
   "cell_type": "code",
   "execution_count": 27,
   "metadata": {},
   "outputs": [
    {
     "name": "stdout",
     "output_type": "stream",
     "text": [
      "314.3333333333333\n"
     ]
    }
   ],
   "source": [
    "y_pred_int = np.array((y_pred > best).astype(int))\n",
    "latency_times = []\n",
    "for index, (i, j) in enumerate(anomaly_segments):\n",
    "    current_arr = y_pred_int[i: j]\n",
    "    first_detection = np.where(current_arr == 1)[0]\n",
    "    if first_detection.shape[0] > 0:\n",
    "        latency_times.append(first_detection[0])\n",
    "        # index_of_reference = first_detection[0] + i\n",
    "        # compare_map = np.mean(diagnosis_reference[index_of_reference: index_of_reference + 10], axis=0)\n",
    "        # deviation_factor = compare_map / percentile\n",
    "        # thres = np.quantile(deviation_factor, 0.97)\n",
    "        # print(f'Anomaly number {index + 1}')\n",
    "        # print(np.where(deviation_factor > thres)[0])\n",
    "        # print(cols[np.where(deviation_factor > thres)[0]])\n",
    "        # print(deviation_factor[np.where(deviation_factor > thres)[0]])\n",
    "        # plt.bar(np.arange(len(compare_map)), compare_map / percentile, label='percentile')\n",
    "        # plt.bar(np.arange(len(compare_map)), compare_map / thresholds, label='max')\n",
    "        # plt.legend()\n",
    "        # plt.show()\n",
    "print(np.mean(latency_times))"
   ]
  },
  {
   "cell_type": "markdown",
   "metadata": {},
   "source": [
    "# Point Adjust"
   ]
  },
  {
   "cell_type": "markdown",
   "metadata": {},
   "source": [
    "## One point"
   ]
  },
  {
   "cell_type": "code",
   "execution_count": 28,
   "metadata": {},
   "outputs": [],
   "source": [
    "for i, j in anomaly_segments:\n",
    "    if np.sum(y_pred_int[i: j]) / (j - i) > 0.2:\n",
    "        y_pred_int[i:j + 1] = [1 for _ in range(j - i + 1)]"
   ]
  },
  {
   "cell_type": "code",
   "execution_count": 29,
   "metadata": {},
   "outputs": [
    {
     "name": "stdout",
     "output_type": "stream",
     "text": [
      "False positive: 1066 \n",
      "True positive: 43869 \n",
      "False negative: 10752 \n",
      "True negative: 394168\n",
      "Precision: 97.62768443306999 \n",
      "Recall: 80.31526336024606\n",
      "F1: 88.1292940656515\n"
     ]
    }
   ],
   "source": [
    "print_metrics(y_pred_int, labels)"
   ]
  },
  {
   "cell_type": "code",
   "execution_count": 30,
   "metadata": {},
   "outputs": [],
   "source": [
    "for i, j in anomaly_segments:\n",
    "    if np.sum(y_pred_int[i: j]) > 0:\n",
    "        y_pred_int[i:j + 1] = [1 for _ in range(j - i + 1)]"
   ]
  },
  {
   "cell_type": "code",
   "execution_count": 31,
   "metadata": {},
   "outputs": [
    {
     "name": "stdout",
     "output_type": "stream",
     "text": [
      "False positive: 1066 \n",
      "True positive: 44300 \n",
      "False negative: 10321 \n",
      "True negative: 394168\n",
      "Precision: 97.65022263369043 \n",
      "Recall: 81.10433715970048\n",
      "F1: 88.61151949753467\n"
     ]
    }
   ],
   "source": [
    "print_metrics(y_pred_int, labels)"
   ]
  },
  {
   "cell_type": "code",
   "execution_count": 33,
   "metadata": {},
   "outputs": [
    {
     "name": "stdout",
     "output_type": "stream",
     "text": [
      "best: 0.26249999999999996 F1: 0.9005866008027169\n",
      "False positive: 1747 \n",
      "True positive: 40143 \n",
      "False negative: 16661 \n",
      "True negative: 391304\n",
      "Precision: 95.8295535927429 \n",
      "Recall: 70.66931906203789\n",
      "F1: 81.34841023770443\n"
     ]
    },
    {
     "data": {
      "image/png": "[encoded data removed]",
      "text/plain": [
       "<Figure size 640x480 with 1 Axes>"
      ]
     },
     "metadata": {},
     "output_type": "display_data"
    }
   ],
   "source": [
    "ff = 0\n",
    "f_history = []\n",
    "initial_y = 0.15\n",
    "best = -1\n",
    "for inc in np.linspace(0, 0.3, 25):\n",
    "    y_pred_int = (y_pred > initial_y + inc).astype(int)\n",
    "    for i, j in anomaly_segments:\n",
    "        if np.sum(y_pred_int[i: j]) > 0:\n",
    "            y_pred_int[i:j + 1] = [1 for _ in range(j - i + 1)]\n",
    "    conf_matrix = confusion_matrix(labels, y_pred_int)\n",
    "    TP = conf_matrix[1, 1]\n",
    "    TN = conf_matrix[0, 0]\n",
    "    FP = conf_matrix[0, 1]\n",
    "    FN = conf_matrix[1, 0]\n",
    "    F1 = f1_score(labels, y_pred_int)\n",
    "    f_history.append(F1)\n",
    "\n",
    "    precision = precision_score(labels, y_pred_int)\n",
    "    recall = recall_score(labels, y_pred_int)\n",
    "    if F1 > ff:\n",
    "        ff = F1\n",
    "        best = inc + initial_y\n",
    "print(f'best: {best} F1: {ff}')\n",
    "plt.plot(f_history)\n",
    "y_pred_int = (y_pred > best).astype(int)\n",
    "print_metrics(y_pred_int, y_test)"
   ]
  },
  {
   "cell_type": "markdown",
   "metadata": {},
   "source": [
    "## Point adjust 20%"
   ]
  },
  {
   "cell_type": "code",
   "execution_count": 30,
   "metadata": {},
   "outputs": [
    {
     "name": "stdout",
     "output_type": "stream",
     "text": [
      "best: 0.3458333333333333 F1: 0.8810674490339305\n",
      "False positive: 1061 \n",
      "True positive: 23061 \n",
      "False negative: 31560 \n",
      "True negative: 394173\n",
      "Precision: 0.9560152557831025 \n",
      "Recall: 0.42220025265007965\n",
      "F1: 0.585728255209987\n"
     ]
    },
    {
     "data": {
      "image/png": "[encoded data removed]",
      "text/plain": [
       "<Figure size 640x480 with 1 Axes>"
      ]
     },
     "metadata": {},
     "output_type": "display_data"
    }
   ],
   "source": [
    "ff = 0\n",
    "f_history = []\n",
    "initial_y = 0.2\n",
    "best = -1\n",
    "for inc in np.linspace(0, 0.5, 25):\n",
    "    y_pred_int = (y_pred > initial_y + inc).astype(int)\n",
    "    for i, j in anomaly_segments:\n",
    "        if np.sum(y_pred_int[i: j]) / (j - i) > 0.2:\n",
    "            y_pred_int[i:j + 1] = [1 for _ in range(j - i + 1)]\n",
    "    conf_matrix = confusion_matrix(labels, y_pred_int)\n",
    "    TP = conf_matrix[1, 1]\n",
    "    TN = conf_matrix[0, 0]\n",
    "    FP = conf_matrix[0, 1]\n",
    "    FN = conf_matrix[1, 0]\n",
    "    F1 = f1_score(labels, y_pred_int)\n",
    "    f_history.append(F1)\n",
    "\n",
    "    precision = precision_score(labels, y_pred_int)\n",
    "    recall = recall_score(labels, y_pred_int)\n",
    "    if F1 > ff:\n",
    "        ff = F1\n",
    "        best = inc + initial_y\n",
    "print(f'best: {best} F1: {ff}')\n",
    "plt.plot(f_history)\n",
    "y_pred_int = (y_pred > best).astype(int)\n",
    "print_metrics(y_pred_int, labels)"
   ]
  },
  {
   "cell_type": "code",
   "execution_count": 31,
   "metadata": {},
   "outputs": [],
   "source": [
    "# def testing(loader, alpha=.5, beta=.5):\n",
    "#     results=[]\n",
    "#     with torch.no_grad():\n",
    "#         for batch in loader:\n",
    "#             w1=AE1(batch)\n",
    "#             results.append(torch.mean((batch-w1)**2, axis=1))\n",
    "#     return results\n",
    "\n",
    "# def get_threshold(val_loader):\n",
    "#     recon_errors = testing(val_loader)\n",
    "#     complete_vals = np.concatenate([torch.stack(recon_errors[:-1]).view(-1, num_nodes).detach().cpu().numpy(),\n",
    "#                                     recon_errors[-1].view(-1, num_nodes).detach().cpu().numpy()])\n",
    "#     return np.max(complete_vals, axis=0)"
   ]
  },
  {
   "cell_type": "code",
   "execution_count": 32,
   "metadata": {},
   "outputs": [],
   "source": [
    "# thresholds = get_threshold(validation_loader)\n",
    "# results=testing(test_loader, alpha=0.3, beta=0.7)\n",
    "# y_pred=np.concatenate([torch.stack(results[:-1]).view(-1, num_nodes).detach().cpu().numpy(), \n",
    "#                        results[-1].view(-1, num_nodes).detach().cpu().numpy()])"
   ]
  },
  {
   "cell_type": "code",
   "execution_count": 33,
   "metadata": {},
   "outputs": [],
   "source": [
    "# factor = 1"
   ]
  },
  {
   "cell_type": "code",
   "execution_count": 34,
   "metadata": {},
   "outputs": [],
   "source": [
    "# factor = 720\n",
    "# res = y_pred > (thresholds * factor)\n",
    "# boo = np.any(res, axis = 1)\n",
    "# verdicts = [1 if elem else 0 for elem in boo]\n",
    "# conf_matrix = confusion_matrix(y_test, verdicts)\n",
    "# TP = conf_matrix[1, 1]\n",
    "# TN = conf_matrix[0, 0]\n",
    "# FP = conf_matrix[0, 1]\n",
    "# FN = conf_matrix[1, 0]\n",
    "# F1 = f1_score(y_test, verdicts)\n",
    "# precision = precision_score(y_test, verdicts)\n",
    "# recall = recall_score(y_test, verdicts)\n",
    "# print(\"Precision:\", precision)\n",
    "# print(\"Recall:\", recall)\n",
    "# print(\"F1 Score:\", F1)\n",
    "# print(f'TP: {TP}\\nTN: {TN}\\nFP: {FP}\\nFN: {FN}')\n",
    "# print(f'Factor is: {factor}')"
   ]
  },
  {
   "cell_type": "code",
   "execution_count": 35,
   "metadata": {},
   "outputs": [
    {
     "data": {
      "text/plain": [
       "6680912"
      ]
     },
     "execution_count": 35,
     "metadata": {},
     "output_type": "execute_result"
    }
   ],
   "source": [
    "sum(p.numel() for p in AE1.parameters() if p.requires_grad)"
   ]
  }
 ],
 "metadata": {
  "kernelspec": {
   "display_name": "NIS2",
   "language": "python",
   "name": "art2"
  },
  "language_info": {
   "codemirror_mode": {
    "name": "ipython",
    "version": 3
   },
   "file_extension": ".py",
   "mimetype": "text/x-python",
   "name": "python",
   "nbconvert_exporter": "python",
   "pygments_lexer": "ipython3",
   "version": "3.12.2"
  }
 },
 "nbformat": 4,
 "nbformat_minor": 4
}
