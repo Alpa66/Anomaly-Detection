{
 "cells": [
  {
   "cell_type": "markdown",
   "metadata": {},
   "source": [
    "# Experiment 6\n",
    "In this experiment, the adversarial learning technique is dropped altogether, a single Variational Graph-based auto-encoder is used, using the torch geometry implementation of the VGAE\n",
    "\n",
    "VGAE proved to be inferior (to be tested) so back to experimenting with a model written from scratch"
   ]
  },
  {
   "cell_type": "code",
   "execution_count": 1,
   "metadata": {},
   "outputs": [
    {
     "name": "stdout",
     "output_type": "stream",
     "text": [
      " MNIST\t\t\t       SWaT_Dataset_Normal_v1.xlsx\n",
      " SWaT_Dataset_Attack_v0.csv    WADI_14days_new.csv\n",
      " SWaT_Dataset_Attack_v0.xlsx  'WADI.A1_9 Oct 2017'\n",
      " SWaT_Dataset_Normal_v0.csv   'WADI.A2_19 Nov 2019'\n",
      " SWaT_Dataset_Normal_v0.xlsx   WADI_attackdataLABLE.csv\n",
      " SWaT_Dataset_Normal_v1.csv\n"
     ]
    }
   ],
   "source": [
    "!ls ../../Projects/data/"
   ]
  },
  {
   "cell_type": "code",
   "execution_count": 1,
   "metadata": {},
   "outputs": [],
   "source": [
    "import numpy as np\n",
    "import pandas as pd\n",
    "import torch\n",
    "import torch.nn as nn\n",
    "import matplotlib.pyplot as plt\n",
    "import torch.nn.functional as F\n",
    "import torch_geometric.transforms as T\n",
    "\n",
    "from torch.optim import Adam\n",
    "from torch_geometric.nn import GAE, VGAE, GCNConv\n",
    "from torch.utils.data import Dataset, DataLoader\n",
    "from sklearn.preprocessing import StandardScaler\n",
    "from layers import *\n",
    "\n",
    "from sklearn.metrics import confusion_matrix, f1_score, roc_curve, roc_auc_score, precision_score, recall_score"
   ]
  },
  {
   "cell_type": "markdown",
   "metadata": {},
   "source": [
    "### Dataset:"
   ]
  },
  {
   "cell_type": "code",
   "execution_count": 2,
   "metadata": {},
   "outputs": [],
   "source": [
    "df = pd.read_csv('../../Projects/data/SWaT_Dataset_Normal_v1.csv')\n",
    "df = df.drop(columns=[' Timestamp', 'Normal/Attack'])\n",
    "df = df.astype('float64')\n",
    "mm = StandardScaler()\n",
    "Normalized = pd.DataFrame(mm.fit_transform(df))\n",
    "train_set = Normalized[: int(0.8 * Normalized.shape[0])]\n",
    "validation_set = Normalized[int(0.8 * Normalized.shape[0]):]"
   ]
  },
  {
   "cell_type": "code",
   "execution_count": 3,
   "metadata": {},
   "outputs": [
    {
     "data": {
      "text/plain": [
       "device(type='cuda')"
      ]
     },
     "execution_count": 3,
     "metadata": {},
     "output_type": "execute_result"
    }
   ],
   "source": [
    "device = torch.device('cuda' if torch.cuda.is_available() else 'cpu')\n",
    "device"
   ]
  },
  {
   "cell_type": "markdown",
   "metadata": {},
   "source": [
    "### Dataloader:"
   ]
  },
  {
   "cell_type": "code",
   "execution_count": 11,
   "metadata": {},
   "outputs": [],
   "source": [
    "window_size = 100\n",
    "\n",
    "train_dataset = SWat_dataset(train_set, train_set, window_size, device)\n",
    "validation_dataset = SWat_dataset(validation_set, validation_set, window_size, device)\n",
    "\n",
    "batch_size = 4096\n",
    "train_loader = DataLoader(train_dataset, batch_size=batch_size, shuffle=True, num_workers=0)\n",
    "validation_loader = DataLoader(validation_dataset, batch_size=batch_size, shuffle=False, num_workers=0)"
   ]
  },
  {
   "cell_type": "markdown",
   "metadata": {},
   "source": [
    "### Model:"
   ]
  },
  {
   "cell_type": "code",
   "execution_count": 4,
   "metadata": {},
   "outputs": [],
   "source": [
    "class GEncoder(nn.Module):\n",
    "    def __init__(self, num_nodes, window_size, alpha, k, device):\n",
    "        super(GEncoder, self).__init__()\n",
    "        self.num_nodes = num_nodes\n",
    "        self.window_size = window_size\n",
    "        self.conv1 = GCNLayer(window_size, 20)\n",
    "        self.conv2 = GCNLayer(20, 5)\n",
    "        self.idx = torch.arange(num_nodes).to(device)\n",
    "        self.A = Graph_Directed_A(num_nodes, window_size, alpha, k, device)\n",
    "        self.device = device\n",
    "\n",
    "    def forward(self, X):\n",
    "        X = torch.transpose(X, 1, 2)\n",
    "        adj = self.A(self.idx)\n",
    "        h = self.conv1(adj, X).relu()\n",
    "        h = self.conv2(adj, h).relu()\n",
    "        return h\n",
    "        \n",
    "        \n",
    "\n",
    "class GCN_autoencoder(nn.Module):\n",
    "    def __init__(self, encoder, num_nodes, window_size):\n",
    "        super(GCN_autoencoder, self).__init__()\n",
    "        self.window_size = window_size\n",
    "        self.num_nodes = num_nodes\n",
    "        self.encoder = encoder\n",
    "        self.decoder = nn.Sequential(\n",
    "            nn.Linear(255, 515),\n",
    "            nn.ReLU(),\n",
    "            nn.Linear(515, num_nodes * window_size)\n",
    "        )\n",
    "        \n",
    "    def forward(self, X):\n",
    "        x = self.encoder(X)\n",
    "        x = torch.flatten(x,1)\n",
    "        x = self.decoder(x)\n",
    "        return x.view(-1, self.window_size, self.num_nodes)\n",
    "\n",
    "    def get_adj(self):\n",
    "        return self.encoder.A(self.encoder.idx)"
   ]
  },
  {
   "cell_type": "code",
   "execution_count": 8,
   "metadata": {},
   "outputs": [],
   "source": [
    "num_nodes = 51 # number of nodes\n",
    "ngnn = 1 # number of graph structure learning layers\n",
    "gsllayer = 'directed' # type of graph structure learning layer ('relu', 'directed', 'unidirected', 'undirected')\n",
    "hidden_nodes = 50 # feature size in GCN layers\n",
    "alpha = 0.15 # hyperparameter for weights of edges\n",
    "k = None  # max number of edges for each node\n",
    "epochs = 15\n",
    "out_channels = 2 # number of process states"
   ]
  },
  {
   "cell_type": "code",
   "execution_count": 12,
   "metadata": {},
   "outputs": [],
   "source": [
    "Encoder = GEncoder(num_nodes, window_size, alpha, k, device)\n",
    "AE1 = GCN_autoencoder(Encoder, num_nodes, window_size)"
   ]
  },
  {
   "cell_type": "code",
   "execution_count": 13,
   "metadata": {},
   "outputs": [
    {
     "data": {
      "text/plain": [
       "GCN_autoencoder(\n",
       "  (encoder): GEncoder(\n",
       "    (conv1): GCNLayer(\n",
       "      (dense): Linear(in_features=100, out_features=20, bias=True)\n",
       "    )\n",
       "    (conv2): GCNLayer(\n",
       "      (dense): Linear(in_features=20, out_features=5, bias=True)\n",
       "    )\n",
       "    (A): Graph_Directed_A(\n",
       "      (e1): Embedding(51, 100)\n",
       "      (e2): Embedding(51, 100)\n",
       "      (l1): Linear(in_features=100, out_features=100, bias=True)\n",
       "      (l2): Linear(in_features=100, out_features=100, bias=True)\n",
       "    )\n",
       "  )\n",
       "  (decoder): Sequential(\n",
       "    (0): Linear(in_features=255, out_features=515, bias=True)\n",
       "    (1): ReLU()\n",
       "    (2): Linear(in_features=515, out_features=5100, bias=True)\n",
       "  )\n",
       ")"
      ]
     },
     "execution_count": 13,
     "metadata": {},
     "output_type": "execute_result"
    }
   ],
   "source": [
    "AE1.to(device)"
   ]
  },
  {
   "cell_type": "code",
   "execution_count": 14,
   "metadata": {},
   "outputs": [],
   "source": [
    "optimizer1 = torch.optim.Adam(AE1.parameters())"
   ]
  },
  {
   "cell_type": "code",
   "execution_count": 10,
   "metadata": {},
   "outputs": [],
   "source": [
    "# from torch.utils.tensorboard import SummaryWriter"
   ]
  },
  {
   "cell_type": "code",
   "execution_count": 35,
   "metadata": {},
   "outputs": [
    {
     "name": "stdout",
     "output_type": "stream",
     "text": [
      "Epoch: 0 ---> Val loss: AE1 0.0090\n",
      "Train loss: AE1 0.0091\n",
      "Epoch: 1 ---> Val loss: AE1 0.0089\n",
      "Train loss: AE1 0.0088\n"
     ]
    }
   ],
   "source": [
    "AE1_val_history = []\n",
    "for i in range(2):\n",
    "    running_loss_AE1 = []\n",
    "    val_loss_AE1 = []\n",
    "    for index_b, features in enumerate(train_loader):\n",
    "        \n",
    "        w1 = AE1(features)\n",
    "        lossAE1 = torch.mean((features - w1) ** 2)\n",
    "        \n",
    "        running_loss_AE1.append(lossAE1)\n",
    "        lossAE1.backward()\n",
    "        optimizer1.step()\n",
    "        optimizer1.zero_grad()\n",
    "    \n",
    "    for index_b, features in enumerate(validation_loader):\n",
    "        with torch.no_grad():\n",
    "\n",
    "            w1 = AE1(features)\n",
    "            lossAE1 = torch.mean((features - w1) ** 2)\n",
    "            val_loss_AE1.append(lossAE1)\n",
    "    AE1_val_history.append(torch.stack(val_loss_AE1).mean().item())\n",
    "    # writer.add_scalar('Autoendoer_1_train_loss epoch', torch.stack(running_loss_AE1).mean().item(), i + 1)\n",
    "    # writer.add_scalar('Autoendoer_1_train_loss epoch', AE1_val_history[-1], i + 1)\n",
    "    print(f'Epoch: {i} ---> Val loss: AE1 {AE1_val_history[-1]:.4f}')\n",
    "    print(f'Train loss: AE1 {torch.stack(running_loss_AE1).mean().item():.4f}')"
   ]
  },
  {
   "cell_type": "markdown",
   "metadata": {},
   "source": [
    "# Testing"
   ]
  },
  {
   "cell_type": "code",
   "execution_count": 16,
   "metadata": {},
   "outputs": [],
   "source": [
    "df2 = pd.read_csv('../../Projects/data/SWaT_Dataset_Attack_v0.csv')\n",
    "labels = df2['Normal/Attack']\n",
    "df2 = df2.drop(columns=[' Timestamp', 'Normal/Attack'])\n",
    "df2 = df2.astype('float64')\n",
    "df2.columns = df.columns\n",
    "test_normalized = pd.DataFrame(mm.transform(df2))"
   ]
  },
  {
   "cell_type": "code",
   "execution_count": 17,
   "metadata": {},
   "outputs": [],
   "source": [
    "test_dataset = SWat_dataset(test_normalized, test_normalized, window_size, device)\n",
    "test_loader = DataLoader(test_dataset, batch_size=batch_size, shuffle=False, num_workers=0)"
   ]
  },
  {
   "cell_type": "code",
   "execution_count": 43,
   "metadata": {},
   "outputs": [],
   "source": [
    "def testing(loader, alpha=.5, beta=.5):\n",
    "    results=[]\n",
    "    with torch.no_grad():\n",
    "        for batch in loader:\n",
    "            w1=AE1(batch)\n",
    "            results.append(torch.mean((batch-w1)**2, axis=1))\n",
    "    return results"
   ]
  },
  {
   "cell_type": "code",
   "execution_count": 42,
   "metadata": {},
   "outputs": [],
   "source": [
    "def get_threshold(val_loader):\n",
    "    recon_errors = testing(val_loader)\n",
    "    complete_vals = np.concatenate([torch.stack(recon_errors[:-1]).view(-1, num_nodes).detach().cpu().numpy(),\n",
    "                                    recon_errors[-1].view(-1, num_nodes).detach().cpu().numpy()])\n",
    "    return np.max(complete_vals, axis=0)"
   ]
  },
  {
   "cell_type": "code",
   "execution_count": 44,
   "metadata": {},
   "outputs": [
    {
     "ename": "AttributeError",
     "evalue": "'list' object has no attribute 'values'",
     "output_type": "error",
     "traceback": [
      "\u001b[0;31m---------------------------------------------------------------------------\u001b[0m",
      "\u001b[0;31mAttributeError\u001b[0m                            Traceback (most recent call last)",
      "Cell \u001b[0;32mIn[44], line 1\u001b[0m\n\u001b[0;32m----> 1\u001b[0m labels \u001b[38;5;241m=\u001b[39m labels\u001b[38;5;241m.\u001b[39mvalues\n\u001b[1;32m      2\u001b[0m labels \u001b[38;5;241m=\u001b[39m [\u001b[38;5;241m0\u001b[39m \u001b[38;5;28;01mif\u001b[39;00m (lab \u001b[38;5;241m==\u001b[39m \u001b[38;5;124m'\u001b[39m\u001b[38;5;124mNormal\u001b[39m\u001b[38;5;124m'\u001b[39m) \u001b[38;5;28;01melse\u001b[39;00m \u001b[38;5;241m1\u001b[39m \u001b[38;5;28;01mfor\u001b[39;00m lab \u001b[38;5;129;01min\u001b[39;00m labels]\n\u001b[1;32m      3\u001b[0m windows_labels\u001b[38;5;241m=\u001b[39m[]\n",
      "\u001b[0;31mAttributeError\u001b[0m: 'list' object has no attribute 'values'"
     ]
    }
   ],
   "source": [
    "labels = labels.values\n",
    "labels = [0 if (lab == 'Normal') else 1 for lab in labels]\n",
    "windows_labels=[]\n",
    "for i in range(len(labels)-window_size):\n",
    "    windows_labels.append(list(np.int32(labels[i:i+window_size])))"
   ]
  },
  {
   "cell_type": "code",
   "execution_count": 21,
   "metadata": {},
   "outputs": [],
   "source": [
    "y_test = [1.0 if (np.sum(window) > 0) else 0 for window in windows_labels]"
   ]
  },
  {
   "cell_type": "code",
   "execution_count": 45,
   "metadata": {},
   "outputs": [],
   "source": [
    "thresholds = get_threshold(validation_loader) * 1.5\n",
    "results=testing(test_loader, alpha=0.3, beta=0.7)\n",
    "y_pred=np.concatenate([torch.stack(results[:-1]).view(-1, num_nodes).detach().cpu().numpy(), \n",
    "                       results[-1].view(-1, num_nodes).detach().cpu().numpy()])"
   ]
  },
  {
   "cell_type": "code",
   "execution_count": 38,
   "metadata": {},
   "outputs": [
    {
     "data": {
      "image/png": "[encoded data removed]",
      "text/plain": [
       "<Figure size 640x480 with 1 Axes>"
      ]
     },
     "metadata": {},
     "output_type": "display_data"
    },
    {
     "data": {
      "text/plain": [
       "array([0.9440274], dtype=float32)"
      ]
     },
     "execution_count": 38,
     "metadata": {},
     "output_type": "execute_result"
    }
   ],
   "source": [
    "threshold = ROC(y_test,y_pred)\n",
    "threshold"
   ]
  },
  {
   "cell_type": "code",
   "execution_count": 93,
   "metadata": {},
   "outputs": [],
   "source": [
    "thresholds = thresholds * 0.9"
   ]
  },
  {
   "cell_type": "code",
   "execution_count": 94,
   "metadata": {},
   "outputs": [],
   "source": [
    "res = y_pred > thresholds"
   ]
  },
  {
   "cell_type": "code",
   "execution_count": 95,
   "metadata": {},
   "outputs": [
    {
     "name": "stdout",
     "output_type": "stream",
     "text": [
      "Precision: 0.9498677891101398\n",
      "Recall: 0.6069445881176511\n",
      "F1 Score: 0.7406378860557099\n",
      "TP: 35204\n",
      "TN: 389959\n",
      "FP: 1858\n",
      "FN: 22798\n"
     ]
    }
   ],
   "source": [
    "boo = np.any(res, axis = 1)\n",
    "verdicts = [1 if elem else 0 for elem in boo]\n",
    "conf_matrix = confusion_matrix(y_test, verdicts)\n",
    "TP = conf_matrix[1, 1]\n",
    "TN = conf_matrix[0, 0]\n",
    "FP = conf_matrix[0, 1]\n",
    "FN = conf_matrix[1, 0]\n",
    "F1 = f1_score(y_test, verdicts)\n",
    "precision = precision_score(y_test, verdicts)\n",
    "recall = recall_score(y_test, verdicts)\n",
    "print(\"Precision:\", precision)\n",
    "print(\"Recall:\", recall)\n",
    "print(\"F1 Score:\", F1)\n",
    "print(f'TP: {TP}\\nTN: {TN}\\nFP: {FP}\\nFN: {FN}')"
   ]
  },
  {
   "cell_type": "code",
   "execution_count": 64,
   "metadata": {},
   "outputs": [
    {
     "data": {
      "text/plain": [
       "0.2616124305143452"
      ]
     },
     "execution_count": 64,
     "metadata": {},
     "output_type": "execute_result"
    }
   ],
   "source": [
    "F1"
   ]
  },
  {
   "cell_type": "code",
   "execution_count": 39,
   "metadata": {},
   "outputs": [
    {
     "name": "stdout",
     "output_type": "stream",
     "text": [
      "best: 1.3 F1: 0.7664679504088631\n"
     ]
    },
    {
     "data": {
      "text/plain": [
       "[<matplotlib.lines.Line2D at 0x7ec249db2390>]"
      ]
     },
     "execution_count": 39,
     "metadata": {},
     "output_type": "execute_result"
    },
    {
     "data": {
      "image/png": "[encoded data removed]",
      "text/plain": [
       "<Figure size 640x480 with 1 Axes>"
      ]
     },
     "metadata": {},
     "output_type": "display_data"
    }
   ],
   "source": [
    "ff = 0\n",
    "f_history = []\n",
    "initial_y = 0.8\n",
    "best = -1\n",
    "for inc in np.linspace(0, 3, 25):\n",
    "    y_pred_int = [1 if (yy > initial_y + inc) else 0 for yy in y_pred]\n",
    "    conf_matrix = confusion_matrix(y_test, y_pred_int)\n",
    "    TP = conf_matrix[1, 1]\n",
    "    TN = conf_matrix[0, 0]\n",
    "    FP = conf_matrix[0, 1]\n",
    "    FN = conf_matrix[1, 0]\n",
    "    F1 = f1_score(y_test, y_pred_int)\n",
    "    f_history.append(F1)\n",
    "\n",
    "    precision = precision_score(y_test, y_pred_int)\n",
    "    recall = recall_score(y_test, y_pred_int)\n",
    "    if F1 > ff:\n",
    "        ff = F1\n",
    "        best = inc\n",
    "print(f'best: {best + initial_y} F1: {ff}')\n",
    "plt.plot(f_history)"
   ]
  },
  {
   "cell_type": "markdown",
   "metadata": {},
   "source": [
    "# Loading and saving the model"
   ]
  },
  {
   "cell_type": "code",
   "execution_count": 15,
   "metadata": {},
   "outputs": [
    {
     "data": {
      "text/plain": [
       "<All keys matched successfully>"
      ]
     },
     "execution_count": 15,
     "metadata": {},
     "output_type": "execute_result"
    }
   ],
   "source": [
    "AE1.load_state_dict(torch.load('Continue_in_copy2.pth'))"
   ]
  },
  {
   "cell_type": "code",
   "execution_count": 40,
   "metadata": {},
   "outputs": [],
   "source": [
    "torch.save(AE1.state_dict(), 'Continue_in_copy2.pth')"
   ]
  },
  {
   "cell_type": "markdown",
   "metadata": {},
   "source": [
    "# Analyzing the results"
   ]
  },
  {
   "cell_type": "code",
   "execution_count": 41,
   "metadata": {},
   "outputs": [
    {
     "data": {
      "text/plain": [
       "array([ 0,  1,  2,  3,  4,  5,  6,  7,  8,  9, 10, 11, 12, 13, 14, 15, 16,\n",
       "       17, 18, 19, 20, 21, 22, 23, 24, 25, 26, 27, 28, 29, 30, 31, 32, 33,\n",
       "       34, 35, 36, 37, 38, 39, 40, 41, 42, 43, 44, 45, 46, 47, 48, 49, 50,\n",
       "       51, 52, 53, 54, 55, 56, 57, 58, 59, 60, 61, 62, 63, 64, 65, 66, 67,\n",
       "       68, 69, 70, 71, 72, 73, 74, 75, 76, 77, 78, 79, 80, 81, 82, 83, 84,\n",
       "       85, 86, 87, 88, 89, 90, 91, 92, 93, 94, 95, 96, 97, 98, 99])"
      ]
     },
     "execution_count": 41,
     "metadata": {},
     "output_type": "execute_result"
    }
   ],
   "source": [
    "X_ind = np.array([i for i in range(100)])\n",
    "X_ind"
   ]
  },
  {
   "cell_type": "code",
   "execution_count": 46,
   "metadata": {},
   "outputs": [],
   "source": [
    "features = torch.transpose(features, 1, 2)"
   ]
  },
  {
   "cell_type": "code",
   "execution_count": 47,
   "metadata": {},
   "outputs": [
    {
     "data": {
      "image/png": "[encoded data removed]",
      "text/plain": [
       "<Figure size 640x480 with 1 Axes>"
      ]
     },
     "metadata": {},
     "output_type": "display_data"
    }
   ],
   "source": [
    "AE1.eval()\n",
    "with torch.no_grad():\n",
    "    output = AE1(features)\n",
    "output = torch.transpose(output, 1, 2)\n",
    "features = torch.transpose(features, 1, 2)\n",
    "plt.plot(X_ind, features[0, 0, :].cpu(), label='Original signal')\n",
    "plt.plot(X_ind, output[0, 0, :].cpu(), label='Predicted signal')\n",
    "plt.xlabel('time')\n",
    "plt.ylabel('sensor x')\n",
    "plt.title('Original and predicted series')\n",
    "plt.show()\n",
    "output = torch.transpose(output, 1, 2)\n",
    "features = torch.transpose(features, 1, 2)"
   ]
  }
 ],
 "metadata": {
  "kernelspec": {
   "display_name": "NIS2",
   "language": "python",
   "name": "art2"
  },
  "language_info": {
   "codemirror_mode": {
    "name": "ipython",
    "version": 3
   },
   "file_extension": ".py",
   "mimetype": "text/x-python",
   "name": "python",
   "nbconvert_exporter": "python",
   "pygments_lexer": "ipython3",
   "version": "3.12.2"
  }
 },
 "nbformat": 4,
 "nbformat_minor": 4
}
