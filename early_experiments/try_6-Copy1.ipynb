{
 "cells": [
  {
   "cell_type": "markdown",
   "metadata": {},
   "source": [
    "# Experiment 2\n",
    "Here a convolution layer is first used as before, but then two linear layers are used instead of another convolution layer"
   ]
  },
  {
   "cell_type": "code",
   "execution_count": 1,
   "metadata": {},
   "outputs": [
    {
     "name": "stdout",
     "output_type": "stream",
     "text": [
      "ls: cannot access '../datasets/swat/Physical/': No such file or directory\n"
     ]
    }
   ],
   "source": [
    "!ls ../datasets/swat/Physical/"
   ]
  },
  {
   "cell_type": "code",
   "execution_count": 1,
   "metadata": {},
   "outputs": [],
   "source": [
    "import torch\n",
    "import time\n",
    "import numpy as np\n",
    "import pandas as pd\n",
    "import torch.nn as nn\n",
    "import torch.nn.functional as F\n",
    "import matplotlib.pyplot as plt\n",
    "\n",
    "from torch.optim import Adam\n",
    "from torch.utils.data import Dataset, DataLoader\n",
    "from sklearn.preprocessing import MinMaxScaler, StandardScaler\n",
    "from sklearn.metrics import confusion_matrix, f1_score, roc_curve, roc_auc_score, precision_score, recall_score\n",
    "from layers import *\n",
    "\n",
    "set_seed(11884)"
   ]
  },
  {
   "cell_type": "markdown",
   "metadata": {},
   "source": [
    "### Dataset:"
   ]
  },
  {
   "cell_type": "code",
   "execution_count": 2,
   "metadata": {},
   "outputs": [],
   "source": [
    "df = pd.read_csv('../../Projects/data/SWaT_Dataset_Normal_v1.csv')\n",
    "df = df.drop(columns=[' Timestamp', 'Normal/Attack'])\n",
    "df = df.astype('float64')\n",
    "mm = StandardScaler()\n",
    "Normalized = pd.DataFrame(mm.fit_transform(df))\n",
    "train_set = Normalized[: int(0.8 * Normalized.shape[0])]\n",
    "validation_set = Normalized[int(0.8 * Normalized.shape[0]):]"
   ]
  },
  {
   "cell_type": "code",
   "execution_count": 3,
   "metadata": {},
   "outputs": [],
   "source": [
    "class SWat_dataset(Dataset):\n",
    "    def __init__(self, dataframe: pd.DataFrame, target: pd.DataFrame,  window_size, device):\n",
    "        self.data = dataframe\n",
    "        self.window_size = window_size\n",
    "        self.device = device\n",
    "\n",
    "    def __len__(self):\n",
    "        return len(self.data) - self.window_size\n",
    "\n",
    "    def __getitem__(self, idx):\n",
    "        window = self.data[idx: idx + self.window_size]\n",
    "        features = torch.tensor(window.iloc[:,:].values).float().to(self.device)\n",
    "        return features"
   ]
  },
  {
   "cell_type": "code",
   "execution_count": 4,
   "metadata": {},
   "outputs": [
    {
     "data": {
      "text/plain": [
       "device(type='cuda')"
      ]
     },
     "execution_count": 4,
     "metadata": {},
     "output_type": "execute_result"
    }
   ],
   "source": [
    "device = torch.device('cuda' if torch.cuda.is_available() else 'cpu')\n",
    "device"
   ]
  },
  {
   "cell_type": "markdown",
   "metadata": {},
   "source": [
    "### Dataloader:"
   ]
  },
  {
   "cell_type": "code",
   "execution_count": 5,
   "metadata": {},
   "outputs": [],
   "source": [
    "window_size = 100\n",
    "\n",
    "train_dataset = SWat_dataset(train_set, train_set, window_size, device)\n",
    "validation_dataset = SWat_dataset(validation_set, validation_set, window_size, device)\n",
    "\n",
    "batch_size = 4096\n",
    "train_loader = DataLoader(train_dataset, batch_size=batch_size, shuffle=True, num_workers=0)\n",
    "validation_loader = DataLoader(validation_dataset, batch_size=batch_size, shuffle=True, num_workers=0)"
   ]
  },
  {
   "cell_type": "markdown",
   "metadata": {},
   "source": [
    "### Model:"
   ]
  },
  {
   "cell_type": "code",
   "execution_count": 6,
   "metadata": {},
   "outputs": [],
   "source": [
    "class GCNLayer(nn.Module):\n",
    "    def __init__(self, in_dim, out_dim):\n",
    "        super().__init__()\n",
    "        \n",
    "        self.dense = nn.Linear(in_dim, out_dim)\n",
    "\n",
    "    def forward(self, adj, X):\n",
    "        adj = adj + torch.eye(adj.size(0)).to(adj.device)\n",
    "        h = self.dense(X)\n",
    "        norm = adj.sum(1)**(-1/2)\n",
    "        h = norm[None, :] * adj * norm[:, None] @ h\n",
    "        return h\n",
    "    \n",
    "    \n",
    "# A = ReLu(W)    \n",
    "class Graph_ReLu_W(nn.Module):\n",
    "    def __init__(self, num_nodes, k, device):\n",
    "        super(Graph_ReLu_W, self).__init__()\n",
    "        self.num_nodes = num_nodes\n",
    "        self.k = k\n",
    "        \n",
    "        self.A = nn.Parameter(torch.randn(num_nodes, num_nodes).to(device), requires_grad=True).to(device)\n",
    "\n",
    "    def forward(self, idx):\n",
    "        \n",
    "        adj = F.relu(self.A)\n",
    "        \n",
    "        if self.k:\n",
    "            mask = torch.zeros(idx.size(0), idx.size(0)).to(self.device)\n",
    "            mask.fill_(float('0'))\n",
    "            s1,t1 = (adj + torch.rand_like(adj)*0.01).topk(self.k,1)\n",
    "            mask.scatter_(1,t1,s1.fill_(1))\n",
    "            adj = adj*mask\n",
    "            \n",
    "        return adj\n",
    "\n",
    "# A for Directed graphs:\n",
    "class Graph_Directed_A(nn.Module):\n",
    "      \n",
    "    def __init__(self, num_nodes, window_size, alpha, k, device):\n",
    "        super(Graph_Directed_A, self).__init__()\n",
    "        \n",
    "        self.alpha = alpha\n",
    "        self.k = k\n",
    "        self.device = device\n",
    "        \n",
    "        self.e1 = nn.Embedding(num_nodes, window_size)\n",
    "        self.e2 = nn.Embedding(num_nodes, window_size)\n",
    "        self.l1 = nn.Linear(window_size,window_size)\n",
    "        self.l2 = nn.Linear(window_size,window_size)\n",
    "        \n",
    "    def forward(self, idx):\n",
    "        \n",
    "        m1 = torch.tanh(self.alpha*self.l1(self.e1(idx)))\n",
    "        m2 = torch.tanh(self.alpha*self.l2(self.e2(idx)))\n",
    "        adj = F.relu(torch.tanh(self.alpha*torch.mm(m1, m2.transpose(1,0))))\n",
    "        \n",
    "        if self.k:\n",
    "            mask = torch.zeros(idx.size(0), idx.size(0)).to(self.device)\n",
    "            mask.fill_(float('0'))\n",
    "            s1,t1 = (adj + torch.rand_like(adj)*0.01).topk(self.k,1)\n",
    "            mask.scatter_(1,t1,s1.fill_(1))\n",
    "            adj = adj*mask\n",
    "        \n",
    "        return adj"
   ]
  },
  {
   "cell_type": "code",
   "execution_count": 7,
   "metadata": {},
   "outputs": [],
   "source": [
    "class GEncoder(nn.Module):\n",
    "    def __init__(self, num_nodes, window_size, alpha, k, device):\n",
    "        super(GEncoder, self).__init__()\n",
    "        self.num_nodes = num_nodes\n",
    "        self.window_size = window_size\n",
    "        self.conv1 = GCNLayer(window_size, 12)\n",
    "        self.conv2 = GCNLayer(12, 4)\n",
    "        self.idx = torch.arange(num_nodes).to(device)\n",
    "        self.A = Graph_Directed_A(num_nodes, window_size, alpha, k, device)\n",
    "        self.device = device\n",
    "\n",
    "    def forward(self, X):\n",
    "        X = torch.transpose(X, 1, 2)\n",
    "        adj = self.A(self.idx)\n",
    "        h = self.conv1(adj, X).relu()\n",
    "        h = self.conv2(adj, h).relu()\n",
    "        return h\n",
    "        \n",
    "        \n",
    "\n",
    "class GCN_autoencoder(nn.Module):\n",
    "    def __init__(self, encoder, num_nodes, window_size):\n",
    "        super(GCN_autoencoder, self).__init__()\n",
    "        self.window_size = window_size\n",
    "        self.num_nodes = num_nodes\n",
    "        self.encoder = encoder\n",
    "        self.decoder = nn.Sequential(\n",
    "            nn.Linear(204, 400),\n",
    "            nn.ReLU(),\n",
    "            nn.Linear(400, 800),\n",
    "            nn.ReLU(),\n",
    "            nn.Linear(800, num_nodes * window_size)\n",
    "        )\n",
    "        \n",
    "    def forward(self, X):\n",
    "        x = self.encoder(X)\n",
    "        x = torch.flatten(x,1)\n",
    "        x = self.decoder(x)\n",
    "        return x.view(-1, self.window_size, self.num_nodes)\n",
    "\n",
    "    def get_adj(self):\n",
    "        return self.encoder.A(self.encoder.idx)"
   ]
  },
  {
   "cell_type": "code",
   "execution_count": 12,
   "metadata": {},
   "outputs": [],
   "source": [
    "num_nodes = 51 # number of nodes\n",
    "ngnn = 1 # number of graph structure learning layers\n",
    "gsllayer = 'directed' # type of graph structure learning layer ('relu', 'directed', 'unidirected', 'undirected')\n",
    "hidden_nodes = 12 # feature size in GCN layers\n",
    "epochs = 50\n",
    "alpha = 0.2 # hyperparameter for weights of edges\n",
    "k = None # max number of edges for each node\n",
    "out_channels = 2 # number of process states"
   ]
  },
  {
   "cell_type": "code",
   "execution_count": 9,
   "metadata": {},
   "outputs": [],
   "source": [
    "Encoder = GEncoder(num_nodes, window_size, alpha, k, device)\n",
    "AE1 = GCN_autoencoder(Encoder, num_nodes, window_size)\n",
    "AE2 = GCN_autoencoder(Encoder, num_nodes, window_size)"
   ]
  },
  {
   "cell_type": "code",
   "execution_count": 10,
   "metadata": {},
   "outputs": [
    {
     "data": {
      "text/plain": [
       "GCN_autoencoder(\n",
       "  (encoder): GEncoder(\n",
       "    (conv1): GCNLayer(\n",
       "      (dense): Linear(in_features=100, out_features=12, bias=True)\n",
       "    )\n",
       "    (conv2): GCNLayer(\n",
       "      (dense): Linear(in_features=12, out_features=4, bias=True)\n",
       "    )\n",
       "    (A): Graph_Directed_A(\n",
       "      (e1): Embedding(51, 100)\n",
       "      (e2): Embedding(51, 100)\n",
       "      (l1): Linear(in_features=100, out_features=100, bias=True)\n",
       "      (l2): Linear(in_features=100, out_features=100, bias=True)\n",
       "    )\n",
       "  )\n",
       "  (decoder): Sequential(\n",
       "    (0): Linear(in_features=204, out_features=400, bias=True)\n",
       "    (1): ReLU()\n",
       "    (2): Linear(in_features=400, out_features=800, bias=True)\n",
       "    (3): ReLU()\n",
       "    (4): Linear(in_features=800, out_features=5100, bias=True)\n",
       "  )\n",
       ")"
      ]
     },
     "execution_count": 10,
     "metadata": {},
     "output_type": "execute_result"
    }
   ],
   "source": [
    "AE1.to(device)\n",
    "AE2.to(device)"
   ]
  },
  {
   "cell_type": "code",
   "execution_count": 11,
   "metadata": {},
   "outputs": [],
   "source": [
    "optimizer1 = torch.optim.Adam(AE1.parameters())\n",
    "optimizer2 = torch.optim.Adam(AE2.parameters())"
   ]
  },
  {
   "cell_type": "code",
   "execution_count": 13,
   "metadata": {},
   "outputs": [
    {
     "name": "stdout",
     "output_type": "stream",
     "text": [
      "Epoch: 0 ---> Val loss: AE1 0.0748, AE2: 0.0747\n",
      "Train loss: AE1 0.2539, AE2 0.2492\n",
      "Epoch: 1 ---> Val loss: AE1 0.0837, AE2: -0.0161\n",
      "Train loss: AE1 0.1022, AE2 -0.0130\n",
      "Epoch: 2 ---> Val loss: AE1 0.0756, AE2: -0.0333\n",
      "Train loss: AE1 0.2129, AE2 -0.1237\n",
      "Epoch: 3 ---> Val loss: AE1 0.0933, AE2: -0.0638\n",
      "Train loss: AE1 0.3298, AE2 -0.2698\n",
      "Epoch: 4 ---> Val loss: AE1 0.0948, AE2: -0.0730\n",
      "Train loss: AE1 0.3214, AE2 -0.2942\n",
      "Epoch: 5 ---> Val loss: AE1 0.1440, AE2: -0.1219\n",
      "Train loss: AE1 0.3895, AE2 -0.3576\n",
      "Epoch: 6 ---> Val loss: AE1 0.1543, AE2: -0.1367\n",
      "Train loss: AE1 0.4179, AE2 -0.3917\n",
      "Epoch: 7 ---> Val loss: AE1 0.1658, AE2: -0.1502\n",
      "Train loss: AE1 0.4711, AE2 -0.4457\n",
      "Epoch: 8 ---> Val loss: AE1 0.1685, AE2: -0.1552\n",
      "Train loss: AE1 0.5142, AE2 -0.4938\n",
      "Epoch: 9 ---> Val loss: AE1 0.1849, AE2: -0.1738\n",
      "Train loss: AE1 0.5275, AE2 -0.5135\n",
      "Epoch: 10 ---> Val loss: AE1 0.1704, AE2: -0.1615\n",
      "Train loss: AE1 0.5338, AE2 -0.5228\n",
      "Epoch: 11 ---> Val loss: AE1 0.1658, AE2: -0.1578\n",
      "Train loss: AE1 0.5264, AE2 -0.5173\n",
      "Epoch: 12 ---> Val loss: AE1 0.1740, AE2: -0.1663\n",
      "Train loss: AE1 0.5388, AE2 -0.5292\n",
      "Epoch: 13 ---> Val loss: AE1 0.1751, AE2: -0.1683\n",
      "Train loss: AE1 0.5525, AE2 -0.5442\n",
      "Epoch: 14 ---> Val loss: AE1 0.1715, AE2: -0.1654\n",
      "Train loss: AE1 0.5469, AE2 -0.5401\n",
      "Epoch: 15 ---> Val loss: AE1 0.1720, AE2: -0.1664\n",
      "Train loss: AE1 0.5437, AE2 -0.5376\n",
      "Epoch: 16 ---> Val loss: AE1 0.1915, AE2: -0.1858\n",
      "Train loss: AE1 0.5573, AE2 -0.5503\n",
      "Epoch: 17 ---> Val loss: AE1 0.1811, AE2: -0.1762\n",
      "Train loss: AE1 0.5670, AE2 -0.5613\n",
      "Epoch: 18 ---> Val loss: AE1 0.1763, AE2: -0.1718\n",
      "Train loss: AE1 0.5627, AE2 -0.5578\n",
      "Epoch: 19 ---> Val loss: AE1 0.1780, AE2: -0.1737\n",
      "Train loss: AE1 0.5613, AE2 -0.5566\n",
      "Epoch: 20 ---> Val loss: AE1 0.2099, AE2: -0.2048\n",
      "Train loss: AE1 0.5699, AE2 -0.5642\n",
      "Epoch: 21 ---> Val loss: AE1 0.2549, AE2: -0.2501\n",
      "Train loss: AE1 0.6170, AE2 -0.6094\n",
      "Epoch: 22 ---> Val loss: AE1 0.2481, AE2: -0.2442\n",
      "Train loss: AE1 0.6612, AE2 -0.6565\n",
      "Epoch: 23 ---> Val loss: AE1 0.2475, AE2: -0.2440\n",
      "Train loss: AE1 0.6596, AE2 -0.6557\n",
      "Epoch: 24 ---> Val loss: AE1 0.2482, AE2: -0.2448\n",
      "Train loss: AE1 0.6603, AE2 -0.6567\n",
      "Epoch: 25 ---> Val loss: AE1 0.2499, AE2: -0.2467\n",
      "Train loss: AE1 0.6615, AE2 -0.6581\n",
      "Epoch: 26 ---> Val loss: AE1 0.2503, AE2: -0.2473\n",
      "Train loss: AE1 0.6634, AE2 -0.6603\n",
      "Epoch: 27 ---> Val loss: AE1 0.2511, AE2: -0.2483\n",
      "Train loss: AE1 0.6642, AE2 -0.6613\n",
      "Epoch: 28 ---> Val loss: AE1 0.2515, AE2: -0.2488\n",
      "Train loss: AE1 0.6658, AE2 -0.6630\n",
      "Epoch: 29 ---> Val loss: AE1 0.2515, AE2: -0.2489\n",
      "Train loss: AE1 0.6676, AE2 -0.6649\n",
      "Epoch: 30 ---> Val loss: AE1 0.2542, AE2: -0.2517\n",
      "Train loss: AE1 0.6695, AE2 -0.6670\n",
      "Epoch: 31 ---> Val loss: AE1 0.2537, AE2: -0.2514\n",
      "Train loss: AE1 0.6698, AE2 -0.6673\n",
      "Epoch: 32 ---> Val loss: AE1 0.2549, AE2: -0.2526\n",
      "Train loss: AE1 0.6714, AE2 -0.6690\n",
      "Epoch: 33 ---> Val loss: AE1 0.2545, AE2: -0.2523\n",
      "Train loss: AE1 0.6739, AE2 -0.6716\n",
      "Epoch: 34 ---> Val loss: AE1 0.2580, AE2: -0.2557\n",
      "Train loss: AE1 0.6804, AE2 -0.6776\n",
      "Epoch: 35 ---> Val loss: AE1 0.2705, AE2: -0.2682\n",
      "Train loss: AE1 0.6889, AE2 -0.6859\n",
      "Epoch: 36 ---> Val loss: AE1 0.2673, AE2: -0.2653\n",
      "Train loss: AE1 0.6903, AE2 -0.6880\n",
      "Epoch: 37 ---> Val loss: AE1 0.2698, AE2: -0.2679\n",
      "Train loss: AE1 0.6886, AE2 -0.6867\n",
      "Epoch: 38 ---> Val loss: AE1 0.2693, AE2: -0.2674\n",
      "Train loss: AE1 0.6892, AE2 -0.6873\n",
      "Epoch: 39 ---> Val loss: AE1 0.2708, AE2: -0.2691\n",
      "Train loss: AE1 0.6895, AE2 -0.6877\n",
      "Epoch: 40 ---> Val loss: AE1 0.2710, AE2: -0.2693\n",
      "Train loss: AE1 0.6901, AE2 -0.6884\n",
      "Epoch: 41 ---> Val loss: AE1 0.2740, AE2: -0.2723\n",
      "Train loss: AE1 0.6934, AE2 -0.6916\n",
      "Epoch: 42 ---> Val loss: AE1 0.2747, AE2: -0.2731\n",
      "Train loss: AE1 0.6968, AE2 -0.6950\n",
      "Epoch: 43 ---> Val loss: AE1 0.2762, AE2: -0.2747\n",
      "Train loss: AE1 0.6959, AE2 -0.6944\n",
      "Epoch: 44 ---> Val loss: AE1 0.2775, AE2: -0.2761\n",
      "Train loss: AE1 0.6967, AE2 -0.6952\n",
      "Epoch: 45 ---> Val loss: AE1 0.2774, AE2: -0.2760\n",
      "Train loss: AE1 0.6966, AE2 -0.6952\n",
      "Epoch: 46 ---> Val loss: AE1 0.4351, AE2: -0.4309\n",
      "Train loss: AE1 0.7694, AE2 -0.7612\n",
      "Epoch: 47 ---> Val loss: AE1 0.4280, AE2: -0.4259\n",
      "Train loss: AE1 0.8497, AE2 -0.8466\n",
      "Epoch: 48 ---> Val loss: AE1 0.4342, AE2: -0.4308\n",
      "Train loss: AE1 0.8505, AE2 -0.8409\n",
      "Epoch: 49 ---> Val loss: AE1 0.4400, AE2: -0.4379\n",
      "Train loss: AE1 0.8489, AE2 -0.8460\n",
      "CPU times: user 41min 46s, sys: 1.08 s, total: 41min 47s\n",
      "Wall time: 41min 39s\n"
     ]
    }
   ],
   "source": [
    "%%time\n",
    "AE1_val_history = []\n",
    "AE2_val_history = []\n",
    "for i in range(epochs):\n",
    "    running_loss_AE1 = []\n",
    "    running_loss_AE2 = []\n",
    "    val_loss_AE1 = []\n",
    "    val_loss_AE2 = []\n",
    "    for index_b, features in enumerate(train_loader):\n",
    "        w1 = AE1(features)\n",
    "        w2 = AE2(features)\n",
    "        w3 = AE2(w1)\n",
    "        lossAE1 = (1 / (i + 1)) * torch.mean((features - w1) ** 2) + (1 - (1 / (i + 1))) * torch.mean((features - w3) ** 2)\n",
    "        lossAE2 = (1 / (i + 1)) * torch.mean((features - w2) ** 2) - (1 - (1 / (i + 1))) * torch.mean((features - w3) ** 2)\n",
    "        \n",
    "        running_loss_AE1.append(lossAE1)\n",
    "        lossAE1.backward()\n",
    "        optimizer1.step()\n",
    "        optimizer1.zero_grad()\n",
    "        \n",
    "        w1 = AE1(features)\n",
    "        w2 = AE2(features)\n",
    "        w3 = AE2(w1)\n",
    "        lossAE1 = (1 / (i + 1)) * torch.mean((features - w1) ** 2) + (1 - (1 / (i + 1))) * torch.mean((features - w3) ** 2)\n",
    "        lossAE2 = (1 / (i + 1)) * torch.mean((features - w2) ** 2) - (1 - (1 / (i + 1))) * torch.mean((features - w3) ** 2)\n",
    "        \n",
    "        running_loss_AE2.append(lossAE2)\n",
    "        lossAE2.backward()\n",
    "        optimizer2.step()\n",
    "        optimizer2.zero_grad()\n",
    "    \n",
    "    for index_b, features in enumerate(validation_loader):\n",
    "        with torch.no_grad():\n",
    "            w1 = AE1(features)\n",
    "            w2 = AE2(features)\n",
    "            w3 = AE2(w1)\n",
    "            lossAE1 = (1 / (i + 1)) * torch.mean((features - w1) ** 2) + (1 - (1 / (i + 1))) * torch.mean((features - w3) ** 2)\n",
    "            lossAE2 = (1 / (i + 1)) * torch.mean((features - w2) ** 2) - (1 - (1 / (i + 1))) * torch.mean((features - w3) ** 2)\n",
    "            val_loss_AE1.append(lossAE1)\n",
    "            val_loss_AE2.append(lossAE2)\n",
    "    AE1_val_history.append(torch.stack(val_loss_AE1).mean().item())\n",
    "    AE2_val_history.append(torch.stack(val_loss_AE2).mean().item())\n",
    "    print(f'Epoch: {i} ---> Val loss: AE1 {AE1_val_history[-1]:.4f}, AE2: {AE2_val_history[-1]:.4f}')\n",
    "    print(f'Train loss: AE1 {torch.stack(running_loss_AE1).mean().item():.4f}, AE2 {torch.stack(running_loss_AE2).mean().item():.4f}')"
   ]
  },
  {
   "cell_type": "markdown",
   "metadata": {},
   "source": [
    "# Testing"
   ]
  },
  {
   "cell_type": "code",
   "execution_count": 14,
   "metadata": {},
   "outputs": [],
   "source": [
    "df2 = pd.read_csv('../../Projects/data/SWaT_Dataset_Attack_v0.csv')\n",
    "labels = df2['Normal/Attack']\n",
    "df2 = df2.drop(columns=[' Timestamp', 'Normal/Attack'])\n",
    "df2 = df2.astype('float64')\n",
    "df2.columns = df.columns"
   ]
  },
  {
   "cell_type": "code",
   "execution_count": 15,
   "metadata": {},
   "outputs": [],
   "source": [
    "test_normalized = pd.DataFrame(mm.transform(df2))"
   ]
  },
  {
   "cell_type": "code",
   "execution_count": 16,
   "metadata": {},
   "outputs": [],
   "source": [
    "test_dataset = SWat_dataset(test_normalized, test_normalized, window_size, device)\n",
    "test_loader = DataLoader(test_dataset, batch_size=batch_size, shuffle=False, num_workers=0)"
   ]
  },
  {
   "cell_type": "code",
   "execution_count": 26,
   "metadata": {},
   "outputs": [
    {
     "data": {
      "text/plain": [
       "torch.Size([596, 100, 51])"
      ]
     },
     "execution_count": 26,
     "metadata": {},
     "output_type": "execute_result"
    }
   ],
   "source": [
    "features.shape"
   ]
  },
  {
   "cell_type": "code",
   "execution_count": 28,
   "metadata": {},
   "outputs": [],
   "source": [
    "def testing(test_loader, alpha=.5, beta=.5):\n",
    "    results=[]\n",
    "    with torch.no_grad():\n",
    "        for batch in test_loader:\n",
    "            w1=AE1(batch)\n",
    "            w2=AE2(w1)\n",
    "            results.append(alpha * torch.mean(torch.mean((batch-w1)**2,axis=1), axis=1) +\n",
    "                           beta * torch.mean(torch.mean((batch-w2)**2,axis=1), axis=1))\n",
    "    return results"
   ]
  },
  {
   "cell_type": "code",
   "execution_count": 19,
   "metadata": {},
   "outputs": [],
   "source": [
    "labels = labels.values\n",
    "labels = [0 if (lab == 'Normal') else 1 for lab in labels]\n",
    "windows_labels=[]\n",
    "for i in range(len(labels)-window_size):\n",
    "    windows_labels.append(list(np.int32(labels[i:i+window_size])))"
   ]
  },
  {
   "cell_type": "code",
   "execution_count": 20,
   "metadata": {},
   "outputs": [],
   "source": [
    "y_test = [1.0 if (np.sum(window) > 0) else 0 for window in windows_labels]"
   ]
  },
  {
   "cell_type": "code",
   "execution_count": 34,
   "metadata": {},
   "outputs": [],
   "source": [
    "results=testing(test_loader, alpha=0.1, beta=0.9)"
   ]
  },
  {
   "cell_type": "code",
   "execution_count": 35,
   "metadata": {},
   "outputs": [],
   "source": [
    "y_pred=np.concatenate([torch.stack(results[:-1]).flatten().detach().cpu().numpy(),\n",
    "                              results[-1].flatten().detach().cpu().numpy()])"
   ]
  },
  {
   "cell_type": "code",
   "execution_count": 36,
   "metadata": {},
   "outputs": [],
   "source": [
    "def ROC(y_test,y_pred):\n",
    "    fpr,tpr,tr=roc_curve(y_test,y_pred)\n",
    "    auc=roc_auc_score(y_test,y_pred)\n",
    "    idx=np.argwhere(np.diff(np.sign(tpr-(1-fpr)))).flatten()\n",
    "\n",
    "    plt.xlabel(\"FPR\")\n",
    "    plt.ylabel(\"TPR\")\n",
    "    plt.plot(fpr,tpr,label=\"AUC=\"+str(auc))\n",
    "    plt.plot(fpr,1-fpr,'r:')\n",
    "    plt.plot(fpr[idx],tpr[idx], 'ro')\n",
    "    plt.legend(loc=4)\n",
    "    plt.grid()\n",
    "    plt.show()\n",
    "    return tr[idx]"
   ]
  },
  {
   "cell_type": "code",
   "execution_count": 37,
   "metadata": {},
   "outputs": [
    {
     "data": {
      "image/png": "[encoded data removed]",
      "text/plain": [
       "<Figure size 640x480 with 1 Axes>"
      ]
     },
     "metadata": {},
     "output_type": "display_data"
    },
    {
     "data": {
      "text/plain": [
       "array([6.869438], dtype=float32)"
      ]
     },
     "execution_count": 37,
     "metadata": {},
     "output_type": "execute_result"
    }
   ],
   "source": [
    "threshold = ROC(y_test,y_pred)\n",
    "threshold"
   ]
  },
  {
   "cell_type": "code",
   "execution_count": 38,
   "metadata": {},
   "outputs": [
    {
     "name": "stdout",
     "output_type": "stream",
     "text": [
      "best: 11.166666666666666 F1: 0.7479992275838393\n"
     ]
    },
    {
     "data": {
      "text/plain": [
       "[<matplotlib.lines.Line2D at 0x7024e51ade50>]"
      ]
     },
     "execution_count": 38,
     "metadata": {},
     "output_type": "execute_result"
    },
    {
     "data": {
      "image/png": "[encoded data removed]",
      "text/plain": [
       "<Figure size 640x480 with 1 Axes>"
      ]
     },
     "metadata": {},
     "output_type": "display_data"
    }
   ],
   "source": [
    "ff = 0\n",
    "f_history = []\n",
    "initial_y = 8\n",
    "best = -1\n",
    "for inc in np.linspace(0, 4, 25):\n",
    "    y_pred_int = [1 if (yy > initial_y + inc) else 0 for yy in y_pred]\n",
    "    conf_matrix = confusion_matrix(y_test, y_pred_int)\n",
    "    TP = conf_matrix[1, 1]\n",
    "    TN = conf_matrix[0, 0]\n",
    "    FP = conf_matrix[0, 1]\n",
    "    FN = conf_matrix[1, 0]\n",
    "    F1 = f1_score(y_test, y_pred_int)\n",
    "    f_history.append(F1)\n",
    "\n",
    "    precision = precision_score(y_test, y_pred_int)\n",
    "    recall = recall_score(y_test, y_pred_int)\n",
    "    if F1 > ff:\n",
    "        ff = F1\n",
    "        best = inc\n",
    "print(f'best: {best + initial_y} F1: {ff}')\n",
    "plt.plot(f_history)"
   ]
  },
  {
   "cell_type": "code",
   "execution_count": 30,
   "metadata": {},
   "outputs": [
    {
     "data": {
      "text/plain": [
       "78.34400000000001"
      ]
     },
     "execution_count": 30,
     "metadata": {},
     "output_type": "execute_result"
    }
   ],
   "source": [
    "metric_values = [77.6, 77.67,77.8, 78.4, 79.5, 78.35, 77.26]\n",
    "np.mean(metric_values[1:-1])"
   ]
  },
  {
   "cell_type": "code",
   "execution_count": null,
   "metadata": {},
   "outputs": [],
   "source": []
  }
 ],
 "metadata": {
  "kernelspec": {
   "display_name": "NIS2",
   "language": "python",
   "name": "art2"
  },
  "language_info": {
   "codemirror_mode": {
    "name": "ipython",
    "version": 3
   },
   "file_extension": ".py",
   "mimetype": "text/x-python",
   "name": "python",
   "nbconvert_exporter": "python",
   "pygments_lexer": "ipython3",
   "version": "3.12.2"
  }
 },
 "nbformat": 4,
 "nbformat_minor": 4
}
