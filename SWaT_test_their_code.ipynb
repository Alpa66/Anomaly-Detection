{
 "cells": [
  {
   "cell_type": "markdown",
   "id": "9f6c384a",
   "metadata": {},
   "source": [
    "# USAD\n",
    "## Importing packages"
   ]
  },
  {
   "cell_type": "code",
   "execution_count": 1,
   "id": "06186c5f",
   "metadata": {},
   "outputs": [],
   "source": [
    "import pandas as pd\n",
    "import numpy as np\n",
    "import torch\n",
    "import torch.nn as nn\n",
    "import matplotlib.pyplot as plt\n",
    "from tqdm.auto import tqdm\n",
    "from torch.utils.data import Dataset, DataLoader\n",
    "from sklearn.preprocessing import MinMaxScaler\n",
    "\n",
    "from sklearn.metrics import confusion_matrix, f1_score, roc_curve,roc_auc_score, precision_score, recall_score"
   ]
  },
  {
   "cell_type": "code",
   "execution_count": 1,
   "id": "9c3c4c7a",
   "metadata": {},
   "outputs": [
    {
     "name": "stdout",
     "output_type": "stream",
     "text": [
      " SWaT_Dataset_Attack_v0.csv    SWaT_Dataset_Normal_v1.xlsx\r\n",
      " SWaT_Dataset_Attack_v0.xlsx   WADI_14days_new.csv\r\n",
      " SWaT_Dataset_Normal_v0.csv   'WADI.A1_9 Oct 2017'\r\n",
      " SWaT_Dataset_Normal_v0.xlsx  'WADI.A2_19 Nov 2019'\r\n",
      " SWaT_Dataset_Normal_v1.csv    WADI_attackdataLABLE.csv\r\n"
     ]
    }
   ],
   "source": [
    "!ls data"
   ]
  },
  {
   "cell_type": "markdown",
   "id": "7d53da8a",
   "metadata": {},
   "source": [
    "## Reading data"
   ]
  },
  {
   "cell_type": "code",
   "execution_count": 2,
   "id": "4c83de10",
   "metadata": {},
   "outputs": [],
   "source": [
    "df = pd.read_csv('./data/SWaT_Dataset_Normal_v1.csv')\n",
    "df = df.drop(columns=[' Timestamp', 'Normal/Attack'])\n",
    "df = df.astype('float64')"
   ]
  },
  {
   "cell_type": "markdown",
   "id": "55f4af0a",
   "metadata": {},
   "source": [
    "### Processing data"
   ]
  },
  {
   "cell_type": "code",
   "execution_count": 3,
   "id": "ee4910ff",
   "metadata": {},
   "outputs": [
    {
     "data": {
      "text/plain": [
       "array([    0,     0,     0, ..., 98999, 98999, 98999])"
      ]
     },
     "execution_count": 3,
     "metadata": {},
     "output_type": "execute_result"
    }
   ],
   "source": [
    "grouping_array = np.arange(len(df)) // 5\n",
    "grouping_array"
   ]
  },
  {
   "cell_type": "code",
   "execution_count": 3,
   "id": "44f6ff7f",
   "metadata": {},
   "outputs": [
    {
     "ename": "NameError",
     "evalue": "name 'grouping_array' is not defined",
     "output_type": "error",
     "traceback": [
      "\u001b[0;31m---------------------------------------------------------------------------\u001b[0m",
      "\u001b[0;31mNameError\u001b[0m                                 Traceback (most recent call last)",
      "Cell \u001b[0;32mIn[3], line 1\u001b[0m\n\u001b[0;32m----> 1\u001b[0m df \u001b[38;5;241m=\u001b[39m df\u001b[38;5;241m.\u001b[39mgroupby(grouping_array)\u001b[38;5;241m.\u001b[39mmedian()\n",
      "\u001b[0;31mNameError\u001b[0m: name 'grouping_array' is not defined"
     ]
    }
   ],
   "source": [
    "df = df.groupby(grouping_array).median()"
   ]
  },
  {
   "cell_type": "code",
   "execution_count": 3,
   "id": "0c1ead44",
   "metadata": {},
   "outputs": [
    {
     "data": {
      "text/plain": [
       "(495000, 51)"
      ]
     },
     "execution_count": 3,
     "metadata": {},
     "output_type": "execute_result"
    }
   ],
   "source": [
    "df.shape"
   ]
  },
  {
   "cell_type": "code",
   "execution_count": 16,
   "id": "ae339864",
   "metadata": {},
   "outputs": [],
   "source": [
    "window_size = 12\n",
    "input_size = window_size * 51\n",
    "latent_space = 10 * window_size\n",
    "epochs = 100"
   ]
  },
  {
   "cell_type": "code",
   "execution_count": 17,
   "id": "7dfe6caa",
   "metadata": {},
   "outputs": [],
   "source": [
    "mm = MinMaxScaler()"
   ]
  },
  {
   "cell_type": "code",
   "execution_count": 18,
   "id": "83abe587",
   "metadata": {},
   "outputs": [
    {
     "name": "stderr",
     "output_type": "stream",
     "text": [
      "/home/ahmad/anaconda3/envs/art/lib/python3.11/site-packages/sklearn/utils/validation.py:767: FutureWarning: is_sparse is deprecated and will be removed in a future version. Check `isinstance(dtype, pd.SparseDtype)` instead.\n",
      "  if not hasattr(array, \"sparse\") and array.dtypes.apply(is_sparse).any():\n",
      "/home/ahmad/anaconda3/envs/art/lib/python3.11/site-packages/sklearn/utils/validation.py:605: FutureWarning: is_sparse is deprecated and will be removed in a future version. Check `isinstance(dtype, pd.SparseDtype)` instead.\n",
      "  if is_sparse(pd_dtype):\n",
      "/home/ahmad/anaconda3/envs/art/lib/python3.11/site-packages/sklearn/utils/validation.py:614: FutureWarning: is_sparse is deprecated and will be removed in a future version. Check `isinstance(dtype, pd.SparseDtype)` instead.\n",
      "  if is_sparse(pd_dtype) or not is_extension_array_dtype(pd_dtype):\n",
      "/home/ahmad/anaconda3/envs/art/lib/python3.11/site-packages/sklearn/utils/validation.py:767: FutureWarning: is_sparse is deprecated and will be removed in a future version. Check `isinstance(dtype, pd.SparseDtype)` instead.\n",
      "  if not hasattr(array, \"sparse\") and array.dtypes.apply(is_sparse).any():\n",
      "/home/ahmad/anaconda3/envs/art/lib/python3.11/site-packages/sklearn/utils/validation.py:605: FutureWarning: is_sparse is deprecated and will be removed in a future version. Check `isinstance(dtype, pd.SparseDtype)` instead.\n",
      "  if is_sparse(pd_dtype):\n",
      "/home/ahmad/anaconda3/envs/art/lib/python3.11/site-packages/sklearn/utils/validation.py:614: FutureWarning: is_sparse is deprecated and will be removed in a future version. Check `isinstance(dtype, pd.SparseDtype)` instead.\n",
      "  if is_sparse(pd_dtype) or not is_extension_array_dtype(pd_dtype):\n"
     ]
    }
   ],
   "source": [
    "Normalized = pd.DataFrame(mm.fit_transform(df))\n",
    "train_set = Normalized[: int(0.8 * Normalized.shape[0])]\n",
    "validation_set = Normalized[int(0.8 * Normalized.shape[0]):]"
   ]
  },
  {
   "cell_type": "code",
   "execution_count": 19,
   "id": "c3de137d",
   "metadata": {},
   "outputs": [
    {
     "name": "stdout",
     "output_type": "stream",
     "text": [
      "cuda:0\n"
     ]
    }
   ],
   "source": [
    "device = torch.device('cuda:0' if torch.cuda.is_available() else 'cpu')\n",
    "# device = torch.device('cpu')\n",
    "print(device)"
   ]
  },
  {
   "cell_type": "code",
   "execution_count": 15,
   "id": "fad13d19",
   "metadata": {},
   "outputs": [],
   "source": [
    "device = torch.device('cpu')"
   ]
  },
  {
   "cell_type": "code",
   "execution_count": 20,
   "id": "130e5791",
   "metadata": {},
   "outputs": [],
   "source": [
    "class SWat_dataset(Dataset):\n",
    "    def __init__(self, dataframe: pd.DataFrame, target: pd.DataFrame,  window_size):\n",
    "        self.data = dataframe\n",
    "        self.window_size = window_size\n",
    "\n",
    "    def __len__(self):\n",
    "        return len(self.data) - self.window_size\n",
    "\n",
    "    def __getitem__(self, idx):\n",
    "        window = self.data[idx: idx + self.window_size]\n",
    "        features = torch.tensor(window.iloc[:,:].values).float().to(device)\n",
    "        return features"
   ]
  },
  {
   "cell_type": "code",
   "execution_count": 21,
   "id": "7bb00e04",
   "metadata": {},
   "outputs": [],
   "source": [
    "train_dataset = SWat_dataset(train_set, train_set, window_size)\n",
    "validation_dataset = SWat_dataset(validation_set, validation_set, window_size)\n",
    "\n",
    "batch_size = 4096\n",
    "train_loader = DataLoader(train_dataset, batch_size=batch_size, shuffle=True, num_workers=0)\n",
    "validation_loader = DataLoader(validation_dataset, batch_size=batch_size, shuffle=True, num_workers=0)"
   ]
  },
  {
   "cell_type": "markdown",
   "id": "22cf1ae6",
   "metadata": {},
   "source": [
    "## Setting up the model structure"
   ]
  },
  {
   "cell_type": "code",
   "execution_count": 22,
   "id": "4582b348",
   "metadata": {},
   "outputs": [],
   "source": [
    "class Encoder(nn.Module):\n",
    "    def __init__(self, in_size, latent_size):\n",
    "        super().__init__()\n",
    "        self.linear1 = nn.Linear(in_size, int(in_size/2))\n",
    "        self.linear2 = nn.Linear(int(in_size/2), int(in_size/4))\n",
    "        self.linear3 = nn.Linear(int(in_size/4), latent_size)\n",
    "        self.relu = nn.ReLU(True)\n",
    "        \n",
    "    def forward(self, w):\n",
    "        out = self.linear1(w)\n",
    "        out = self.relu(out)\n",
    "        out = self.linear2(out)\n",
    "        out = self.relu(out)\n",
    "        out = self.linear3(out)\n",
    "        z = self.relu(out)\n",
    "        return z\n",
    "    \n",
    "class Decoder(nn.Module):\n",
    "    def __init__(self, latent_size, out_size):\n",
    "        super().__init__()\n",
    "        self.linear1 = nn.Linear(latent_size, int(out_size/4))\n",
    "        self.linear2 = nn.Linear(int(out_size/4), int(out_size/2))\n",
    "        self.linear3 = nn.Linear(int(out_size/2), out_size)\n",
    "        self.relu = nn.ReLU(True)\n",
    "        self.sigmoid = nn.Sigmoid()\n",
    "        \n",
    "    def forward(self, z):\n",
    "        out = self.linear1(z)\n",
    "        out = self.relu(out)\n",
    "        out = self.linear2(out)\n",
    "        out = self.relu(out)\n",
    "        out = self.linear3(out)\n",
    "        w = self.sigmoid(out)\n",
    "        return w\n",
    "    \n",
    "class UsadModel(nn.Module):\n",
    "    def __init__(self, w_size, z_size):\n",
    "        super().__init__()\n",
    "        self.encoder = Encoder(w_size, z_size)\n",
    "        self.decoder1 = Decoder(z_size, w_size)\n",
    "        self.decoder2 = Decoder(z_size, w_size)"
   ]
  },
  {
   "cell_type": "code",
   "execution_count": 23,
   "id": "284326ce-9860-4236-9cf1-6225c9c69d47",
   "metadata": {},
   "outputs": [],
   "source": [
    "model = UsadModel(input_size, latent_space)"
   ]
  },
  {
   "cell_type": "code",
   "execution_count": 24,
   "id": "3d8ca23b-da77-4f24-afdd-314dec047bfe",
   "metadata": {},
   "outputs": [
    {
     "data": {
      "text/plain": [
       "UsadModel(\n",
       "  (encoder): Encoder(\n",
       "    (linear1): Linear(in_features=612, out_features=306, bias=True)\n",
       "    (linear2): Linear(in_features=306, out_features=153, bias=True)\n",
       "    (linear3): Linear(in_features=153, out_features=120, bias=True)\n",
       "    (relu): ReLU(inplace=True)\n",
       "  )\n",
       "  (decoder1): Decoder(\n",
       "    (linear1): Linear(in_features=120, out_features=153, bias=True)\n",
       "    (linear2): Linear(in_features=153, out_features=306, bias=True)\n",
       "    (linear3): Linear(in_features=306, out_features=612, bias=True)\n",
       "    (relu): ReLU(inplace=True)\n",
       "    (sigmoid): Sigmoid()\n",
       "  )\n",
       "  (decoder2): Decoder(\n",
       "    (linear1): Linear(in_features=120, out_features=153, bias=True)\n",
       "    (linear2): Linear(in_features=153, out_features=306, bias=True)\n",
       "    (linear3): Linear(in_features=306, out_features=612, bias=True)\n",
       "    (relu): ReLU(inplace=True)\n",
       "    (sigmoid): Sigmoid()\n",
       "  )\n",
       ")"
      ]
     },
     "execution_count": 24,
     "metadata": {},
     "output_type": "execute_result"
    }
   ],
   "source": [
    "model.to(device)"
   ]
  },
  {
   "cell_type": "code",
   "execution_count": 25,
   "id": "84da86c7-99d8-4381-b8bf-02eda4eb0264",
   "metadata": {},
   "outputs": [
    {
     "data": {
      "text/plain": [
       "<All keys matched successfully>"
      ]
     },
     "execution_count": 25,
     "metadata": {},
     "output_type": "execute_result"
    }
   ],
   "source": [
    "checkpoint = torch.load(\"./usad-master/model.pth\")\n",
    "\n",
    "model.encoder.load_state_dict(checkpoint['encoder'])\n",
    "model.decoder1.load_state_dict(checkpoint['decoder1'])\n",
    "model.decoder2.load_state_dict(checkpoint['decoder2'])"
   ]
  },
  {
   "cell_type": "code",
   "execution_count": 14,
   "id": "b37bf476",
   "metadata": {},
   "outputs": [],
   "source": [
    "optimizer1 = torch.optim.Adam(AE1.parameters())\n",
    "optimizer2 = torch.optim.Adam(AE2.parameters())"
   ]
  },
  {
   "cell_type": "markdown",
   "id": "015328f9",
   "metadata": {},
   "source": [
    "## Training the model"
   ]
  },
  {
   "cell_type": "markdown",
   "id": "abf47e12",
   "metadata": {},
   "source": [
    "### Training"
   ]
  },
  {
   "cell_type": "code",
   "execution_count": 15,
   "id": "4a86afc5",
   "metadata": {
    "scrolled": true
   },
   "outputs": [
    {
     "name": "stdout",
     "output_type": "stream",
     "text": [
      "Epoch: 0 ---> Val loss: AE1 0.0078, AE2: 0.0087\n",
      "Train loss: AE1 0.0304, AE2 0.0298\n",
      "Epoch: 1 ---> Val loss: AE1 0.0171, AE2: -0.0089\n",
      "Train loss: AE1 0.0258, AE2 -0.0090\n",
      "Epoch: 2 ---> Val loss: AE1 0.0182, AE2: -0.0119\n",
      "Train loss: AE1 0.0260, AE2 -0.0168\n",
      "Epoch: 3 ---> Val loss: AE1 0.0190, AE2: -0.0147\n",
      "Train loss: AE1 0.0257, AE2 -0.0204\n",
      "Epoch: 4 ---> Val loss: AE1 0.0302, AE2: -0.0218\n",
      "Train loss: AE1 0.0301, AE2 -0.0242\n",
      "Epoch: 5 ---> Val loss: AE1 0.0455, AE2: -0.0321\n",
      "Train loss: AE1 0.0366, AE2 -0.0284\n",
      "Epoch: 6 ---> Val loss: AE1 0.0497, AE2: -0.0447\n",
      "Train loss: AE1 0.0645, AE2 -0.0556\n",
      "Epoch: 7 ---> Val loss: AE1 0.1159, AE2: -0.0940\n",
      "Train loss: AE1 0.0639, AE2 -0.0582\n",
      "Epoch: 8 ---> Val loss: AE1 0.1098, AE2: -0.0969\n",
      "Train loss: AE1 0.1104, AE2 -0.0965\n",
      "Epoch: 9 ---> Val loss: AE1 0.1072, AE2: -0.0989\n",
      "Train loss: AE1 0.1078, AE2 -0.0990\n",
      "Epoch: 10 ---> Val loss: AE1 0.1116, AE2: -0.1041\n",
      "Train loss: AE1 0.1098, AE2 -0.1024\n",
      "Epoch: 11 ---> Val loss: AE1 0.1124, AE2: -0.1056\n",
      "Train loss: AE1 0.1109, AE2 -0.1045\n",
      "Epoch: 12 ---> Val loss: AE1 0.1134, AE2: -0.1068\n",
      "Train loss: AE1 0.1116, AE2 -0.1059\n",
      "Epoch: 13 ---> Val loss: AE1 0.1210, AE2: -0.1146\n",
      "Train loss: AE1 0.1155, AE2 -0.1093\n",
      "Epoch: 14 ---> Val loss: AE1 0.1197, AE2: -0.1139\n",
      "Train loss: AE1 0.1161, AE2 -0.1110\n",
      "Epoch: 15 ---> Val loss: AE1 0.1157, AE2: -0.1105\n",
      "Train loss: AE1 0.1142, AE2 -0.1093\n",
      "Epoch: 16 ---> Val loss: AE1 0.1161, AE2: -0.1082\n",
      "Train loss: AE1 0.1174, AE2 -0.1117\n",
      "Epoch: 17 ---> Val loss: AE1 0.1512, AE2: -0.1370\n",
      "Train loss: AE1 0.1262, AE2 -0.1173\n",
      "Epoch: 18 ---> Val loss: AE1 0.1535, AE2: -0.1421\n",
      "Train loss: AE1 0.1600, AE2 -0.1475\n",
      "Epoch: 19 ---> Val loss: AE1 0.1529, AE2: -0.1453\n",
      "Train loss: AE1 0.1605, AE2 -0.1510\n",
      "Epoch: 20 ---> Val loss: AE1 0.1512, AE2: -0.1459\n",
      "Train loss: AE1 0.1596, AE2 -0.1526\n",
      "Epoch: 21 ---> Val loss: AE1 0.1510, AE2: -0.1463\n",
      "Train loss: AE1 0.1588, AE2 -0.1532\n",
      "Epoch: 22 ---> Val loss: AE1 0.1506, AE2: -0.1486\n",
      "Train loss: AE1 0.1586, AE2 -0.1541\n",
      "Epoch: 23 ---> Val loss: AE1 0.1524, AE2: -0.1429\n",
      "Train loss: AE1 0.1593, AE2 -0.1523\n",
      "Epoch: 24 ---> Val loss: AE1 0.1526, AE2: -0.1434\n",
      "Train loss: AE1 0.1602, AE2 -0.1502\n",
      "Epoch: 25 ---> Val loss: AE1 0.1527, AE2: -0.1439\n",
      "Train loss: AE1 0.1603, AE2 -0.1507\n",
      "Epoch: 26 ---> Val loss: AE1 0.1529, AE2: -0.1444\n",
      "Train loss: AE1 0.1604, AE2 -0.1511\n",
      "Epoch: 27 ---> Val loss: AE1 0.1534, AE2: -0.1452\n",
      "Train loss: AE1 0.1609, AE2 -0.1520\n",
      "Epoch: 28 ---> Val loss: AE1 0.1535, AE2: -0.1456\n",
      "Train loss: AE1 0.1611, AE2 -0.1525\n",
      "Epoch: 29 ---> Val loss: AE1 0.1537, AE2: -0.1460\n",
      "Train loss: AE1 0.1612, AE2 -0.1528\n",
      "Epoch: 30 ---> Val loss: AE1 0.1221, AE2: -0.1157\n",
      "Train loss: AE1 0.1548, AE2 -0.1467\n",
      "Epoch: 31 ---> Val loss: AE1 0.1164, AE2: -0.1105\n",
      "Train loss: AE1 0.1264, AE2 -0.1197\n",
      "Epoch: 32 ---> Val loss: AE1 0.1159, AE2: -0.1101\n",
      "Train loss: AE1 0.1237, AE2 -0.1173\n",
      "Epoch: 33 ---> Val loss: AE1 0.1151, AE2: -0.1095\n",
      "Train loss: AE1 0.1232, AE2 -0.1170\n",
      "Epoch: 34 ---> Val loss: AE1 0.1152, AE2: -0.1097\n",
      "Train loss: AE1 0.1229, AE2 -0.1169\n",
      "Epoch: 35 ---> Val loss: AE1 0.1150, AE2: -0.1097\n",
      "Train loss: AE1 0.1229, AE2 -0.1170\n",
      "Epoch: 36 ---> Val loss: AE1 0.1143, AE2: -0.1092\n",
      "Train loss: AE1 0.1226, AE2 -0.1169\n",
      "Epoch: 37 ---> Val loss: AE1 0.1136, AE2: -0.1094\n",
      "Train loss: AE1 0.1221, AE2 -0.1170\n",
      "Epoch: 38 ---> Val loss: AE1 0.1145, AE2: -0.1105\n",
      "Train loss: AE1 0.1220, AE2 -0.1176\n",
      "Epoch: 39 ---> Val loss: AE1 0.1146, AE2: -0.1107\n",
      "Train loss: AE1 0.1225, AE2 -0.1183\n",
      "Epoch: 40 ---> Val loss: AE1 0.1159, AE2: -0.1113\n",
      "Train loss: AE1 0.1226, AE2 -0.1186\n",
      "Epoch: 41 ---> Val loss: AE1 0.1154, AE2: -0.1110\n",
      "Train loss: AE1 0.1236, AE2 -0.1188\n",
      "Epoch: 42 ---> Val loss: AE1 0.1145, AE2: -0.1103\n",
      "Train loss: AE1 0.1234, AE2 -0.1188\n",
      "Epoch: 43 ---> Val loss: AE1 0.1126, AE2: -0.1084\n",
      "Train loss: AE1 0.1191, AE2 -0.1145\n",
      "Epoch: 44 ---> Val loss: AE1 0.1121, AE2: -0.1081\n",
      "Train loss: AE1 0.1190, AE2 -0.1145\n",
      "Epoch: 45 ---> Val loss: AE1 0.1119, AE2: -0.1084\n",
      "Train loss: AE1 0.1182, AE2 -0.1141\n"
     ]
    },
    {
     "ename": "KeyboardInterrupt",
     "evalue": "",
     "output_type": "error",
     "traceback": [
      "\u001b[0;31m---------------------------------------------------------------------------\u001b[0m",
      "\u001b[0;31mKeyboardInterrupt\u001b[0m                         Traceback (most recent call last)",
      "Cell \u001b[0;32mIn[15], line 8\u001b[0m\n\u001b[1;32m      6\u001b[0m val_loss_AE1 \u001b[38;5;241m=\u001b[39m []\n\u001b[1;32m      7\u001b[0m val_loss_AE2 \u001b[38;5;241m=\u001b[39m []\n\u001b[0;32m----> 8\u001b[0m \u001b[38;5;28;01mfor\u001b[39;00m index_b, features \u001b[38;5;129;01min\u001b[39;00m \u001b[38;5;28menumerate\u001b[39m(train_loader):\n\u001b[1;32m      9\u001b[0m     features \u001b[38;5;241m=\u001b[39m features\u001b[38;5;241m.\u001b[39mview(features\u001b[38;5;241m.\u001b[39mshape[\u001b[38;5;241m0\u001b[39m], \u001b[38;5;241m-\u001b[39m\u001b[38;5;241m1\u001b[39m)\n\u001b[1;32m     11\u001b[0m     w1 \u001b[38;5;241m=\u001b[39m AE1(features)\n",
      "File \u001b[0;32m~/anaconda3/envs/art/lib/python3.11/site-packages/torch/utils/data/dataloader.py:630\u001b[0m, in \u001b[0;36m_BaseDataLoaderIter.__next__\u001b[0;34m(self)\u001b[0m\n\u001b[1;32m    627\u001b[0m \u001b[38;5;28;01mif\u001b[39;00m \u001b[38;5;28mself\u001b[39m\u001b[38;5;241m.\u001b[39m_sampler_iter \u001b[38;5;129;01mis\u001b[39;00m \u001b[38;5;28;01mNone\u001b[39;00m:\n\u001b[1;32m    628\u001b[0m     \u001b[38;5;66;03m# TODO(https://github.com/pytorch/pytorch/issues/76750)\u001b[39;00m\n\u001b[1;32m    629\u001b[0m     \u001b[38;5;28mself\u001b[39m\u001b[38;5;241m.\u001b[39m_reset()  \u001b[38;5;66;03m# type: ignore[call-arg]\u001b[39;00m\n\u001b[0;32m--> 630\u001b[0m data \u001b[38;5;241m=\u001b[39m \u001b[38;5;28mself\u001b[39m\u001b[38;5;241m.\u001b[39m_next_data()\n\u001b[1;32m    631\u001b[0m \u001b[38;5;28mself\u001b[39m\u001b[38;5;241m.\u001b[39m_num_yielded \u001b[38;5;241m+\u001b[39m\u001b[38;5;241m=\u001b[39m \u001b[38;5;241m1\u001b[39m\n\u001b[1;32m    632\u001b[0m \u001b[38;5;28;01mif\u001b[39;00m \u001b[38;5;28mself\u001b[39m\u001b[38;5;241m.\u001b[39m_dataset_kind \u001b[38;5;241m==\u001b[39m _DatasetKind\u001b[38;5;241m.\u001b[39mIterable \u001b[38;5;129;01mand\u001b[39;00m \\\n\u001b[1;32m    633\u001b[0m         \u001b[38;5;28mself\u001b[39m\u001b[38;5;241m.\u001b[39m_IterableDataset_len_called \u001b[38;5;129;01mis\u001b[39;00m \u001b[38;5;129;01mnot\u001b[39;00m \u001b[38;5;28;01mNone\u001b[39;00m \u001b[38;5;129;01mand\u001b[39;00m \\\n\u001b[1;32m    634\u001b[0m         \u001b[38;5;28mself\u001b[39m\u001b[38;5;241m.\u001b[39m_num_yielded \u001b[38;5;241m>\u001b[39m \u001b[38;5;28mself\u001b[39m\u001b[38;5;241m.\u001b[39m_IterableDataset_len_called:\n",
      "File \u001b[0;32m~/anaconda3/envs/art/lib/python3.11/site-packages/torch/utils/data/dataloader.py:674\u001b[0m, in \u001b[0;36m_SingleProcessDataLoaderIter._next_data\u001b[0;34m(self)\u001b[0m\n\u001b[1;32m    672\u001b[0m \u001b[38;5;28;01mdef\u001b[39;00m \u001b[38;5;21m_next_data\u001b[39m(\u001b[38;5;28mself\u001b[39m):\n\u001b[1;32m    673\u001b[0m     index \u001b[38;5;241m=\u001b[39m \u001b[38;5;28mself\u001b[39m\u001b[38;5;241m.\u001b[39m_next_index()  \u001b[38;5;66;03m# may raise StopIteration\u001b[39;00m\n\u001b[0;32m--> 674\u001b[0m     data \u001b[38;5;241m=\u001b[39m \u001b[38;5;28mself\u001b[39m\u001b[38;5;241m.\u001b[39m_dataset_fetcher\u001b[38;5;241m.\u001b[39mfetch(index)  \u001b[38;5;66;03m# may raise StopIteration\u001b[39;00m\n\u001b[1;32m    675\u001b[0m     \u001b[38;5;28;01mif\u001b[39;00m \u001b[38;5;28mself\u001b[39m\u001b[38;5;241m.\u001b[39m_pin_memory:\n\u001b[1;32m    676\u001b[0m         data \u001b[38;5;241m=\u001b[39m _utils\u001b[38;5;241m.\u001b[39mpin_memory\u001b[38;5;241m.\u001b[39mpin_memory(data, \u001b[38;5;28mself\u001b[39m\u001b[38;5;241m.\u001b[39m_pin_memory_device)\n",
      "File \u001b[0;32m~/anaconda3/envs/art/lib/python3.11/site-packages/torch/utils/data/_utils/fetch.py:51\u001b[0m, in \u001b[0;36m_MapDatasetFetcher.fetch\u001b[0;34m(self, possibly_batched_index)\u001b[0m\n\u001b[1;32m     49\u001b[0m         data \u001b[38;5;241m=\u001b[39m \u001b[38;5;28mself\u001b[39m\u001b[38;5;241m.\u001b[39mdataset\u001b[38;5;241m.\u001b[39m__getitems__(possibly_batched_index)\n\u001b[1;32m     50\u001b[0m     \u001b[38;5;28;01melse\u001b[39;00m:\n\u001b[0;32m---> 51\u001b[0m         data \u001b[38;5;241m=\u001b[39m [\u001b[38;5;28mself\u001b[39m\u001b[38;5;241m.\u001b[39mdataset[idx] \u001b[38;5;28;01mfor\u001b[39;00m idx \u001b[38;5;129;01min\u001b[39;00m possibly_batched_index]\n\u001b[1;32m     52\u001b[0m \u001b[38;5;28;01melse\u001b[39;00m:\n\u001b[1;32m     53\u001b[0m     data \u001b[38;5;241m=\u001b[39m \u001b[38;5;28mself\u001b[39m\u001b[38;5;241m.\u001b[39mdataset[possibly_batched_index]\n",
      "File \u001b[0;32m~/anaconda3/envs/art/lib/python3.11/site-packages/torch/utils/data/_utils/fetch.py:51\u001b[0m, in \u001b[0;36m<listcomp>\u001b[0;34m(.0)\u001b[0m\n\u001b[1;32m     49\u001b[0m         data \u001b[38;5;241m=\u001b[39m \u001b[38;5;28mself\u001b[39m\u001b[38;5;241m.\u001b[39mdataset\u001b[38;5;241m.\u001b[39m__getitems__(possibly_batched_index)\n\u001b[1;32m     50\u001b[0m     \u001b[38;5;28;01melse\u001b[39;00m:\n\u001b[0;32m---> 51\u001b[0m         data \u001b[38;5;241m=\u001b[39m [\u001b[38;5;28mself\u001b[39m\u001b[38;5;241m.\u001b[39mdataset[idx] \u001b[38;5;28;01mfor\u001b[39;00m idx \u001b[38;5;129;01min\u001b[39;00m possibly_batched_index]\n\u001b[1;32m     52\u001b[0m \u001b[38;5;28;01melse\u001b[39;00m:\n\u001b[1;32m     53\u001b[0m     data \u001b[38;5;241m=\u001b[39m \u001b[38;5;28mself\u001b[39m\u001b[38;5;241m.\u001b[39mdataset[possibly_batched_index]\n",
      "Cell \u001b[0;32mIn[8], line 11\u001b[0m, in \u001b[0;36mSWat_dataset.__getitem__\u001b[0;34m(self, idx)\u001b[0m\n\u001b[1;32m      9\u001b[0m \u001b[38;5;28;01mdef\u001b[39;00m \u001b[38;5;21m__getitem__\u001b[39m(\u001b[38;5;28mself\u001b[39m, idx):\n\u001b[1;32m     10\u001b[0m     window \u001b[38;5;241m=\u001b[39m \u001b[38;5;28mself\u001b[39m\u001b[38;5;241m.\u001b[39mdata[idx: idx \u001b[38;5;241m+\u001b[39m \u001b[38;5;28mself\u001b[39m\u001b[38;5;241m.\u001b[39mwindow_size]\n\u001b[0;32m---> 11\u001b[0m     features \u001b[38;5;241m=\u001b[39m torch\u001b[38;5;241m.\u001b[39mtensor(window\u001b[38;5;241m.\u001b[39miloc[:,:]\u001b[38;5;241m.\u001b[39mvalues)\u001b[38;5;241m.\u001b[39mfloat()\u001b[38;5;241m.\u001b[39mto(device)\n\u001b[1;32m     12\u001b[0m     \u001b[38;5;28;01mreturn\u001b[39;00m features\n",
      "\u001b[0;31mKeyboardInterrupt\u001b[0m: "
     ]
    }
   ],
   "source": [
    "AE1_val_history = []\n",
    "AE2_val_history = []\n",
    "for i in range(epochs):\n",
    "    running_loss_AE1 = []\n",
    "    running_loss_AE2 = []\n",
    "    val_loss_AE1 = []\n",
    "    val_loss_AE2 = []\n",
    "    for index_b, features in enumerate(train_loader):\n",
    "        features = features.view(features.shape[0], -1)\n",
    "        \n",
    "        w1 = AE1(features)\n",
    "        w2 = AE2(features)\n",
    "        w3 = AE2(w1)\n",
    "        lossAE1 = (1 / (i + 1)) * torch.mean((features - w1) ** 2) + (1 - (1 / (i + 1))) * torch.mean((features - w3) ** 2)\n",
    "        lossAE2 = (1 / (i + 1)) * torch.mean((features - w2) ** 2) - (1 - (1 / (i + 1))) * torch.mean((features - w3) ** 2)\n",
    "        \n",
    "        running_loss_AE1.append(lossAE1)\n",
    "        lossAE1.backward()\n",
    "        optimizer1.step()\n",
    "        optimizer1.zero_grad()\n",
    "        \n",
    "        w1 = AE1(features)\n",
    "        w2 = AE2(features)\n",
    "        w3 = AE2(w1)\n",
    "        lossAE1 = (1 / (i + 1)) * torch.mean((features - w1) ** 2) + (1 - (1 / (i + 1))) * torch.mean((features - w3) ** 2)\n",
    "        lossAE2 = (1 / (i + 1)) * torch.mean((features - w2) ** 2) - (1 - (1 / (i + 1))) * torch.mean((features - w3) ** 2)\n",
    "        \n",
    "        running_loss_AE2.append(lossAE2)\n",
    "        lossAE2.backward()\n",
    "        optimizer2.step()\n",
    "        optimizer2.zero_grad()\n",
    "    \n",
    "    for index_b, features in enumerate(validation_loader):\n",
    "        with torch.no_grad():\n",
    "            features = features.view(features.shape[0], -1)\n",
    "        \n",
    "            w1 = AE1(features)\n",
    "            w2 = AE2(features)\n",
    "            w3 = AE2(w1)\n",
    "            lossAE1 = (1 / (i + 1)) * torch.mean((features - w1) ** 2) + (1 - (1 / (i + 1))) * torch.mean((features - w3) ** 2)\n",
    "            lossAE2 = (1 / (i + 1)) * torch.mean((features - w2) ** 2) - (1 - (1 / (i + 1))) * torch.mean((features - w3) ** 2)\n",
    "            val_loss_AE1.append(lossAE1)\n",
    "            val_loss_AE2.append(lossAE2)\n",
    "    AE1_val_history.append(torch.stack(val_loss_AE1).mean().item())\n",
    "    AE2_val_history.append(torch.stack(val_loss_AE2).mean().item())\n",
    "    print(f'Epoch: {i} ---> Val loss: AE1 {AE1_val_history[-1]:.4f}, AE2: {AE2_val_history[-1]:.4f}')\n",
    "    print(f'Train loss: AE1 {torch.stack(running_loss_AE1).mean().item():.4f}, AE2 {torch.stack(running_loss_AE2).mean().item():.4f}')"
   ]
  },
  {
   "cell_type": "code",
   "execution_count": 14,
   "id": "d7c94e94",
   "metadata": {},
   "outputs": [],
   "source": [
    "torch.save(AE1.state_dict(), 'my_USAD_without_downsampling_AE1_hidden_50.pth')\n",
    "torch.save(AE2.state_dict(), 'my_USAD_without_downsampling_AE2_hidden_50.pth')"
   ]
  },
  {
   "cell_type": "code",
   "execution_count": 16,
   "id": "685d44f1",
   "metadata": {},
   "outputs": [
    {
     "data": {
      "text/plain": [
       "<All keys matched successfully>"
      ]
     },
     "execution_count": 16,
     "metadata": {},
     "output_type": "execute_result"
    }
   ],
   "source": [
    "AE1.load_state_dict(torch.load('my_USAD_without_downsampling_AE1_100_hidden.pth'))\n",
    "AE2.load_state_dict(torch.load('my_USAD_without_downsampling_AE2_100_hidden.pth'))"
   ]
  },
  {
   "cell_type": "markdown",
   "id": "93a3cc44",
   "metadata": {},
   "source": [
    "## Testing"
   ]
  },
  {
   "cell_type": "code",
   "execution_count": 26,
   "id": "caf3ee9f",
   "metadata": {},
   "outputs": [],
   "source": [
    "df2 = pd.read_csv('./data/SWaT_Dataset_Attack_v0.csv')\n",
    "labels = df2['Normal/Attack']\n",
    "df2 = df2.drop(columns=[' Timestamp', 'Normal/Attack'])\n",
    "df2 = df2.astype('float64')\n",
    "df2.columns = df.columns"
   ]
  },
  {
   "cell_type": "code",
   "execution_count": 27,
   "id": "b8cd8f00",
   "metadata": {},
   "outputs": [
    {
     "name": "stderr",
     "output_type": "stream",
     "text": [
      "/home/ahmad/anaconda3/envs/art/lib/python3.11/site-packages/sklearn/utils/validation.py:767: FutureWarning: is_sparse is deprecated and will be removed in a future version. Check `isinstance(dtype, pd.SparseDtype)` instead.\n",
      "  if not hasattr(array, \"sparse\") and array.dtypes.apply(is_sparse).any():\n",
      "/home/ahmad/anaconda3/envs/art/lib/python3.11/site-packages/sklearn/utils/validation.py:605: FutureWarning: is_sparse is deprecated and will be removed in a future version. Check `isinstance(dtype, pd.SparseDtype)` instead.\n",
      "  if is_sparse(pd_dtype):\n",
      "/home/ahmad/anaconda3/envs/art/lib/python3.11/site-packages/sklearn/utils/validation.py:614: FutureWarning: is_sparse is deprecated and will be removed in a future version. Check `isinstance(dtype, pd.SparseDtype)` instead.\n",
      "  if is_sparse(pd_dtype) or not is_extension_array_dtype(pd_dtype):\n"
     ]
    }
   ],
   "source": [
    "test_normalized = pd.DataFrame(mm.transform(df2))"
   ]
  },
  {
   "cell_type": "code",
   "execution_count": 28,
   "id": "74fb20b9",
   "metadata": {},
   "outputs": [],
   "source": [
    "test_dataset = SWat_dataset(test_normalized, test_normalized, window_size)\n",
    "test_loader = DataLoader(test_dataset, batch_size=batch_size, shuffle=False, num_workers=0)"
   ]
  },
  {
   "cell_type": "code",
   "execution_count": 29,
   "id": "53ae0a10",
   "metadata": {},
   "outputs": [],
   "source": [
    "def testing(test_loader, alpha=.5, beta=.5):\n",
    "    results=[]\n",
    "    with torch.no_grad():\n",
    "        for batch in test_loader:\n",
    "            batch = batch.view(batch.shape[0], -1)\n",
    "            w1=model.decoder1(model.encoder(batch))\n",
    "            w2=model.decoder2(model.encoder(w1))\n",
    "            results.append(alpha*torch.mean((batch-w1)**2,axis=1)+beta*torch.mean((batch-w2)**2,axis=1))\n",
    "    return results"
   ]
  },
  {
   "cell_type": "code",
   "execution_count": 30,
   "id": "19a22d18",
   "metadata": {},
   "outputs": [],
   "source": [
    "labels = labels.values\n",
    "labels = [0 if (lab == 'Normal') else 1 for lab in labels]"
   ]
  },
  {
   "cell_type": "code",
   "execution_count": 31,
   "id": "812d1112",
   "metadata": {},
   "outputs": [],
   "source": [
    "windows_labels=[]\n",
    "for i in range(len(labels)-window_size):\n",
    "    windows_labels.append(list(np.int32(labels[i:i+window_size])))"
   ]
  },
  {
   "cell_type": "code",
   "execution_count": 32,
   "id": "a2caf045",
   "metadata": {},
   "outputs": [],
   "source": [
    "y_test = [1.0 if (np.sum(window) > 0) else 0 for window in windows_labels]"
   ]
  },
  {
   "cell_type": "code",
   "execution_count": 33,
   "id": "9d9385ba",
   "metadata": {},
   "outputs": [],
   "source": [
    "results=testing(test_loader, alpha=0.1, beta=0.9)"
   ]
  },
  {
   "cell_type": "code",
   "execution_count": 34,
   "id": "fbacc678",
   "metadata": {},
   "outputs": [],
   "source": [
    "y_pred=np.concatenate([torch.stack(results[:-1]).flatten().detach().cpu().numpy(),\n",
    "                              results[-1].flatten().detach().cpu().numpy()])"
   ]
  },
  {
   "cell_type": "code",
   "execution_count": 35,
   "id": "123b12c1",
   "metadata": {},
   "outputs": [],
   "source": [
    "def ROC(y_test,y_pred):\n",
    "    fpr,tpr,tr=roc_curve(y_test,y_pred)\n",
    "    auc=roc_auc_score(y_test,y_pred)\n",
    "    idx=np.argwhere(np.diff(np.sign(tpr-(1-fpr)))).flatten()\n",
    "\n",
    "    plt.xlabel(\"FPR\")\n",
    "    plt.ylabel(\"TPR\")\n",
    "    plt.plot(fpr,tpr,label=\"AUC=\"+str(auc))\n",
    "    plt.plot(fpr,1-fpr,'r:')\n",
    "    plt.plot(fpr[idx],tpr[idx], 'ro')\n",
    "    plt.legend(loc=4)\n",
    "    plt.grid()\n",
    "    plt.show()\n",
    "    return tr[idx]"
   ]
  },
  {
   "cell_type": "code",
   "execution_count": 36,
   "id": "f9eeda54",
   "metadata": {},
   "outputs": [
    {
     "data": {
      "image/png": "[encoded data removed]",
      "text/plain": [
       "<Figure size 640x480 with 1 Axes>"
      ]
     },
     "metadata": {},
     "output_type": "display_data"
    }
   ],
   "source": [
    "threshold = ROC(y_test,y_pred)"
   ]
  },
  {
   "cell_type": "code",
   "execution_count": 37,
   "id": "71bf6f2c",
   "metadata": {},
   "outputs": [
    {
     "data": {
      "text/plain": [
       "array([0.3293085], dtype=float32)"
      ]
     },
     "execution_count": 37,
     "metadata": {},
     "output_type": "execute_result"
    }
   ],
   "source": [
    "threshold"
   ]
  },
  {
   "cell_type": "code",
   "execution_count": 39,
   "id": "513a1746",
   "metadata": {},
   "outputs": [
    {
     "name": "stdout",
     "output_type": "stream",
     "text": [
      "best: 0.1469387755102041 F1: 0.7205742893059568\n"
     ]
    },
    {
     "data": {
      "text/plain": [
       "[<matplotlib.lines.Line2D at 0x7f9290a20110>]"
      ]
     },
     "execution_count": 39,
     "metadata": {},
     "output_type": "execute_result"
    },
    {
     "data": {
      "image/png": "[encoded data removed]",
      "text/plain": [
       "<Figure size 640x480 with 1 Axes>"
      ]
     },
     "metadata": {},
     "output_type": "display_data"
    }
   ],
   "source": [
    "ff = 0\n",
    "f_history = []\n",
    "best = -1\n",
    "for inc in np.linspace(0, 0.2, 50):\n",
    "    y_pred_int = [1 if (yy > 0.3 + inc) else 0 for yy in y_pred]\n",
    "    conf_matrix = confusion_matrix(y_test, y_pred_int)\n",
    "    TP = conf_matrix[1, 1]\n",
    "    TN = conf_matrix[0, 0]\n",
    "    FP = conf_matrix[0, 1]\n",
    "    FN = conf_matrix[1, 0]\n",
    "    F1 = f1_score(y_test, y_pred_int)\n",
    "    f_history.append(F1)\n",
    "\n",
    "    precision = precision_score(y_test, y_pred_int)\n",
    "    recall = recall_score(y_test, y_pred_int)\n",
    "    if F1 > ff:\n",
    "        ff = F1\n",
    "        best = inc\n",
    "print(f'best: {best} F1: {ff}')\n",
    "plt.plot(f_history)"
   ]
  },
  {
   "cell_type": "code",
   "execution_count": 58,
   "id": "04a5c9f7",
   "metadata": {},
   "outputs": [
    {
     "name": "stdout",
     "output_type": "stream",
     "text": [
      "Precision: 0.7332721863045569\n",
      "Recall: 0.5958986292404465\n",
      "F1 Score: 0.6574864352552979\n",
      "TP: 32778\n",
      "TN: 382978\n",
      "FP: 11923\n",
      "FN: 22228\n"
     ]
    }
   ],
   "source": [
    "y_pred_int = [1 if (yy > 0.5775) else 0 for yy in y_pred]\n",
    "conf_matrix = confusion_matrix(y_test, y_pred_int)\n",
    "TP = conf_matrix[1, 1]\n",
    "TN = conf_matrix[0, 0]\n",
    "FP = conf_matrix[0, 1]\n",
    "FN = conf_matrix[1, 0]\n",
    "F1 = f1_score(y_test, y_pred_int)\n",
    "\n",
    "precision = precision_score(y_test, y_pred_int)\n",
    "recall = recall_score(y_test, y_pred_int)\n",
    "print(\"Precision:\", precision)\n",
    "print(\"Recall:\", recall)\n",
    "print(\"F1 Score:\", F1)\n",
    "print(f'TP: {TP}\\nTN: {TN}\\nFP: {FP}\\nFN: {FN}')"
   ]
  },
  {
   "cell_type": "code",
   "execution_count": 90,
   "id": "c63f4973",
   "metadata": {},
   "outputs": [
    {
     "data": {
      "text/plain": [
       "0.012121212121212121"
      ]
     },
     "execution_count": 90,
     "metadata": {},
     "output_type": "execute_result"
    }
   ],
   "source": [
    "best"
   ]
  }
 ],
 "metadata": {
  "kernelspec": {
   "display_name": "NIS",
   "language": "python",
   "name": "art"
  },
  "language_info": {
   "codemirror_mode": {
    "name": "ipython",
    "version": 3
   },
   "file_extension": ".py",
   "mimetype": "text/x-python",
   "name": "python",
   "nbconvert_exporter": "python",
   "pygments_lexer": "ipython3",
   "version": "3.11.5"
  }
 },
 "nbformat": 4,
 "nbformat_minor": 5
}
