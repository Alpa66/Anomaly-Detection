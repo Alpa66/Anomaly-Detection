{
 "cells": [
  {
   "cell_type": "markdown",
   "metadata": {},
   "source": [
    "# Experiment 2\n",
    "Here a convolution layer is first used as before, but then two linear layers are used instead of another convolution layer"
   ]
  },
  {
   "cell_type": "code",
   "execution_count": 1,
   "metadata": {},
   "outputs": [
    {
     "name": "stdout",
     "output_type": "stream",
     "text": [
      " MNIST\t\t\t       SWaT_Dataset_Normal_v1.xlsx\n",
      " SWaT_Dataset_Attack_v0.csv    WADI_14days_new.csv\n",
      " SWaT_Dataset_Attack_v0.xlsx  'WADI.A1_9 Oct 2017'\n",
      " SWaT_Dataset_Normal_v0.csv   'WADI.A2_19 Nov 2019'\n",
      " SWaT_Dataset_Normal_v0.xlsx   WADI_attackdataLABLE.csv\n",
      " SWaT_Dataset_Normal_v1.csv\n"
     ]
    }
   ],
   "source": [
    "!ls ../../Projects/data/"
   ]
  },
  {
   "cell_type": "code",
   "execution_count": 3,
   "metadata": {},
   "outputs": [],
   "source": [
    "import numpy as np\n",
    "import pandas as pd\n",
    "import torch\n",
    "import torch.nn as nn\n",
    "import matplotlib.pyplot as plt\n",
    "import torch.nn.functional as F\n",
    "from torch.optim import Adam\n",
    "import time\n",
    "from torch.utils.data import Dataset, DataLoader\n",
    "from sklearn.preprocessing import MinMaxScaler\n",
    "\n",
    "from sklearn.metrics import confusion_matrix, f1_score, roc_curve, roc_auc_score, precision_score, recall_score"
   ]
  },
  {
   "cell_type": "markdown",
   "metadata": {},
   "source": [
    "### Dataset:"
   ]
  },
  {
   "cell_type": "code",
   "execution_count": 4,
   "metadata": {},
   "outputs": [],
   "source": [
    "df = pd.read_csv('../../Projects/data/SWaT_Dataset_Normal_v1.csv')\n",
    "df = df.drop(columns=[' Timestamp', 'Normal/Attack'])\n",
    "df = df.astype('float64')"
   ]
  },
  {
   "cell_type": "code",
   "execution_count": 5,
   "metadata": {},
   "outputs": [],
   "source": [
    "# grouping_array = np.arange(len(df)) // 5\n",
    "# df = df.groupby(grouping_array).median()"
   ]
  },
  {
   "cell_type": "code",
   "execution_count": 6,
   "metadata": {},
   "outputs": [],
   "source": [
    "mm = MinMaxScaler()"
   ]
  },
  {
   "cell_type": "code",
   "execution_count": 7,
   "metadata": {},
   "outputs": [
    {
     "name": "stderr",
     "output_type": "stream",
     "text": [
      "/home/ahmad/anaconda3/envs/art/lib/python3.11/site-packages/sklearn/utils/validation.py:767: FutureWarning: is_sparse is deprecated and will be removed in a future version. Check `isinstance(dtype, pd.SparseDtype)` instead.\n",
      "  if not hasattr(array, \"sparse\") and array.dtypes.apply(is_sparse).any():\n",
      "/home/ahmad/anaconda3/envs/art/lib/python3.11/site-packages/sklearn/utils/validation.py:605: FutureWarning: is_sparse is deprecated and will be removed in a future version. Check `isinstance(dtype, pd.SparseDtype)` instead.\n",
      "  if is_sparse(pd_dtype):\n",
      "/home/ahmad/anaconda3/envs/art/lib/python3.11/site-packages/sklearn/utils/validation.py:614: FutureWarning: is_sparse is deprecated and will be removed in a future version. Check `isinstance(dtype, pd.SparseDtype)` instead.\n",
      "  if is_sparse(pd_dtype) or not is_extension_array_dtype(pd_dtype):\n",
      "/home/ahmad/anaconda3/envs/art/lib/python3.11/site-packages/sklearn/utils/validation.py:767: FutureWarning: is_sparse is deprecated and will be removed in a future version. Check `isinstance(dtype, pd.SparseDtype)` instead.\n",
      "  if not hasattr(array, \"sparse\") and array.dtypes.apply(is_sparse).any():\n",
      "/home/ahmad/anaconda3/envs/art/lib/python3.11/site-packages/sklearn/utils/validation.py:605: FutureWarning: is_sparse is deprecated and will be removed in a future version. Check `isinstance(dtype, pd.SparseDtype)` instead.\n",
      "  if is_sparse(pd_dtype):\n",
      "/home/ahmad/anaconda3/envs/art/lib/python3.11/site-packages/sklearn/utils/validation.py:614: FutureWarning: is_sparse is deprecated and will be removed in a future version. Check `isinstance(dtype, pd.SparseDtype)` instead.\n",
      "  if is_sparse(pd_dtype) or not is_extension_array_dtype(pd_dtype):\n"
     ]
    }
   ],
   "source": [
    "Normalized = pd.DataFrame(mm.fit_transform(df))\n",
    "train_set = Normalized[: int(0.8 * Normalized.shape[0])]\n",
    "validation_set = Normalized[int(0.8 * Normalized.shape[0]):]"
   ]
  },
  {
   "cell_type": "code",
   "execution_count": 8,
   "metadata": {},
   "outputs": [],
   "source": [
    "class SWat_dataset(Dataset):\n",
    "    def __init__(self, dataframe: pd.DataFrame, target: pd.DataFrame,  window_size):\n",
    "        self.data = dataframe\n",
    "        self.window_size = window_size\n",
    "\n",
    "    def __len__(self):\n",
    "        return len(self.data) - self.window_size\n",
    "\n",
    "    def __getitem__(self, idx):\n",
    "        window = self.data[idx: idx + self.window_size]\n",
    "        features = torch.tensor(window.iloc[:,:].values).float().to(device)\n",
    "        return features"
   ]
  },
  {
   "cell_type": "markdown",
   "metadata": {},
   "source": [
    "### Dataloader:"
   ]
  },
  {
   "cell_type": "code",
   "execution_count": 9,
   "metadata": {},
   "outputs": [],
   "source": [
    "window_size = 200\n",
    "input_size = window_size * 51\n",
    "latent_space = 10 * window_size\n",
    "epochs = 50"
   ]
  },
  {
   "cell_type": "code",
   "execution_count": 10,
   "metadata": {},
   "outputs": [],
   "source": [
    "train_dataset = SWat_dataset(train_set, train_set, window_size)\n",
    "validation_dataset = SWat_dataset(validation_set, validation_set, window_size)\n",
    "\n",
    "batch_size = 4096\n",
    "train_loader = DataLoader(train_dataset, batch_size=batch_size, shuffle=False, num_workers=0)\n",
    "validation_loader = DataLoader(validation_dataset, batch_size=batch_size, shuffle=False, num_workers=0)"
   ]
  },
  {
   "cell_type": "markdown",
   "metadata": {},
   "source": [
    "### Model:"
   ]
  },
  {
   "cell_type": "code",
   "execution_count": 11,
   "metadata": {},
   "outputs": [],
   "source": [
    "class GCNLayer(nn.Module):\n",
    "    def __init__(self, in_dim, out_dim):\n",
    "        super().__init__()\n",
    "        \n",
    "        self.dense = nn.Linear(in_dim, out_dim)\n",
    "\n",
    "    def forward(self, adj, X):\n",
    "        adj = adj + torch.eye(adj.size(0)).to(adj.device)\n",
    "        h = self.dense(X)\n",
    "        norm = adj.sum(1)**(-1/2)\n",
    "        h = norm[None, :] * adj * norm[:, None] @ h\n",
    "        return h\n",
    "    \n",
    "    \n",
    "# A = ReLu(W)    \n",
    "class Graph_ReLu_W(nn.Module):\n",
    "    def __init__(self, num_nodes, k, device):\n",
    "        super(Graph_ReLu_W, self).__init__()\n",
    "        self.num_nodes = num_nodes\n",
    "        self.k = k\n",
    "        \n",
    "        self.A = nn.Parameter(torch.randn(num_nodes, num_nodes).to(device), requires_grad=True).to(device)\n",
    "\n",
    "    def forward(self, idx):\n",
    "        \n",
    "        adj = F.relu(self.A)\n",
    "        \n",
    "        if self.k:\n",
    "            mask = torch.zeros(idx.size(0), idx.size(0)).to(self.device)\n",
    "            mask.fill_(float('0'))\n",
    "            s1,t1 = (adj + torch.rand_like(adj)*0.01).topk(self.k,1)\n",
    "            mask.scatter_(1,t1,s1.fill_(1))\n",
    "            adj = adj*mask\n",
    "            \n",
    "        return adj\n",
    "\n",
    "# A for Directed graphs:\n",
    "class Graph_Directed_A(nn.Module):\n",
    "      \n",
    "    def __init__(self, num_nodes, window_size, alpha, k, device):\n",
    "        super(Graph_Directed_A, self).__init__()\n",
    "        \n",
    "        self.alpha = alpha\n",
    "        self.k = k\n",
    "        self.device = device\n",
    "        \n",
    "        self.e1 = nn.Embedding(num_nodes, window_size)\n",
    "        self.e2 = nn.Embedding(num_nodes, window_size)\n",
    "        self.l1 = nn.Linear(window_size,window_size)\n",
    "        self.l2 = nn.Linear(window_size,window_size)\n",
    "        \n",
    "    def forward(self, idx):\n",
    "        \n",
    "        m1 = torch.tanh(self.alpha*self.l1(self.e1(idx)))\n",
    "        m2 = torch.tanh(self.alpha*self.l2(self.e2(idx)))\n",
    "        adj = F.relu(torch.tanh(self.alpha*torch.mm(m1, m2.transpose(1,0))))\n",
    "        \n",
    "        if self.k:\n",
    "            mask = torch.zeros(idx.size(0), idx.size(0)).to(self.device)\n",
    "            mask.fill_(float('0'))\n",
    "            s1,t1 = (adj + torch.rand_like(adj)*0.01).topk(self.k,1)\n",
    "            mask.scatter_(1,t1,s1.fill_(1))\n",
    "            adj = adj*mask\n",
    "        \n",
    "        return adj"
   ]
  },
  {
   "cell_type": "code",
   "execution_count": 12,
   "metadata": {},
   "outputs": [],
   "source": [
    "class GCNEncoder(nn.Module):\n",
    "    def __init__(self, num_nodes, window_size, hidden_nodes, k, device):\n",
    "        super(GCNEncoder, self).__init__()\n",
    "        self.num_nodes = num_nodes\n",
    "        self.num_features = window_size\n",
    "        self.num_classes = hidden_nodes\n",
    "        self.idx = torch.arange(num_nodes).to(device)\n",
    "        self.k = k\n",
    "        self.device = device\n",
    "        \n",
    "        self.gcn1 = GCNLayer(window_size, window_size // 2)\n",
    "        self.bnorm1 = nn.BatchNorm1d(num_nodes)\n",
    "        self.fc1 = nn.Linear(window_size // 2, window_size // 4)\n",
    "        self.bnorm2 = nn.BatchNorm1d(num_nodes)\n",
    "        self.fc2 = nn.Linear(window_size // 4, hidden_nodes)\n",
    "        \n",
    "        self.A = Graph_Directed_A(num_nodes, window_size, 0.1, k, device)\n",
    "        \n",
    "    def forward(self, X):\n",
    "        adj = self.A(self.idx)\n",
    "        h = self.gcn1(adj, X)\n",
    "        h = F.relu(h)\n",
    "        h = self.bnorm1(h)\n",
    "        h = self.fc1(h)\n",
    "        h = F.relu(h)\n",
    "        h = self.bnorm1(h)\n",
    "        h = self.fc2(h)\n",
    "        return h\n",
    "    \n",
    "class GCNautoencoder(nn.Module):\n",
    "    def __init__(self, num_nodes, window_size, hidden_nodes, encoder, k, device):\n",
    "        super(GCNautoencoder, self).__init__()\n",
    "        self.num_nodes = num_nodes\n",
    "        self.num_features = window_size\n",
    "        self.encoder = encoder\n",
    "        self.idx = torch.arange(num_nodes).to(device)\n",
    "        self.num_classes = hidden_nodes\n",
    "        self.k = k\n",
    "        self.device = device\n",
    "\n",
    "        self.fc1 = nn.Linear(hidden_nodes, window_size // 4)\n",
    "        self.fc2 = nn.Linear(window_size // 4, window_size // 2)\n",
    "        self.gcn1 = GCNLayer(window_size // 2, window_size)\n",
    "        self.bnorm1 = nn.BatchNorm1d(num_nodes)\n",
    "        self.bnorm2 = nn.BatchNorm1d(num_nodes)\n",
    "        \n",
    "        self.A = Graph_Directed_A(num_nodes, window_size, 0.1, k, device)\n",
    "        \n",
    "    def forward(self, X):\n",
    "        h = self.encoder(X)\n",
    "        h = self.fc1(h)\n",
    "        h = F.relu(h)\n",
    "        h = self.fc2(h)\n",
    "        h = F.relu(h)\n",
    "        adj = self.A(self.idx)\n",
    "        h = self.gcn1(adj, h)\n",
    "        h = F.relu(h)\n",
    "        return h"
   ]
  },
  {
   "cell_type": "code",
   "execution_count": 13,
   "metadata": {},
   "outputs": [],
   "source": [
    "num_nodes = 51 # number of nodes\n",
    "ngnn = 1 # number of graph structure learning layers\n",
    "gsllayer = 'directed' # type of graph structure learning layer ('relu', 'directed', 'unidirected', 'undirected')\n",
    "hidden_nodes = 25 # feature size in GCN layers\n",
    "alpha = 0.1 # hyperparameter for weights of edges\n",
    "k = None # max number of edges for each node\n",
    "out_channels = 2 # number of process states"
   ]
  },
  {
   "cell_type": "code",
   "execution_count": 14,
   "metadata": {},
   "outputs": [
    {
     "data": {
      "text/plain": [
       "device(type='cuda')"
      ]
     },
     "execution_count": 14,
     "metadata": {},
     "output_type": "execute_result"
    }
   ],
   "source": [
    "device = torch.device('cuda' if torch.cuda.is_available() else 'cpu')\n",
    "device"
   ]
  },
  {
   "cell_type": "code",
   "execution_count": 15,
   "metadata": {},
   "outputs": [],
   "source": [
    "shared_encoder = GCNEncoder(num_nodes, window_size, hidden_nodes, k, device)\n",
    "AE1 = GCNautoencoder(num_nodes, window_size, hidden_nodes, shared_encoder, k, device)\n",
    "AE2 = GCNautoencoder(num_nodes, window_size, hidden_nodes, shared_encoder, k, device)"
   ]
  },
  {
   "cell_type": "code",
   "execution_count": 16,
   "metadata": {},
   "outputs": [
    {
     "data": {
      "text/plain": [
       "GCNautoencoder(\n",
       "  (encoder): GCNEncoder(\n",
       "    (gcn1): GCNLayer(\n",
       "      (dense): Linear(in_features=200, out_features=100, bias=True)\n",
       "    )\n",
       "    (bnorm1): BatchNorm1d(51, eps=1e-05, momentum=0.1, affine=True, track_running_stats=True)\n",
       "    (fc1): Linear(in_features=100, out_features=50, bias=True)\n",
       "    (bnorm2): BatchNorm1d(51, eps=1e-05, momentum=0.1, affine=True, track_running_stats=True)\n",
       "    (fc2): Linear(in_features=50, out_features=25, bias=True)\n",
       "    (A): Graph_Directed_A(\n",
       "      (e1): Embedding(51, 200)\n",
       "      (e2): Embedding(51, 200)\n",
       "      (l1): Linear(in_features=200, out_features=200, bias=True)\n",
       "      (l2): Linear(in_features=200, out_features=200, bias=True)\n",
       "    )\n",
       "  )\n",
       "  (fc1): Linear(in_features=25, out_features=50, bias=True)\n",
       "  (fc2): Linear(in_features=50, out_features=100, bias=True)\n",
       "  (gcn1): GCNLayer(\n",
       "    (dense): Linear(in_features=100, out_features=200, bias=True)\n",
       "  )\n",
       "  (bnorm1): BatchNorm1d(51, eps=1e-05, momentum=0.1, affine=True, track_running_stats=True)\n",
       "  (bnorm2): BatchNorm1d(51, eps=1e-05, momentum=0.1, affine=True, track_running_stats=True)\n",
       "  (A): Graph_Directed_A(\n",
       "    (e1): Embedding(51, 200)\n",
       "    (e2): Embedding(51, 200)\n",
       "    (l1): Linear(in_features=200, out_features=200, bias=True)\n",
       "    (l2): Linear(in_features=200, out_features=200, bias=True)\n",
       "  )\n",
       ")"
      ]
     },
     "execution_count": 16,
     "metadata": {},
     "output_type": "execute_result"
    }
   ],
   "source": [
    "shared_encoder.to(device)\n",
    "AE1.to(device)\n",
    "AE2.to(device)"
   ]
  },
  {
   "cell_type": "code",
   "execution_count": 17,
   "metadata": {},
   "outputs": [],
   "source": [
    "optimizer1 = torch.optim.Adam(AE1.parameters())\n",
    "optimizer2 = torch.optim.Adam(AE2.parameters())"
   ]
  },
  {
   "cell_type": "code",
   "execution_count": 18,
   "metadata": {},
   "outputs": [
    {
     "name": "stdout",
     "output_type": "stream",
     "text": [
      "Epoch: 0 ---> Val loss: AE1 0.0954, AE2: 0.0927\n",
      "Train loss: AE1 0.1535, AE2 0.1404\n",
      "Epoch: 1 ---> Val loss: AE1 0.0840, AE2: -0.0008\n",
      "Train loss: AE1 0.0915, AE2 -0.0022\n",
      "Epoch: 2 ---> Val loss: AE1 0.0810, AE2: -0.0270\n",
      "Train loss: AE1 0.0865, AE2 -0.0291\n",
      "Epoch: 3 ---> Val loss: AE1 0.0934, AE2: -0.0485\n",
      "Train loss: AE1 0.0966, AE2 -0.0484\n",
      "Epoch: 4 ---> Val loss: AE1 0.1105, AE2: -0.0708\n",
      "Train loss: AE1 0.1241, AE2 -0.0769\n",
      "Epoch: 5 ---> Val loss: AE1 0.1057, AE2: -0.0760\n",
      "Train loss: AE1 0.1162, AE2 -0.0819\n",
      "Epoch: 6 ---> Val loss: AE1 0.1873, AE2: -0.1597\n",
      "Train loss: AE1 0.2209, AE2 -0.1741\n",
      "Epoch: 7 ---> Val loss: AE1 0.1662, AE2: -0.1445\n",
      "Train loss: AE1 0.1716, AE2 -0.1458\n",
      "Epoch: 8 ---> Val loss: AE1 0.1566, AE2: -0.1373\n",
      "Train loss: AE1 0.1641, AE2 -0.1421\n",
      "Epoch: 9 ---> Val loss: AE1 0.1903, AE2: -0.1727\n",
      "Train loss: AE1 0.1943, AE2 -0.1738\n",
      "Epoch: 10 ---> Val loss: AE1 0.1707, AE2: -0.1541\n",
      "Train loss: AE1 0.1785, AE2 -0.1550\n",
      "Epoch: 11 ---> Val loss: AE1 0.1698, AE2: -0.1553\n",
      "Train loss: AE1 0.1699, AE2 -0.1532\n",
      "Epoch: 12 ---> Val loss: AE1 0.1690, AE2: -0.1559\n",
      "Train loss: AE1 0.1688, AE2 -0.1537\n",
      "Epoch: 13 ---> Val loss: AE1 0.1682, AE2: -0.1561\n",
      "Train loss: AE1 0.1673, AE2 -0.1536\n",
      "Epoch: 14 ---> Val loss: AE1 0.1665, AE2: -0.1552\n",
      "Train loss: AE1 0.1658, AE2 -0.1530\n",
      "Epoch: 15 ---> Val loss: AE1 0.1597, AE2: -0.1485\n",
      "Train loss: AE1 0.1641, AE2 -0.1493\n",
      "Epoch: 16 ---> Val loss: AE1 0.1579, AE2: -0.1460\n",
      "Train loss: AE1 0.1598, AE2 -0.1483\n",
      "Epoch: 17 ---> Val loss: AE1 0.1546, AE2: -0.1452\n",
      "Train loss: AE1 0.1595, AE2 -0.1483\n",
      "Epoch: 18 ---> Val loss: AE1 0.1596, AE2: -0.1511\n",
      "Train loss: AE1 0.1582, AE2 -0.1482\n",
      "Epoch: 19 ---> Val loss: AE1 0.1545, AE2: -0.1463\n",
      "Train loss: AE1 0.1561, AE2 -0.1470\n",
      "Epoch: 20 ---> Val loss: AE1 0.1552, AE2: -0.1475\n",
      "Train loss: AE1 0.1552, AE2 -0.1465\n",
      "Epoch: 21 ---> Val loss: AE1 0.1712, AE2: -0.1626\n",
      "Train loss: AE1 0.1546, AE2 -0.1463\n",
      "Epoch: 22 ---> Val loss: AE1 0.1501, AE2: -0.1431\n",
      "Train loss: AE1 0.1727, AE2 -0.1627\n",
      "Epoch: 23 ---> Val loss: AE1 0.1490, AE2: -0.1424\n",
      "Train loss: AE1 0.1490, AE2 -0.1417\n",
      "Epoch: 24 ---> Val loss: AE1 0.1526, AE2: -0.1460\n",
      "Train loss: AE1 0.1507, AE2 -0.1436\n",
      "Epoch: 25 ---> Val loss: AE1 0.1486, AE2: -0.1426\n",
      "Train loss: AE1 0.1518, AE2 -0.1450\n",
      "Epoch: 26 ---> Val loss: AE1 0.1477, AE2: -0.1420\n",
      "Train loss: AE1 0.1482, AE2 -0.1418\n",
      "Epoch: 27 ---> Val loss: AE1 0.1486, AE2: -0.1430\n",
      "Train loss: AE1 0.1490, AE2 -0.1428\n",
      "Epoch: 28 ---> Val loss: AE1 0.1475, AE2: -0.1422\n",
      "Train loss: AE1 0.1481, AE2 -0.1422\n",
      "Epoch: 29 ---> Val loss: AE1 0.1473, AE2: -0.1422\n",
      "Train loss: AE1 0.1486, AE2 -0.1428\n",
      "Epoch: 30 ---> Val loss: AE1 0.1495, AE2: -0.1445\n",
      "Train loss: AE1 0.1487, AE2 -0.1431\n",
      "Epoch: 31 ---> Val loss: AE1 0.1373, AE2: -0.1322\n",
      "Train loss: AE1 0.1455, AE2 -0.1388\n",
      "Epoch: 32 ---> Val loss: AE1 0.1421, AE2: -0.1372\n",
      "Train loss: AE1 0.1438, AE2 -0.1381\n",
      "Epoch: 33 ---> Val loss: AE1 0.1485, AE2: -0.1431\n",
      "Train loss: AE1 0.1464, AE2 -0.1409\n",
      "Epoch: 34 ---> Val loss: AE1 0.1435, AE2: -0.1390\n",
      "Train loss: AE1 0.1437, AE2 -0.1385\n",
      "Epoch: 35 ---> Val loss: AE1 0.1426, AE2: -0.1377\n",
      "Train loss: AE1 0.1450, AE2 -0.1384\n",
      "Epoch: 36 ---> Val loss: AE1 0.1393, AE2: -0.1348\n",
      "Train loss: AE1 0.1421, AE2 -0.1370\n",
      "Epoch: 37 ---> Val loss: AE1 0.1399, AE2: -0.1355\n",
      "Train loss: AE1 0.1438, AE2 -0.1390\n",
      "Epoch: 38 ---> Val loss: AE1 0.1376, AE2: -0.1334\n",
      "Train loss: AE1 0.1411, AE2 -0.1365\n",
      "Epoch: 39 ---> Val loss: AE1 0.4571, AE2: -0.4344\n",
      "Train loss: AE1 0.4519, AE2 -0.4310\n",
      "Epoch: 40 ---> Val loss: AE1 0.4571, AE2: -0.4349\n",
      "Train loss: AE1 0.4538, AE2 -0.4318\n",
      "Epoch: 41 ---> Val loss: AE1 0.4571, AE2: -0.4355\n",
      "Train loss: AE1 0.4538, AE2 -0.4323\n",
      "Epoch: 42 ---> Val loss: AE1 0.4571, AE2: -0.4360\n",
      "Train loss: AE1 0.4538, AE2 -0.4329\n",
      "Epoch: 43 ---> Val loss: AE1 0.4571, AE2: -0.4365\n",
      "Train loss: AE1 0.4538, AE2 -0.4333\n",
      "Epoch: 44 ---> Val loss: AE1 0.4571, AE2: -0.4369\n",
      "Train loss: AE1 0.4538, AE2 -0.4338\n",
      "Epoch: 45 ---> Val loss: AE1 0.4571, AE2: -0.4374\n",
      "Train loss: AE1 0.4538, AE2 -0.4342\n",
      "Epoch: 46 ---> Val loss: AE1 0.4571, AE2: -0.4378\n",
      "Train loss: AE1 0.4538, AE2 -0.4346\n",
      "Epoch: 47 ---> Val loss: AE1 0.4571, AE2: -0.4382\n",
      "Train loss: AE1 0.4538, AE2 -0.4351\n",
      "Epoch: 48 ---> Val loss: AE1 0.4571, AE2: -0.4386\n",
      "Train loss: AE1 0.4538, AE2 -0.4354\n",
      "Epoch: 49 ---> Val loss: AE1 0.4571, AE2: -0.4389\n",
      "Train loss: AE1 0.4538, AE2 -0.4358\n"
     ]
    }
   ],
   "source": [
    "AE1_val_history = []\n",
    "AE2_val_history = []\n",
    "for i in range(epochs):\n",
    "    running_loss_AE1 = []\n",
    "    running_loss_AE2 = []\n",
    "    val_loss_AE1 = []\n",
    "    val_loss_AE2 = []\n",
    "    for index_b, features in enumerate(train_loader):\n",
    "        features = torch.transpose(features, 1, 2)\n",
    "        \n",
    "        w1 = AE1(features)\n",
    "        w2 = AE2(features)\n",
    "        w3 = AE2(w1)\n",
    "        lossAE1 = (1 / (i + 1)) * torch.mean((features - w1) ** 2) + (1 - (1 / (i + 1))) * torch.mean((features - w3) ** 2)\n",
    "        lossAE2 = (1 / (i + 1)) * torch.mean((features - w2) ** 2) - (1 - (1 / (i + 1))) * torch.mean((features - w3) ** 2)\n",
    "        \n",
    "        running_loss_AE1.append(lossAE1)\n",
    "        lossAE1.backward()\n",
    "        optimizer1.step()\n",
    "        optimizer1.zero_grad()\n",
    "        \n",
    "        w1 = AE1(features)\n",
    "        w2 = AE2(features)\n",
    "        w3 = AE2(w1)\n",
    "        lossAE1 = (1 / (i + 1)) * torch.mean((features - w1) ** 2) + (1 - (1 / (i + 1))) * torch.mean((features - w3) ** 2)\n",
    "        lossAE2 = (1 / (i + 1)) * torch.mean((features - w2) ** 2) - (1 - (1 / (i + 1))) * torch.mean((features - w3) ** 2)\n",
    "        \n",
    "        running_loss_AE2.append(lossAE2)\n",
    "        lossAE2.backward()\n",
    "        optimizer2.step()\n",
    "        optimizer2.zero_grad()\n",
    "    \n",
    "    for index_b, features in enumerate(validation_loader):\n",
    "        with torch.no_grad():\n",
    "            features = torch.transpose(features, 1, 2)\n",
    "        \n",
    "            w1 = AE1(features)\n",
    "            w2 = AE2(features)\n",
    "            w3 = AE2(w1)\n",
    "            lossAE1 = (1 / (i + 1)) * torch.mean((features - w1) ** 2) + (1 - (1 / (i + 1))) * torch.mean((features - w3) ** 2)\n",
    "            lossAE2 = (1 / (i + 1)) * torch.mean((features - w2) ** 2) - (1 - (1 / (i + 1))) * torch.mean((features - w3) ** 2)\n",
    "            val_loss_AE1.append(lossAE1)\n",
    "            val_loss_AE2.append(lossAE2)\n",
    "    AE1_val_history.append(torch.stack(val_loss_AE1).mean().item())\n",
    "    AE2_val_history.append(torch.stack(val_loss_AE2).mean().item())\n",
    "    print(f'Epoch: {i} ---> Val loss: AE1 {AE1_val_history[-1]:.4f}, AE2: {AE2_val_history[-1]:.4f}')\n",
    "    print(f'Train loss: AE1 {torch.stack(running_loss_AE1).mean().item():.4f}, AE2 {torch.stack(running_loss_AE2).mean().item():.4f}')"
   ]
  },
  {
   "cell_type": "code",
   "execution_count": 25,
   "metadata": {},
   "outputs": [
    {
     "data": {
      "text/plain": [
       "0.39646992087364197"
      ]
     },
     "execution_count": 25,
     "metadata": {},
     "output_type": "execute_result"
    }
   ],
   "source": [
    "torch.stack"
   ]
  },
  {
   "cell_type": "markdown",
   "metadata": {},
   "source": [
    "# Testing"
   ]
  },
  {
   "cell_type": "code",
   "execution_count": 19,
   "metadata": {},
   "outputs": [],
   "source": [
    "df2 = pd.read_csv('../../Projects/data/SWaT_Dataset_Attack_v0.csv')\n",
    "labels = df2['Normal/Attack']\n",
    "df2 = df2.drop(columns=[' Timestamp', 'Normal/Attack'])\n",
    "df2 = df2.astype('float64')\n",
    "df2.columns = df.columns"
   ]
  },
  {
   "cell_type": "code",
   "execution_count": 18,
   "metadata": {},
   "outputs": [
    {
     "data": {
      "text/plain": [
       "(449919, 51)"
      ]
     },
     "execution_count": 18,
     "metadata": {},
     "output_type": "execute_result"
    }
   ],
   "source": [
    "df2.shape"
   ]
  },
  {
   "cell_type": "code",
   "execution_count": 20,
   "metadata": {},
   "outputs": [
    {
     "name": "stderr",
     "output_type": "stream",
     "text": [
      "/home/ahmad/anaconda3/envs/art/lib/python3.11/site-packages/sklearn/utils/validation.py:767: FutureWarning: is_sparse is deprecated and will be removed in a future version. Check `isinstance(dtype, pd.SparseDtype)` instead.\n",
      "  if not hasattr(array, \"sparse\") and array.dtypes.apply(is_sparse).any():\n",
      "/home/ahmad/anaconda3/envs/art/lib/python3.11/site-packages/sklearn/utils/validation.py:605: FutureWarning: is_sparse is deprecated and will be removed in a future version. Check `isinstance(dtype, pd.SparseDtype)` instead.\n",
      "  if is_sparse(pd_dtype):\n",
      "/home/ahmad/anaconda3/envs/art/lib/python3.11/site-packages/sklearn/utils/validation.py:614: FutureWarning: is_sparse is deprecated and will be removed in a future version. Check `isinstance(dtype, pd.SparseDtype)` instead.\n",
      "  if is_sparse(pd_dtype) or not is_extension_array_dtype(pd_dtype):\n"
     ]
    }
   ],
   "source": [
    "test_normalized = pd.DataFrame(mm.transform(df2))"
   ]
  },
  {
   "cell_type": "code",
   "execution_count": 21,
   "metadata": {},
   "outputs": [],
   "source": [
    "test_dataset = SWat_dataset(test_normalized, test_normalized, window_size)\n",
    "test_loader = DataLoader(test_dataset, batch_size=batch_size, shuffle=False, num_workers=0)"
   ]
  },
  {
   "cell_type": "code",
   "execution_count": 22,
   "metadata": {},
   "outputs": [],
   "source": [
    "def testing(test_loader, alpha=.5, beta=.5):\n",
    "    results=[]\n",
    "    with torch.no_grad():\n",
    "        for batch in test_loader:\n",
    "            batch = torch.transpose(batch, 1, 2)\n",
    "            w1=AE1(batch)\n",
    "            w2=AE2(w1)\n",
    "            results.append(alpha * torch.mean(torch.mean((batch-w1)**2, axis=1), axis=1) +\n",
    "                           beta*torch.mean(torch.mean((batch-w2)**2,axis=1), axis=1))\n",
    "    return results"
   ]
  },
  {
   "cell_type": "code",
   "execution_count": 23,
   "metadata": {},
   "outputs": [],
   "source": [
    "labels = labels.values\n",
    "labels = [0 if (lab == 'Normal') else 1 for lab in labels]"
   ]
  },
  {
   "cell_type": "code",
   "execution_count": 24,
   "metadata": {},
   "outputs": [],
   "source": [
    "windows_labels=[]\n",
    "for i in range(len(labels)-window_size):\n",
    "    windows_labels.append(list(np.int32(labels[i:i+window_size])))"
   ]
  },
  {
   "cell_type": "code",
   "execution_count": 24,
   "metadata": {},
   "outputs": [
    {
     "data": {
      "text/plain": [
       "449819"
      ]
     },
     "execution_count": 24,
     "metadata": {},
     "output_type": "execute_result"
    }
   ],
   "source": [
    "len(windows_labels)"
   ]
  },
  {
   "cell_type": "code",
   "execution_count": 25,
   "metadata": {},
   "outputs": [],
   "source": [
    "y_test = [1.0 if (np.sum(window) > 0) else 0 for window in windows_labels]"
   ]
  },
  {
   "cell_type": "code",
   "execution_count": 26,
   "metadata": {},
   "outputs": [],
   "source": [
    "results=testing(test_loader, alpha=0.3, beta=0.7)"
   ]
  },
  {
   "cell_type": "code",
   "execution_count": 27,
   "metadata": {},
   "outputs": [],
   "source": [
    "y_pred=np.concatenate([torch.stack(results[:-1]).flatten().detach().cpu().numpy(),\n",
    "                              results[-1].flatten().detach().cpu().numpy()])"
   ]
  },
  {
   "cell_type": "code",
   "execution_count": 71,
   "metadata": {},
   "outputs": [
    {
     "data": {
      "text/plain": [
       "449819"
      ]
     },
     "execution_count": 71,
     "metadata": {},
     "output_type": "execute_result"
    }
   ],
   "source": [
    "len(y_pred)"
   ]
  },
  {
   "cell_type": "code",
   "execution_count": 28,
   "metadata": {},
   "outputs": [],
   "source": [
    "def ROC(y_test,y_pred):\n",
    "    fpr,tpr,tr=roc_curve(y_test,y_pred)\n",
    "    auc=roc_auc_score(y_test,y_pred)\n",
    "    idx=np.argwhere(np.diff(np.sign(tpr-(1-fpr)))).flatten()\n",
    "\n",
    "    plt.xlabel(\"FPR\")\n",
    "    plt.ylabel(\"TPR\")\n",
    "    plt.plot(fpr,tpr,label=\"AUC=\"+str(auc))\n",
    "    plt.plot(fpr,1-fpr,'r:')\n",
    "    plt.plot(fpr[idx],tpr[idx], 'ro')\n",
    "    plt.legend(loc=4)\n",
    "    plt.grid()\n",
    "    plt.show()\n",
    "    return tr[idx]"
   ]
  },
  {
   "cell_type": "code",
   "execution_count": 29,
   "metadata": {},
   "outputs": [
    {
     "data": {
      "image/png": "[encoded data removed]",
      "text/plain": [
       "<Figure size 640x480 with 1 Axes>"
      ]
     },
     "metadata": {},
     "output_type": "display_data"
    }
   ],
   "source": [
    "threshold = ROC(y_test,y_pred)"
   ]
  },
  {
   "cell_type": "code",
   "execution_count": 45,
   "metadata": {},
   "outputs": [
    {
     "ename": "NameError",
     "evalue": "name 'f_history' is not defined",
     "output_type": "error",
     "traceback": [
      "\u001b[0;31m---------------------------------------------------------------------------\u001b[0m",
      "\u001b[0;31mNameError\u001b[0m                                 Traceback (most recent call last)",
      "Cell \u001b[0;32mIn[45], line 2\u001b[0m\n\u001b[1;32m      1\u001b[0m x_vals \u001b[38;5;241m=\u001b[39m \u001b[38;5;241m0.4\u001b[39m \u001b[38;5;241m+\u001b[39m np\u001b[38;5;241m.\u001b[39mlinspace(\u001b[38;5;241m0\u001b[39m, \u001b[38;5;241m0.3\u001b[39m, \u001b[38;5;241m50\u001b[39m)\n\u001b[0;32m----> 2\u001b[0m plt\u001b[38;5;241m.\u001b[39mplot(x_vals, f_history)\n\u001b[1;32m      3\u001b[0m plt\u001b[38;5;241m.\u001b[39mxlabel(\u001b[38;5;124m'\u001b[39m\u001b[38;5;124mThreshold\u001b[39m\u001b[38;5;124m'\u001b[39m)\n\u001b[1;32m      4\u001b[0m plt\u001b[38;5;241m.\u001b[39mylabel(\u001b[38;5;124m'\u001b[39m\u001b[38;5;124mF1 score\u001b[39m\u001b[38;5;124m'\u001b[39m)\n",
      "\u001b[0;31mNameError\u001b[0m: name 'f_history' is not defined"
     ]
    }
   ],
   "source": [
    "x_vals = 0.4 + np.linspace(0, 0.3, 50)\n",
    "plt.plot(x_vals, f_history)\n",
    "plt.xlabel('Threshold')\n",
    "plt.ylabel('F1 score')\n",
    "\n",
    "max_y = max(f_history)\n",
    "max_x = np.argmax(f_history)\n",
    "plt.axhline(y=max_y, color='r', linestyle='--', label='Max Y')\n",
    "plt.text(0.6, max_y + 0.05, f'Max F1= {max_y: .4f}', color='r')\n",
    "plt.ylim(0, 1)\n",
    "plt.grid(True)\n",
    "\n",
    "plt.savefig('my_plot.png')\n",
    "\n",
    "plt.show()"
   ]
  },
  {
   "cell_type": "code",
   "execution_count": 31,
   "metadata": {},
   "outputs": [
    {
     "name": "stdout",
     "output_type": "stream",
     "text": [
      "best: 0.05 F1: 0.23991969018885717\n"
     ]
    },
    {
     "data": {
      "text/plain": [
       "[<matplotlib.lines.Line2D at 0x7e216cba8d50>]"
      ]
     },
     "execution_count": 31,
     "metadata": {},
     "output_type": "execute_result"
    },
    {
     "data": {
      "image/png": "[encoded data removed]",
      "text/plain": [
       "<Figure size 640x480 with 1 Axes>"
      ]
     },
     "metadata": {},
     "output_type": "display_data"
    }
   ],
   "source": [
    "ff = 0\n",
    "f_history = []\n",
    "initial_y = 0.05\n",
    "best = -1\n",
    "for inc in np.linspace(0, 0.3, 50):\n",
    "    y_pred_int = [1 if (yy > initial_y + inc) else 0 for yy in y_pred]\n",
    "    conf_matrix = confusion_matrix(y_test, y_pred_int)\n",
    "    TP = conf_matrix[1, 1]\n",
    "    TN = conf_matrix[0, 0]\n",
    "    FP = conf_matrix[0, 1]\n",
    "    FN = conf_matrix[1, 0]\n",
    "    F1 = f1_score(y_test, y_pred_int)\n",
    "    f_history.append(F1)\n",
    "\n",
    "    precision = precision_score(y_test, y_pred_int)\n",
    "    recall = recall_score(y_test, y_pred_int)\n",
    "    if F1 > ff:\n",
    "        ff = F1\n",
    "        best = inc\n",
    "print(f'best: {best + initial_y} F1: {ff}')\n",
    "plt.plot(f_history)"
   ]
  },
  {
   "cell_type": "code",
   "execution_count": null,
   "metadata": {},
   "outputs": [],
   "source": [
    "y_pred_int = [1 if (yy > 0.558) else 0 for yy in y_pred]\n",
    "conf_matrix = confusion_matrix(y_test, y_pred_int)\n",
    "TP = conf_matrix[1, 1]\n",
    "TN = conf_matrix[0, 0]\n",
    "FP = conf_matrix[0, 1]\n",
    "FN = conf_matrix[1, 0]\n",
    "F1 = f1_score(y_test, y_pred_int)\n",
    "\n",
    "precision = precision_score(y_test, y_pred_int)\n",
    "recall = recall_score(y_test, y_pred_int)\n",
    "print(\"Precision:\", precision)\n",
    "print(\"Recall:\", recall)\n",
    "print(\"F1 Score:\", F1)\n",
    "print(f'TP: {TP}\\nTN: {TN}\\nFP: {FP}\\nFN: {FN}')"
   ]
  },
  {
   "cell_type": "code",
   "execution_count": null,
   "metadata": {},
   "outputs": [],
   "source": []
  },
  {
   "cell_type": "code",
   "execution_count": null,
   "metadata": {},
   "outputs": [],
   "source": []
  },
  {
   "cell_type": "code",
   "execution_count": null,
   "metadata": {},
   "outputs": [],
   "source": []
  }
 ],
 "metadata": {
  "kernelspec": {
   "display_name": "NIS",
   "language": "python",
   "name": "art"
  },
  "language_info": {
   "codemirror_mode": {
    "name": "ipython",
    "version": 3
   },
   "file_extension": ".py",
   "mimetype": "text/x-python",
   "name": "python",
   "nbconvert_exporter": "python",
   "pygments_lexer": "ipython3",
   "version": "3.11.5"
  }
 },
 "nbformat": 4,
 "nbformat_minor": 4
}
