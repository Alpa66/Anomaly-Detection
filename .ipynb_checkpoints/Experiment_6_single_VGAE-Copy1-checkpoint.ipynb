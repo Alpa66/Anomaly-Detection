{
 "cells": [
  {
   "cell_type": "markdown",
   "metadata": {},
   "source": [
    "# Experiment 6\n",
    "In this experiment, the adversarial learning technique is dropped altogether, a single Variational Graph-based auto-encoder is used, using the torch geometry implementation of the VGAE\n",
    "\n",
    "VGAE proved to be inferior (to be tested) so back to experimenting with a model written from scratch"
   ]
  },
  {
   "cell_type": "code",
   "execution_count": 1,
   "metadata": {},
   "outputs": [
    {
     "name": "stdout",
     "output_type": "stream",
     "text": [
      " MNIST\t\t\t       SWaT_Dataset_Normal_v1.xlsx\n",
      " SWaT_Dataset_Attack_v0.csv    WADI_14days_new.csv\n",
      " SWaT_Dataset_Attack_v0.xlsx  'WADI.A1_9 Oct 2017'\n",
      " SWaT_Dataset_Normal_v0.csv   'WADI.A2_19 Nov 2019'\n",
      " SWaT_Dataset_Normal_v0.xlsx   WADI_attackdataLABLE.csv\n",
      " SWaT_Dataset_Normal_v1.csv\n"
     ]
    }
   ],
   "source": [
    "!ls ../../Projects/data/"
   ]
  },
  {
   "cell_type": "code",
   "execution_count": 1,
   "metadata": {},
   "outputs": [],
   "source": [
    "import numpy as np\n",
    "import pandas as pd\n",
    "import torch\n",
    "import torch.nn as nn\n",
    "import matplotlib.pyplot as plt\n",
    "import torch.nn.functional as F\n",
    "import torch_geometric.transforms as T\n",
    "\n",
    "from torch.optim import Adam\n",
    "from torch_geometric.nn import GAE, VGAE, GCNConv\n",
    "from torch.utils.data import Dataset, DataLoader\n",
    "from sklearn.preprocessing import StandardScaler\n",
    "from layers import *\n",
    "\n",
    "from sklearn.metrics import confusion_matrix, f1_score, roc_curve, roc_auc_score, precision_score, recall_score"
   ]
  },
  {
   "cell_type": "markdown",
   "metadata": {},
   "source": [
    "### Dataset:"
   ]
  },
  {
   "cell_type": "code",
   "execution_count": 2,
   "metadata": {},
   "outputs": [],
   "source": [
    "df = pd.read_csv('../../Projects/data/SWaT_Dataset_Normal_v1.csv')\n",
    "df = df.drop(columns=[' Timestamp', 'Normal/Attack'])\n",
    "df = df.astype('float64')\n",
    "mm = StandardScaler()\n",
    "Normalized = pd.DataFrame(mm.fit_transform(df))\n",
    "train_set = Normalized[: int(0.8 * Normalized.shape[0])]\n",
    "validation_set = Normalized[int(0.8 * Normalized.shape[0]):]"
   ]
  },
  {
   "cell_type": "code",
   "execution_count": 3,
   "metadata": {},
   "outputs": [
    {
     "data": {
      "text/plain": [
       "device(type='cuda')"
      ]
     },
     "execution_count": 3,
     "metadata": {},
     "output_type": "execute_result"
    }
   ],
   "source": [
    "device = torch.device('cuda' if torch.cuda.is_available() else 'cpu')\n",
    "device"
   ]
  },
  {
   "cell_type": "markdown",
   "metadata": {},
   "source": [
    "### Dataloader:"
   ]
  },
  {
   "cell_type": "code",
   "execution_count": 4,
   "metadata": {},
   "outputs": [],
   "source": [
    "window_size = 100\n",
    "\n",
    "train_dataset = SWat_dataset(train_set, train_set, window_size, device)\n",
    "validation_dataset = SWat_dataset(validation_set, validation_set, window_size, device)\n",
    "\n",
    "batch_size = 4096\n",
    "train_loader = DataLoader(train_dataset, batch_size=batch_size, shuffle=True, num_workers=0)\n",
    "validation_loader = DataLoader(validation_dataset, batch_size=batch_size, shuffle=False, num_workers=0)"
   ]
  },
  {
   "cell_type": "markdown",
   "metadata": {},
   "source": [
    "### Model:"
   ]
  },
  {
   "cell_type": "code",
   "execution_count": 6,
   "metadata": {},
   "outputs": [],
   "source": [
    "class GEncoder(nn.Module):\n",
    "    def __init__(self, num_nodes, window_size, alpha, k, device):\n",
    "        super(GEncoder, self).__init__()\n",
    "        self.num_nodes = num_nodes\n",
    "        self.window_size = window_size\n",
    "        self.conv1 = GCNLayer(window_size, 40)\n",
    "        self.conv2 = GCNLayer(40, 17)\n",
    "        self.idx = torch.arange(num_nodes).to(device)\n",
    "        self.A = Graph_Directed_A(num_nodes, window_size, alpha, k, device)\n",
    "        self.device = device\n",
    "\n",
    "    def forward(self, X):\n",
    "        X = torch.transpose(X, 1, 2)\n",
    "        adj = self.A(self.idx)\n",
    "        h = self.conv1(adj, X).relu()\n",
    "        h = self.conv2(adj, h).relu()\n",
    "        return h\n",
    "        \n",
    "        \n",
    "\n",
    "class GCN_autoencoder(nn.Module):\n",
    "    def __init__(self, encoder, num_nodes, window_size):\n",
    "        super(GCN_autoencoder, self).__init__()\n",
    "        self.window_size = window_size\n",
    "        self.num_nodes = num_nodes\n",
    "        self.encoder = encoder\n",
    "        self.decoder = nn.Sequential(\n",
    "            nn.Linear(867, 1650),\n",
    "            nn.ReLU(),\n",
    "            nn.Linear(1650, num_nodes * window_size)\n",
    "        )\n",
    "        \n",
    "    def forward(self, X):\n",
    "        x = self.encoder(X)\n",
    "        x = torch.flatten(x,1)\n",
    "        x = self.decoder(x)\n",
    "        return x.view(-1, self.window_size, self.num_nodes)\n",
    "\n",
    "    def get_adj(self):\n",
    "        return self.encoder.A(self.encoder.idx)"
   ]
  },
  {
   "cell_type": "code",
   "execution_count": 7,
   "metadata": {},
   "outputs": [],
   "source": [
    "num_nodes = 51 # number of nodes\n",
    "alpha = 0.15 # hyperparameter for weights of edges\n",
    "k = None  # max number of edges for each node\n",
    "epochs = 200"
   ]
  },
  {
   "cell_type": "code",
   "execution_count": 8,
   "metadata": {},
   "outputs": [],
   "source": [
    "Encoder = GEncoder(num_nodes, window_size, alpha, k, device)\n",
    "AE1 = GCN_autoencoder(Encoder, num_nodes, window_size)"
   ]
  },
  {
   "cell_type": "code",
   "execution_count": 9,
   "metadata": {},
   "outputs": [
    {
     "data": {
      "text/plain": [
       "GCN_autoencoder(\n",
       "  (encoder): GEncoder(\n",
       "    (conv1): GCNLayer(\n",
       "      (dense): Linear(in_features=100, out_features=40, bias=True)\n",
       "    )\n",
       "    (conv2): GCNLayer(\n",
       "      (dense): Linear(in_features=40, out_features=17, bias=True)\n",
       "    )\n",
       "    (A): Graph_Directed_A(\n",
       "      (e1): Embedding(51, 100)\n",
       "      (e2): Embedding(51, 100)\n",
       "      (l1): Linear(in_features=100, out_features=100, bias=True)\n",
       "      (l2): Linear(in_features=100, out_features=100, bias=True)\n",
       "    )\n",
       "  )\n",
       "  (decoder): Sequential(\n",
       "    (0): Linear(in_features=867, out_features=1650, bias=True)\n",
       "    (1): ReLU()\n",
       "    (2): Linear(in_features=1650, out_features=5100, bias=True)\n",
       "  )\n",
       ")"
      ]
     },
     "execution_count": 9,
     "metadata": {},
     "output_type": "execute_result"
    }
   ],
   "source": [
    "AE1.to(device)"
   ]
  },
  {
   "cell_type": "code",
   "execution_count": 10,
   "metadata": {},
   "outputs": [],
   "source": [
    "optimizer1 = torch.optim.Adam(AE1.parameters())"
   ]
  },
  {
   "cell_type": "code",
   "execution_count": 10,
   "metadata": {},
   "outputs": [],
   "source": [
    "# from torch.utils.tensorboard import SummaryWriter"
   ]
  },
  {
   "cell_type": "code",
   "execution_count": 11,
   "metadata": {},
   "outputs": [
    {
     "name": "stdout",
     "output_type": "stream",
     "text": [
      "Epoch: 0 ---> Val loss: AE1 0.0380\n",
      "Train loss: AE1 0.1433\n",
      "Epoch: 1 ---> Val loss: AE1 0.0210\n",
      "Train loss: AE1 0.0298\n",
      "Epoch: 2 ---> Val loss: AE1 0.0162\n",
      "Train loss: AE1 0.0196\n",
      "Epoch: 3 ---> Val loss: AE1 0.0137\n",
      "Train loss: AE1 0.0153\n",
      "Epoch: 4 ---> Val loss: AE1 0.0138\n",
      "Train loss: AE1 0.0133\n",
      "Epoch: 5 ---> Val loss: AE1 0.0109\n",
      "Train loss: AE1 0.0119\n",
      "Epoch: 6 ---> Val loss: AE1 0.0103\n",
      "Train loss: AE1 0.0104\n",
      "Epoch: 7 ---> Val loss: AE1 0.0099\n",
      "Train loss: AE1 0.0098\n",
      "Epoch: 8 ---> Val loss: AE1 0.0093\n",
      "Train loss: AE1 0.0095\n",
      "Epoch: 9 ---> Val loss: AE1 0.0089\n",
      "Train loss: AE1 0.0085\n",
      "Epoch: 10 ---> Val loss: AE1 0.0086\n",
      "Train loss: AE1 0.0082\n",
      "Epoch: 11 ---> Val loss: AE1 0.0087\n",
      "Train loss: AE1 0.0079\n",
      "Epoch: 12 ---> Val loss: AE1 0.0079\n",
      "Train loss: AE1 0.0076\n",
      "Epoch: 13 ---> Val loss: AE1 0.0080\n",
      "Train loss: AE1 0.0073\n",
      "Epoch: 14 ---> Val loss: AE1 0.0079\n",
      "Train loss: AE1 0.0072\n",
      "Epoch: 15 ---> Val loss: AE1 0.0075\n",
      "Train loss: AE1 0.0068\n",
      "Epoch: 16 ---> Val loss: AE1 0.0072\n",
      "Train loss: AE1 0.0068\n",
      "Epoch: 17 ---> Val loss: AE1 0.0070\n",
      "Train loss: AE1 0.0064\n",
      "Epoch: 18 ---> Val loss: AE1 0.0070\n",
      "Train loss: AE1 0.0065\n",
      "Epoch: 19 ---> Val loss: AE1 0.0073\n",
      "Train loss: AE1 0.0060\n",
      "Epoch: 20 ---> Val loss: AE1 0.0071\n",
      "Train loss: AE1 0.0060\n",
      "Epoch: 21 ---> Val loss: AE1 0.0067\n",
      "Train loss: AE1 0.0060\n",
      "Epoch: 22 ---> Val loss: AE1 0.0065\n",
      "Train loss: AE1 0.0056\n",
      "Epoch: 23 ---> Val loss: AE1 0.0064\n",
      "Train loss: AE1 0.0056\n",
      "Epoch: 24 ---> Val loss: AE1 0.0064\n",
      "Train loss: AE1 0.0055\n",
      "Epoch: 25 ---> Val loss: AE1 0.0074\n",
      "Train loss: AE1 0.0054\n",
      "Epoch: 26 ---> Val loss: AE1 0.0068\n",
      "Train loss: AE1 0.0054\n",
      "Epoch: 27 ---> Val loss: AE1 0.0060\n",
      "Train loss: AE1 0.0052\n",
      "Epoch: 28 ---> Val loss: AE1 0.0085\n",
      "Train loss: AE1 0.0056\n",
      "Epoch: 29 ---> Val loss: AE1 0.0059\n",
      "Train loss: AE1 0.0055\n",
      "Epoch: 30 ---> Val loss: AE1 0.0058\n",
      "Train loss: AE1 0.0048\n",
      "Epoch: 31 ---> Val loss: AE1 0.0058\n",
      "Train loss: AE1 0.0048\n",
      "Epoch: 32 ---> Val loss: AE1 0.0057\n",
      "Train loss: AE1 0.0048\n",
      "Epoch: 33 ---> Val loss: AE1 0.0058\n",
      "Train loss: AE1 0.0047\n",
      "Epoch: 34 ---> Val loss: AE1 0.0056\n",
      "Train loss: AE1 0.0046\n",
      "Epoch: 35 ---> Val loss: AE1 0.0061\n",
      "Train loss: AE1 0.0048\n",
      "Epoch: 36 ---> Val loss: AE1 0.0055\n",
      "Train loss: AE1 0.0045\n",
      "Epoch: 37 ---> Val loss: AE1 0.0055\n",
      "Train loss: AE1 0.0045\n",
      "Epoch: 38 ---> Val loss: AE1 0.0055\n",
      "Train loss: AE1 0.0044\n",
      "Epoch: 39 ---> Val loss: AE1 0.0056\n",
      "Train loss: AE1 0.0045\n",
      "Epoch: 40 ---> Val loss: AE1 0.0054\n",
      "Train loss: AE1 0.0047\n",
      "Epoch: 41 ---> Val loss: AE1 0.0053\n",
      "Train loss: AE1 0.0043\n",
      "Epoch: 42 ---> Val loss: AE1 0.0054\n",
      "Train loss: AE1 0.0042\n",
      "Epoch: 43 ---> Val loss: AE1 0.0061\n",
      "Train loss: AE1 0.0043\n",
      "Epoch: 44 ---> Val loss: AE1 0.0052\n",
      "Train loss: AE1 0.0046\n",
      "Epoch: 45 ---> Val loss: AE1 0.0051\n",
      "Train loss: AE1 0.0040\n",
      "Epoch: 46 ---> Val loss: AE1 0.0051\n",
      "Train loss: AE1 0.0041\n",
      "Epoch: 47 ---> Val loss: AE1 0.0052\n",
      "Train loss: AE1 0.0040\n",
      "Epoch: 48 ---> Val loss: AE1 0.0052\n",
      "Train loss: AE1 0.0040\n",
      "Epoch: 49 ---> Val loss: AE1 0.0050\n",
      "Train loss: AE1 0.0040\n",
      "Epoch: 50 ---> Val loss: AE1 0.0051\n",
      "Train loss: AE1 0.0041\n",
      "Epoch: 51 ---> Val loss: AE1 0.0049\n",
      "Train loss: AE1 0.0039\n",
      "Epoch: 52 ---> Val loss: AE1 0.0054\n",
      "Train loss: AE1 0.0039\n",
      "Epoch: 53 ---> Val loss: AE1 0.0052\n",
      "Train loss: AE1 0.0039\n",
      "Epoch: 54 ---> Val loss: AE1 0.0050\n",
      "Train loss: AE1 0.0039\n",
      "Epoch: 55 ---> Val loss: AE1 0.0049\n",
      "Train loss: AE1 0.0038\n",
      "Epoch: 56 ---> Val loss: AE1 0.0049\n",
      "Train loss: AE1 0.0038\n",
      "Epoch: 57 ---> Val loss: AE1 0.0053\n",
      "Train loss: AE1 0.0040\n",
      "Epoch: 58 ---> Val loss: AE1 0.0048\n",
      "Train loss: AE1 0.0037\n",
      "Epoch: 59 ---> Val loss: AE1 0.0049\n",
      "Train loss: AE1 0.0037\n",
      "Epoch: 60 ---> Val loss: AE1 0.0047\n",
      "Train loss: AE1 0.0036\n",
      "Epoch: 61 ---> Val loss: AE1 0.0057\n",
      "Train loss: AE1 0.0039\n",
      "Epoch: 62 ---> Val loss: AE1 0.0046\n",
      "Train loss: AE1 0.0040\n",
      "Epoch: 63 ---> Val loss: AE1 0.0046\n",
      "Train loss: AE1 0.0035\n",
      "Epoch: 64 ---> Val loss: AE1 0.0047\n",
      "Train loss: AE1 0.0035\n",
      "Epoch: 65 ---> Val loss: AE1 0.0046\n",
      "Train loss: AE1 0.0035\n",
      "Epoch: 66 ---> Val loss: AE1 0.0046\n",
      "Train loss: AE1 0.0035\n",
      "Epoch: 67 ---> Val loss: AE1 0.0049\n",
      "Train loss: AE1 0.0035\n",
      "Epoch: 68 ---> Val loss: AE1 0.0047\n",
      "Train loss: AE1 0.0035\n",
      "Epoch: 69 ---> Val loss: AE1 0.0046\n",
      "Train loss: AE1 0.0036\n",
      "Epoch: 70 ---> Val loss: AE1 0.0044\n",
      "Train loss: AE1 0.0034\n",
      "Epoch: 71 ---> Val loss: AE1 0.0049\n",
      "Train loss: AE1 0.0034\n",
      "Epoch: 72 ---> Val loss: AE1 0.0046\n",
      "Train loss: AE1 0.0033\n",
      "Epoch: 73 ---> Val loss: AE1 0.0046\n",
      "Train loss: AE1 0.0033\n",
      "Epoch: 74 ---> Val loss: AE1 0.0046\n",
      "Train loss: AE1 0.0035\n",
      "Epoch: 75 ---> Val loss: AE1 0.0043\n",
      "Train loss: AE1 0.0037\n",
      "Epoch: 76 ---> Val loss: AE1 0.0045\n",
      "Train loss: AE1 0.0032\n",
      "Epoch: 77 ---> Val loss: AE1 0.0044\n",
      "Train loss: AE1 0.0032\n",
      "Epoch: 78 ---> Val loss: AE1 0.0044\n",
      "Train loss: AE1 0.0032\n",
      "Epoch: 79 ---> Val loss: AE1 0.0044\n",
      "Train loss: AE1 0.0032\n",
      "Epoch: 80 ---> Val loss: AE1 0.0044\n",
      "Train loss: AE1 0.0032\n",
      "Epoch: 81 ---> Val loss: AE1 0.0044\n",
      "Train loss: AE1 0.0032\n",
      "Epoch: 82 ---> Val loss: AE1 0.0043\n",
      "Train loss: AE1 0.0032\n",
      "Epoch: 83 ---> Val loss: AE1 0.0046\n",
      "Train loss: AE1 0.0033\n",
      "Epoch: 84 ---> Val loss: AE1 0.0043\n",
      "Train loss: AE1 0.0031\n",
      "Epoch: 85 ---> Val loss: AE1 0.0043\n",
      "Train loss: AE1 0.0031\n",
      "Epoch: 86 ---> Val loss: AE1 0.0042\n",
      "Train loss: AE1 0.0031\n",
      "Epoch: 87 ---> Val loss: AE1 0.0042\n",
      "Train loss: AE1 0.0031\n",
      "Epoch: 88 ---> Val loss: AE1 0.0042\n",
      "Train loss: AE1 0.0031\n",
      "Epoch: 89 ---> Val loss: AE1 0.0041\n",
      "Train loss: AE1 0.0031\n",
      "Epoch: 90 ---> Val loss: AE1 0.0041\n",
      "Train loss: AE1 0.0030\n",
      "Epoch: 91 ---> Val loss: AE1 0.0044\n",
      "Train loss: AE1 0.0030\n",
      "Epoch: 92 ---> Val loss: AE1 0.0044\n",
      "Train loss: AE1 0.0035\n",
      "Epoch: 93 ---> Val loss: AE1 0.0040\n",
      "Train loss: AE1 0.0029\n",
      "Epoch: 94 ---> Val loss: AE1 0.0040\n",
      "Train loss: AE1 0.0029\n",
      "Epoch: 95 ---> Val loss: AE1 0.0040\n",
      "Train loss: AE1 0.0029\n",
      "Epoch: 96 ---> Val loss: AE1 0.0042\n",
      "Train loss: AE1 0.0029\n",
      "Epoch: 97 ---> Val loss: AE1 0.0041\n",
      "Train loss: AE1 0.0029\n",
      "Epoch: 98 ---> Val loss: AE1 0.0040\n",
      "Train loss: AE1 0.0029\n",
      "Epoch: 99 ---> Val loss: AE1 0.0040\n",
      "Train loss: AE1 0.0029\n",
      "Epoch: 100 ---> Val loss: AE1 0.0043\n",
      "Train loss: AE1 0.0030\n",
      "Epoch: 101 ---> Val loss: AE1 0.0042\n",
      "Train loss: AE1 0.0029\n",
      "Epoch: 102 ---> Val loss: AE1 0.0045\n",
      "Train loss: AE1 0.0029\n",
      "Epoch: 103 ---> Val loss: AE1 0.0040\n",
      "Train loss: AE1 0.0029\n",
      "Epoch: 104 ---> Val loss: AE1 0.0039\n",
      "Train loss: AE1 0.0028\n",
      "Epoch: 105 ---> Val loss: AE1 0.0039\n",
      "Train loss: AE1 0.0028\n",
      "Epoch: 106 ---> Val loss: AE1 0.0039\n",
      "Train loss: AE1 0.0028\n",
      "Epoch: 107 ---> Val loss: AE1 0.0041\n",
      "Train loss: AE1 0.0032\n",
      "Epoch: 108 ---> Val loss: AE1 0.0039\n",
      "Train loss: AE1 0.0028\n",
      "Epoch: 109 ---> Val loss: AE1 0.0039\n",
      "Train loss: AE1 0.0027\n",
      "Epoch: 110 ---> Val loss: AE1 0.0042\n",
      "Train loss: AE1 0.0028\n",
      "Epoch: 111 ---> Val loss: AE1 0.0038\n",
      "Train loss: AE1 0.0027\n",
      "Epoch: 112 ---> Val loss: AE1 0.0039\n",
      "Train loss: AE1 0.0028\n",
      "Epoch: 113 ---> Val loss: AE1 0.0039\n",
      "Train loss: AE1 0.0028\n",
      "Epoch: 114 ---> Val loss: AE1 0.0039\n",
      "Train loss: AE1 0.0028\n",
      "Epoch: 115 ---> Val loss: AE1 0.0038\n",
      "Train loss: AE1 0.0027\n",
      "Epoch: 116 ---> Val loss: AE1 0.0039\n",
      "Train loss: AE1 0.0027\n",
      "Epoch: 117 ---> Val loss: AE1 0.0038\n",
      "Train loss: AE1 0.0027\n",
      "Epoch: 118 ---> Val loss: AE1 0.0038\n",
      "Train loss: AE1 0.0027\n",
      "Epoch: 119 ---> Val loss: AE1 0.0043\n",
      "Train loss: AE1 0.0060\n",
      "Epoch: 120 ---> Val loss: AE1 0.0037\n",
      "Train loss: AE1 0.0028\n",
      "Epoch: 121 ---> Val loss: AE1 0.0037\n",
      "Train loss: AE1 0.0026\n",
      "Epoch: 122 ---> Val loss: AE1 0.0037\n",
      "Train loss: AE1 0.0026\n",
      "Epoch: 123 ---> Val loss: AE1 0.0037\n",
      "Train loss: AE1 0.0026\n",
      "Epoch: 124 ---> Val loss: AE1 0.0037\n",
      "Train loss: AE1 0.0026\n",
      "Epoch: 125 ---> Val loss: AE1 0.0038\n",
      "Train loss: AE1 0.0026\n",
      "Epoch: 126 ---> Val loss: AE1 0.0037\n",
      "Train loss: AE1 0.0026\n",
      "Epoch: 127 ---> Val loss: AE1 0.0037\n",
      "Train loss: AE1 0.0026\n",
      "Epoch: 128 ---> Val loss: AE1 0.0037\n",
      "Train loss: AE1 0.0026\n",
      "Epoch: 129 ---> Val loss: AE1 0.0036\n",
      "Train loss: AE1 0.0026\n",
      "Epoch: 130 ---> Val loss: AE1 0.0037\n",
      "Train loss: AE1 0.0026\n",
      "Epoch: 131 ---> Val loss: AE1 0.0037\n",
      "Train loss: AE1 0.0026\n",
      "Epoch: 132 ---> Val loss: AE1 0.0036\n",
      "Train loss: AE1 0.0026\n",
      "Epoch: 133 ---> Val loss: AE1 0.0036\n",
      "Train loss: AE1 0.0026\n",
      "Epoch: 134 ---> Val loss: AE1 0.0036\n",
      "Train loss: AE1 0.0025\n",
      "Epoch: 135 ---> Val loss: AE1 0.0036\n",
      "Train loss: AE1 0.0025\n",
      "Epoch: 136 ---> Val loss: AE1 0.0038\n",
      "Train loss: AE1 0.0026\n",
      "Epoch: 137 ---> Val loss: AE1 0.0036\n",
      "Train loss: AE1 0.0025\n",
      "Epoch: 138 ---> Val loss: AE1 0.0037\n",
      "Train loss: AE1 0.0025\n",
      "Epoch: 139 ---> Val loss: AE1 0.0036\n",
      "Train loss: AE1 0.0025\n",
      "Epoch: 140 ---> Val loss: AE1 0.0036\n",
      "Train loss: AE1 0.0025\n",
      "Epoch: 141 ---> Val loss: AE1 0.0036\n",
      "Train loss: AE1 0.0025\n",
      "Epoch: 142 ---> Val loss: AE1 0.0041\n",
      "Train loss: AE1 0.0025\n",
      "Epoch: 143 ---> Val loss: AE1 0.0036\n",
      "Train loss: AE1 0.0028\n",
      "Epoch: 144 ---> Val loss: AE1 0.0035\n",
      "Train loss: AE1 0.0025\n",
      "Epoch: 145 ---> Val loss: AE1 0.0036\n",
      "Train loss: AE1 0.0024\n",
      "Epoch: 146 ---> Val loss: AE1 0.0036\n",
      "Train loss: AE1 0.0024\n",
      "Epoch: 147 ---> Val loss: AE1 0.0035\n",
      "Train loss: AE1 0.0025\n",
      "Epoch: 148 ---> Val loss: AE1 0.0035\n",
      "Train loss: AE1 0.0025\n",
      "Epoch: 149 ---> Val loss: AE1 0.0036\n",
      "Train loss: AE1 0.0026\n",
      "Epoch: 150 ---> Val loss: AE1 0.0035\n",
      "Train loss: AE1 0.0024\n",
      "Epoch: 151 ---> Val loss: AE1 0.0039\n",
      "Train loss: AE1 0.0024\n",
      "Epoch: 152 ---> Val loss: AE1 0.0034\n",
      "Train loss: AE1 0.0024\n",
      "Epoch: 153 ---> Val loss: AE1 0.0035\n",
      "Train loss: AE1 0.0024\n",
      "Epoch: 154 ---> Val loss: AE1 0.0036\n",
      "Train loss: AE1 0.0024\n",
      "Epoch: 155 ---> Val loss: AE1 0.0035\n",
      "Train loss: AE1 0.0025\n",
      "Epoch: 156 ---> Val loss: AE1 0.0034\n",
      "Train loss: AE1 0.0024\n",
      "Epoch: 157 ---> Val loss: AE1 0.0034\n",
      "Train loss: AE1 0.0024\n",
      "Epoch: 158 ---> Val loss: AE1 0.0035\n",
      "Train loss: AE1 0.0024\n",
      "Epoch: 159 ---> Val loss: AE1 0.0034\n",
      "Train loss: AE1 0.0024\n",
      "Epoch: 160 ---> Val loss: AE1 0.0035\n",
      "Train loss: AE1 0.0024\n",
      "Epoch: 161 ---> Val loss: AE1 0.0034\n",
      "Train loss: AE1 0.0024\n",
      "Epoch: 162 ---> Val loss: AE1 0.0036\n",
      "Train loss: AE1 0.0024\n",
      "Epoch: 163 ---> Val loss: AE1 0.0036\n",
      "Train loss: AE1 0.0025\n",
      "Epoch: 164 ---> Val loss: AE1 0.0036\n",
      "Train loss: AE1 0.0024\n",
      "Epoch: 165 ---> Val loss: AE1 0.0036\n",
      "Train loss: AE1 0.0023\n",
      "Epoch: 166 ---> Val loss: AE1 0.0034\n",
      "Train loss: AE1 0.0023\n",
      "Epoch: 167 ---> Val loss: AE1 0.0034\n",
      "Train loss: AE1 0.0023\n",
      "Epoch: 168 ---> Val loss: AE1 0.0034\n",
      "Train loss: AE1 0.0023\n",
      "Epoch: 169 ---> Val loss: AE1 0.0082\n",
      "Train loss: AE1 0.0028\n",
      "Epoch: 170 ---> Val loss: AE1 0.0034\n",
      "Train loss: AE1 0.0034\n",
      "Epoch: 171 ---> Val loss: AE1 0.0033\n",
      "Train loss: AE1 0.0023\n",
      "Epoch: 172 ---> Val loss: AE1 0.0034\n",
      "Train loss: AE1 0.0023\n",
      "Epoch: 173 ---> Val loss: AE1 0.0034\n",
      "Train loss: AE1 0.0023\n",
      "Epoch: 174 ---> Val loss: AE1 0.0033\n",
      "Train loss: AE1 0.0023\n",
      "Epoch: 175 ---> Val loss: AE1 0.0034\n",
      "Train loss: AE1 0.0023\n",
      "Epoch: 176 ---> Val loss: AE1 0.0033\n",
      "Train loss: AE1 0.0023\n",
      "Epoch: 177 ---> Val loss: AE1 0.0033\n",
      "Train loss: AE1 0.0023\n",
      "Epoch: 178 ---> Val loss: AE1 0.0034\n",
      "Train loss: AE1 0.0023\n",
      "Epoch: 179 ---> Val loss: AE1 0.0034\n",
      "Train loss: AE1 0.0023\n",
      "Epoch: 180 ---> Val loss: AE1 0.0036\n",
      "Train loss: AE1 0.0023\n",
      "Epoch: 181 ---> Val loss: AE1 0.0033\n",
      "Train loss: AE1 0.0023\n",
      "Epoch: 182 ---> Val loss: AE1 0.0033\n",
      "Train loss: AE1 0.0022\n",
      "Epoch: 183 ---> Val loss: AE1 0.0034\n",
      "Train loss: AE1 0.0023\n",
      "Epoch: 184 ---> Val loss: AE1 0.0033\n",
      "Train loss: AE1 0.0023\n",
      "Epoch: 185 ---> Val loss: AE1 0.0034\n",
      "Train loss: AE1 0.0023\n",
      "Epoch: 186 ---> Val loss: AE1 0.0033\n",
      "Train loss: AE1 0.0023\n",
      "Epoch: 187 ---> Val loss: AE1 0.0034\n",
      "Train loss: AE1 0.0022\n",
      "Epoch: 188 ---> Val loss: AE1 0.0033\n",
      "Train loss: AE1 0.0023\n",
      "Epoch: 189 ---> Val loss: AE1 0.0033\n",
      "Train loss: AE1 0.0022\n",
      "Epoch: 190 ---> Val loss: AE1 0.0033\n",
      "Train loss: AE1 0.0022\n",
      "Epoch: 191 ---> Val loss: AE1 0.0034\n",
      "Train loss: AE1 0.0022\n",
      "Epoch: 192 ---> Val loss: AE1 0.0032\n",
      "Train loss: AE1 0.0022\n",
      "Epoch: 193 ---> Val loss: AE1 0.0033\n",
      "Train loss: AE1 0.0022\n",
      "Epoch: 194 ---> Val loss: AE1 0.0032\n",
      "Train loss: AE1 0.0022\n",
      "Epoch: 195 ---> Val loss: AE1 0.0033\n",
      "Train loss: AE1 0.0023\n",
      "Epoch: 196 ---> Val loss: AE1 0.0032\n",
      "Train loss: AE1 0.0022\n",
      "Epoch: 197 ---> Val loss: AE1 0.0033\n",
      "Train loss: AE1 0.0022\n",
      "Epoch: 198 ---> Val loss: AE1 0.0043\n",
      "Train loss: AE1 0.0022\n",
      "Epoch: 199 ---> Val loss: AE1 0.0031\n",
      "Train loss: AE1 0.0023\n"
     ]
    }
   ],
   "source": [
    "AE1_val_history = []\n",
    "for i in range(epochs):\n",
    "    running_loss_AE1 = []\n",
    "    val_loss_AE1 = []\n",
    "    for index_b, features in enumerate(train_loader):\n",
    "        \n",
    "        w1 = AE1(features)\n",
    "        lossAE1 = torch.mean((features - w1) ** 2)\n",
    "        \n",
    "        running_loss_AE1.append(lossAE1)\n",
    "        lossAE1.backward()\n",
    "        optimizer1.step()\n",
    "        optimizer1.zero_grad()\n",
    "    \n",
    "    for index_b, features in enumerate(validation_loader):\n",
    "        with torch.no_grad():\n",
    "\n",
    "            w1 = AE1(features)\n",
    "            lossAE1 = torch.mean((features - w1) ** 2)\n",
    "            val_loss_AE1.append(lossAE1)\n",
    "    AE1_val_history.append(torch.stack(val_loss_AE1).mean().item())\n",
    "    # writer.add_scalar('Autoendoer_1_train_loss epoch', torch.stack(running_loss_AE1).mean().item(), i + 1)\n",
    "    # writer.add_scalar('Autoendoer_1_train_loss epoch', AE1_val_history[-1], i + 1)\n",
    "    print(f'Epoch: {i} ---> Val loss: AE1 {AE1_val_history[-1]:.4f}')\n",
    "    print(f'Train loss: AE1 {torch.stack(running_loss_AE1).mean().item():.4f}')"
   ]
  },
  {
   "cell_type": "markdown",
   "metadata": {},
   "source": [
    "# Testing"
   ]
  },
  {
   "cell_type": "code",
   "execution_count": 12,
   "metadata": {},
   "outputs": [],
   "source": [
    "df2 = pd.read_csv('../../Projects/data/SWaT_Dataset_Attack_v0.csv')\n",
    "labels = df2['Normal/Attack']\n",
    "df2 = df2.drop(columns=[' Timestamp', 'Normal/Attack'])\n",
    "df2 = df2.astype('float64')\n",
    "df2.columns = df.columns\n",
    "test_normalized = pd.DataFrame(mm.transform(df2))"
   ]
  },
  {
   "cell_type": "code",
   "execution_count": 13,
   "metadata": {},
   "outputs": [],
   "source": [
    "test_dataset = SWat_dataset(test_normalized, test_normalized, window_size, device)\n",
    "test_loader = DataLoader(test_dataset, batch_size=batch_size, shuffle=False, num_workers=0)"
   ]
  },
  {
   "cell_type": "code",
   "execution_count": 14,
   "metadata": {},
   "outputs": [],
   "source": [
    "def testing(test_loader, alpha=.5, beta=.5):\n",
    "    results=[]\n",
    "    with torch.no_grad():\n",
    "        for batch in test_loader:\n",
    "            w1=AE1(batch)\n",
    "            results.append(torch.mean(torch.mean((batch-w1)**2, axis=1), axis=1))\n",
    "    return results"
   ]
  },
  {
   "cell_type": "code",
   "execution_count": 15,
   "metadata": {},
   "outputs": [],
   "source": [
    "labels = labels.values\n",
    "labels = [0 if (lab == 'Normal') else 1 for lab in labels]\n",
    "windows_labels=[]\n",
    "for i in range(len(labels)-window_size):\n",
    "    windows_labels.append(list(np.int32(labels[i:i+window_size])))"
   ]
  },
  {
   "cell_type": "code",
   "execution_count": 16,
   "metadata": {},
   "outputs": [],
   "source": [
    "y_test = [1.0 if (np.sum(window) > 0) else 0 for window in windows_labels]"
   ]
  },
  {
   "cell_type": "code",
   "execution_count": 17,
   "metadata": {},
   "outputs": [],
   "source": [
    "results=testing(test_loader, alpha=0.3, beta=0.7)"
   ]
  },
  {
   "cell_type": "code",
   "execution_count": 18,
   "metadata": {},
   "outputs": [],
   "source": [
    "y_pred=np.concatenate([torch.stack(results[:-1]).flatten().detach().cpu().numpy(),\n",
    "                              results[-1].flatten().detach().cpu().numpy()])"
   ]
  },
  {
   "cell_type": "code",
   "execution_count": 19,
   "metadata": {},
   "outputs": [
    {
     "data": {
      "image/png": "[encoded data removed]",
      "text/plain": [
       "<Figure size 640x480 with 1 Axes>"
      ]
     },
     "metadata": {},
     "output_type": "display_data"
    },
    {
     "data": {
      "text/plain": [
       "array([0.8916897], dtype=float32)"
      ]
     },
     "execution_count": 19,
     "metadata": {},
     "output_type": "execute_result"
    }
   ],
   "source": [
    "threshold = ROC(y_test,y_pred)\n",
    "threshold"
   ]
  },
  {
   "cell_type": "code",
   "execution_count": 20,
   "metadata": {},
   "outputs": [
    {
     "name": "stdout",
     "output_type": "stream",
     "text": [
      "best: 1.1941176470588235 F1: 0.7711669277596123\n"
     ]
    },
    {
     "data": {
      "text/plain": [
       "[<matplotlib.lines.Line2D at 0x71e8512119a0>]"
      ]
     },
     "execution_count": 20,
     "metadata": {},
     "output_type": "execute_result"
    },
    {
     "data": {
      "image/png": "[encoded data removed]",
      "text/plain": [
       "<Figure size 640x480 with 1 Axes>"
      ]
     },
     "metadata": {},
     "output_type": "display_data"
    }
   ],
   "source": [
    "ff = 0\n",
    "f_history = []\n",
    "initial_y = 0.9\n",
    "best = -1\n",
    "for inc in np.linspace(0, 2, 35):\n",
    "    y_pred_int = [1 if (yy > initial_y + inc) else 0 for yy in y_pred]\n",
    "    conf_matrix = confusion_matrix(y_test, y_pred_int)\n",
    "    TP = conf_matrix[1, 1]\n",
    "    TN = conf_matrix[0, 0]\n",
    "    FP = conf_matrix[0, 1]\n",
    "    FN = conf_matrix[1, 0]\n",
    "    F1 = f1_score(y_test, y_pred_int)\n",
    "    f_history.append(F1)\n",
    "\n",
    "    precision = precision_score(y_test, y_pred_int)\n",
    "    recall = recall_score(y_test, y_pred_int)\n",
    "    if F1 > ff:\n",
    "        ff = F1\n",
    "        best = inc\n",
    "print(f'best: {best + initial_y} F1: {ff}')\n",
    "plt.plot(f_history)"
   ]
  },
  {
   "cell_type": "code",
   "execution_count": 21,
   "metadata": {},
   "outputs": [],
   "source": [
    "torch.save(AE1.state_dict(), 'GAE_77_Directed_200_epochs.pth')"
   ]
  },
  {
   "cell_type": "code",
   "execution_count": null,
   "metadata": {},
   "outputs": [],
   "source": [
    "AE1.load_state_dict(torch.load('GAE_77_Directed_200_epochs.pth'))"
   ]
  }
 ],
 "metadata": {
  "kernelspec": {
   "display_name": "NIS2",
   "language": "python",
   "name": "art2"
  },
  "language_info": {
   "codemirror_mode": {
    "name": "ipython",
    "version": 3
   },
   "file_extension": ".py",
   "mimetype": "text/x-python",
   "name": "python",
   "nbconvert_exporter": "python",
   "pygments_lexer": "ipython3",
   "version": "3.12.2"
  }
 },
 "nbformat": 4,
 "nbformat_minor": 4
}
