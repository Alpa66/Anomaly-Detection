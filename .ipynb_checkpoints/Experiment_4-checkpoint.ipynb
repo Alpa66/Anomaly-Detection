{
 "cells": [
  {
   "cell_type": "markdown",
   "metadata": {},
   "source": [
    "# Experiment 4\n",
    "In this experiment, the adversarial learning technique is dropped altogether, a single Graph-based auto-encoder is used, using anothoer implementation of the Graph autoencoder"
   ]
  },
  {
   "cell_type": "code",
   "execution_count": 1,
   "metadata": {},
   "outputs": [
    {
     "name": "stdout",
     "output_type": "stream",
     "text": [
      " MNIST\t\t\t       SWaT_Dataset_Normal_v1.xlsx\n",
      " SWaT_Dataset_Attack_v0.csv    WADI_14days_new.csv\n",
      " SWaT_Dataset_Attack_v0.xlsx  'WADI.A1_9 Oct 2017'\n",
      " SWaT_Dataset_Normal_v0.csv   'WADI.A2_19 Nov 2019'\n",
      " SWaT_Dataset_Normal_v0.xlsx   WADI_attackdataLABLE.csv\n",
      " SWaT_Dataset_Normal_v1.csv\n"
     ]
    }
   ],
   "source": [
    "!ls ../../Projects/data/"
   ]
  },
  {
   "cell_type": "code",
   "execution_count": 1,
   "metadata": {},
   "outputs": [],
   "source": [
    "import numpy as np\n",
    "import pandas as pd\n",
    "import torch\n",
    "import torch.nn as nn\n",
    "import matplotlib.pyplot as plt\n",
    "import torch.nn.functional as F\n",
    "import torch_geometric.transforms as T\n",
    "\n",
    "from torch.optim import Adam\n",
    "from torch_geometric.nn import GAE, VGAE, GCNConv\n",
    "from torch.utils.data import Dataset, DataLoader\n",
    "from sklearn.preprocessing import StandardScaler\n",
    "\n",
    "from sklearn.metrics import confusion_matrix, f1_score, roc_curve, roc_auc_score, precision_score, recall_score"
   ]
  },
  {
   "cell_type": "markdown",
   "metadata": {},
   "source": [
    "### Dataset:"
   ]
  },
  {
   "cell_type": "code",
   "execution_count": 3,
   "metadata": {},
   "outputs": [],
   "source": [
    "df = pd.read_csv('../../Projects/data/SWaT_Dataset_Normal_v1.csv')\n",
    "df = df.drop(columns=[' Timestamp', 'Normal/Attack'])\n",
    "df = df.astype('float64')\n",
    "df = df.iloc[21600:]\n",
    "mm = StandardScaler()\n",
    "Normalized = pd.DataFrame(mm.fit_transform(df))\n",
    "train_set = Normalized[: int(0.8 * Normalized.shape[0])]\n",
    "validation_set = Normalized[int(0.8 * Normalized.shape[0]):]"
   ]
  },
  {
   "cell_type": "code",
   "execution_count": 5,
   "metadata": {},
   "outputs": [],
   "source": [
    "class SWat_dataset(Dataset):\n",
    "    def __init__(self, dataframe: pd.DataFrame, target: pd.DataFrame,  window_size):\n",
    "        self.data = dataframe\n",
    "        self.window_size = window_size\n",
    "\n",
    "    def __len__(self):\n",
    "        return len(self.data) - self.window_size\n",
    "\n",
    "    def __getitem__(self, idx):\n",
    "        window = self.data[idx: idx + self.window_size]\n",
    "        features = torch.tensor(window.iloc[:,:].values).float().to(device)\n",
    "        return features"
   ]
  },
  {
   "cell_type": "markdown",
   "metadata": {},
   "source": [
    "### Dataloader:"
   ]
  },
  {
   "cell_type": "code",
   "execution_count": 6,
   "metadata": {},
   "outputs": [],
   "source": [
    "window_size = 100\n",
    "input_size = window_size * 51\n",
    "latent_space = 10 * window_size\n",
    "epochs = 50\n",
    "train_dataset = SWat_dataset(train_set, train_set, window_size)\n",
    "validation_dataset = SWat_dataset(validation_set, validation_set, window_size)\n",
    "\n",
    "batch_size = 4096\n",
    "train_loader = DataLoader(train_dataset, batch_size=batch_size, shuffle=True, num_workers=0)\n",
    "validation_loader = DataLoader(validation_dataset, batch_size=batch_size, shuffle=True, num_workers=0)"
   ]
  },
  {
   "cell_type": "markdown",
   "metadata": {},
   "source": [
    "### Model:"
   ]
  },
  {
   "cell_type": "code",
   "execution_count": 7,
   "metadata": {},
   "outputs": [],
   "source": [
    "class GCNLayer(nn.Module):\n",
    "    def __init__(self, in_dim, out_dim):\n",
    "        super().__init__()\n",
    "        self.dense = nn.Linear(in_dim, out_dim)\n",
    "\n",
    "    def forward(self, adj, X):\n",
    "        adj = adj + torch.eye(adj.size(0)).to(adj.device)\n",
    "        h = self.dense(X)\n",
    "        norm = adj.sum(1)**(-1/2)\n",
    "        h = norm[None, :] * adj * norm[:, None] @ h\n",
    "        return h\n",
    "    \n",
    "    \n",
    "# A = ReLu(W)    \n",
    "class Graph_ReLu_W(nn.Module):\n",
    "    def __init__(self, num_nodes, k, device):\n",
    "        super(Graph_ReLu_W, self).__init__()\n",
    "        self.num_nodes = num_nodes\n",
    "        self.k = k\n",
    "        self.device = device\n",
    "        self.A = nn.Parameter(torch.randn(num_nodes, num_nodes).to(device), requires_grad=True).to(device)\n",
    "\n",
    "    def forward(self, idx):\n",
    "        \n",
    "        adj = F.relu(self.A)\n",
    "        \n",
    "        if self.k:\n",
    "            mask = torch.zeros(idx.size(0), idx.size(0)).to(self.device)\n",
    "            mask.fill_(float('0'))\n",
    "            s1,t1 = (adj + torch.rand_like(adj)*0.01).topk(self.k,1)\n",
    "            mask.scatter_(1,t1,s1.fill_(1))\n",
    "            adj = adj*mask\n",
    "            \n",
    "        return adj\n",
    "\n",
    "# A for Directed graphs:\n",
    "class Graph_Directed_A(nn.Module):\n",
    "      \n",
    "    def __init__(self, num_nodes, window_size, alpha, k, device):\n",
    "        super(Graph_Directed_A, self).__init__()\n",
    "        \n",
    "        self.alpha = alpha\n",
    "        self.k = k\n",
    "        self.device = device\n",
    "        \n",
    "        self.e1 = nn.Embedding(num_nodes, window_size)\n",
    "        self.e2 = nn.Embedding(num_nodes, window_size)\n",
    "        self.l1 = nn.Linear(window_size,window_size)\n",
    "        self.l2 = nn.Linear(window_size,window_size)\n",
    "        \n",
    "    def forward(self, idx):\n",
    "        \n",
    "        m1 = torch.tanh(self.alpha*self.l1(self.e1(idx)))\n",
    "        m2 = torch.tanh(self.alpha*self.l2(self.e2(idx)))\n",
    "        adj = F.relu(torch.tanh(self.alpha*torch.mm(m1, m2.transpose(1,0))))\n",
    "        \n",
    "        if self.k:\n",
    "            mask = torch.zeros(idx.size(0), idx.size(0)).to(self.device)\n",
    "            mask.fill_(float('0'))\n",
    "            s1,t1 = (adj + torch.rand_like(adj)*0.01).topk(self.k,1)\n",
    "            mask.scatter_(1,t1,s1.fill_(1))\n",
    "            adj = adj*mask\n",
    "        \n",
    "        return adj"
   ]
  },
  {
   "cell_type": "code",
   "execution_count": 10,
   "metadata": {},
   "outputs": [],
   "source": [
    "class GCNEncoder(nn.Module):\n",
    "    def __init__(self, num_nodes, window_size, hidden_nodes, k, device):\n",
    "        super(GCNEncoder, self).__init__()\n",
    "        self.conv1 = GCNLayer(window_size, window_size // 2)\n",
    "        self.conv2 = GCNLayer(window_size // 2, window_size)\n",
    "        self.idx = torch.arange(num_nodes).to(device)\n",
    "        self.A = Graph_ReLu_W(num_nodes, k, device)\n",
    "        \n",
    "    def forward(self, X):\n",
    "        adj = self.A(self.idx)\n",
    "        h = self.conv1(adj, X).relu()\n",
    "        return self.conv2(adj, h)"
   ]
  },
  {
   "cell_type": "code",
   "execution_count": 11,
   "metadata": {},
   "outputs": [],
   "source": [
    "num_nodes = 51 # number of nodes\n",
    "ngnn = 1 # number of graph structure learning layers\n",
    "gsllayer = 'directed' # type of graph structure learning layer ('relu', 'directed', 'unidirected', 'undirected')\n",
    "hidden_nodes = 50 # feature size in GCN layers\n",
    "alpha = 0.1 # hyperparameter for weights of edges\n",
    "k = 15 # max number of edges for each node\n",
    "out_channels = 2 # number of process states"
   ]
  },
  {
   "cell_type": "code",
   "execution_count": 12,
   "metadata": {},
   "outputs": [
    {
     "data": {
      "text/plain": [
       "device(type='cuda')"
      ]
     },
     "execution_count": 12,
     "metadata": {},
     "output_type": "execute_result"
    }
   ],
   "source": [
    "device = torch.device('cuda' if torch.cuda.is_available() else 'cpu')\n",
    "device"
   ]
  },
  {
   "cell_type": "code",
   "execution_count": 13,
   "metadata": {},
   "outputs": [],
   "source": [
    "AE1 = GAE(GCNEncoder(num_nodes, window_size, hidden_nodes, k, device))"
   ]
  },
  {
   "cell_type": "code",
   "execution_count": 14,
   "metadata": {},
   "outputs": [
    {
     "data": {
      "text/plain": [
       "GAE(\n",
       "  (encoder): GCNEncoder(\n",
       "    (conv1): GCNLayer(\n",
       "      (dense): Linear(in_features=100, out_features=50, bias=True)\n",
       "    )\n",
       "    (conv2): GCNLayer(\n",
       "      (dense): Linear(in_features=50, out_features=100, bias=True)\n",
       "    )\n",
       "    (A): Graph_ReLu_W()\n",
       "  )\n",
       "  (decoder): InnerProductDecoder()\n",
       ")"
      ]
     },
     "execution_count": 14,
     "metadata": {},
     "output_type": "execute_result"
    }
   ],
   "source": [
    "AE1.to(device)"
   ]
  },
  {
   "cell_type": "code",
   "execution_count": 15,
   "metadata": {},
   "outputs": [],
   "source": [
    "optimizer1 = torch.optim.Adam(AE1.parameters())"
   ]
  },
  {
   "cell_type": "code",
   "execution_count": 19,
   "metadata": {},
   "outputs": [],
   "source": [
    "from torch.utils.tensorboard import SummaryWriter"
   ]
  },
  {
   "cell_type": "code",
   "execution_count": 16,
   "metadata": {},
   "outputs": [
    {
     "data": {
      "text/plain": [
       "torch.Size([4096, 51, 200])"
      ]
     },
     "execution_count": 16,
     "metadata": {},
     "output_type": "execute_result"
    }
   ],
   "source": [
    "features.shape"
   ]
  },
  {
   "cell_type": "code",
   "execution_count": 16,
   "metadata": {},
   "outputs": [
    {
     "name": "stdout",
     "output_type": "stream",
     "text": [
      "Epoch: 0 ---> Val loss: AE1 0.6441\n",
      "Train loss: AE1 0.7151\n",
      "Epoch: 1 ---> Val loss: AE1 0.3134\n",
      "Train loss: AE1 0.3468\n",
      "Epoch: 2 ---> Val loss: AE1 0.2023\n",
      "Train loss: AE1 0.2249\n",
      "Epoch: 3 ---> Val loss: AE1 0.1449\n",
      "Train loss: AE1 0.1627\n",
      "Epoch: 4 ---> Val loss: AE1 0.1082\n",
      "Train loss: AE1 0.1239\n",
      "Epoch: 5 ---> Val loss: AE1 0.0846\n",
      "Train loss: AE1 0.0963\n",
      "Epoch: 6 ---> Val loss: AE1 0.0671\n",
      "Train loss: AE1 0.0760\n",
      "Epoch: 7 ---> Val loss: AE1 0.0554\n",
      "Train loss: AE1 0.0610\n",
      "Epoch: 8 ---> Val loss: AE1 0.0447\n",
      "Train loss: AE1 0.0497\n",
      "Epoch: 9 ---> Val loss: AE1 0.0374\n",
      "Train loss: AE1 0.0413\n",
      "Epoch: 10 ---> Val loss: AE1 0.0329\n",
      "Train loss: AE1 0.0349\n",
      "Epoch: 11 ---> Val loss: AE1 0.0290\n",
      "Train loss: AE1 0.0301\n",
      "Epoch: 12 ---> Val loss: AE1 0.0259\n",
      "Train loss: AE1 0.0262\n",
      "Epoch: 13 ---> Val loss: AE1 0.0226\n",
      "Train loss: AE1 0.0231\n",
      "Epoch: 14 ---> Val loss: AE1 0.0201\n",
      "Train loss: AE1 0.0205\n",
      "Epoch: 15 ---> Val loss: AE1 0.0182\n",
      "Train loss: AE1 0.0184\n",
      "Epoch: 16 ---> Val loss: AE1 0.0168\n",
      "Train loss: AE1 0.0166\n",
      "Epoch: 17 ---> Val loss: AE1 0.0153\n",
      "Train loss: AE1 0.0150\n",
      "Epoch: 18 ---> Val loss: AE1 0.0140\n",
      "Train loss: AE1 0.0137\n",
      "Epoch: 19 ---> Val loss: AE1 0.0128\n",
      "Train loss: AE1 0.0125\n",
      "Epoch: 20 ---> Val loss: AE1 0.0118\n",
      "Train loss: AE1 0.0115\n",
      "Epoch: 21 ---> Val loss: AE1 0.0111\n",
      "Train loss: AE1 0.0106\n",
      "Epoch: 22 ---> Val loss: AE1 0.0102\n",
      "Train loss: AE1 0.0098\n",
      "Epoch: 23 ---> Val loss: AE1 0.0095\n",
      "Train loss: AE1 0.0091\n",
      "Epoch: 24 ---> Val loss: AE1 0.0089\n",
      "Train loss: AE1 0.0085\n",
      "Epoch: 25 ---> Val loss: AE1 0.0084\n",
      "Train loss: AE1 0.0079\n",
      "Epoch: 26 ---> Val loss: AE1 0.0077\n",
      "Train loss: AE1 0.0074\n",
      "Epoch: 27 ---> Val loss: AE1 0.0074\n",
      "Train loss: AE1 0.0069\n",
      "Epoch: 28 ---> Val loss: AE1 0.0069\n",
      "Train loss: AE1 0.0064\n",
      "Epoch: 29 ---> Val loss: AE1 0.0064\n",
      "Train loss: AE1 0.0061\n",
      "Epoch: 30 ---> Val loss: AE1 0.0061\n",
      "Train loss: AE1 0.0057\n",
      "Epoch: 31 ---> Val loss: AE1 0.0058\n",
      "Train loss: AE1 0.0053\n",
      "Epoch: 32 ---> Val loss: AE1 0.0055\n",
      "Train loss: AE1 0.0050\n",
      "Epoch: 33 ---> Val loss: AE1 0.0052\n",
      "Train loss: AE1 0.0047\n",
      "Epoch: 34 ---> Val loss: AE1 0.0050\n",
      "Train loss: AE1 0.0044\n",
      "Epoch: 35 ---> Val loss: AE1 0.0046\n",
      "Train loss: AE1 0.0042\n",
      "Epoch: 36 ---> Val loss: AE1 0.0043\n",
      "Train loss: AE1 0.0039\n",
      "Epoch: 37 ---> Val loss: AE1 0.0041\n",
      "Train loss: AE1 0.0037\n",
      "Epoch: 38 ---> Val loss: AE1 0.0040\n",
      "Train loss: AE1 0.0035\n",
      "Epoch: 39 ---> Val loss: AE1 0.0038\n",
      "Train loss: AE1 0.0033\n",
      "Epoch: 40 ---> Val loss: AE1 0.0036\n",
      "Train loss: AE1 0.0032\n",
      "Epoch: 41 ---> Val loss: AE1 0.0035\n",
      "Train loss: AE1 0.0030\n",
      "Epoch: 42 ---> Val loss: AE1 0.0033\n",
      "Train loss: AE1 0.0029\n",
      "Epoch: 43 ---> Val loss: AE1 0.0031\n",
      "Train loss: AE1 0.0028\n",
      "Epoch: 44 ---> Val loss: AE1 0.0030\n",
      "Train loss: AE1 0.0026\n",
      "Epoch: 45 ---> Val loss: AE1 0.0029\n",
      "Train loss: AE1 0.0025\n",
      "Epoch: 46 ---> Val loss: AE1 0.0027\n",
      "Train loss: AE1 0.0024\n",
      "Epoch: 47 ---> Val loss: AE1 0.0027\n",
      "Train loss: AE1 0.0023\n",
      "Epoch: 48 ---> Val loss: AE1 0.0026\n",
      "Train loss: AE1 0.0022\n",
      "Epoch: 49 ---> Val loss: AE1 0.0025\n",
      "Train loss: AE1 0.0021\n"
     ]
    }
   ],
   "source": [
    "# writer = SummaryWriter('runs/GAE_' + f'{epochs}_epochs' + 'only autoencoder')\n",
    "AE1_val_history = []\n",
    "for i in range(epochs):\n",
    "    running_loss_AE1 = []\n",
    "    val_loss_AE1 = []\n",
    "    for index_b, features in enumerate(train_loader):\n",
    "        features = torch.transpose(features, 1, 2)\n",
    "        \n",
    "        w1 = AE1(features)\n",
    "        lossAE1 = (1 / (i + 1)) * torch.mean((features - w1) ** 2)\n",
    "        \n",
    "        running_loss_AE1.append(lossAE1)\n",
    "        lossAE1.backward()\n",
    "        optimizer1.step()\n",
    "        optimizer1.zero_grad()\n",
    "    \n",
    "    for index_b, features in enumerate(validation_loader):\n",
    "        with torch.no_grad():\n",
    "            features = torch.transpose(features, 1, 2)\n",
    "        \n",
    "            w1 = AE1(features)\n",
    "            lossAE1 = (1 / (i + 1)) * torch.mean((features - w1) ** 2)\n",
    "            val_loss_AE1.append(lossAE1)\n",
    "    AE1_val_history.append(torch.stack(val_loss_AE1).mean().item())\n",
    "    # writer.add_scalar('Autoendoer_1_train_loss epoch', torch.stack(running_loss_AE1).mean().item(), i + 1)\n",
    "    # writer.add_scalar('Autoendoer_1_train_loss epoch', AE1_val_history[-1], i + 1)\n",
    "    print(f'Epoch: {i} ---> Val loss: AE1 {AE1_val_history[-1]:.4f}')\n",
    "    print(f'Train loss: AE1 {torch.stack(running_loss_AE1).mean().item():.4f}')"
   ]
  },
  {
   "cell_type": "code",
   "execution_count": 44,
   "metadata": {},
   "outputs": [
    {
     "data": {
      "text/plain": [
       "torch.Size([4096, 51, 200])"
      ]
     },
     "execution_count": 44,
     "metadata": {},
     "output_type": "execute_result"
    }
   ],
   "source": [
    "features.shape"
   ]
  },
  {
   "cell_type": "markdown",
   "metadata": {},
   "source": [
    "# Testing"
   ]
  },
  {
   "cell_type": "code",
   "execution_count": 17,
   "metadata": {},
   "outputs": [],
   "source": [
    "df2 = pd.read_csv('../../Projects/data/SWaT_Dataset_Attack_v0.csv')\n",
    "labels = df2['Normal/Attack']\n",
    "df2 = df2.drop(columns=[' Timestamp', 'Normal/Attack'])\n",
    "df2 = df2.astype('float64')\n",
    "df2.columns = df.columns\n",
    "test_normalized = pd.DataFrame(mm.transform(df2))"
   ]
  },
  {
   "cell_type": "code",
   "execution_count": 18,
   "metadata": {},
   "outputs": [],
   "source": [
    "test_dataset = SWat_dataset(test_normalized, test_normalized, window_size)\n",
    "test_loader = DataLoader(test_dataset, batch_size=batch_size, shuffle=False, num_workers=0)"
   ]
  },
  {
   "cell_type": "code",
   "execution_count": 19,
   "metadata": {},
   "outputs": [],
   "source": [
    "def testing(test_loader, alpha=.5, beta=.5):\n",
    "    results=[]\n",
    "    with torch.no_grad():\n",
    "        for batch in test_loader:\n",
    "            batch = torch.transpose(batch, 1, 2)\n",
    "            w1=AE1(batch)\n",
    "            results.append(torch.mean(torch.mean((batch-w1)**2, axis=1), axis=1))\n",
    "    return results"
   ]
  },
  {
   "cell_type": "code",
   "execution_count": 20,
   "metadata": {},
   "outputs": [],
   "source": [
    "labels = labels.values\n",
    "labels = [0 if (lab == 'Normal') else 1 for lab in labels]\n",
    "windows_labels=[]\n",
    "for i in range(len(labels)-window_size):\n",
    "    windows_labels.append(list(np.int32(labels[i:i+window_size])))"
   ]
  },
  {
   "cell_type": "code",
   "execution_count": 21,
   "metadata": {},
   "outputs": [],
   "source": [
    "y_test = [1.0 if (np.sum(window) > 0) else 0 for window in windows_labels]"
   ]
  },
  {
   "cell_type": "code",
   "execution_count": 22,
   "metadata": {},
   "outputs": [],
   "source": [
    "results=testing(test_loader, alpha=0.3, beta=0.7)"
   ]
  },
  {
   "cell_type": "code",
   "execution_count": 23,
   "metadata": {},
   "outputs": [],
   "source": [
    "y_pred=np.concatenate([torch.stack(results[:-1]).flatten().detach().cpu().numpy(),\n",
    "                              results[-1].flatten().detach().cpu().numpy()])"
   ]
  },
  {
   "cell_type": "code",
   "execution_count": 29,
   "metadata": {},
   "outputs": [
    {
     "data": {
      "text/plain": [
       "449819"
      ]
     },
     "execution_count": 29,
     "metadata": {},
     "output_type": "execute_result"
    }
   ],
   "source": [
    "len(y_pred)"
   ]
  },
  {
   "cell_type": "code",
   "execution_count": 24,
   "metadata": {},
   "outputs": [],
   "source": [
    "def ROC(y_test,y_pred):\n",
    "    fpr,tpr,tr=roc_curve(y_test,y_pred)\n",
    "    auc=roc_auc_score(y_test,y_pred)\n",
    "    idx=np.argwhere(np.diff(np.sign(tpr-(1-fpr)))).flatten()\n",
    "\n",
    "    plt.xlabel(\"FPR\")\n",
    "    plt.ylabel(\"TPR\")\n",
    "    plt.plot(fpr,tpr,label=\"AUC=\"+str(auc))\n",
    "    plt.plot(fpr,1-fpr,'r:')\n",
    "    plt.plot(fpr[idx],tpr[idx], 'ro')\n",
    "    plt.legend(loc=4)\n",
    "    plt.grid()\n",
    "    plt.show()\n",
    "    return tr[idx]"
   ]
  },
  {
   "cell_type": "code",
   "execution_count": 25,
   "metadata": {},
   "outputs": [
    {
     "data": {
      "image/png": "[encoded data removed]",
      "text/plain": [
       "<Figure size 640x480 with 1 Axes>"
      ]
     },
     "metadata": {},
     "output_type": "display_data"
    },
    {
     "data": {
      "text/plain": [
       "array([5.3863153], dtype=float32)"
      ]
     },
     "execution_count": 25,
     "metadata": {},
     "output_type": "execute_result"
    }
   ],
   "source": [
    "threshold = ROC(y_test,y_pred)\n",
    "threshold"
   ]
  },
  {
   "cell_type": "code",
   "execution_count": 27,
   "metadata": {},
   "outputs": [
    {
     "name": "stdout",
     "output_type": "stream",
     "text": [
      "best: 7.969387755102041 F1: 0.7652797674442924\n"
     ]
    },
    {
     "data": {
      "text/plain": [
       "[<matplotlib.lines.Line2D at 0x721ebb252f90>]"
      ]
     },
     "execution_count": 27,
     "metadata": {},
     "output_type": "execute_result"
    },
    {
     "data": {
      "image/png": "[encoded data removed]",
      "text/plain": [
       "<Figure size 640x480 with 1 Axes>"
      ]
     },
     "metadata": {},
     "output_type": "display_data"
    }
   ],
   "source": [
    "ff = 0\n",
    "f_history = []\n",
    "initial_y = 4.5\n",
    "best = -1\n",
    "for inc in np.linspace(0, 5, 50):\n",
    "    y_pred_int = [1 if (yy > initial_y + inc) else 0 for yy in y_pred]\n",
    "    conf_matrix = confusion_matrix(y_test, y_pred_int)\n",
    "    TP = conf_matrix[1, 1]\n",
    "    TN = conf_matrix[0, 0]\n",
    "    FP = conf_matrix[0, 1]\n",
    "    FN = conf_matrix[1, 0]\n",
    "    F1 = f1_score(y_test, y_pred_int)\n",
    "    f_history.append(F1)\n",
    "\n",
    "    precision = precision_score(y_test, y_pred_int)\n",
    "    recall = recall_score(y_test, y_pred_int)\n",
    "    if F1 > ff:\n",
    "        ff = F1\n",
    "        best = inc\n",
    "print(f'best: {best + initial_y} F1: {ff}')\n",
    "plt.plot(f_history)"
   ]
  },
  {
   "cell_type": "code",
   "execution_count": 36,
   "metadata": {},
   "outputs": [
    {
     "data": {
      "image/png": "[encoded data removed]",
      "text/plain": [
       "<Figure size 640x480 with 1 Axes>"
      ]
     },
     "metadata": {},
     "output_type": "display_data"
    }
   ],
   "source": [
    "x_vals = 0.4 + np.linspace(0, 0.3, 50)\n",
    "plt.plot(x_vals, f_history)\n",
    "plt.xlabel('Threshold')\n",
    "plt.ylabel('F1 score')\n",
    "\n",
    "max_y = max(f_history)\n",
    "max_x = np.argmax(f_history)\n",
    "plt.axhline(y=max_y, color='r', linestyle='--', label='Max Y')\n",
    "plt.text(0.6, max_y + 0.05, f'Max F1= {max_y: .4f}', color='r')\n",
    "plt.ylim(0, 1)\n",
    "plt.grid(True)\n",
    "\n",
    "# plt.savefig('my_plot.png')\n",
    "\n",
    "plt.show()"
   ]
  },
  {
   "cell_type": "code",
   "execution_count": 33,
   "metadata": {},
   "outputs": [
    {
     "name": "stdout",
     "output_type": "stream",
     "text": [
      "Precision: 0.6346748574674437\n",
      "Recall: 0.49212097484584516\n",
      "F1 Score: 0.5543804842192309\n",
      "TP: 30168\n",
      "TN: 371052\n",
      "FP: 17365\n",
      "FN: 31134\n"
     ]
    }
   ],
   "source": [
    "y_pred_int = [1 if (yy > 0.46938775510204084) else 0 for yy in y_pred]\n",
    "conf_matrix = confusion_matrix(y_test, y_pred_int)\n",
    "TP = conf_matrix[1, 1]\n",
    "TN = conf_matrix[0, 0]\n",
    "FP = conf_matrix[0, 1]\n",
    "FN = conf_matrix[1, 0]\n",
    "F1 = f1_score(y_test, y_pred_int)\n",
    "\n",
    "precision = precision_score(y_test, y_pred_int)\n",
    "recall = recall_score(y_test, y_pred_int)\n",
    "print(\"Precision:\", precision)\n",
    "print(\"Recall:\", recall)\n",
    "print(\"F1 Score:\", F1)\n",
    "print(f'TP: {TP}\\nTN: {TN}\\nFP: {FP}\\nFN: {FN}')"
   ]
  },
  {
   "cell_type": "code",
   "execution_count": null,
   "metadata": {},
   "outputs": [],
   "source": []
  },
  {
   "cell_type": "code",
   "execution_count": null,
   "metadata": {},
   "outputs": [],
   "source": []
  },
  {
   "cell_type": "code",
   "execution_count": null,
   "metadata": {},
   "outputs": [],
   "source": []
  }
 ],
 "metadata": {
  "kernelspec": {
   "display_name": "NIS2",
   "language": "python",
   "name": "art2"
  },
  "language_info": {
   "codemirror_mode": {
    "name": "ipython",
    "version": 3
   },
   "file_extension": ".py",
   "mimetype": "text/x-python",
   "name": "python",
   "nbconvert_exporter": "python",
   "pygments_lexer": "ipython3",
   "version": "3.12.2"
  }
 },
 "nbformat": 4,
 "nbformat_minor": 4
}
