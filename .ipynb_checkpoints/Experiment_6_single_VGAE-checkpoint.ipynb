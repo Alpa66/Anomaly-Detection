{
 "cells": [
  {
   "cell_type": "markdown",
   "metadata": {},
   "source": [
    "# Experiment 6\n",
    "In this experiment, the adversarial learning technique is dropped altogether, a single Variational Graph-based auto-encoder is used, using the torch geometry implementation of the VGAE"
   ]
  },
  {
   "cell_type": "code",
   "execution_count": 1,
   "metadata": {},
   "outputs": [
    {
     "name": "stdout",
     "output_type": "stream",
     "text": [
      " MNIST\t\t\t       SWaT_Dataset_Normal_v1.xlsx\n",
      " SWaT_Dataset_Attack_v0.csv    WADI_14days_new.csv\n",
      " SWaT_Dataset_Attack_v0.xlsx  'WADI.A1_9 Oct 2017'\n",
      " SWaT_Dataset_Normal_v0.csv   'WADI.A2_19 Nov 2019'\n",
      " SWaT_Dataset_Normal_v0.xlsx   WADI_attackdataLABLE.csv\n",
      " SWaT_Dataset_Normal_v1.csv\n"
     ]
    }
   ],
   "source": [
    "!ls ../../Projects/data/"
   ]
  },
  {
   "cell_type": "code",
   "execution_count": 1,
   "metadata": {},
   "outputs": [],
   "source": [
    "import numpy as np\n",
    "import pandas as pd\n",
    "import torch\n",
    "import torch.nn as nn\n",
    "import matplotlib.pyplot as plt\n",
    "import torch.nn.functional as F\n",
    "import torch_geometric.transforms as T\n",
    "\n",
    "from torch.optim import Adam\n",
    "from torch_geometric.nn import GAE, VGAE, GCNConv\n",
    "from torch.utils.data import Dataset, DataLoader\n",
    "from sklearn.preprocessing import StandardScaler\n",
    "from layers import *\n",
    "\n",
    "from sklearn.metrics import confusion_matrix, f1_score, roc_curve, roc_auc_score, precision_score, recall_score"
   ]
  },
  {
   "cell_type": "markdown",
   "metadata": {},
   "source": [
    "### Dataset:"
   ]
  },
  {
   "cell_type": "code",
   "execution_count": 2,
   "metadata": {},
   "outputs": [],
   "source": [
    "df = pd.read_csv('../../Projects/data/SWaT_Dataset_Normal_v1.csv')\n",
    "df = df.drop(columns=[' Timestamp', 'Normal/Attack'])\n",
    "df = df.astype('float64')\n",
    "mm = StandardScaler()\n",
    "Normalized = pd.DataFrame(mm.fit_transform(df))\n",
    "train_set = Normalized[: int(0.8 * Normalized.shape[0])]\n",
    "validation_set = Normalized[int(0.8 * Normalized.shape[0]):]"
   ]
  },
  {
   "cell_type": "code",
   "execution_count": 3,
   "metadata": {},
   "outputs": [
    {
     "data": {
      "text/plain": [
       "device(type='cuda')"
      ]
     },
     "execution_count": 3,
     "metadata": {},
     "output_type": "execute_result"
    }
   ],
   "source": [
    "device = torch.device('cuda' if torch.cuda.is_available() else 'cpu')\n",
    "device"
   ]
  },
  {
   "cell_type": "markdown",
   "metadata": {},
   "source": [
    "### Dataloader:"
   ]
  },
  {
   "cell_type": "code",
   "execution_count": 4,
   "metadata": {},
   "outputs": [],
   "source": [
    "window_size = 100\n",
    "input_size = window_size * 51\n",
    "\n",
    "train_dataset = SWat_dataset(train_set, train_set, window_size, device)\n",
    "validation_dataset = SWat_dataset(validation_set, validation_set, window_size, device)\n",
    "\n",
    "batch_size = 4096\n",
    "train_loader = DataLoader(train_dataset, batch_size=batch_size, shuffle=True, num_workers=0)\n",
    "validation_loader = DataLoader(validation_dataset, batch_size=batch_size, shuffle=True, num_workers=0)"
   ]
  },
  {
   "cell_type": "markdown",
   "metadata": {},
   "source": [
    "### Model:"
   ]
  },
  {
   "cell_type": "code",
   "execution_count": 5,
   "metadata": {},
   "outputs": [],
   "source": [
    "class GEncoder(nn.Module):\n",
    "    def __init__(self, num_nodes, window_size, k, device):\n",
    "        super(GEncoder, self).__init__()\n",
    "        self.num_nodes = num_nodes\n",
    "        self.window_size = window_size\n",
    "        self.conv1 = GCNLayer(window_size, 12)\n",
    "        self.conv2 = GCNLayer(12, 4)\n",
    "        self.idx = torch.arange(num_nodes).to(device)\n",
    "        self.A = Graph_Directed_A(num_nodes, window_size, 0.1, k, device)\n",
    "        self.device = device\n",
    "\n",
    "    def forward(self, X):\n",
    "        X = torch.transpose(X, 1, 2)\n",
    "        adj = self.A(self.idx)\n",
    "        h = self.conv1(adj, X).relu()\n",
    "        h = self.conv2(adj, h).relu()\n",
    "        return h\n",
    "        \n",
    "        \n",
    "\n",
    "class GCN_autoencoder(nn.Module):\n",
    "    def __init__(self, encoder, num_nodes, window_size):\n",
    "        super(GCN_autoencoder, self).__init__()\n",
    "        self.window_size = window_size\n",
    "        self.num_nodes = num_nodes\n",
    "        self.encoder = encoder\n",
    "        self.decoder = nn.Sequential(\n",
    "            nn.Linear(204, 400),\n",
    "            nn.ReLU(),\n",
    "            nn.Linear(400, 800),\n",
    "            nn.ReLU(),\n",
    "            nn.Linear(800, num_nodes * window_size)\n",
    "        )\n",
    "        \n",
    "    def forward(self, X):\n",
    "        x = self.encoder(X)\n",
    "        x = torch.flatten(x,1)\n",
    "        x = self.decoder(x)\n",
    "        return x.view(-1, self.window_size, self.num_nodes)\n",
    "\n",
    "    def get_adj(self):\n",
    "        return self.encoder.A(self.encoder.idx)"
   ]
  },
  {
   "cell_type": "code",
   "execution_count": 11,
   "metadata": {},
   "outputs": [],
   "source": [
    "num_nodes = 51 # number of nodes\n",
    "ngnn = 1 # number of graph structure learning layers\n",
    "gsllayer = 'directed' # type of graph structure learning layer ('relu', 'directed', 'unidirected', 'undirected')\n",
    "hidden_nodes = 50 # feature size in GCN layers\n",
    "alpha = 0.1 # hyperparameter for weights of edges\n",
    "k = None  # max number of edges for each node\n",
    "epochs = 24\n",
    "out_channels = 2 # number of process states"
   ]
  },
  {
   "cell_type": "code",
   "execution_count": 7,
   "metadata": {},
   "outputs": [],
   "source": [
    "Encoder = GEncoder(num_nodes, window_size, k, device)\n",
    "AE1 = GCN_autoencoder(Encoder, num_nodes, window_size)"
   ]
  },
  {
   "cell_type": "code",
   "execution_count": 8,
   "metadata": {},
   "outputs": [
    {
     "data": {
      "text/plain": [
       "GCN_autoencoder(\n",
       "  (encoder): GEncoder(\n",
       "    (conv1): GCNLayer(\n",
       "      (dense): Linear(in_features=100, out_features=12, bias=True)\n",
       "    )\n",
       "    (conv2): GCNLayer(\n",
       "      (dense): Linear(in_features=12, out_features=4, bias=True)\n",
       "    )\n",
       "    (A): Graph_Directed_A(\n",
       "      (e1): Embedding(51, 100)\n",
       "      (e2): Embedding(51, 100)\n",
       "      (l1): Linear(in_features=100, out_features=100, bias=True)\n",
       "      (l2): Linear(in_features=100, out_features=100, bias=True)\n",
       "    )\n",
       "  )\n",
       "  (decoder): Sequential(\n",
       "    (0): Linear(in_features=204, out_features=400, bias=True)\n",
       "    (1): ReLU()\n",
       "    (2): Linear(in_features=400, out_features=800, bias=True)\n",
       "    (3): ReLU()\n",
       "    (4): Linear(in_features=800, out_features=5100, bias=True)\n",
       "  )\n",
       ")"
      ]
     },
     "execution_count": 8,
     "metadata": {},
     "output_type": "execute_result"
    }
   ],
   "source": [
    "AE1.to(device)"
   ]
  },
  {
   "cell_type": "code",
   "execution_count": 9,
   "metadata": {},
   "outputs": [],
   "source": [
    "optimizer1 = torch.optim.Adam(AE1.parameters())"
   ]
  },
  {
   "cell_type": "code",
   "execution_count": 13,
   "metadata": {},
   "outputs": [],
   "source": [
    "# from torch.utils.tensorboard import SummaryWriter"
   ]
  },
  {
   "cell_type": "code",
   "execution_count": 13,
   "metadata": {},
   "outputs": [
    {
     "name": "stdout",
     "output_type": "stream",
     "text": [
      "Epoch: 0 ---> Val loss: AE1 0.0767\n",
      "Train loss: AE1 0.2105\n",
      "Epoch: 1 ---> Val loss: AE1 0.0238\n",
      "Train loss: AE1 0.0311\n",
      "Epoch: 2 ---> Val loss: AE1 0.0128\n",
      "Train loss: AE1 0.0148\n",
      "Epoch: 3 ---> Val loss: AE1 0.0085\n",
      "Train loss: AE1 0.0097\n",
      "Epoch: 4 ---> Val loss: AE1 0.0061\n",
      "Train loss: AE1 0.0069\n",
      "Epoch: 5 ---> Val loss: AE1 0.0048\n",
      "Train loss: AE1 0.0053\n",
      "Epoch: 6 ---> Val loss: AE1 0.0038\n",
      "Train loss: AE1 0.0043\n",
      "Epoch: 7 ---> Val loss: AE1 0.0032\n",
      "Train loss: AE1 0.0035\n",
      "Epoch: 8 ---> Val loss: AE1 0.0027\n",
      "Train loss: AE1 0.0030\n",
      "Epoch: 9 ---> Val loss: AE1 0.0023\n",
      "Train loss: AE1 0.0025\n",
      "Epoch: 10 ---> Val loss: AE1 0.0020\n",
      "Train loss: AE1 0.0022\n",
      "Epoch: 11 ---> Val loss: AE1 0.0018\n",
      "Train loss: AE1 0.0019\n",
      "Epoch: 12 ---> Val loss: AE1 0.0016\n",
      "Train loss: AE1 0.0017\n",
      "Epoch: 13 ---> Val loss: AE1 0.0015\n",
      "Train loss: AE1 0.0016\n",
      "Epoch: 14 ---> Val loss: AE1 0.0013\n",
      "Train loss: AE1 0.0014\n",
      "Epoch: 15 ---> Val loss: AE1 0.0012\n",
      "Train loss: AE1 0.0013\n",
      "Epoch: 16 ---> Val loss: AE1 0.0011\n",
      "Train loss: AE1 0.0012\n",
      "Epoch: 17 ---> Val loss: AE1 0.0010\n",
      "Train loss: AE1 0.0011\n",
      "Epoch: 18 ---> Val loss: AE1 0.0010\n",
      "Train loss: AE1 0.0010\n",
      "Epoch: 19 ---> Val loss: AE1 0.0009\n",
      "Train loss: AE1 0.0009\n",
      "Epoch: 20 ---> Val loss: AE1 0.0008\n",
      "Train loss: AE1 0.0009\n",
      "Epoch: 21 ---> Val loss: AE1 0.0008\n",
      "Train loss: AE1 0.0008\n",
      "Epoch: 22 ---> Val loss: AE1 0.0007\n",
      "Train loss: AE1 0.0008\n",
      "Epoch: 23 ---> Val loss: AE1 0.0007\n",
      "Train loss: AE1 0.0007\n"
     ]
    }
   ],
   "source": [
    "AE1_val_history = []\n",
    "for i in range(epochs):\n",
    "    running_loss_AE1 = []\n",
    "    val_loss_AE1 = []\n",
    "    for index_b, features in enumerate(train_loader):\n",
    "        \n",
    "        w1 = AE1(features)\n",
    "        lossAE1 = torch.mean((features - w1) ** 2\n",
    "        \n",
    "        running_loss_AE1.append(lossAE1)\n",
    "        lossAE1.backward()\n",
    "        optimizer1.step()\n",
    "        optimizer1.zero_grad()\n",
    "    \n",
    "    for index_b, features in enumerate(validation_loader):\n",
    "        with torch.no_grad():\n",
    "\n",
    "            w1 = AE1(features)\n",
    "            lossAE1 = torch.mean((features - w1) ** 2\n",
    "            val_loss_AE1.append(lossAE1)\n",
    "    AE1_val_history.append(torch.stack(val_loss_AE1).mean().item())\n",
    "    # writer.add_scalar('Autoendoer_1_train_loss epoch', torch.stack(running_loss_AE1).mean().item(), i + 1)\n",
    "    # writer.add_scalar('Autoendoer_1_train_loss epoch', AE1_val_history[-1], i + 1)\n",
    "    print(f'Epoch: {i} ---> Val loss: AE1 {AE1_val_history[-1]:.4f}')\n",
    "    print(f'Train loss: AE1 {torch.stack(running_loss_AE1).mean().item():.4f}')"
   ]
  },
  {
   "cell_type": "code",
   "execution_count": 12,
   "metadata": {},
   "outputs": [],
   "source": [
    "Matrix_before = AE1.get_adj()"
   ]
  },
  {
   "cell_type": "code",
   "execution_count": 21,
   "metadata": {},
   "outputs": [
    {
     "data": {
      "text/plain": [
       "tensor([0.0026, 0.0034, 0.0028, 0.0010, 0.0020, 0.0000, 0.0000, 0.0000, 0.0007,\n",
       "        0.0000, 0.0000, 0.0000, 0.0035, 0.0000, 0.0048, 0.0000, 0.0000, 0.0023,\n",
       "        0.0000, 0.0045, 0.0000, 0.0051, 0.0014, 0.0053, 0.0007, 0.0038, 0.0000,\n",
       "        0.0002, 0.0034, 0.0000, 0.0010, 0.0000, 0.0005, 0.0008, 0.0000, 0.0005,\n",
       "        0.0009, 0.0008, 0.0045, 0.0000, 0.0046, 0.0009, 0.0025, 0.0022, 0.0006,\n",
       "        0.0000, 0.0000, 0.0031, 0.0000, 0.0000, 0.0006], device='cuda:0',\n",
       "       grad_fn=<SelectBackward0>)"
      ]
     },
     "execution_count": 21,
     "metadata": {},
     "output_type": "execute_result"
    }
   ],
   "source": [
    "Matrix_before[2]"
   ]
  },
  {
   "cell_type": "code",
   "execution_count": 22,
   "metadata": {},
   "outputs": [
    {
     "data": {
      "text/plain": [
       "tensor([0.0016, 0.0000, 0.0000, 0.0000, 0.0000, 0.0000, 0.0000, 0.0000, 0.0003,\n",
       "        0.0000, 0.0000, 0.0000, 0.0000, 0.0023, 0.0000, 0.0000, 0.0000, 0.0000,\n",
       "        0.0000, 0.0000, 0.0020, 0.0000, 0.0000, 0.0002, 0.0000, 0.0000, 0.0000,\n",
       "        0.0000, 0.0000, 0.0000, 0.0000, 0.0030, 0.0000, 0.0000, 0.0000, 0.0000,\n",
       "        0.0000, 0.0000, 0.0000, 0.0000, 0.0000, 0.0000, 0.0000, 0.0000, 0.0000,\n",
       "        0.0000, 0.0000, 0.0000, 0.0000, 0.0000, 0.0000], device='cuda:0',\n",
       "       grad_fn=<SelectBackward0>)"
      ]
     },
     "execution_count": 22,
     "metadata": {},
     "output_type": "execute_result"
    }
   ],
   "source": [
    "Matrix_after[2]"
   ]
  },
  {
   "cell_type": "code",
   "execution_count": 23,
   "metadata": {},
   "outputs": [],
   "source": [
    "def get_edges(adj, device):\n",
    "    row, col = adj.nonzero(as_tuple=True)\n",
    "    edge_index = torch.stack([row, col], dim=0).float().to(device)\n",
    "    return edge_index"
   ]
  },
  {
   "cell_type": "code",
   "execution_count": 25,
   "metadata": {},
   "outputs": [],
   "source": [
    "learned_adj = AE1.get_adj()\n",
    "edge_index = get_edges(learned_adj, device).int()"
   ]
  },
  {
   "cell_type": "code",
   "execution_count": 26,
   "metadata": {},
   "outputs": [
    {
     "data": {
      "text/plain": [
       "torch.Size([2, 695])"
      ]
     },
     "execution_count": 26,
     "metadata": {},
     "output_type": "execute_result"
    }
   ],
   "source": [
    "edge_index.shape"
   ]
  },
  {
   "cell_type": "code",
   "execution_count": 37,
   "metadata": {},
   "outputs": [],
   "source": [
    "class VariationalGCNEncoder(nn.Module):\n",
    "    def __init__(self, window_size):\n",
    "        super(VariationalGCNEncoder, self).__init__()\n",
    "        self.conv1 = GCNConv(window_size, window_size // 2)\n",
    "        self.conv_mu = GCNConv(window_size // 2, window_size)\n",
    "        self.conv_logstd = GCNConv(window_size // 2, window_size)\n",
    "\n",
    "    def forward(self, X, edge_index):\n",
    "        X = self.conv1(X, edge_index).relu()\n",
    "        return self.conv_mu(X, edge_index), self.conv_logstd(X, edge_index)"
   ]
  },
  {
   "cell_type": "code",
   "execution_count": 38,
   "metadata": {},
   "outputs": [],
   "source": [
    "model = VGAE(VariationalGCNEncoder(window_size))\n",
    "model.to(device)\n",
    "optimizer = torch.optim.Adam(model.parameters())"
   ]
  },
  {
   "cell_type": "code",
   "execution_count": 48,
   "metadata": {},
   "outputs": [],
   "source": [
    "def train(features):\n",
    "    model.train()\n",
    "    optimizer.zero_grad()\n",
    "    features = torch.transpose(features, 1, 2)\n",
    "    z = model.encode(features, edge_index)\n",
    "    loss = model.recon_loss(z, edge_index)\n",
    "\n",
    "    loss = loss + (1 / num_nodes) * model.kl_loss()  # new line\n",
    "    loss.backward()\n",
    "    optimizer.step()\n",
    "    return loss\n",
    "\n",
    "def test(features):\n",
    "    model.eval()\n",
    "    with torch.no_grad():\n",
    "        features = torch.transpose(features, 1, 2)\n",
    "        loss = torch.mean(model(features, edge_index)[0] - features)\n",
    "    return loss"
   ]
  },
  {
   "cell_type": "code",
   "execution_count": 50,
   "metadata": {},
   "outputs": [
    {
     "name": "stdout",
     "output_type": "stream",
     "text": [
      "Epoch: 0 ---> Val loss: AE1 1.7944\n",
      "Train loss: AE1 2.3398\n",
      "Epoch: 1 ---> Val loss: AE1 1.8221\n",
      "Train loss: AE1 2.2990\n",
      "Epoch: 2 ---> Val loss: AE1 1.8485\n",
      "Train loss: AE1 2.2532\n",
      "Epoch: 3 ---> Val loss: AE1 1.8677\n",
      "Train loss: AE1 2.2263\n",
      "Epoch: 4 ---> Val loss: AE1 1.8833\n",
      "Train loss: AE1 2.2051\n",
      "Epoch: 5 ---> Val loss: AE1 1.9021\n",
      "Train loss: AE1 2.1902\n",
      "Epoch: 6 ---> Val loss: AE1 1.9145\n",
      "Train loss: AE1 2.1787\n",
      "Epoch: 7 ---> Val loss: AE1 1.9177\n",
      "Train loss: AE1 2.1743\n",
      "Epoch: 8 ---> Val loss: AE1 1.9226\n",
      "Train loss: AE1 2.1737\n",
      "Epoch: 9 ---> Val loss: AE1 1.9240\n",
      "Train loss: AE1 2.1712\n",
      "Epoch: 10 ---> Val loss: AE1 1.9252\n",
      "Train loss: AE1 2.1703\n",
      "Epoch: 11 ---> Val loss: AE1 1.9271\n",
      "Train loss: AE1 2.1705\n",
      "Epoch: 12 ---> Val loss: AE1 1.9276\n",
      "Train loss: AE1 2.1694\n",
      "Epoch: 13 ---> Val loss: AE1 1.9274\n",
      "Train loss: AE1 2.1690\n",
      "Epoch: 14 ---> Val loss: AE1 1.9272\n",
      "Train loss: AE1 2.1676\n",
      "Epoch: 15 ---> Val loss: AE1 1.9276\n",
      "Train loss: AE1 2.1673\n",
      "Epoch: 16 ---> Val loss: AE1 1.9310\n",
      "Train loss: AE1 2.1664\n",
      "Epoch: 17 ---> Val loss: AE1 1.9317\n",
      "Train loss: AE1 2.1668\n",
      "Epoch: 18 ---> Val loss: AE1 1.9313\n",
      "Train loss: AE1 2.1656\n",
      "Epoch: 19 ---> Val loss: AE1 1.9279\n",
      "Train loss: AE1 2.1654\n",
      "Epoch: 20 ---> Val loss: AE1 1.9313\n",
      "Train loss: AE1 2.1644\n",
      "Epoch: 21 ---> Val loss: AE1 1.9321\n",
      "Train loss: AE1 2.1636\n",
      "Epoch: 22 ---> Val loss: AE1 1.9286\n",
      "Train loss: AE1 2.1627\n",
      "Epoch: 23 ---> Val loss: AE1 1.9308\n",
      "Train loss: AE1 2.1623\n"
     ]
    }
   ],
   "source": [
    "AE1_val_history = []\n",
    "for i in range(epochs):\n",
    "    running_loss_AE1 = []\n",
    "    val_loss_AE1 = []\n",
    "    for index_b, features in enumerate(train_loader):\n",
    "        loss_AE = train(features)\n",
    "        running_loss_AE1.append(loss_AE)\n",
    "    \n",
    "    for index_b, features in enumerate(validation_loader):\n",
    "        loss_AE = test(features)\n",
    "        val_loss_AE1.append(loss_AE)\n",
    "    AE1_val_history.append(torch.stack(val_loss_AE1).mean().item())\n",
    "    # writer.add_scalar('Autoendoer_1_train_loss epoch', torch.stack(running_loss_AE1).mean().item(), i + 1)\n",
    "    # writer.add_scalar('Autoendoer_1_train_loss epoch', AE1_val_history[-1], i + 1)\n",
    "    print(f'Epoch: {i} ---> Val loss: AE1 {AE1_val_history[-1]:.4f}')\n",
    "    print(f'Train loss: AE1 {torch.stack(running_loss_AE1).mean().item():.4f}')"
   ]
  },
  {
   "cell_type": "code",
   "execution_count": 61,
   "metadata": {},
   "outputs": [
    {
     "data": {
      "text/plain": [
       "torch.Size([596, 100, 51])"
      ]
     },
     "execution_count": 61,
     "metadata": {},
     "output_type": "execute_result"
    }
   ],
   "source": [
    "features.shape"
   ]
  },
  {
   "cell_type": "code",
   "execution_count": 72,
   "metadata": {},
   "outputs": [
    {
     "data": {
      "text/plain": [
       "torch.Size([51, 100])"
      ]
     },
     "execution_count": 72,
     "metadata": {},
     "output_type": "execute_result"
    }
   ],
   "source": [
    "torch.transpose(features, 1, 2)[0]"
   ]
  },
  {
   "cell_type": "code",
   "execution_count": 70,
   "metadata": {},
   "outputs": [
    {
     "data": {
      "text/plain": [
       "tensor([[-1.0975, -1.2074, -1.1029,  ..., -1.1223, -1.1824, -1.1116],\n",
       "        [-0.9165, -0.9151, -0.9316,  ..., -0.9425, -0.9101, -0.9255],\n",
       "        [-0.8379, -0.7869, -0.8555,  ..., -0.8618, -0.7847, -0.8496],\n",
       "        ...,\n",
       "        [-1.1192, -1.2424, -1.1221,  ..., -1.1411, -1.2164, -1.1316],\n",
       "        [-0.8830, -0.8580, -0.8984,  ..., -0.9101, -0.8612, -0.8875],\n",
       "        [-0.9825, -1.0236, -0.9943,  ..., -1.0140, -1.0097, -0.9990]],\n",
       "       device='cuda:0', grad_fn=<SelectBackward0>)"
      ]
     },
     "execution_count": 70,
     "metadata": {},
     "output_type": "execute_result"
    }
   ],
   "source": [
    "model(torch.transpose(features, 1, 2), edge_index)[1][0]"
   ]
  },
  {
   "cell_type": "code",
   "execution_count": 71,
   "metadata": {},
   "outputs": [],
   "source": [
    "optimizer.zero_grad()"
   ]
  },
  {
   "cell_type": "markdown",
   "metadata": {},
   "source": [
    "# Testing"
   ]
  },
  {
   "cell_type": "code",
   "execution_count": 27,
   "metadata": {},
   "outputs": [],
   "source": [
    "df2 = pd.read_csv('../../Projects/data/SWaT_Dataset_Attack_v0.csv')\n",
    "labels = df2['Normal/Attack']\n",
    "df2 = df2.drop(columns=[' Timestamp', 'Normal/Attack'])\n",
    "df2 = df2.astype('float64')\n",
    "df2.columns = df.columns\n",
    "test_normalized = pd.DataFrame(mm.transform(df2))"
   ]
  },
  {
   "cell_type": "code",
   "execution_count": 28,
   "metadata": {},
   "outputs": [],
   "source": [
    "test_dataset = SWat_dataset(test_normalized, test_normalized, window_size, device)\n",
    "test_loader = DataLoader(test_dataset, batch_size=batch_size, shuffle=False, num_workers=0)"
   ]
  },
  {
   "cell_type": "code",
   "execution_count": 29,
   "metadata": {},
   "outputs": [],
   "source": [
    "def testing(test_loader, alpha=.5, beta=.5):\n",
    "    results=[]\n",
    "    with torch.no_grad():\n",
    "        for batch in test_loader:\n",
    "            w1=AE1(batch)\n",
    "            results.append(torch.mean(torch.mean((batch-w1)**2, axis=1), axis=1))\n",
    "    return results"
   ]
  },
  {
   "cell_type": "code",
   "execution_count": 30,
   "metadata": {},
   "outputs": [],
   "source": [
    "labels = labels.values\n",
    "labels = [0 if (lab == 'Normal') else 1 for lab in labels]\n",
    "windows_labels=[]\n",
    "for i in range(len(labels)-window_size):\n",
    "    windows_labels.append(list(np.int32(labels[i:i+window_size])))"
   ]
  },
  {
   "cell_type": "code",
   "execution_count": 31,
   "metadata": {},
   "outputs": [],
   "source": [
    "y_test = [1.0 if (np.sum(window) > 0) else 0 for window in windows_labels]"
   ]
  },
  {
   "cell_type": "code",
   "execution_count": 32,
   "metadata": {},
   "outputs": [],
   "source": [
    "results=testing(test_loader, alpha=0.3, beta=0.7)"
   ]
  },
  {
   "cell_type": "code",
   "execution_count": 33,
   "metadata": {},
   "outputs": [],
   "source": [
    "y_pred=np.concatenate([torch.stack(results[:-1]).flatten().detach().cpu().numpy(),\n",
    "                              results[-1].flatten().detach().cpu().numpy()])"
   ]
  },
  {
   "cell_type": "code",
   "execution_count": 34,
   "metadata": {},
   "outputs": [],
   "source": [
    "def ROC(y_test,y_pred):\n",
    "    fpr,tpr,tr=roc_curve(y_test,y_pred)\n",
    "    auc=roc_auc_score(y_test,y_pred)\n",
    "    idx=np.argwhere(np.diff(np.sign(tpr-(1-fpr)))).flatten()\n",
    "\n",
    "    plt.xlabel(\"FPR\")\n",
    "    plt.ylabel(\"TPR\")\n",
    "    plt.plot(fpr,tpr,label=\"AUC=\"+str(auc))\n",
    "    plt.plot(fpr,1-fpr,'r:')\n",
    "    plt.plot(fpr[idx],tpr[idx], 'ro')\n",
    "    plt.legend(loc=4)\n",
    "    plt.grid()\n",
    "    plt.show()\n",
    "    return tr[idx]"
   ]
  },
  {
   "cell_type": "code",
   "execution_count": 35,
   "metadata": {},
   "outputs": [
    {
     "data": {
      "image/png": "[encoded data removed]",
      "text/plain": [
       "<Figure size 640x480 with 1 Axes>"
      ]
     },
     "metadata": {},
     "output_type": "display_data"
    },
    {
     "data": {
      "text/plain": [
       "array([1.4576962], dtype=float32)"
      ]
     },
     "execution_count": 35,
     "metadata": {},
     "output_type": "execute_result"
    }
   ],
   "source": [
    "threshold = ROC(y_test,y_pred)\n",
    "threshold"
   ]
  },
  {
   "cell_type": "code",
   "execution_count": 36,
   "metadata": {},
   "outputs": [
    {
     "name": "stdout",
     "output_type": "stream",
     "text": [
      "best: 2.122448979591837 F1: 0.7629432363857493\n"
     ]
    },
    {
     "data": {
      "text/plain": [
       "[<matplotlib.lines.Line2D at 0x76489e6c3d70>]"
      ]
     },
     "execution_count": 36,
     "metadata": {},
     "output_type": "execute_result"
    },
    {
     "data": {
      "image/png": "[encoded data removed]",
      "text/plain": [
       "<Figure size 640x480 with 1 Axes>"
      ]
     },
     "metadata": {},
     "output_type": "display_data"
    }
   ],
   "source": [
    "ff = 0\n",
    "f_history = []\n",
    "initial_y = 1\n",
    "best = -1\n",
    "for inc in np.linspace(0, 5, 50):\n",
    "    y_pred_int = [1 if (yy > initial_y + inc) else 0 for yy in y_pred]\n",
    "    conf_matrix = confusion_matrix(y_test, y_pred_int)\n",
    "    TP = conf_matrix[1, 1]\n",
    "    TN = conf_matrix[0, 0]\n",
    "    FP = conf_matrix[0, 1]\n",
    "    FN = conf_matrix[1, 0]\n",
    "    F1 = f1_score(y_test, y_pred_int)\n",
    "    f_history.append(F1)\n",
    "\n",
    "    precision = precision_score(y_test, y_pred_int)\n",
    "    recall = recall_score(y_test, y_pred_int)\n",
    "    if F1 > ff:\n",
    "        ff = F1\n",
    "        best = inc\n",
    "print(f'best: {best + initial_y} F1: {ff}')\n",
    "plt.plot(f_history)"
   ]
  },
  {
   "cell_type": "code",
   "execution_count": 36,
   "metadata": {},
   "outputs": [
    {
     "data": {
      "image/png": "[encoded data removed]",
      "text/plain": [
       "<Figure size 640x480 with 1 Axes>"
      ]
     },
     "metadata": {},
     "output_type": "display_data"
    }
   ],
   "source": [
    "x_vals = 0.4 + np.linspace(0, 0.3, 50)\n",
    "plt.plot(x_vals, f_history)\n",
    "plt.xlabel('Threshold')\n",
    "plt.ylabel('F1 score')\n",
    "\n",
    "max_y = max(f_history)\n",
    "max_x = np.argmax(f_history)\n",
    "plt.axhline(y=max_y, color='r', linestyle='--', label='Max Y')\n",
    "plt.text(0.6, max_y + 0.05, f'Max F1= {max_y: .4f}', color='r')\n",
    "plt.ylim(0, 1)\n",
    "plt.grid(True)\n",
    "\n",
    "# plt.savefig('my_plot.png')\n",
    "\n",
    "plt.show()"
   ]
  },
  {
   "cell_type": "code",
   "execution_count": 33,
   "metadata": {},
   "outputs": [
    {
     "name": "stdout",
     "output_type": "stream",
     "text": [
      "Precision: 0.6346748574674437\n",
      "Recall: 0.49212097484584516\n",
      "F1 Score: 0.5543804842192309\n",
      "TP: 30168\n",
      "TN: 371052\n",
      "FP: 17365\n",
      "FN: 31134\n"
     ]
    }
   ],
   "source": [
    "y_pred_int = [1 if (yy > 0.46938775510204084) else 0 for yy in y_pred]\n",
    "conf_matrix = confusion_matrix(y_test, y_pred_int)\n",
    "TP = conf_matrix[1, 1]\n",
    "TN = conf_matrix[0, 0]\n",
    "FP = conf_matrix[0, 1]\n",
    "FN = conf_matrix[1, 0]\n",
    "F1 = f1_score(y_test, y_pred_int)\n",
    "\n",
    "precision = precision_score(y_test, y_pred_int)\n",
    "recall = recall_score(y_test, y_pred_int)\n",
    "print(\"Precision:\", precision)\n",
    "print(\"Recall:\", recall)\n",
    "print(\"F1 Score:\", F1)\n",
    "print(f'TP: {TP}\\nTN: {TN}\\nFP: {FP}\\nFN: {FN}')"
   ]
  },
  {
   "cell_type": "code",
   "execution_count": null,
   "metadata": {},
   "outputs": [],
   "source": []
  },
  {
   "cell_type": "code",
   "execution_count": null,
   "metadata": {},
   "outputs": [],
   "source": []
  },
  {
   "cell_type": "code",
   "execution_count": null,
   "metadata": {},
   "outputs": [],
   "source": []
  }
 ],
 "metadata": {
  "kernelspec": {
   "display_name": "NIS2",
   "language": "python",
   "name": "art2"
  },
  "language_info": {
   "codemirror_mode": {
    "name": "ipython",
    "version": 3
   },
   "file_extension": ".py",
   "mimetype": "text/x-python",
   "name": "python",
   "nbconvert_exporter": "python",
   "pygments_lexer": "ipython3",
   "version": "3.12.2"
  }
 },
 "nbformat": 4,
 "nbformat_minor": 4
}
