{
 "cells": [
  {
   "cell_type": "markdown",
   "metadata": {},
   "source": [
    "# Experiment 6\n",
    "In this experiment, the adversarial learning technique is dropped altogether, a single Variational Graph-based auto-encoder is used, using the torch geometry implementation of the VGAE\n",
    "\n",
    "VGAE proved to be inferior (to be tested) so back to experimenting with a model written from scratch"
   ]
  },
  {
   "cell_type": "code",
   "execution_count": 3,
   "metadata": {},
   "outputs": [
    {
     "name": "stdout",
     "output_type": "stream",
     "text": [
      " table_WADI.pdf       'WADI.A1_9 Oct 2017'    WADI_attackdataLABLE.csv\n",
      " WADI_14days_new.csv  'WADI.A2_19 Nov 2019'\n"
     ]
    }
   ],
   "source": [
    "!ls ../../../Projects/data/WADI/"
   ]
  },
  {
   "cell_type": "code",
   "execution_count": 4,
   "metadata": {},
   "outputs": [],
   "source": [
    "import numpy as np\n",
    "import pandas as pd\n",
    "import torch\n",
    "import torch.nn as nn\n",
    "import matplotlib.pyplot as plt\n",
    "import torch.nn.functional as F\n",
    "import torch_geometric.transforms as T\n",
    "\n",
    "\n",
    "from torch.utils.data import DataLoader\n",
    "from sklearn.preprocessing import StandardScaler, MinMaxScaler\n",
    "from layers import *\n",
    "\n",
    "from sklearn.metrics import confusion_matrix, f1_score, precision_score, recall_score, classification_report\n",
    "set_seed(730)"
   ]
  },
  {
   "cell_type": "markdown",
   "metadata": {},
   "source": [
    "### Dataset:"
   ]
  },
  {
   "cell_type": "code",
   "execution_count": 5,
   "metadata": {},
   "outputs": [],
   "source": [
    "# pd.reset_option('dispay.max_rows')"
   ]
  },
  {
   "cell_type": "code",
   "execution_count": 6,
   "metadata": {},
   "outputs": [],
   "source": [
    "# pd.set_option('display.max_rows', 133)\n",
    "# pd.set_option('display.max_columns', 133)"
   ]
  },
  {
   "cell_type": "code",
   "execution_count": 7,
   "metadata": {},
   "outputs": [],
   "source": [
    "na_columns = ['2_LS_001_AL', '2_LS_002_AL', '2_P_001_STATUS', '2_P_002_STATUS', '1_LS_001_AL', '1_LS_001_AL', 'Row', 'Date', 'Time']"
   ]
  },
  {
   "cell_type": "code",
   "execution_count": 8,
   "metadata": {},
   "outputs": [],
   "source": [
    "# val_range = "
   ]
  },
  {
   "cell_type": "code",
   "execution_count": 9,
   "metadata": {},
   "outputs": [],
   "source": [
    "df = pd.read_csv('../../../Projects/data/WADI/WADI_14days_new.csv')\n",
    "df.columns = df.columns.str.strip()\n",
    "df = df.drop(columns=na_columns, inplace=False)\n",
    "df = df.ffill(inplace=False)\n",
    "df = df.astype('float')\n",
    "mm = StandardScaler()\n",
    "df = pd.DataFrame(mm.fit_transform(df))\n",
    "validation_set = df[int(0.5 * df.shape[0]) : int(0.7 * df.shape[0])]\n",
    "train_1 = df[:int(0.5 * df.shape[0])]\n",
    "train_2 = df[int(0.7 * df.shape[0]):]\n",
    "train_set = pd.concat([train_1, train_2], axis=0)"
   ]
  },
  {
   "cell_type": "code",
   "execution_count": 10,
   "metadata": {},
   "outputs": [
    {
     "data": {
      "text/plain": [
       "device(type='cuda')"
      ]
     },
     "execution_count": 10,
     "metadata": {},
     "output_type": "execute_result"
    }
   ],
   "source": [
    "device = torch.device('cuda' if torch.cuda.is_available() else 'cpu')\n",
    "device"
   ]
  },
  {
   "cell_type": "markdown",
   "metadata": {},
   "source": [
    "### Dataloader:"
   ]
  },
  {
   "cell_type": "code",
   "execution_count": 11,
   "metadata": {},
   "outputs": [],
   "source": [
    "window_size = 64\n",
    "\n",
    "train_dataset = SWat_dataset(train_set, train_set, window_size, device)\n",
    "validation_dataset = SWat_dataset(validation_set, validation_set, window_size, device)\n",
    "\n",
    "batch_size = 4096\n",
    "train_loader = DataLoader(train_dataset, batch_size=batch_size, shuffle=True, num_workers=0)\n",
    "validation_loader = DataLoader(validation_dataset, batch_size=batch_size, shuffle=True, num_workers=0)"
   ]
  },
  {
   "cell_type": "markdown",
   "metadata": {},
   "source": [
    "### Model:"
   ]
  },
  {
   "cell_type": "code",
   "execution_count": 12,
   "metadata": {},
   "outputs": [],
   "source": [
    "class GEncoder(nn.Module):\n",
    "    def __init__(self, num_nodes, window_size, alpha, k, device):\n",
    "        super(GEncoder, self).__init__()\n",
    "        self.num_nodes = num_nodes\n",
    "        self.window_size = window_size\n",
    "        self.conv1 = GCNLayer(window_size, window_size // 2)\n",
    "        self.conv2 = GCNLayer(window_size // 2, window_size // 4)\n",
    "        self.idx = torch.arange(num_nodes).to(device)\n",
    "        self.A = Graph_Directed_A(num_nodes, window_size, alpha, k, device)\n",
    "        self.device = device\n",
    "\n",
    "    def forward(self, X):\n",
    "        X = torch.transpose(X, 1, 2)\n",
    "        adj = self.A(self.idx)\n",
    "        h = self.conv1(adj, X).relu()\n",
    "        h = self.conv2(adj, h).relu()\n",
    "        return h\n",
    "        \n",
    "        \n",
    "\n",
    "class GCN_autoencoder(nn.Module):\n",
    "    def __init__(self, encoder, num_nodes, window_size):\n",
    "        super(GCN_autoencoder, self).__init__()\n",
    "        self.window_size = window_size\n",
    "        self.num_nodes = num_nodes\n",
    "        self.encoder = encoder\n",
    "        self.decoder = nn.Sequential(\n",
    "            nn.Linear(window_size // 4 * num_nodes, window_size // 2 * num_nodes),\n",
    "            nn.ReLU(),\n",
    "            nn.Linear(window_size // 2 * num_nodes, num_nodes * window_size)\n",
    "        )\n",
    "        \n",
    "    def forward(self, X):\n",
    "        x = self.encoder(X)\n",
    "        x = torch.flatten(x,1)\n",
    "        x = self.decoder(x)\n",
    "        return x.view(-1, self.window_size, self.num_nodes)\n",
    "\n",
    "    def get_adj(self):\n",
    "        return self.encoder.A(self.encoder.idx)"
   ]
  },
  {
   "cell_type": "code",
   "execution_count": 13,
   "metadata": {},
   "outputs": [],
   "source": [
    "num_nodes = 122 # number of nodes\n",
    "alpha = 0.20 # hyperparameter for weights of edges\n",
    "k = None  # max number of edges for each node\n",
    "epochs = 30"
   ]
  },
  {
   "cell_type": "code",
   "execution_count": 14,
   "metadata": {},
   "outputs": [],
   "source": [
    "Encoder = GEncoder(num_nodes, window_size, alpha, k, device)\n",
    "AE1 = GCN_autoencoder(Encoder, num_nodes, window_size)"
   ]
  },
  {
   "cell_type": "code",
   "execution_count": 15,
   "metadata": {},
   "outputs": [
    {
     "data": {
      "text/plain": [
       "GCN_autoencoder(\n",
       "  (encoder): GEncoder(\n",
       "    (conv1): GCNLayer(\n",
       "      (dense): Linear(in_features=64, out_features=32, bias=True)\n",
       "    )\n",
       "    (conv2): GCNLayer(\n",
       "      (dense): Linear(in_features=32, out_features=16, bias=True)\n",
       "    )\n",
       "    (A): Graph_Directed_A(\n",
       "      (e1): Embedding(122, 64)\n",
       "      (e2): Embedding(122, 64)\n",
       "      (l1): Linear(in_features=64, out_features=64, bias=True)\n",
       "      (l2): Linear(in_features=64, out_features=64, bias=True)\n",
       "    )\n",
       "  )\n",
       "  (decoder): Sequential(\n",
       "    (0): Linear(in_features=1952, out_features=3904, bias=True)\n",
       "    (1): ReLU()\n",
       "    (2): Linear(in_features=3904, out_features=7808, bias=True)\n",
       "  )\n",
       ")"
      ]
     },
     "execution_count": 15,
     "metadata": {},
     "output_type": "execute_result"
    }
   ],
   "source": [
    "AE1.to(device)"
   ]
  },
  {
   "cell_type": "code",
   "execution_count": 16,
   "metadata": {},
   "outputs": [],
   "source": [
    "optimizer1 = torch.optim.Adam(AE1.parameters())"
   ]
  },
  {
   "cell_type": "code",
   "execution_count": 17,
   "metadata": {},
   "outputs": [],
   "source": [
    "# from torch.utils.tensorboard import SummaryWriter"
   ]
  },
  {
   "cell_type": "code",
   "execution_count": 18,
   "metadata": {},
   "outputs": [
    {
     "name": "stdout",
     "output_type": "stream",
     "text": [
      "Epoch: 0 ---> Val loss: AE1 0.0746\n",
      "Train loss: AE1 0.1489\n",
      "Epoch: 1 ---> Val loss: AE1 0.0523\n",
      "Train loss: AE1 0.0414\n",
      "Epoch: 2 ---> Val loss: AE1 0.0431\n",
      "Train loss: AE1 0.0309\n",
      "Epoch: 3 ---> Val loss: AE1 0.0366\n",
      "Train loss: AE1 0.0259\n",
      "Epoch: 4 ---> Val loss: AE1 0.0326\n",
      "Train loss: AE1 0.0225\n",
      "Epoch: 5 ---> Val loss: AE1 0.0307\n",
      "Train loss: AE1 0.0203\n",
      "Epoch: 6 ---> Val loss: AE1 0.0279\n",
      "Train loss: AE1 0.0187\n",
      "Epoch: 7 ---> Val loss: AE1 0.0258\n",
      "Train loss: AE1 0.0176\n",
      "Epoch: 8 ---> Val loss: AE1 0.0240\n",
      "Train loss: AE1 0.0166\n",
      "Epoch: 9 ---> Val loss: AE1 0.0224\n",
      "Train loss: AE1 0.0156\n",
      "Epoch: 10 ---> Val loss: AE1 0.0217\n",
      "Train loss: AE1 0.0150\n",
      "Epoch: 11 ---> Val loss: AE1 0.0208\n",
      "Train loss: AE1 0.0144\n",
      "Epoch: 12 ---> Val loss: AE1 0.0191\n",
      "Train loss: AE1 0.0139\n",
      "Epoch: 13 ---> Val loss: AE1 0.0198\n",
      "Train loss: AE1 0.0135\n",
      "Epoch: 14 ---> Val loss: AE1 0.0181\n",
      "Train loss: AE1 0.0130\n",
      "Epoch: 15 ---> Val loss: AE1 0.0177\n",
      "Train loss: AE1 0.0127\n",
      "Epoch: 16 ---> Val loss: AE1 0.0174\n",
      "Train loss: AE1 0.0124\n",
      "Epoch: 17 ---> Val loss: AE1 0.0180\n",
      "Train loss: AE1 0.0120\n",
      "Epoch: 18 ---> Val loss: AE1 0.0178\n",
      "Train loss: AE1 0.0118\n",
      "Epoch: 19 ---> Val loss: AE1 0.0160\n",
      "Train loss: AE1 0.0115\n",
      "Epoch: 20 ---> Val loss: AE1 0.0160\n",
      "Train loss: AE1 0.0113\n",
      "Epoch: 21 ---> Val loss: AE1 0.0160\n",
      "Train loss: AE1 0.0111\n",
      "CPU times: user 35min 15s, sys: 12.1 s, total: 35min 27s\n",
      "Wall time: 33min 31s\n"
     ]
    }
   ],
   "source": [
    "%%time\n",
    "best_val = None\n",
    "patience = 4\n",
    "AE1_val_history = []\n",
    "AE1_train_history = []\n",
    "for i in range(epochs):\n",
    "    running_loss_AE1 = []\n",
    "    val_loss_AE1 = []\n",
    "    AE1.train()\n",
    "    for index_b, features in enumerate(train_loader):\n",
    "        \n",
    "        w1 = AE1(features)\n",
    "        lossAE1 = torch.mean((features - w1) ** 2)\n",
    "        \n",
    "        running_loss_AE1.append(lossAE1)\n",
    "        lossAE1.backward()\n",
    "        optimizer1.step()\n",
    "        optimizer1.zero_grad()\n",
    "\n",
    "    AE1.eval()\n",
    "    for index_b, features in enumerate(validation_loader):\n",
    "        with torch.no_grad():\n",
    "\n",
    "            w1 = AE1(features)\n",
    "            lossAE1 = torch.mean((features - w1) ** 2)\n",
    "            val_loss_AE1.append(lossAE1)\n",
    "    AE1_val_history.append(torch.stack(val_loss_AE1).mean().item())\n",
    "    # writer.add_scalar('Autoendoer_1_train_loss epoch', torch.stack(running_loss_AE1).mean().item(), i + 1)\n",
    "    # writer.add_scalar('Autoendoer_1_train_loss epoch', AE1_val_history[-1], i + 1)\n",
    "    print(f'Epoch: {i} ---> Val loss: AE1 {AE1_val_history[-1]:.4f}') # should change to 5\n",
    "    print(f'Train loss: AE1 {torch.stack(running_loss_AE1).mean().item():.4f}') # should change to 5\n",
    "    # if round(torch.stack(running_loss_AE1).mean().item(), 4) > 0.004:\n",
    "    #     continue\n",
    "    val_er = round(AE1_val_history[-1], 5)\n",
    "    train_er = round(torch.stack(running_loss_AE1).mean().item(), 5)\n",
    "    if best_val:\n",
    "        if val_er > best_val:\n",
    "            patience = patience - 1\n",
    "            if patience == 0:\n",
    "                break;\n",
    "    if best_val:\n",
    "        if best_val > val_er:\n",
    "            best_val = val_er\n",
    "    else:\n",
    "        best_val = val_er"
   ]
  },
  {
   "cell_type": "markdown",
   "metadata": {},
   "source": [
    "# Testing"
   ]
  },
  {
   "cell_type": "code",
   "execution_count": 19,
   "metadata": {},
   "outputs": [],
   "source": [
    "df_test = pd.read_csv('../../../Projects/data/WADI/WADI_attackdataLABLE.csv')\n",
    "df_test = df_test[:-2]\n",
    "df_test.columns = df_test.columns.str.strip()\n",
    "labels = df_test['Attack LABLE (1:No Attack, -1:Attack)']\n",
    "df_test = df_test.drop(columns=na_columns, inplace=False)\n",
    "df_test = df_test.drop(columns=['Attack LABLE (1:No Attack, -1:Attack)'], inplace=False)\n",
    "df_test = df_test.ffill(inplace=False)\n",
    "df_test = df_test.astype('float')\n",
    "test_normalized = pd.DataFrame(mm.fit_transform(df_test))"
   ]
  },
  {
   "cell_type": "code",
   "execution_count": 20,
   "metadata": {},
   "outputs": [],
   "source": [
    "test_dataset = SWat_dataset(test_normalized, test_normalized, window_size, device)\n",
    "test_loader = DataLoader(test_dataset, batch_size=batch_size, shuffle=False, num_workers=0)"
   ]
  },
  {
   "cell_type": "code",
   "execution_count": 21,
   "metadata": {},
   "outputs": [],
   "source": [
    "def testing(test_loader, alpha=.5, beta=.5):\n",
    "    results=[]\n",
    "    AE1.eval()\n",
    "    with torch.no_grad():\n",
    "        for batch in test_loader:\n",
    "            w1=AE1(batch)\n",
    "            results.append(torch.mean(torch.mean((batch-w1)**2, axis=1), axis=1))\n",
    "    return results"
   ]
  },
  {
   "cell_type": "code",
   "execution_count": 22,
   "metadata": {},
   "outputs": [],
   "source": [
    "labels = labels.values\n",
    "labels = [0 if (lab == 1) else 1 for lab in labels]\n",
    "windows_labels=[]\n",
    "for i in range(len(labels)-window_size):\n",
    "    windows_labels.append(list(np.int32(labels[i:i+window_size])))"
   ]
  },
  {
   "cell_type": "code",
   "execution_count": 23,
   "metadata": {},
   "outputs": [],
   "source": [
    "y_test = [1.0 if (np.sum(window) > 0) else 0 for window in windows_labels]"
   ]
  },
  {
   "cell_type": "code",
   "execution_count": 24,
   "metadata": {},
   "outputs": [],
   "source": [
    "results=testing(test_loader, alpha=0.3, beta=0.7)"
   ]
  },
  {
   "cell_type": "code",
   "execution_count": 25,
   "metadata": {},
   "outputs": [],
   "source": [
    "y_pred=np.concatenate([torch.stack(results[:-1]).flatten().detach().cpu().numpy(),\n",
    "                              results[-1].flatten().detach().cpu().numpy()])"
   ]
  },
  {
   "cell_type": "code",
   "execution_count": 26,
   "metadata": {},
   "outputs": [
    {
     "data": {
      "image/png": "[encoded data removed]",
      "text/plain": [
       "<Figure size 640x480 with 1 Axes>"
      ]
     },
     "metadata": {},
     "output_type": "display_data"
    },
    {
     "data": {
      "text/plain": [
       "array([0.0116656], dtype=float32)"
      ]
     },
     "execution_count": 26,
     "metadata": {},
     "output_type": "execute_result"
    }
   ],
   "source": [
    "threshold = ROC(y_test,y_pred)\n",
    "threshold"
   ]
  },
  {
   "cell_type": "code",
   "execution_count": 27,
   "metadata": {},
   "outputs": [
    {
     "data": {
      "text/plain": [
       "[<matplotlib.lines.Line2D at 0x741338670890>]"
      ]
     },
     "execution_count": 27,
     "metadata": {},
     "output_type": "execute_result"
    },
    {
     "data": {
      "image/png": "[encoded data removed]",
      "text/plain": [
       "<Figure size 640x480 with 1 Axes>"
      ]
     },
     "metadata": {},
     "output_type": "display_data"
    }
   ],
   "source": [
    "plt.plot(y_pred)"
   ]
  },
  {
   "cell_type": "code",
   "execution_count": 28,
   "metadata": {},
   "outputs": [
    {
     "name": "stdout",
     "output_type": "stream",
     "text": [
      "best: 0.14705882352941177 F1: 0.43284358340917956\n"
     ]
    },
    {
     "data": {
      "text/plain": [
       "[<matplotlib.lines.Line2D at 0x7413380ff950>]"
      ]
     },
     "execution_count": 28,
     "metadata": {},
     "output_type": "execute_result"
    },
    {
     "data": {
      "image/png": "[encoded data removed]",
      "text/plain": [
       "<Figure size 640x480 with 1 Axes>"
      ]
     },
     "metadata": {},
     "output_type": "display_data"
    }
   ],
   "source": [
    "ff = 0\n",
    "f_history = []\n",
    "initial_y = 0\n",
    "best = -1\n",
    "for inc in np.linspace(0, 1, 35):\n",
    "    y_pred_int = [1 if (yy > initial_y + inc) else 0 for yy in y_pred]\n",
    "    conf_matrix = confusion_matrix(y_test, y_pred_int)\n",
    "    TP = conf_matrix[1, 1]\n",
    "    TN = conf_matrix[0, 0]\n",
    "    FP = conf_matrix[0, 1]\n",
    "    FN = conf_matrix[1, 0]\n",
    "    F1 = f1_score(y_test, y_pred_int)\n",
    "    f_history.append(F1)\n",
    "\n",
    "    precision = precision_score(y_test, y_pred_int)\n",
    "    recall = recall_score(y_test, y_pred_int)\n",
    "    if F1 > ff:\n",
    "        ff = F1\n",
    "        best = inc + initial_y\n",
    "print(f'best: {best} F1: {ff}')\n",
    "plt.plot(f_history)"
   ]
  },
  {
   "cell_type": "code",
   "execution_count": 29,
   "metadata": {},
   "outputs": [
    {
     "ename": "NameError",
     "evalue": "name 'anomaly_scores' is not defined",
     "output_type": "error",
     "traceback": [
      "\u001b[0;31m---------------------------------------------------------------------------\u001b[0m",
      "\u001b[0;31mNameError\u001b[0m                                 Traceback (most recent call last)",
      "Cell \u001b[0;32mIn[29], line 13\u001b[0m\n\u001b[1;32m      2\u001b[0m \u001b[38;5;28;01mimport\u001b[39;00m \u001b[38;5;21;01mscipy\u001b[39;00m\u001b[38;5;21;01m.\u001b[39;00m\u001b[38;5;21;01mstats\u001b[39;00m \u001b[38;5;28;01mas\u001b[39;00m \u001b[38;5;21;01mstats\u001b[39;00m\n\u001b[1;32m      4\u001b[0m \u001b[38;5;66;03m# Assuming you have the following arrays:\u001b[39;00m\n\u001b[1;32m      5\u001b[0m \u001b[38;5;66;03m# anomaly_scores: array of anomaly scores from your model\u001b[39;00m\n\u001b[1;32m      6\u001b[0m \u001b[38;5;66;03m# labels: array of labels (0 for normal, 1 for anomaly)\u001b[39;00m\n\u001b[0;32m   (...)\u001b[0m\n\u001b[1;32m     11\u001b[0m \n\u001b[1;32m     12\u001b[0m \u001b[38;5;66;03m# Step 1: Choose a high threshold (e.g., 95th percentile)\u001b[39;00m\n\u001b[0;32m---> 13\u001b[0m threshold \u001b[38;5;241m=\u001b[39m np\u001b[38;5;241m.\u001b[39mpercentile(anomaly_scores, \u001b[38;5;241m95\u001b[39m)\n\u001b[1;32m     15\u001b[0m \u001b[38;5;66;03m# Step 2: Extract excesses (scores above the threshold)\u001b[39;00m\n\u001b[1;32m     16\u001b[0m excesses \u001b[38;5;241m=\u001b[39m anomaly_scores[anomaly_scores \u001b[38;5;241m>\u001b[39m threshold] \u001b[38;5;241m-\u001b[39m threshold\n",
      "\u001b[0;31mNameError\u001b[0m: name 'anomaly_scores' is not defined"
     ]
    }
   ],
   "source": [
    "# import numpy as np\n",
    "# import scipy.stats as stats\n",
    "\n",
    "# # Assuming you have the following arrays:\n",
    "# # anomaly_scores: array of anomaly scores from your model\n",
    "# # labels: array of labels (0 for normal, 1 for anomaly)\n",
    "\n",
    "# # Sample data (replace with your actual anomaly scores and labels)\n",
    "# # anomaly_scores = np.array([...])\n",
    "# # labels = np.array([...])\n",
    "\n",
    "# # Step 1: Choose a high threshold (e.g., 95th percentile)\n",
    "# threshold = np.percentile(anomaly_scores, 95)\n",
    "\n",
    "# # Step 2: Extract excesses (scores above the threshold)\n",
    "# excesses = anomaly_scores[anomaly_scores > threshold] - threshold\n",
    "\n",
    "# # Step 3: Fit GPD to the excesses\n",
    "# shape, loc, scale = stats.genpareto.fit(excesses)\n",
    "\n",
    "# # Step 4: Determine the desired quantile (e.g., 99th percentile of the excesses)\n",
    "# desired_quantile = 0.99\n",
    "# quantile = stats.genpareto.ppf(desired_quantile, shape, loc=loc, scale=scale)\n",
    "\n",
    "# # Step 5: Calculate the final threshold by adding the quantile to the initial threshold\n",
    "# final_threshold = threshold + quantile\n",
    "# print(f\"Final threshold for anomaly detection: {final_threshold}\")\n",
    "\n",
    "# # Step 6: Label data points based on the final threshold\n",
    "# predicted_labels = (anomaly_scores > final_threshold).astype(int)\n",
    "\n",
    "# # Optional: Evaluate performance using your labels\n",
    "# from sklearn.metrics import classification_report\n",
    "\n",
    "# print(classification_report(labels, predicted_labels))"
   ]
  },
  {
   "cell_type": "markdown",
   "metadata": {},
   "source": [
    "# Point Adjust"
   ]
  },
  {
   "cell_type": "code",
   "execution_count": 30,
   "metadata": {},
   "outputs": [],
   "source": [
    "labels = labels[window_size:]\n",
    "started = False\n",
    "anomaly_segments = []\n",
    "for i in range(len(labels)):\n",
    "    if labels[i] == 1 and not started:\n",
    "        started = True\n",
    "        left_side = i\n",
    "    if labels[i] == 0 and started:\n",
    "        started = False\n",
    "        anomaly_segments.append((left_side, i - 1))"
   ]
  },
  {
   "cell_type": "code",
   "execution_count": 31,
   "metadata": {},
   "outputs": [
    {
     "data": {
      "text/plain": [
       "14"
      ]
     },
     "execution_count": 31,
     "metadata": {},
     "output_type": "execute_result"
    }
   ],
   "source": [
    "len(anomaly_segments)"
   ]
  },
  {
   "cell_type": "markdown",
   "metadata": {},
   "source": [
    "## One point"
   ]
  },
  {
   "cell_type": "code",
   "execution_count": 32,
   "metadata": {},
   "outputs": [
    {
     "name": "stdout",
     "output_type": "stream",
     "text": [
      "best: 0.11764705882352941 F1: 0.7715301806997308\n"
     ]
    },
    {
     "data": {
      "text/plain": [
       "[<matplotlib.lines.Line2D at 0x741337bdcc20>]"
      ]
     },
     "execution_count": 32,
     "metadata": {},
     "output_type": "execute_result"
    },
    {
     "data": {
      "image/png": "[encoded data removed]",
      "text/plain": [
       "<Figure size 640x480 with 1 Axes>"
      ]
     },
     "metadata": {},
     "output_type": "display_data"
    }
   ],
   "source": [
    "ff = 0\n",
    "f_history = []\n",
    "initial_y = 0\n",
    "best = -1\n",
    "for inc in np.linspace(0, 1, 35):\n",
    "    y_pred_int = [1 if (yy > initial_y + inc) else 0 for yy in y_pred]\n",
    "    for i, j in anomaly_segments:\n",
    "        if np.sum(y_pred_int[i: j]) > 0:\n",
    "            y_pred_int[i:j + 1] = [1 for _ in range(j - i + 1)]\n",
    "    conf_matrix = confusion_matrix(y_test, y_pred_int)\n",
    "    TP = conf_matrix[1, 1]\n",
    "    TN = conf_matrix[0, 0]\n",
    "    FP = conf_matrix[0, 1]\n",
    "    FN = conf_matrix[1, 0]\n",
    "    F1 = f1_score(y_test, y_pred_int)\n",
    "    f_history.append(F1)\n",
    "\n",
    "    precision = precision_score(y_test, y_pred_int)\n",
    "    recall = recall_score(y_test, y_pred_int)\n",
    "    if F1 > ff:\n",
    "        ff = F1\n",
    "        best = inc + initial_y\n",
    "print(f'best: {best} F1: {ff}')\n",
    "plt.plot(f_history)"
   ]
  },
  {
   "cell_type": "markdown",
   "metadata": {},
   "source": [
    "## Point adjust 20%"
   ]
  },
  {
   "cell_type": "code",
   "execution_count": 38,
   "metadata": {},
   "outputs": [
    {
     "name": "stdout",
     "output_type": "stream",
     "text": [
      "best: 0.3529411764705882 F1: 0.5703800460284879\n"
     ]
    },
    {
     "data": {
      "text/plain": [
       "[<matplotlib.lines.Line2D at 0x7411ecf41490>]"
      ]
     },
     "execution_count": 38,
     "metadata": {},
     "output_type": "execute_result"
    },
    {
     "data": {
      "image/png": "[encoded data removed]",
      "text/plain": [
       "<Figure size 640x480 with 1 Axes>"
      ]
     },
     "metadata": {},
     "output_type": "display_data"
    }
   ],
   "source": [
    "ff = 0\n",
    "f_history = []\n",
    "initial_y = 0\n",
    "best = -1\n",
    "for inc in np.linspace(0, 1, 35):\n",
    "    y_pred_int = [1 if (yy > initial_y + inc) else 0 for yy in y_pred]\n",
    "    for i, j in anomaly_segments:\n",
    "        if np.sum(y_pred_int[i: j]) / (j - i) > 0.2:\n",
    "            y_pred_int[i:j + 1] = [1 for _ in range(j - i + 1)]\n",
    "    conf_matrix = confusion_matrix(y_test, y_pred_int)\n",
    "    TP = conf_matrix[1, 1]\n",
    "    TN = conf_matrix[0, 0]\n",
    "    FP = conf_matrix[0, 1]\n",
    "    FN = conf_matrix[1, 0]\n",
    "    F1 = f1_score(y_test, y_pred_int)\n",
    "    f_history.append(F1)\n",
    "\n",
    "    precision = precision_score(y_test, y_pred_int)\n",
    "    recall = recall_score(y_test, y_pred_int)\n",
    "    if F1 > ff:\n",
    "        ff = F1\n",
    "        best = inc + initial_y\n",
    "print(f'best: {best} F1: {ff}')\n",
    "plt.plot(f_history)"
   ]
  },
  {
   "cell_type": "code",
   "execution_count": 39,
   "metadata": {},
   "outputs": [
    {
     "data": {
      "text/plain": [
       "172737"
      ]
     },
     "execution_count": 39,
     "metadata": {},
     "output_type": "execute_result"
    }
   ],
   "source": [
    "len(labels)"
   ]
  },
  {
   "cell_type": "code",
   "execution_count": 40,
   "metadata": {},
   "outputs": [
    {
     "data": {
      "text/plain": [
       "172737"
      ]
     },
     "execution_count": 40,
     "metadata": {},
     "output_type": "execute_result"
    }
   ],
   "source": [
    "len(y_pred)"
   ]
  },
  {
   "cell_type": "code",
   "execution_count": 41,
   "metadata": {},
   "outputs": [
    {
     "data": {
      "text/plain": [
       "172737"
      ]
     },
     "execution_count": 41,
     "metadata": {},
     "output_type": "execute_result"
    }
   ],
   "source": [
    "len(y_test)"
   ]
  },
  {
   "cell_type": "code",
   "execution_count": 34,
   "metadata": {},
   "outputs": [],
   "source": [
    "# torch.save(AE1.state_dict(), 'GAE_77_Directed_200_epochs.pth')"
   ]
  },
  {
   "cell_type": "code",
   "execution_count": 35,
   "metadata": {},
   "outputs": [],
   "source": [
    "# AE1.load_state_dict(torch.load('GAE_77_Directed_200_epochs.pth'))"
   ]
  },
  {
   "cell_type": "code",
   "execution_count": 36,
   "metadata": {},
   "outputs": [],
   "source": [
    "# def testing(loader, alpha=.5, beta=.5):\n",
    "#     results=[]\n",
    "#     with torch.no_grad():\n",
    "#         for batch in loader:\n",
    "#             w1=AE1(batch)\n",
    "#             results.append(torch.mean((batch-w1)**2, axis=1))\n",
    "#     return results\n",
    "\n",
    "# def get_threshold(val_loader):\n",
    "#     recon_errors = testing(val_loader)\n",
    "#     complete_vals = np.concatenate([torch.stack(recon_errors[:-1]).view(-1, num_nodes).detach().cpu().numpy(),\n",
    "#                                     recon_errors[-1].view(-1, num_nodes).detach().cpu().numpy()])\n",
    "#     return np.max(complete_vals, axis=0)"
   ]
  },
  {
   "cell_type": "code",
   "execution_count": 37,
   "metadata": {},
   "outputs": [],
   "source": [
    "# thresholds = get_threshold(validation_loader)\n",
    "# results=testing(test_loader, alpha=0.3, beta=0.7)\n",
    "# y_pred=np.concatenate([torch.stack(results[:-1]).view(-1, num_nodes).detach().cpu().numpy(), \n",
    "#                        results[-1].view(-1, num_nodes).detach().cpu().numpy()])"
   ]
  },
  {
   "cell_type": "code",
   "execution_count": null,
   "metadata": {},
   "outputs": [],
   "source": [
    "# factor = 1"
   ]
  },
  {
   "cell_type": "code",
   "execution_count": null,
   "metadata": {},
   "outputs": [],
   "source": [
    "# factor = 720\n",
    "# res = y_pred > (thresholds * factor)\n",
    "# boo = np.any(res, axis = 1)\n",
    "# verdicts = [1 if elem else 0 for elem in boo]\n",
    "# conf_matrix = confusion_matrix(y_test, verdicts)\n",
    "# TP = conf_matrix[1, 1]\n",
    "# TN = conf_matrix[0, 0]\n",
    "# FP = conf_matrix[0, 1]\n",
    "# FN = conf_matrix[1, 0]\n",
    "# F1 = f1_score(y_test, verdicts)\n",
    "# precision = precision_score(y_test, verdicts)\n",
    "# recall = recall_score(y_test, verdicts)\n",
    "# print(\"Precision:\", precision)\n",
    "# print(\"Recall:\", recall)\n",
    "# print(\"F1 Score:\", F1)\n",
    "# print(f'TP: {TP}\\nTN: {TN}\\nFP: {FP}\\nFN: {FN}')\n",
    "# print(f'Factor is: {factor}')"
   ]
  },
  {
   "cell_type": "code",
   "execution_count": null,
   "metadata": {},
   "outputs": [],
   "source": [
    "sum(p.numel() for p in AE1.parameters() if p.requires_grad)"
   ]
  }
 ],
 "metadata": {
  "kernelspec": {
   "display_name": "NIS2",
   "language": "python",
   "name": "art2"
  },
  "language_info": {
   "codemirror_mode": {
    "name": "ipython",
    "version": 3
   },
   "file_extension": ".py",
   "mimetype": "text/x-python",
   "name": "python",
   "nbconvert_exporter": "python",
   "pygments_lexer": "ipython3",
   "version": "3.12.2"
  }
 },
 "nbformat": 4,
 "nbformat_minor": 4
}
