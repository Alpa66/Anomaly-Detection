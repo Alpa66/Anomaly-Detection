{
 "cells": [
  {
   "cell_type": "markdown",
   "metadata": {},
   "source": [
    "# Experiment 6\n",
    "In this experiment, the adversarial learning technique is dropped altogether, a single Variational Graph-based auto-encoder is used, using the torch geometry implementation of the VGAE\n",
    "\n",
    "VGAE proved to be inferior (to be tested) so back to experimenting with a model written from scratch"
   ]
  },
  {
   "cell_type": "code",
   "execution_count": 1,
   "metadata": {},
   "outputs": [
    {
     "name": "stdout",
     "output_type": "stream",
     "text": [
      " table_WADI.pdf       'WADI.A1_9 Oct 2017'    WADI_attackdataLABLE.csv\n",
      " WADI_14days_new.csv  'WADI.A2_19 Nov 2019'\n"
     ]
    }
   ],
   "source": [
    "!ls ../../../Projects/data/WADI/"
   ]
  },
  {
   "cell_type": "code",
   "execution_count": 2,
   "metadata": {},
   "outputs": [],
   "source": [
    "import numpy as np\n",
    "import pandas as pd\n",
    "import torch\n",
    "import scipy.stats as stats\n",
    "import torch.nn as nn\n",
    "import matplotlib.pyplot as plt\n",
    "import torch.nn.functional as F\n",
    "import torch_geometric.transforms as T\n",
    "\n",
    "\n",
    "from torch.utils.data import DataLoader\n",
    "from sklearn.preprocessing import StandardScaler, MinMaxScaler\n",
    "from layers import *\n",
    "\n",
    "from sklearn.metrics import confusion_matrix, f1_score, precision_score, recall_score, classification_report"
   ]
  },
  {
   "cell_type": "code",
   "execution_count": 3,
   "metadata": {},
   "outputs": [],
   "source": [
    "seed_num = 730\n",
    "set_seed(seed_num)"
   ]
  },
  {
   "cell_type": "markdown",
   "metadata": {},
   "source": [
    "### Dataset:"
   ]
  },
  {
   "cell_type": "code",
   "execution_count": 4,
   "metadata": {},
   "outputs": [],
   "source": [
    "# pd.reset_option('dispay.max_rows')"
   ]
  },
  {
   "cell_type": "code",
   "execution_count": 5,
   "metadata": {},
   "outputs": [],
   "source": [
    "# pd.set_option('display.max_rows', 133)\n",
    "# pd.set_option('display.max_columns', 133)"
   ]
  },
  {
   "cell_type": "code",
   "execution_count": 6,
   "metadata": {},
   "outputs": [],
   "source": [
    "na_columns = ['2_LS_001_AL', '2_LS_002_AL', '2_P_001_STATUS', '2_P_002_STATUS', '1_LS_001_AL', '1_LS_001_AL', 'Row', 'Date', 'Time']"
   ]
  },
  {
   "cell_type": "code",
   "execution_count": 7,
   "metadata": {},
   "outputs": [],
   "source": [
    "df = pd.read_csv('../../../Projects/data/WADI/WADI_14days_new.csv')\n",
    "df.columns = df.columns.str.strip()\n",
    "df = df.drop(columns=na_columns, inplace=False)\n",
    "df = df.ffill(inplace=False)\n",
    "df = df.astype('float')\n",
    "mm = StandardScaler()\n",
    "df = pd.DataFrame(mm.fit_transform(df))\n",
    "validation_range = int(0.18 * df.shape[0])\n",
    "allowed_range = int(0.82 * df.shape[0])\n",
    "validation_start_point = random.randint(0, allowed_range)\n",
    "validation_set = df[validation_start_point: validation_start_point + validation_range]\n",
    "train_1 = df[:validation_start_point]\n",
    "train_2 = df[validation_start_point + validation_range:]\n",
    "train_set = pd.concat([train_1, train_2], axis=0)\n",
    "del train_1, train_2"
   ]
  },
  {
   "cell_type": "code",
   "execution_count": 8,
   "metadata": {},
   "outputs": [
    {
     "data": {
      "text/plain": [
       "317997"
      ]
     },
     "execution_count": 8,
     "metadata": {},
     "output_type": "execute_result"
    }
   ],
   "source": [
    "validation_start_point"
   ]
  },
  {
   "cell_type": "code",
   "execution_count": 9,
   "metadata": {},
   "outputs": [
    {
     "data": {
      "text/plain": [
       "device(type='cuda')"
      ]
     },
     "execution_count": 9,
     "metadata": {},
     "output_type": "execute_result"
    }
   ],
   "source": [
    "device = torch.device('cuda' if torch.cuda.is_available() else 'cpu')\n",
    "device"
   ]
  },
  {
   "cell_type": "markdown",
   "metadata": {},
   "source": [
    "### Dataloader:"
   ]
  },
  {
   "cell_type": "code",
   "execution_count": 10,
   "metadata": {},
   "outputs": [],
   "source": [
    "window_size = 16\n",
    "\n",
    "train_dataset = SWat_dataset(train_set, train_set, window_size, device)\n",
    "validation_dataset = SWat_dataset(validation_set, validation_set, window_size, device)\n",
    "\n",
    "batch_size = 4096\n",
    "train_loader = DataLoader(train_dataset, batch_size=batch_size, shuffle=True, num_workers=0)\n",
    "validation_loader = DataLoader(validation_dataset, batch_size=batch_size, shuffle=True, num_workers=0)"
   ]
  },
  {
   "cell_type": "markdown",
   "metadata": {},
   "source": [
    "### Model:"
   ]
  },
  {
   "cell_type": "code",
   "execution_count": 11,
   "metadata": {},
   "outputs": [],
   "source": [
    "class GEncoder(nn.Module):\n",
    "    def __init__(self, num_nodes, window_size, alpha, k, device):\n",
    "        super(GEncoder, self).__init__()\n",
    "        self.num_nodes = num_nodes\n",
    "        self.window_size = window_size\n",
    "        self.conv1 = GCNLayer(window_size, window_size)\n",
    "        self.conv2 = GCNLayer(window_size, window_size // 2)\n",
    "        self.idx = torch.arange(num_nodes).to(device)\n",
    "        self.A = Graph_Directed_A(num_nodes, window_size, alpha, k, device)\n",
    "        self.device = device\n",
    "\n",
    "    def forward(self, X):\n",
    "        X = torch.transpose(X, 1, 2)\n",
    "        adj = self.A(self.idx)\n",
    "        h = self.conv1(adj, X).relu()\n",
    "        h = self.conv2(adj, h).relu()\n",
    "        return h\n",
    "        \n",
    "        \n",
    "\n",
    "class GCN_autoencoder(nn.Module):\n",
    "    def __init__(self, encoder, num_nodes, window_size):\n",
    "        super(GCN_autoencoder, self).__init__()\n",
    "        self.window_size = window_size\n",
    "        self.num_nodes = num_nodes\n",
    "        self.encoder = encoder\n",
    "        self.decoder = nn.Sequential(\n",
    "            nn.Linear(window_size // 2 * num_nodes, window_size // 3 * 2 * num_nodes),\n",
    "            nn.ReLU(),\n",
    "            nn.Linear(window_size // 3 * 2 * num_nodes, num_nodes * window_size)\n",
    "        )\n",
    "        \n",
    "    def forward(self, X):\n",
    "        x = self.encoder(X)\n",
    "        x = torch.flatten(x,1)\n",
    "        x = self.decoder(x)\n",
    "        return x.view(-1, self.window_size, self.num_nodes)\n",
    "\n",
    "    def get_adj(self):\n",
    "        return self.encoder.A(self.encoder.idx)"
   ]
  },
  {
   "cell_type": "code",
   "execution_count": 12,
   "metadata": {},
   "outputs": [],
   "source": [
    "num_nodes = 122 # number of nodes\n",
    "alpha = 0.30 # hyperparameter for weights of edges\n",
    "k = None  # max number of edges for each node\n",
    "epochs = 30"
   ]
  },
  {
   "cell_type": "code",
   "execution_count": 13,
   "metadata": {},
   "outputs": [],
   "source": [
    "Encoder = GEncoder(num_nodes, window_size, alpha, k, device)\n",
    "AE1 = GCN_autoencoder(Encoder, num_nodes, window_size)"
   ]
  },
  {
   "cell_type": "code",
   "execution_count": 14,
   "metadata": {},
   "outputs": [
    {
     "data": {
      "text/plain": [
       "GCN_autoencoder(\n",
       "  (encoder): GEncoder(\n",
       "    (conv1): GCNLayer(\n",
       "      (dense): Linear(in_features=16, out_features=16, bias=True)\n",
       "    )\n",
       "    (conv2): GCNLayer(\n",
       "      (dense): Linear(in_features=16, out_features=8, bias=True)\n",
       "    )\n",
       "    (A): Graph_Directed_A(\n",
       "      (e1): Embedding(122, 16)\n",
       "      (e2): Embedding(122, 16)\n",
       "      (l1): Linear(in_features=16, out_features=16, bias=True)\n",
       "      (l2): Linear(in_features=16, out_features=16, bias=True)\n",
       "    )\n",
       "  )\n",
       "  (decoder): Sequential(\n",
       "    (0): Linear(in_features=976, out_features=1220, bias=True)\n",
       "    (1): ReLU()\n",
       "    (2): Linear(in_features=1220, out_features=1952, bias=True)\n",
       "  )\n",
       ")"
      ]
     },
     "execution_count": 14,
     "metadata": {},
     "output_type": "execute_result"
    }
   ],
   "source": [
    "AE1.to(device)"
   ]
  },
  {
   "cell_type": "code",
   "execution_count": 15,
   "metadata": {},
   "outputs": [],
   "source": [
    "optimizer1 = torch.optim.Adam(AE1.parameters())"
   ]
  },
  {
   "cell_type": "code",
   "execution_count": 16,
   "metadata": {},
   "outputs": [],
   "source": [
    "# from torch.utils.tensorboard import SummaryWriter\n",
    "model_path = 'wadi_model_random_validation_small_window_seed_' + str(seed_num) + '.pth'"
   ]
  },
  {
   "cell_type": "code",
   "execution_count": 40,
   "metadata": {},
   "outputs": [
    {
     "name": "stdout",
     "output_type": "stream",
     "text": [
      "Epoch: 0 ---> Val loss: AE1 0.00778\n",
      "Train loss: AE1 0.00657\n",
      "Epoch: 1 ---> Val loss: AE1 0.00788\n",
      "Train loss: AE1 0.00683\n",
      "Epoch: 2 ---> Val loss: AE1 0.00694\n",
      "Train loss: AE1 0.00659\n",
      "Epoch: 3 ---> Val loss: AE1 0.00733\n",
      "Train loss: AE1 0.00665\n",
      "Epoch: 4 ---> Val loss: AE1 0.00700\n",
      "Train loss: AE1 0.00642\n",
      "Epoch: 5 ---> Val loss: AE1 0.00661\n",
      "Train loss: AE1 0.00622\n",
      "Epoch: 6 ---> Val loss: AE1 0.00873\n",
      "Train loss: AE1 0.00618\n",
      "Epoch: 7 ---> Val loss: AE1 0.00670\n",
      "Train loss: AE1 0.00629\n",
      "CPU times: user 8min 34s, sys: 3.47 s, total: 8min 37s\n",
      "Wall time: 8min 4s\n"
     ]
    }
   ],
   "source": [
    "%%time\n",
    "best_val = None\n",
    "patience = 5\n",
    "AE1_val_history = []\n",
    "AE1_train_history = []\n",
    "for i in range(epochs):\n",
    "    running_loss_AE1 = []\n",
    "    val_loss_AE1 = []\n",
    "    AE1.train()\n",
    "    for index_b, features in enumerate(train_loader):\n",
    "        \n",
    "        w1 = AE1(features)\n",
    "        lossAE1 = torch.mean((features - w1) ** 2)\n",
    "        \n",
    "        running_loss_AE1.append(lossAE1)\n",
    "        lossAE1.backward()\n",
    "        optimizer1.step()\n",
    "        optimizer1.zero_grad()\n",
    "\n",
    "    AE1.eval()\n",
    "    for index_b, features in enumerate(validation_loader):\n",
    "        with torch.no_grad():\n",
    "\n",
    "            w1 = AE1(features)\n",
    "            lossAE1 = torch.mean((features - w1) ** 2)\n",
    "            val_loss_AE1.append(lossAE1)\n",
    "    AE1_val_history.append(torch.stack(val_loss_AE1).mean().item())\n",
    "    # writer.add_scalar('Autoendoer_1_train_loss epoch', torch.stack(running_loss_AE1).mean().item(), i + 1)\n",
    "    # writer.add_scalar('Autoendoer_1_train_loss epoch', AE1_val_history[-1], i + 1)\n",
    "    print(f'Epoch: {i} ---> Val loss: AE1 {AE1_val_history[-1]:.5f}')\n",
    "    print(f'Train loss: AE1 {torch.stack(running_loss_AE1).mean().item():.5f}')\n",
    "    # if round(torch.stack(running_loss_AE1).mean().item(), 4) > 0.004:\n",
    "    #     continue\n",
    "    val_er = round(AE1_val_history[-1], 5)\n",
    "    train_er = round(torch.stack(running_loss_AE1).mean().item(), 5)\n",
    "    if best_val:\n",
    "        if val_er > best_val:\n",
    "            patience = patience - 1\n",
    "            if patience == 0:\n",
    "                break;\n",
    "    if best_val:\n",
    "        if best_val > val_er:\n",
    "            best_val = val_er\n",
    "            torch.save(AE1.state_dict(), model_path)\n",
    "    else:\n",
    "        best_val = val_er"
   ]
  },
  {
   "cell_type": "code",
   "execution_count": 18,
   "metadata": {},
   "outputs": [
    {
     "data": {
      "text/plain": [
       "<All keys matched successfully>"
      ]
     },
     "execution_count": 18,
     "metadata": {},
     "output_type": "execute_result"
    }
   ],
   "source": [
    "AE1.load_state_dict(torch.load(model_path))"
   ]
  },
  {
   "cell_type": "markdown",
   "metadata": {},
   "source": [
    "# Testing"
   ]
  },
  {
   "cell_type": "code",
   "execution_count": 19,
   "metadata": {},
   "outputs": [],
   "source": [
    "df_test = pd.read_csv('../../../Projects/data/WADI/WADI_attackdataLABLE.csv')\n",
    "df_test = df_test[:-2]\n",
    "df_test.columns = df_test.columns.str.strip()\n",
    "labels = df_test['Attack LABLE (1:No Attack, -1:Attack)']\n",
    "df_test = df_test.drop(columns=na_columns, inplace=False)\n",
    "df_test = df_test.drop(columns=['Attack LABLE (1:No Attack, -1:Attack)'], inplace=False)\n",
    "df_test = df_test.ffill(inplace=False)\n",
    "df_test = df_test.astype('float')\n",
    "test_normalized = pd.DataFrame(mm.fit_transform(df_test))"
   ]
  },
  {
   "cell_type": "code",
   "execution_count": 20,
   "metadata": {},
   "outputs": [],
   "source": [
    "test_dataset = SWat_dataset(test_normalized, test_normalized, window_size, device)\n",
    "test_loader = DataLoader(test_dataset, batch_size=batch_size, shuffle=False, num_workers=0)"
   ]
  },
  {
   "cell_type": "code",
   "execution_count": 21,
   "metadata": {},
   "outputs": [],
   "source": [
    "def testing(test_loader, alpha=.5, beta=.5):\n",
    "    results=[]\n",
    "    AE1.eval()\n",
    "    with torch.no_grad():\n",
    "        for batch in test_loader:\n",
    "            w1=AE1(batch)\n",
    "            results.append(torch.mean(torch.mean((batch-w1)**2, axis=1), axis=1))\n",
    "    return results"
   ]
  },
  {
   "cell_type": "code",
   "execution_count": 22,
   "metadata": {},
   "outputs": [],
   "source": [
    "labels = labels.values\n",
    "labels = [0 if (lab == 1) else 1 for lab in labels]\n",
    "windows_labels=[]\n",
    "for i in range(len(labels)-window_size):\n",
    "    windows_labels.append(list(np.int32(labels[i:i+window_size])))"
   ]
  },
  {
   "cell_type": "code",
   "execution_count": 23,
   "metadata": {},
   "outputs": [],
   "source": [
    "y_test = [1.0 if (np.sum(window) > 0) else 0 for window in windows_labels]"
   ]
  },
  {
   "cell_type": "code",
   "execution_count": 41,
   "metadata": {},
   "outputs": [],
   "source": [
    "results=testing(test_loader, alpha=0.3, beta=0.7)"
   ]
  },
  {
   "cell_type": "code",
   "execution_count": 42,
   "metadata": {},
   "outputs": [],
   "source": [
    "y_pred=np.concatenate([torch.stack(results[:-1]).flatten().detach().cpu().numpy(),\n",
    "                              results[-1].flatten().detach().cpu().numpy()])"
   ]
  },
  {
   "cell_type": "code",
   "execution_count": 43,
   "metadata": {},
   "outputs": [
    {
     "data": {
      "image/png": "[encoded data removed]",
      "text/plain": [
       "<Figure size 640x480 with 1 Axes>"
      ]
     },
     "metadata": {},
     "output_type": "display_data"
    },
    {
     "data": {
      "text/plain": [
       "array([0.00419274], dtype=float32)"
      ]
     },
     "execution_count": 43,
     "metadata": {},
     "output_type": "execute_result"
    }
   ],
   "source": [
    "threshold = ROC(y_test,y_pred)\n",
    "threshold"
   ]
  },
  {
   "cell_type": "code",
   "execution_count": 44,
   "metadata": {},
   "outputs": [
    {
     "data": {
      "text/plain": [
       "[<matplotlib.lines.Line2D at 0x722e976905f0>]"
      ]
     },
     "execution_count": 44,
     "metadata": {},
     "output_type": "execute_result"
    },
    {
     "data": {
      "image/png": "[encoded data removed]",
      "text/plain": [
       "<Figure size 640x480 with 1 Axes>"
      ]
     },
     "metadata": {},
     "output_type": "display_data"
    }
   ],
   "source": [
    "plt.plot(y_pred)"
   ]
  },
  {
   "cell_type": "code",
   "execution_count": 45,
   "metadata": {},
   "outputs": [],
   "source": [
    "def print_metrics(y_pred, y_true):\n",
    "    conf_matrix = confusion_matrix(y_true, y_pred)\n",
    "    TP = conf_matrix[1, 1]\n",
    "    TN = conf_matrix[0, 0]\n",
    "    FP = conf_matrix[0, 1]\n",
    "    FN = conf_matrix[1, 0]\n",
    "    F1 = f1_score(y_true, y_pred)\n",
    "    precision = precision_score(y_true, y_pred)\n",
    "    recall = recall_score(y_true, y_pred)\n",
    "    print(f'False positive: {FP} \\nTrue positive: {TP} \\nFalse negative: {FN} \\nTrue negative: {TN}')\n",
    "    print(f'Precision: {100 * precision} \\nRecall: {100 * recall}')\n",
    "    print(f'F1: {F1 * 100}')\n",
    "\n",
    "def print_detection_percentage(y_pred_int, y_test, anomaly_segments):\n",
    "    for index, (i, j) in enumerate(anomaly_segments):\n",
    "        cur_pred = y_pred_int[i:j]\n",
    "        cur_true = y_test[i:j]\n",
    "        print(f'Segment number {index} has {np.sum((cur_pred < cur_true).astype(int))} points undetected while total is {len(cur_pred)}')"
   ]
  },
  {
   "cell_type": "code",
   "execution_count": 46,
   "metadata": {},
   "outputs": [
    {
     "name": "stdout",
     "output_type": "stream",
     "text": [
      "best: 0.011764705882352941 F1: 0.4229483977628478\n",
      "False positive: 12230 \n",
      "True positive: 6012 \n",
      "False negative: 4175 \n",
      "True negative: 150368\n",
      "Precision: 32.95691261923035 \n",
      "Recall: 59.01639344262295\n",
      "F1: 42.29483977628478\n"
     ]
    },
    {
     "data": {
      "image/png": "[encoded data removed]",
      "text/plain": [
       "<Figure size 640x480 with 1 Axes>"
      ]
     },
     "metadata": {},
     "output_type": "display_data"
    }
   ],
   "source": [
    "ff = 0\n",
    "f_history = []\n",
    "initial_y = 0\n",
    "best = -1\n",
    "for inc in np.linspace(0, 0.4, 35):\n",
    "    y_pred_int = (y_pred > initial_y + inc).astype(int)\n",
    "    conf_matrix = confusion_matrix(y_test, y_pred_int)\n",
    "    TP = conf_matrix[1, 1]\n",
    "    TN = conf_matrix[0, 0]\n",
    "    FP = conf_matrix[0, 1]\n",
    "    FN = conf_matrix[1, 0]\n",
    "    F1 = f1_score(y_test, y_pred_int)\n",
    "    f_history.append(F1)\n",
    "\n",
    "    precision = precision_score(y_test, y_pred_int)\n",
    "    recall = recall_score(y_test, y_pred_int)\n",
    "    if F1 > ff:\n",
    "        ff = F1\n",
    "        best = inc + initial_y\n",
    "print(f'best: {best} F1: {ff}')\n",
    "plt.plot(f_history)\n",
    "y_pred_int = (y_pred > best).astype(int)\n",
    "print_metrics(y_pred_int, y_test)"
   ]
  },
  {
   "cell_type": "code",
   "execution_count": 30,
   "metadata": {},
   "outputs": [],
   "source": [
    "started = False\n",
    "anomaly_segments = []\n",
    "for i in range(len(labels)):\n",
    "    if labels[i] == 1 and not started:\n",
    "        started = True\n",
    "        left_side = i\n",
    "    if labels[i] == 0 and started:\n",
    "        started = False\n",
    "        anomaly_segments.append((left_side, i - 1))"
   ]
  },
  {
   "cell_type": "code",
   "execution_count": 31,
   "metadata": {},
   "outputs": [
    {
     "name": "stdout",
     "output_type": "stream",
     "text": [
      "11.384615384615385\n"
     ]
    }
   ],
   "source": [
    "y_pred_int = np.array((y_pred > best).astype(int))\n",
    "latency_times = []\n",
    "for index, (i, j) in enumerate(anomaly_segments):\n",
    "    current_arr = y_pred_int[i: j]\n",
    "    first_detection = np.where(current_arr == 1)[0]\n",
    "    if first_detection.shape[0] > 0:\n",
    "        latency_times.append(first_detection[0])\n",
    "print(np.mean(latency_times))"
   ]
  },
  {
   "cell_type": "code",
   "execution_count": 32,
   "metadata": {},
   "outputs": [
    {
     "name": "stdout",
     "output_type": "stream",
     "text": [
      "False positive: 12889 \n",
      "True positive: 7325 \n",
      "False negative: 2862 \n",
      "True negative: 149709\n",
      "Precision: 36.237261304046704 \n",
      "Recall: 71.90536958869147\n",
      "F1: 48.189204302490054\n"
     ]
    }
   ],
   "source": [
    "for i, j in anomaly_segments:\n",
    "    if np.sum(y_pred_int[i: j]) / (j - i) > 0.2:\n",
    "        y_pred_int[i:j + 1] = [1 for _ in range(j - i + 1)]\n",
    "print_metrics(y_pred_int, y_test)"
   ]
  },
  {
   "cell_type": "code",
   "execution_count": 33,
   "metadata": {},
   "outputs": [
    {
     "name": "stdout",
     "output_type": "stream",
     "text": [
      "False positive: 12889 \n",
      "True positive: 9881 \n",
      "False negative: 306 \n",
      "True negative: 149709\n",
      "Precision: 43.39481774264383 \n",
      "Recall: 96.99617159124374\n",
      "F1: 59.962982067542555\n"
     ]
    }
   ],
   "source": [
    "for i, j in anomaly_segments:\n",
    "    if np.sum(y_pred_int[i: j]) > 0:\n",
    "        y_pred_int[i:j + 1] = [1 for _ in range(j - i + 1)]\n",
    "print_metrics(y_pred_int, y_test)"
   ]
  },
  {
   "cell_type": "code",
   "execution_count": null,
   "metadata": {},
   "outputs": [],
   "source": []
  },
  {
   "cell_type": "markdown",
   "metadata": {},
   "source": [
    "# Point Adjust"
   ]
  },
  {
   "cell_type": "markdown",
   "metadata": {},
   "source": [
    "## One point"
   ]
  },
  {
   "cell_type": "code",
   "execution_count": 34,
   "metadata": {},
   "outputs": [
    {
     "name": "stdout",
     "output_type": "stream",
     "text": [
      "best: 0.08823529411764705 F1: 0.8331063288840461\n"
     ]
    },
    {
     "data": {
      "text/plain": [
       "[<matplotlib.lines.Line2D at 0x722e249cef60>]"
      ]
     },
     "execution_count": 34,
     "metadata": {},
     "output_type": "execute_result"
    },
    {
     "data": {
      "image/png": "[encoded data removed]",
      "text/plain": [
       "<Figure size 640x480 with 1 Axes>"
      ]
     },
     "metadata": {},
     "output_type": "display_data"
    }
   ],
   "source": [
    "ff = 0\n",
    "f_history = []\n",
    "initial_y = 0\n",
    "best = -1\n",
    "for inc in np.linspace(0, 0.5, 35):\n",
    "    y_pred_int = [1 if (yy > initial_y + inc) else 0 for yy in y_pred]\n",
    "    for i, j in anomaly_segments:\n",
    "        if np.sum(y_pred_int[i: j]) > 0:\n",
    "            y_pred_int[i:j + 1] = [1 for _ in range(j - i + 1)]\n",
    "    conf_matrix = confusion_matrix(y_test, y_pred_int)\n",
    "    TP = conf_matrix[1, 1]\n",
    "    TN = conf_matrix[0, 0]\n",
    "    FP = conf_matrix[0, 1]\n",
    "    FN = conf_matrix[1, 0]\n",
    "    F1 = f1_score(y_test, y_pred_int)\n",
    "    f_history.append(F1)\n",
    "\n",
    "    precision = precision_score(y_test, y_pred_int)\n",
    "    recall = recall_score(y_test, y_pred_int)\n",
    "    if F1 > ff:\n",
    "        ff = F1\n",
    "        best = inc + initial_y\n",
    "print(f'best: {best} F1: {ff}')\n",
    "plt.plot(f_history)"
   ]
  },
  {
   "cell_type": "code",
   "execution_count": 35,
   "metadata": {},
   "outputs": [
    {
     "name": "stdout",
     "output_type": "stream",
     "text": [
      "False positive: 2664 \n",
      "True positive: 9175 \n",
      "False negative: 1012 \n",
      "True negative: 159934\n",
      "Precision: 77.4980995016471 \n",
      "Recall: 90.06577009914596\n",
      "F1: 83.31063288840461\n"
     ]
    }
   ],
   "source": [
    "y_pred_int = (y_pred > best).astype(int)\n",
    "for i, j in anomaly_segments:\n",
    "    if np.sum(y_pred_int[i: j]) > 0:\n",
    "        y_pred_int[i:j + 1] = [1 for _ in range(j - i + 1)]\n",
    "print_metrics(y_pred_int, y_test)"
   ]
  },
  {
   "cell_type": "markdown",
   "metadata": {},
   "source": [
    "## Point adjust 20%"
   ]
  },
  {
   "cell_type": "code",
   "execution_count": 36,
   "metadata": {},
   "outputs": [
    {
     "name": "stdout",
     "output_type": "stream",
     "text": [
      "best: 0.6352941176470588 F1: 0.5669735869346059\n"
     ]
    },
    {
     "data": {
      "text/plain": [
       "[<matplotlib.lines.Line2D at 0x722e249ccd70>]"
      ]
     },
     "execution_count": 36,
     "metadata": {},
     "output_type": "execute_result"
    },
    {
     "data": {
      "image/png": "[encoded data removed]",
      "text/plain": [
       "<Figure size 640x480 with 1 Axes>"
      ]
     },
     "metadata": {},
     "output_type": "display_data"
    }
   ],
   "source": [
    "ff = 0\n",
    "f_history = []\n",
    "initial_y = 0.3\n",
    "best = -1\n",
    "for inc in np.linspace(0, 0.6, 35):\n",
    "    y_pred_int = [1 if (yy > initial_y + inc) else 0 for yy in y_pred]\n",
    "    for i, j in anomaly_segments:\n",
    "        if np.sum(y_pred_int[i: j]) / (j - i) > 0.2:\n",
    "            y_pred_int[i:j + 1] = [1 for _ in range(j - i + 1)]\n",
    "    conf_matrix = confusion_matrix(y_test, y_pred_int)\n",
    "    TP = conf_matrix[1, 1]\n",
    "    TN = conf_matrix[0, 0]\n",
    "    FP = conf_matrix[0, 1]\n",
    "    FN = conf_matrix[1, 0]\n",
    "    F1 = f1_score(y_test, y_pred_int)\n",
    "    f_history.append(F1)\n",
    "\n",
    "    precision = precision_score(y_test, y_pred_int)\n",
    "    recall = recall_score(y_test, y_pred_int)\n",
    "    if F1 > ff:\n",
    "        ff = F1\n",
    "        best = inc + initial_y\n",
    "print(f'best: {best} F1: {ff}')\n",
    "plt.plot(f_history)"
   ]
  },
  {
   "cell_type": "code",
   "execution_count": 37,
   "metadata": {},
   "outputs": [
    {
     "name": "stdout",
     "output_type": "stream",
     "text": [
      "False positive: 474 \n",
      "True positive: 4218 \n",
      "False negative: 5969 \n",
      "True negative: 162124\n",
      "Precision: 89.89769820971867 \n",
      "Recall: 41.40571316383626\n",
      "F1: 56.697358693460586\n"
     ]
    }
   ],
   "source": [
    "y_pred_int = (y_pred > best).astype(int)\n",
    "for i, j in anomaly_segments:\n",
    "    if np.sum(y_pred_int[i: j]) / (j - i) > 0.2:\n",
    "        y_pred_int[i:j + 1] = [1 for _ in range(j - i + 1)]\n",
    "print_metrics(y_pred_int, y_test)"
   ]
  },
  {
   "cell_type": "code",
   "execution_count": 38,
   "metadata": {},
   "outputs": [
    {
     "name": "stdout",
     "output_type": "stream",
     "text": [
      "Final threshold for anomaly detection: 0.0434581492117909\n",
      "Initial threshold: 0.005132521502673626\n",
      "quantile found: 0.03832562770911727\n"
     ]
    }
   ],
   "source": [
    "threshold = np.percentile(y_pred, 75)\n",
    "\n",
    "excesses = y_pred[y_pred > threshold] - threshold\n",
    "\n",
    "shape, loc, scale = stats.genpareto.fit(excesses)\n",
    "\n",
    "desired_quantile = 0.80\n",
    "quantile = stats.genpareto.ppf(desired_quantile, shape, loc=loc, scale=scale)\n",
    "\n",
    "final_threshold = threshold + quantile\n",
    "print(f\"Final threshold for anomaly detection: {final_threshold}\")\n",
    "print(f'Initial threshold: {threshold}')\n",
    "print(f'quantile found: {quantile}')\n",
    "\n",
    "predicted_labels = (y_pred > final_threshold).astype(int)"
   ]
  },
  {
   "cell_type": "code",
   "execution_count": 39,
   "metadata": {},
   "outputs": [
    {
     "ename": "ValueError",
     "evalue": "Found input variables with inconsistent numbers of samples: [172801, 172785]",
     "output_type": "error",
     "traceback": [
      "\u001b[0;31m---------------------------------------------------------------------------\u001b[0m",
      "\u001b[0;31mValueError\u001b[0m                                Traceback (most recent call last)",
      "Cell \u001b[0;32mIn[39], line 1\u001b[0m\n\u001b[0;32m----> 1\u001b[0m \u001b[38;5;28mprint\u001b[39m((classification_report(labels, predicted_labels)))\n",
      "File \u001b[0;32m~/anaconda3/envs/art2/lib/python3.12/site-packages/sklearn/utils/_param_validation.py:211\u001b[0m, in \u001b[0;36mvalidate_params.<locals>.decorator.<locals>.wrapper\u001b[0;34m(*args, **kwargs)\u001b[0m\n\u001b[1;32m    205\u001b[0m \u001b[38;5;28;01mtry\u001b[39;00m:\n\u001b[1;32m    206\u001b[0m     \u001b[38;5;28;01mwith\u001b[39;00m config_context(\n\u001b[1;32m    207\u001b[0m         skip_parameter_validation\u001b[38;5;241m=\u001b[39m(\n\u001b[1;32m    208\u001b[0m             prefer_skip_nested_validation \u001b[38;5;129;01mor\u001b[39;00m global_skip_validation\n\u001b[1;32m    209\u001b[0m         )\n\u001b[1;32m    210\u001b[0m     ):\n\u001b[0;32m--> 211\u001b[0m         \u001b[38;5;28;01mreturn\u001b[39;00m func(\u001b[38;5;241m*\u001b[39margs, \u001b[38;5;241m*\u001b[39m\u001b[38;5;241m*\u001b[39mkwargs)\n\u001b[1;32m    212\u001b[0m \u001b[38;5;28;01mexcept\u001b[39;00m InvalidParameterError \u001b[38;5;28;01mas\u001b[39;00m e:\n\u001b[1;32m    213\u001b[0m     \u001b[38;5;66;03m# When the function is just a wrapper around an estimator, we allow\u001b[39;00m\n\u001b[1;32m    214\u001b[0m     \u001b[38;5;66;03m# the function to delegate validation to the estimator, but we replace\u001b[39;00m\n\u001b[1;32m    215\u001b[0m     \u001b[38;5;66;03m# the name of the estimator by the name of the function in the error\u001b[39;00m\n\u001b[1;32m    216\u001b[0m     \u001b[38;5;66;03m# message to avoid confusion.\u001b[39;00m\n\u001b[1;32m    217\u001b[0m     msg \u001b[38;5;241m=\u001b[39m re\u001b[38;5;241m.\u001b[39msub(\n\u001b[1;32m    218\u001b[0m         \u001b[38;5;124mr\u001b[39m\u001b[38;5;124m\"\u001b[39m\u001b[38;5;124mparameter of \u001b[39m\u001b[38;5;124m\\\u001b[39m\u001b[38;5;124mw+ must be\u001b[39m\u001b[38;5;124m\"\u001b[39m,\n\u001b[1;32m    219\u001b[0m         \u001b[38;5;124mf\u001b[39m\u001b[38;5;124m\"\u001b[39m\u001b[38;5;124mparameter of \u001b[39m\u001b[38;5;132;01m{\u001b[39;00mfunc\u001b[38;5;241m.\u001b[39m\u001b[38;5;18m__qualname__\u001b[39m\u001b[38;5;132;01m}\u001b[39;00m\u001b[38;5;124m must be\u001b[39m\u001b[38;5;124m\"\u001b[39m,\n\u001b[1;32m    220\u001b[0m         \u001b[38;5;28mstr\u001b[39m(e),\n\u001b[1;32m    221\u001b[0m     )\n",
      "File \u001b[0;32m~/anaconda3/envs/art2/lib/python3.12/site-packages/sklearn/metrics/_classification.py:2539\u001b[0m, in \u001b[0;36mclassification_report\u001b[0;34m(y_true, y_pred, labels, target_names, sample_weight, digits, output_dict, zero_division)\u001b[0m\n\u001b[1;32m   2405\u001b[0m \u001b[38;5;129m@validate_params\u001b[39m(\n\u001b[1;32m   2406\u001b[0m     {\n\u001b[1;32m   2407\u001b[0m         \u001b[38;5;124m\"\u001b[39m\u001b[38;5;124my_true\u001b[39m\u001b[38;5;124m\"\u001b[39m: [\u001b[38;5;124m\"\u001b[39m\u001b[38;5;124marray-like\u001b[39m\u001b[38;5;124m\"\u001b[39m, \u001b[38;5;124m\"\u001b[39m\u001b[38;5;124msparse matrix\u001b[39m\u001b[38;5;124m\"\u001b[39m],\n\u001b[0;32m   (...)\u001b[0m\n\u001b[1;32m   2430\u001b[0m     zero_division\u001b[38;5;241m=\u001b[39m\u001b[38;5;124m\"\u001b[39m\u001b[38;5;124mwarn\u001b[39m\u001b[38;5;124m\"\u001b[39m,\n\u001b[1;32m   2431\u001b[0m ):\n\u001b[1;32m   2432\u001b[0m \u001b[38;5;250m    \u001b[39m\u001b[38;5;124;03m\"\"\"Build a text report showing the main classification metrics.\u001b[39;00m\n\u001b[1;32m   2433\u001b[0m \n\u001b[1;32m   2434\u001b[0m \u001b[38;5;124;03m    Read more in the :ref:`User Guide <classification_report>`.\u001b[39;00m\n\u001b[0;32m   (...)\u001b[0m\n\u001b[1;32m   2536\u001b[0m \u001b[38;5;124;03m    <BLANKLINE>\u001b[39;00m\n\u001b[1;32m   2537\u001b[0m \u001b[38;5;124;03m    \"\"\"\u001b[39;00m\n\u001b[0;32m-> 2539\u001b[0m     y_type, y_true, y_pred \u001b[38;5;241m=\u001b[39m _check_targets(y_true, y_pred)\n\u001b[1;32m   2541\u001b[0m     \u001b[38;5;28;01mif\u001b[39;00m labels \u001b[38;5;129;01mis\u001b[39;00m \u001b[38;5;28;01mNone\u001b[39;00m:\n\u001b[1;32m   2542\u001b[0m         labels \u001b[38;5;241m=\u001b[39m unique_labels(y_true, y_pred)\n",
      "File \u001b[0;32m~/anaconda3/envs/art2/lib/python3.12/site-packages/sklearn/metrics/_classification.py:84\u001b[0m, in \u001b[0;36m_check_targets\u001b[0;34m(y_true, y_pred)\u001b[0m\n\u001b[1;32m     57\u001b[0m \u001b[38;5;28;01mdef\u001b[39;00m \u001b[38;5;21m_check_targets\u001b[39m(y_true, y_pred):\n\u001b[1;32m     58\u001b[0m \u001b[38;5;250m    \u001b[39m\u001b[38;5;124;03m\"\"\"Check that y_true and y_pred belong to the same classification task.\u001b[39;00m\n\u001b[1;32m     59\u001b[0m \n\u001b[1;32m     60\u001b[0m \u001b[38;5;124;03m    This converts multiclass or binary types to a common shape, and raises a\u001b[39;00m\n\u001b[0;32m   (...)\u001b[0m\n\u001b[1;32m     82\u001b[0m \u001b[38;5;124;03m    y_pred : array or indicator matrix\u001b[39;00m\n\u001b[1;32m     83\u001b[0m \u001b[38;5;124;03m    \"\"\"\u001b[39;00m\n\u001b[0;32m---> 84\u001b[0m     check_consistent_length(y_true, y_pred)\n\u001b[1;32m     85\u001b[0m     type_true \u001b[38;5;241m=\u001b[39m type_of_target(y_true, input_name\u001b[38;5;241m=\u001b[39m\u001b[38;5;124m\"\u001b[39m\u001b[38;5;124my_true\u001b[39m\u001b[38;5;124m\"\u001b[39m)\n\u001b[1;32m     86\u001b[0m     type_pred \u001b[38;5;241m=\u001b[39m type_of_target(y_pred, input_name\u001b[38;5;241m=\u001b[39m\u001b[38;5;124m\"\u001b[39m\u001b[38;5;124my_pred\u001b[39m\u001b[38;5;124m\"\u001b[39m)\n",
      "File \u001b[0;32m~/anaconda3/envs/art2/lib/python3.12/site-packages/sklearn/utils/validation.py:409\u001b[0m, in \u001b[0;36mcheck_consistent_length\u001b[0;34m(*arrays)\u001b[0m\n\u001b[1;32m    407\u001b[0m uniques \u001b[38;5;241m=\u001b[39m np\u001b[38;5;241m.\u001b[39munique(lengths)\n\u001b[1;32m    408\u001b[0m \u001b[38;5;28;01mif\u001b[39;00m \u001b[38;5;28mlen\u001b[39m(uniques) \u001b[38;5;241m>\u001b[39m \u001b[38;5;241m1\u001b[39m:\n\u001b[0;32m--> 409\u001b[0m     \u001b[38;5;28;01mraise\u001b[39;00m \u001b[38;5;167;01mValueError\u001b[39;00m(\n\u001b[1;32m    410\u001b[0m         \u001b[38;5;124m\"\u001b[39m\u001b[38;5;124mFound input variables with inconsistent numbers of samples: \u001b[39m\u001b[38;5;132;01m%r\u001b[39;00m\u001b[38;5;124m\"\u001b[39m\n\u001b[1;32m    411\u001b[0m         \u001b[38;5;241m%\u001b[39m [\u001b[38;5;28mint\u001b[39m(l) \u001b[38;5;28;01mfor\u001b[39;00m l \u001b[38;5;129;01min\u001b[39;00m lengths]\n\u001b[1;32m    412\u001b[0m     )\n",
      "\u001b[0;31mValueError\u001b[0m: Found input variables with inconsistent numbers of samples: [172801, 172785]"
     ]
    }
   ],
   "source": [
    "print((classification_report(labels, predicted_labels)))"
   ]
  },
  {
   "cell_type": "code",
   "execution_count": null,
   "metadata": {},
   "outputs": [],
   "source": [
    "f1_score(labels, predicted_labels)"
   ]
  },
  {
   "cell_type": "code",
   "execution_count": null,
   "metadata": {},
   "outputs": [],
   "source": [
    "# torch.save(AE1.state_dict(), 'GAE_77_Directed_200_epochs.pth')"
   ]
  },
  {
   "cell_type": "code",
   "execution_count": null,
   "metadata": {},
   "outputs": [],
   "source": [
    "# AE1.load_state_dict(torch.load('GAE_77_Directed_200_epochs.pth'))"
   ]
  },
  {
   "cell_type": "code",
   "execution_count": null,
   "metadata": {},
   "outputs": [],
   "source": [
    "# def testing(loader, alpha=.5, beta=.5):\n",
    "#     results=[]\n",
    "#     with torch.no_grad():\n",
    "#         for batch in loader:\n",
    "#             w1=AE1(batch)\n",
    "#             results.append(torch.mean((batch-w1)**2, axis=1))\n",
    "#     return results\n",
    "\n",
    "# def get_threshold(val_loader):\n",
    "#     recon_errors = testing(val_loader)\n",
    "#     complete_vals = np.concatenate([torch.stack(recon_errors[:-1]).view(-1, num_nodes).detach().cpu().numpy(),\n",
    "#                                     recon_errors[-1].view(-1, num_nodes).detach().cpu().numpy()])\n",
    "#     return np.max(complete_vals, axis=0)"
   ]
  },
  {
   "cell_type": "code",
   "execution_count": null,
   "metadata": {},
   "outputs": [],
   "source": [
    "# thresholds = get_threshold(validation_loader)\n",
    "# results=testing(test_loader, alpha=0.3, beta=0.7)\n",
    "# y_pred=np.concatenate([torch.stack(results[:-1]).view(-1, num_nodes).detach().cpu().numpy(), \n",
    "#                        results[-1].view(-1, num_nodes).detach().cpu().numpy()])"
   ]
  },
  {
   "cell_type": "code",
   "execution_count": null,
   "metadata": {},
   "outputs": [],
   "source": [
    "# factor = 1"
   ]
  },
  {
   "cell_type": "code",
   "execution_count": null,
   "metadata": {},
   "outputs": [],
   "source": [
    "# factor = 720\n",
    "# res = y_pred > (thresholds * factor)\n",
    "# boo = np.any(res, axis = 1)\n",
    "# verdicts = [1 if elem else 0 for elem in boo]\n",
    "# conf_matrix = confusion_matrix(y_test, verdicts)\n",
    "# TP = conf_matrix[1, 1]\n",
    "# TN = conf_matrix[0, 0]\n",
    "# FP = conf_matrix[0, 1]\n",
    "# FN = conf_matrix[1, 0]\n",
    "# F1 = f1_score(y_test, verdicts)\n",
    "# precision = precision_score(y_test, verdicts)\n",
    "# recall = recall_score(y_test, verdicts)\n",
    "# print(\"Precision:\", precision)\n",
    "# print(\"Recall:\", recall)\n",
    "# print(\"F1 Score:\", F1)\n",
    "# print(f'TP: {TP}\\nTN: {TN}\\nFP: {FP}\\nFN: {FN}')\n",
    "# print(f'Factor is: {factor}')"
   ]
  },
  {
   "cell_type": "code",
   "execution_count": null,
   "metadata": {},
   "outputs": [],
   "source": [
    "sum(p.numel() for p in AE1.parameters() if p.requires_grad)"
   ]
  }
 ],
 "metadata": {
  "kernelspec": {
   "display_name": "NIS2",
   "language": "python",
   "name": "art2"
  },
  "language_info": {
   "codemirror_mode": {
    "name": "ipython",
    "version": 3
   },
   "file_extension": ".py",
   "mimetype": "text/x-python",
   "name": "python",
   "nbconvert_exporter": "python",
   "pygments_lexer": "ipython3",
   "version": "3.12.2"
  }
 },
 "nbformat": 4,
 "nbformat_minor": 4
}
