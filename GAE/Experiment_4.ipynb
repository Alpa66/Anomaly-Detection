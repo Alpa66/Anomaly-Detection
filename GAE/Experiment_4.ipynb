{
 "cells": [
  {
   "cell_type": "markdown",
   "metadata": {},
   "source": [
    "# Experiment 4\n",
    "In this experiment, the adversarial learning technique is dropped altogether, a single Graph-based auto-encoder is used, using anothoer implementation of the Graph autoencoder"
   ]
  },
  {
   "cell_type": "code",
   "execution_count": 1,
   "metadata": {},
   "outputs": [],
   "source": [
    "import numpy as np\n",
    "import pandas as pd\n",
    "import torch\n",
    "import torch.nn as nn\n",
    "import matplotlib.pyplot as plt\n",
    "import torch.nn.functional as F\n",
    "import random\n",
    "\n",
    "from torch_geometric.nn import GAE\n",
    "from torch.utils.data import Dataset, DataLoader\n",
    "from sklearn.preprocessing import StandardScaler\n",
    "\n",
    "from sklearn.metrics import confusion_matrix, f1_score, roc_curve, roc_auc_score, precision_score, recall_score"
   ]
  },
  {
   "cell_type": "code",
   "execution_count": 2,
   "metadata": {},
   "outputs": [],
   "source": [
    "def set_seed(seed):\n",
    "    torch.manual_seed(seed)\n",
    "    torch.cuda.manual_seed_all(seed)\n",
    "    np.random.seed(seed)\n",
    "    random.seed(seed)\n",
    "    torch.backends.cudnn.deterministic = True\n",
    "    torch.backends.cudnn.benchmark = False"
   ]
  },
  {
   "cell_type": "code",
   "execution_count": 3,
   "metadata": {},
   "outputs": [],
   "source": [
    "set_seed(11884)"
   ]
  },
  {
   "cell_type": "markdown",
   "metadata": {},
   "source": [
    "### Dataset:"
   ]
  },
  {
   "cell_type": "code",
   "execution_count": 4,
   "metadata": {},
   "outputs": [],
   "source": [
    "df = pd.read_csv('../../../Projects/data/SWaT_Dataset_Normal_v1.csv')\n",
    "df = df.drop(columns=[' Timestamp', 'Normal/Attack'])\n",
    "df = df.astype('float64')\n",
    "mm = StandardScaler()\n",
    "Normalized = pd.DataFrame(mm.fit_transform(df))\n",
    "train_set = Normalized[: int(0.8 * Normalized.shape[0])]\n",
    "validation_set = Normalized[int(0.8 * Normalized.shape[0]):]"
   ]
  },
  {
   "cell_type": "code",
   "execution_count": 5,
   "metadata": {},
   "outputs": [
    {
     "data": {
      "text/plain": [
       "device(type='cuda')"
      ]
     },
     "execution_count": 5,
     "metadata": {},
     "output_type": "execute_result"
    }
   ],
   "source": [
    "device = torch.device('cuda' if torch.cuda.is_available() else 'cpu')\n",
    "device"
   ]
  },
  {
   "cell_type": "code",
   "execution_count": 6,
   "metadata": {},
   "outputs": [],
   "source": [
    "class SWat_dataset(Dataset):\n",
    "    def __init__(self, dataframe: pd.DataFrame, target: pd.DataFrame,  window_size):\n",
    "        self.data = dataframe\n",
    "        self.window_size = window_size\n",
    "\n",
    "    def __len__(self):\n",
    "        return len(self.data) - self.window_size\n",
    "\n",
    "    def __getitem__(self, idx):\n",
    "        window = self.data[idx: idx + self.window_size]\n",
    "        features = torch.tensor(window.iloc[:,:].values).float().to(device)\n",
    "        return features"
   ]
  },
  {
   "cell_type": "markdown",
   "metadata": {},
   "source": [
    "### Dataloader:"
   ]
  },
  {
   "cell_type": "code",
   "execution_count": 7,
   "metadata": {},
   "outputs": [],
   "source": [
    "window_size = 100\n",
    "epochs = 20\n",
    "train_dataset = SWat_dataset(train_set, train_set, window_size)\n",
    "validation_dataset = SWat_dataset(validation_set, validation_set, window_size)\n",
    "\n",
    "batch_size = 4096\n",
    "train_loader = DataLoader(train_dataset, batch_size=batch_size, shuffle=True, num_workers=0)\n",
    "validation_loader = DataLoader(validation_dataset, batch_size=batch_size, shuffle=True, num_workers=0)"
   ]
  },
  {
   "cell_type": "markdown",
   "metadata": {},
   "source": [
    "### Model:"
   ]
  },
  {
   "cell_type": "code",
   "execution_count": 8,
   "metadata": {},
   "outputs": [],
   "source": [
    "class GCNLayer(nn.Module):\n",
    "    def __init__(self, in_dim, out_dim):\n",
    "        super().__init__()\n",
    "        self.dense = nn.Linear(in_dim, out_dim)\n",
    "\n",
    "    def forward(self, adj, X):\n",
    "        adj = adj + torch.eye(adj.size(0)).to(adj.device)\n",
    "        h = self.dense(X)\n",
    "        norm = adj.sum(1)**(-1/2)\n",
    "        h = norm[None, :] * adj * norm[:, None] @ h\n",
    "        return h\n",
    "    \n",
    "    \n",
    "# A = ReLu(W)    \n",
    "class Graph_ReLu_W(nn.Module):\n",
    "    def __init__(self, num_nodes, k, device):\n",
    "        super(Graph_ReLu_W, self).__init__()\n",
    "        self.num_nodes = num_nodes\n",
    "        self.k = k\n",
    "        self.device = device\n",
    "        self.A = nn.Parameter(torch.randn(num_nodes, num_nodes).to(device), requires_grad=True).to(device)\n",
    "\n",
    "    def forward(self, idx):\n",
    "        \n",
    "        adj = F.relu(self.A)\n",
    "        \n",
    "        if self.k:\n",
    "            mask = torch.zeros(idx.size(0), idx.size(0)).to(self.device)\n",
    "            mask.fill_(float('0'))\n",
    "            s1,t1 = (adj + torch.rand_like(adj)*0.01).topk(self.k,1)\n",
    "            mask.scatter_(1,t1,s1.fill_(1))\n",
    "            adj = adj*mask\n",
    "            \n",
    "        return adj\n",
    "\n",
    "# A for Directed graphs:\n",
    "class Graph_Directed_A(nn.Module):\n",
    "      \n",
    "    def __init__(self, num_nodes, window_size, alpha, k, device):\n",
    "        super(Graph_Directed_A, self).__init__()\n",
    "        \n",
    "        self.alpha = alpha\n",
    "        self.k = k\n",
    "        self.device = device\n",
    "        \n",
    "        self.e1 = nn.Embedding(num_nodes, window_size)\n",
    "        self.e2 = nn.Embedding(num_nodes, window_size)\n",
    "        self.l1 = nn.Linear(window_size,window_size)\n",
    "        self.l2 = nn.Linear(window_size,window_size)\n",
    "        \n",
    "    def forward(self, idx):\n",
    "        \n",
    "        m1 = torch.tanh(self.alpha*self.l1(self.e1(idx)))\n",
    "        m2 = torch.tanh(self.alpha*self.l2(self.e2(idx)))\n",
    "        adj = F.relu(torch.tanh(self.alpha*torch.mm(m1, m2.transpose(1,0))))\n",
    "        \n",
    "        if self.k:\n",
    "            mask = torch.zeros(idx.size(0), idx.size(0)).to(self.device)\n",
    "            mask.fill_(float('0'))\n",
    "            s1,t1 = (adj + torch.rand_like(adj)*0.01).topk(self.k,1)\n",
    "            mask.scatter_(1,t1,s1.fill_(1))\n",
    "            adj = adj*mask\n",
    "        \n",
    "        return adj"
   ]
  },
  {
   "cell_type": "code",
   "execution_count": 9,
   "metadata": {},
   "outputs": [],
   "source": [
    "class GCNEncoder(nn.Module):\n",
    "    def __init__(self, num_nodes, window_size, alpha, k, device):\n",
    "        super(GCNEncoder, self).__init__()\n",
    "        self.conv1 = GCNLayer(window_size, window_size // 2)\n",
    "        self.conv2 = GCNLayer(window_size // 2, window_size)\n",
    "        self.idx = torch.arange(num_nodes).to(device)\n",
    "        self.A = Graph_ReLu_W(num_nodes, k, device)\n",
    "        \n",
    "    def forward(self, X):\n",
    "        adj = self.A(self.idx)\n",
    "        h = self.conv1(adj, X).relu()\n",
    "        return self.conv2(adj, h)"
   ]
  },
  {
   "cell_type": "code",
   "execution_count": 10,
   "metadata": {},
   "outputs": [],
   "source": [
    "num_nodes = 51 # number of nodes\n",
    "alpha = 0.1 # hyperparameter for weights of edges\n",
    "k = None # max number of edges for each node"
   ]
  },
  {
   "cell_type": "code",
   "execution_count": 11,
   "metadata": {},
   "outputs": [],
   "source": [
    "AE1 = GAE(GCNEncoder(num_nodes, window_size, alpha, k, device))"
   ]
  },
  {
   "cell_type": "code",
   "execution_count": 12,
   "metadata": {},
   "outputs": [
    {
     "data": {
      "text/plain": [
       "GAE(\n",
       "  (encoder): GCNEncoder(\n",
       "    (conv1): GCNLayer(\n",
       "      (dense): Linear(in_features=100, out_features=50, bias=True)\n",
       "    )\n",
       "    (conv2): GCNLayer(\n",
       "      (dense): Linear(in_features=50, out_features=100, bias=True)\n",
       "    )\n",
       "    (A): Graph_ReLu_W()\n",
       "  )\n",
       "  (decoder): InnerProductDecoder()\n",
       ")"
      ]
     },
     "execution_count": 12,
     "metadata": {},
     "output_type": "execute_result"
    }
   ],
   "source": [
    "AE1.to(device)"
   ]
  },
  {
   "cell_type": "code",
   "execution_count": 13,
   "metadata": {},
   "outputs": [],
   "source": [
    "optimizer1 = torch.optim.Adam(AE1.parameters())"
   ]
  },
  {
   "cell_type": "code",
   "execution_count": 14,
   "metadata": {},
   "outputs": [],
   "source": [
    "# from torch.utils.tensorboard import SummaryWriter"
   ]
  },
  {
   "cell_type": "code",
   "execution_count": 15,
   "metadata": {},
   "outputs": [
    {
     "name": "stdout",
     "output_type": "stream",
     "text": [
      "Epoch: 0 ---> Val loss: AE1 0.3960\n",
      "Train loss: AE1 0.7824\n",
      "Epoch: 1 ---> Val loss: AE1 0.3784\n",
      "Train loss: AE1 0.7279\n",
      "Epoch: 2 ---> Val loss: AE1 0.3563\n",
      "Train loss: AE1 0.6677\n",
      "Epoch: 3 ---> Val loss: AE1 0.3246\n",
      "Train loss: AE1 0.5785\n",
      "Epoch: 4 ---> Val loss: AE1 0.2986\n",
      "Train loss: AE1 0.4900\n",
      "Epoch: 5 ---> Val loss: AE1 0.2737\n",
      "Train loss: AE1 0.4287\n",
      "Epoch: 6 ---> Val loss: AE1 0.2513\n",
      "Train loss: AE1 0.3804\n",
      "Epoch: 7 ---> Val loss: AE1 0.2315\n",
      "Train loss: AE1 0.3415\n",
      "Epoch: 8 ---> Val loss: AE1 0.2172\n",
      "Train loss: AE1 0.3098\n",
      "Epoch: 9 ---> Val loss: AE1 0.2010\n",
      "Train loss: AE1 0.2846\n",
      "Epoch: 10 ---> Val loss: AE1 0.1911\n",
      "Train loss: AE1 0.2637\n",
      "Epoch: 11 ---> Val loss: AE1 0.1778\n",
      "Train loss: AE1 0.2450\n",
      "Epoch: 12 ---> Val loss: AE1 0.1710\n",
      "Train loss: AE1 0.2282\n",
      "Epoch: 13 ---> Val loss: AE1 0.1587\n",
      "Train loss: AE1 0.2133\n",
      "Epoch: 14 ---> Val loss: AE1 0.1512\n",
      "Train loss: AE1 0.2001\n",
      "Epoch: 15 ---> Val loss: AE1 0.1416\n",
      "Train loss: AE1 0.1891\n",
      "Epoch: 16 ---> Val loss: AE1 0.1366\n",
      "Train loss: AE1 0.1789\n",
      "Epoch: 17 ---> Val loss: AE1 0.1298\n",
      "Train loss: AE1 0.1701\n",
      "Epoch: 18 ---> Val loss: AE1 0.1239\n",
      "Train loss: AE1 0.1623\n",
      "Epoch: 19 ---> Val loss: AE1 0.1172\n",
      "Train loss: AE1 0.1550\n",
      "Epoch: 20 ---> Val loss: AE1 0.1143\n",
      "Train loss: AE1 0.1489\n",
      "Epoch: 21 ---> Val loss: AE1 0.1103\n",
      "Train loss: AE1 0.1437\n",
      "Epoch: 22 ---> Val loss: AE1 0.1075\n",
      "Train loss: AE1 0.1389\n",
      "Epoch: 23 ---> Val loss: AE1 0.1040\n",
      "Train loss: AE1 0.1347\n",
      "Epoch: 24 ---> Val loss: AE1 0.1008\n",
      "Train loss: AE1 0.1307\n"
     ]
    }
   ],
   "source": [
    "# writer = SummaryWriter('runs/GAE_' + f'{epochs}_epochs' + 'only autoencoder')\n",
    "AE1_val_history = []\n",
    "for i in range(25):\n",
    "    running_loss_AE1 = []\n",
    "    val_loss_AE1 = []\n",
    "    AE1.train()\n",
    "    for features in train_loader:\n",
    "        features = torch.transpose(features, 1, 2)\n",
    "        \n",
    "        w1 = AE1(features)\n",
    "        lossAE1 = torch.mean((features - w1) ** 2)\n",
    "        \n",
    "        running_loss_AE1.append(lossAE1)\n",
    "        lossAE1.backward()\n",
    "        optimizer1.step()\n",
    "        optimizer1.zero_grad()\n",
    "\n",
    "    AE1.eval()\n",
    "    for features in validation_loader:\n",
    "        with torch.no_grad():\n",
    "            features = torch.transpose(features, 1, 2)\n",
    "        \n",
    "            w1 = AE1(features)\n",
    "            lossAE1 = torch.mean((features - w1) ** 2)\n",
    "            val_loss_AE1.append(lossAE1)\n",
    "    AE1_val_history.append(torch.stack(val_loss_AE1).mean().item())\n",
    "    # writer.add_scalar('Autoendoer_1_train_loss epoch', torch.stack(running_loss_AE1).mean().item(), i + 1)\n",
    "    # writer.add_scalar('Autoendoer_1_train_loss epoch', AE1_val_history[-1], i + 1)\n",
    "    print(f'Epoch: {i} ---> Val loss: AE1 {AE1_val_history[-1]:.4f}')\n",
    "    print(f'Train loss: AE1 {torch.stack(running_loss_AE1).mean().item():.4f}')"
   ]
  },
  {
   "cell_type": "markdown",
   "metadata": {},
   "source": [
    "# Testing"
   ]
  },
  {
   "cell_type": "code",
   "execution_count": 27,
   "metadata": {},
   "outputs": [],
   "source": [
    "df2 = pd.read_csv('../../../Projects/data/SWaT_Dataset_Attack_v0.csv')\n",
    "labels = df2['Normal/Attack']\n",
    "df2 = df2.drop(columns=[' Timestamp', 'Normal/Attack'])\n",
    "df2 = df2.astype('float64')\n",
    "df2.columns = df.columns\n",
    "test_normalized = pd.DataFrame(mm.transform(df2))"
   ]
  },
  {
   "cell_type": "code",
   "execution_count": 17,
   "metadata": {},
   "outputs": [],
   "source": [
    "test_dataset = SWat_dataset(test_normalized, test_normalized, window_size)\n",
    "test_loader = DataLoader(test_dataset, batch_size=batch_size, shuffle=False, num_workers=0)"
   ]
  },
  {
   "cell_type": "code",
   "execution_count": 18,
   "metadata": {},
   "outputs": [],
   "source": [
    "def testing(test_loader, alpha=.5, beta=.5):\n",
    "    results=[]\n",
    "    AE1.eval()\n",
    "    with torch.no_grad():\n",
    "        for batch in test_loader:\n",
    "            batch = torch.transpose(batch, 1, 2)\n",
    "            w1=AE1(batch)\n",
    "            results.append(torch.mean(torch.mean((batch-w1)**2, axis=2), axis=1))\n",
    "    return results"
   ]
  },
  {
   "cell_type": "code",
   "execution_count": 19,
   "metadata": {},
   "outputs": [],
   "source": [
    "labels = labels.values\n",
    "labels = [0 if (lab == 'Normal') else 1 for lab in labels]\n",
    "windows_labels=[]\n",
    "for i in range(len(labels)-window_size):\n",
    "    windows_labels.append(list(np.int32(labels[i:i+window_size])))"
   ]
  },
  {
   "cell_type": "code",
   "execution_count": 20,
   "metadata": {},
   "outputs": [],
   "source": [
    "y_test = [1.0 if (np.sum(window) > 0) else 0 for window in windows_labels]"
   ]
  },
  {
   "cell_type": "code",
   "execution_count": 21,
   "metadata": {},
   "outputs": [],
   "source": [
    "results=testing(test_loader)"
   ]
  },
  {
   "cell_type": "code",
   "execution_count": 22,
   "metadata": {},
   "outputs": [],
   "source": [
    "y_pred=np.concatenate([torch.stack(results[:-1]).flatten().detach().cpu().numpy(),\n",
    "                       results[-1].flatten().detach().cpu().numpy()])"
   ]
  },
  {
   "cell_type": "code",
   "execution_count": 23,
   "metadata": {},
   "outputs": [],
   "source": [
    "def ROC(y_test,y_pred):\n",
    "    fpr,tpr,tr=roc_curve(y_test,y_pred)\n",
    "    auc=roc_auc_score(y_test,y_pred)\n",
    "    idx=np.argwhere(np.diff(np.sign(tpr-(1-fpr)))).flatten()\n",
    "\n",
    "    plt.xlabel(\"FPR\")\n",
    "    plt.ylabel(\"TPR\")\n",
    "    plt.plot(fpr,tpr,label=\"AUC=\"+str(auc))\n",
    "    plt.plot(fpr,1-fpr,'r:')\n",
    "    plt.plot(fpr[idx],tpr[idx], 'ro')\n",
    "    plt.legend(loc=4)\n",
    "    plt.grid()\n",
    "    plt.show()\n",
    "    return tr[idx]"
   ]
  },
  {
   "cell_type": "code",
   "execution_count": 24,
   "metadata": {},
   "outputs": [
    {
     "data": {
      "image/png": "[encoded data removed]",
      "text/plain": [
       "<Figure size 640x480 with 1 Axes>"
      ]
     },
     "metadata": {},
     "output_type": "display_data"
    },
    {
     "data": {
      "text/plain": [
       "array([3.9826255], dtype=float32)"
      ]
     },
     "execution_count": 24,
     "metadata": {},
     "output_type": "execute_result"
    }
   ],
   "source": [
    "threshold = ROC(y_test,y_pred)\n",
    "threshold"
   ]
  },
  {
   "cell_type": "code",
   "execution_count": 25,
   "metadata": {},
   "outputs": [
    {
     "name": "stdout",
     "output_type": "stream",
     "text": [
      "best: 6.0 F1: 0.7473561522257509\n"
     ]
    },
    {
     "data": {
      "text/plain": [
       "[<matplotlib.lines.Line2D at 0x7b8e639df5f0>]"
      ]
     },
     "execution_count": 25,
     "metadata": {},
     "output_type": "execute_result"
    },
    {
     "data": {
      "image/png": "[encoded data removed]",
      "text/plain": [
       "<Figure size 640x480 with 1 Axes>"
      ]
     },
     "metadata": {},
     "output_type": "display_data"
    }
   ],
   "source": [
    "ff = 0\n",
    "f_history = []\n",
    "initial_y = 3\n",
    "best = -1\n",
    "for inc in np.linspace(0, 3, 30):\n",
    "    y_pred_int = [1 if (yy > initial_y + inc) else 0 for yy in y_pred]\n",
    "    conf_matrix = confusion_matrix(y_test, y_pred_int)\n",
    "    TP = conf_matrix[1, 1]\n",
    "    TN = conf_matrix[0, 0]\n",
    "    FP = conf_matrix[0, 1]\n",
    "    FN = conf_matrix[1, 0]\n",
    "    F1 = f1_score(y_test, y_pred_int)\n",
    "    f_history.append(F1)\n",
    "\n",
    "    precision = precision_score(y_test, y_pred_int)\n",
    "    recall = recall_score(y_test, y_pred_int)\n",
    "    if F1 > ff:\n",
    "        ff = F1\n",
    "        best = inc\n",
    "print(f'best: {best + initial_y} F1: {ff}')\n",
    "plt.plot(f_history)"
   ]
  },
  {
   "cell_type": "code",
   "execution_count": 26,
   "metadata": {},
   "outputs": [
    {
     "name": "stdout",
     "output_type": "stream",
     "text": [
      "Precision: 0.158143791569868\n",
      "Recall: 0.8907796282886797\n",
      "F1 Score: 0.2686016256358669\n",
      "TP: 51667\n",
      "TN: 116775\n",
      "FP: 275042\n",
      "FN: 6335\n"
     ]
    }
   ],
   "source": [
    "y_pred_int = [1 if (yy > 0.46938775510204084) else 0 for yy in y_pred]\n",
    "conf_matrix = confusion_matrix(y_test, y_pred_int)\n",
    "TP = conf_matrix[1, 1]\n",
    "TN = conf_matrix[0, 0]\n",
    "FP = conf_matrix[0, 1]\n",
    "FN = conf_matrix[1, 0]\n",
    "F1 = f1_score(y_test, y_pred_int)\n",
    "\n",
    "precision = precision_score(y_test, y_pred_int)\n",
    "recall = recall_score(y_test, y_pred_int)\n",
    "print(\"Precision:\", precision)\n",
    "print(\"Recall:\", recall)\n",
    "print(\"F1 Score:\", F1)\n",
    "print(f'TP: {TP}\\nTN: {TN}\\nFP: {FP}\\nFN: {FN}')"
   ]
  },
  {
   "cell_type": "code",
   "execution_count": null,
   "metadata": {},
   "outputs": [],
   "source": []
  },
  {
   "cell_type": "code",
   "execution_count": null,
   "metadata": {},
   "outputs": [],
   "source": []
  },
  {
   "cell_type": "code",
   "execution_count": null,
   "metadata": {},
   "outputs": [],
   "source": []
  }
 ],
 "metadata": {
  "kernelspec": {
   "display_name": "NIS2",
   "language": "python",
   "name": "art2"
  },
  "language_info": {
   "codemirror_mode": {
    "name": "ipython",
    "version": 3
   },
   "file_extension": ".py",
   "mimetype": "text/x-python",
   "name": "python",
   "nbconvert_exporter": "python",
   "pygments_lexer": "ipython3",
   "version": "3.12.2"
  }
 },
 "nbformat": 4,
 "nbformat_minor": 4
}
