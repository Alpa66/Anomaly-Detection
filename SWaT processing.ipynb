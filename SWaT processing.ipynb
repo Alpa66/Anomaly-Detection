{
 "cells": [
  {
   "cell_type": "markdown",
   "id": "9f6c384a",
   "metadata": {},
   "source": [
    "# USAD\n",
    "## Importing packages"
   ]
  },
  {
   "cell_type": "code",
   "execution_count": 1,
   "id": "06186c5f",
   "metadata": {},
   "outputs": [],
   "source": [
    "import pandas as pd\n",
    "import numpy as np\n",
    "import torch\n",
    "import torch.nn as nn\n",
    "import matplotlib.pyplot as plt\n",
    "from tqdm.auto import tqdm\n",
    "from torch.utils.data import Dataset, DataLoader\n",
    "from sklearn.preprocessing import MinMaxScaler\n",
    "\n",
    "from sklearn.metrics import confusion_matrix, f1_score, roc_curve, roc_auc_score, precision_score, recall_score"
   ]
  },
  {
   "cell_type": "code",
   "execution_count": 2,
   "id": "9c3c4c7a",
   "metadata": {},
   "outputs": [
    {
     "name": "stdout",
     "output_type": "stream",
     "text": [
      " MNIST\t\t\t       SWaT_Dataset_Normal_v1.xlsx\n",
      " SWaT_Dataset_Attack_v0.csv    WADI_14days_new.csv\n",
      " SWaT_Dataset_Attack_v0.xlsx  'WADI.A1_9 Oct 2017'\n",
      " SWaT_Dataset_Normal_v0.csv   'WADI.A2_19 Nov 2019'\n",
      " SWaT_Dataset_Normal_v0.xlsx   WADI_attackdataLABLE.csv\n",
      " SWaT_Dataset_Normal_v1.csv\n"
     ]
    }
   ],
   "source": [
    "!ls data"
   ]
  },
  {
   "cell_type": "markdown",
   "id": "7d53da8a",
   "metadata": {},
   "source": [
    "## Reading data"
   ]
  },
  {
   "cell_type": "code",
   "execution_count": 2,
   "id": "4c83de10",
   "metadata": {},
   "outputs": [],
   "source": [
    "df = pd.read_csv('./data/SWaT_Dataset_Normal_v1.csv')\n",
    "df = df.drop(columns=[' Timestamp', 'Normal/Attack'])\n",
    "df = df.astype('float64')"
   ]
  },
  {
   "cell_type": "markdown",
   "id": "55f4af0a",
   "metadata": {},
   "source": [
    "### Processing data"
   ]
  },
  {
   "cell_type": "code",
   "execution_count": 3,
   "id": "44f6ff7f",
   "metadata": {},
   "outputs": [
    {
     "ename": "NameError",
     "evalue": "name 'grouping_array' is not defined",
     "output_type": "error",
     "traceback": [
      "\u001b[0;31m---------------------------------------------------------------------------\u001b[0m",
      "\u001b[0;31mNameError\u001b[0m                                 Traceback (most recent call last)",
      "Cell \u001b[0;32mIn[3], line 1\u001b[0m\n\u001b[0;32m----> 1\u001b[0m df \u001b[38;5;241m=\u001b[39m df\u001b[38;5;241m.\u001b[39mgroupby(grouping_array)\u001b[38;5;241m.\u001b[39mmedian()\n",
      "\u001b[0;31mNameError\u001b[0m: name 'grouping_array' is not defined"
     ]
    }
   ],
   "source": [
    "grouping_array = np.arange(len(df)) // 5\n",
    "df = df.groupby(grouping_array).median()"
   ]
  },
  {
   "cell_type": "code",
   "execution_count": 3,
   "id": "0c1ead44",
   "metadata": {},
   "outputs": [
    {
     "data": {
      "text/plain": [
       "(495000, 51)"
      ]
     },
     "execution_count": 3,
     "metadata": {},
     "output_type": "execute_result"
    }
   ],
   "source": [
    "df.shape"
   ]
  },
  {
   "cell_type": "code",
   "execution_count": 5,
   "id": "ae339864",
   "metadata": {},
   "outputs": [],
   "source": [
    "window_size = 12\n",
    "input_size = window_size * 51\n",
    "latent_space = 10 * window_size\n",
    "epochs = 100"
   ]
  },
  {
   "cell_type": "code",
   "execution_count": 6,
   "id": "7dfe6caa",
   "metadata": {},
   "outputs": [],
   "source": [
    "mm = MinMaxScaler()"
   ]
  },
  {
   "cell_type": "code",
   "execution_count": 7,
   "id": "83abe587",
   "metadata": {},
   "outputs": [
    {
     "name": "stderr",
     "output_type": "stream",
     "text": [
      "/home/ahmad/anaconda3/envs/art/lib/python3.11/site-packages/sklearn/utils/validation.py:767: FutureWarning: is_sparse is deprecated and will be removed in a future version. Check `isinstance(dtype, pd.SparseDtype)` instead.\n",
      "  if not hasattr(array, \"sparse\") and array.dtypes.apply(is_sparse).any():\n",
      "/home/ahmad/anaconda3/envs/art/lib/python3.11/site-packages/sklearn/utils/validation.py:605: FutureWarning: is_sparse is deprecated and will be removed in a future version. Check `isinstance(dtype, pd.SparseDtype)` instead.\n",
      "  if is_sparse(pd_dtype):\n",
      "/home/ahmad/anaconda3/envs/art/lib/python3.11/site-packages/sklearn/utils/validation.py:614: FutureWarning: is_sparse is deprecated and will be removed in a future version. Check `isinstance(dtype, pd.SparseDtype)` instead.\n",
      "  if is_sparse(pd_dtype) or not is_extension_array_dtype(pd_dtype):\n",
      "/home/ahmad/anaconda3/envs/art/lib/python3.11/site-packages/sklearn/utils/validation.py:767: FutureWarning: is_sparse is deprecated and will be removed in a future version. Check `isinstance(dtype, pd.SparseDtype)` instead.\n",
      "  if not hasattr(array, \"sparse\") and array.dtypes.apply(is_sparse).any():\n",
      "/home/ahmad/anaconda3/envs/art/lib/python3.11/site-packages/sklearn/utils/validation.py:605: FutureWarning: is_sparse is deprecated and will be removed in a future version. Check `isinstance(dtype, pd.SparseDtype)` instead.\n",
      "  if is_sparse(pd_dtype):\n",
      "/home/ahmad/anaconda3/envs/art/lib/python3.11/site-packages/sklearn/utils/validation.py:614: FutureWarning: is_sparse is deprecated and will be removed in a future version. Check `isinstance(dtype, pd.SparseDtype)` instead.\n",
      "  if is_sparse(pd_dtype) or not is_extension_array_dtype(pd_dtype):\n"
     ]
    }
   ],
   "source": [
    "Normalized = pd.DataFrame(mm.fit_transform(df))\n",
    "train_set = Normalized[: int(0.8 * Normalized.shape[0])]\n",
    "validation_set = Normalized[int(0.8 * Normalized.shape[0]):]"
   ]
  },
  {
   "cell_type": "code",
   "execution_count": 8,
   "id": "c3de137d",
   "metadata": {},
   "outputs": [
    {
     "name": "stdout",
     "output_type": "stream",
     "text": [
      "cuda:0\n"
     ]
    }
   ],
   "source": [
    "device = torch.device('cuda:0' if torch.cuda.is_available() else 'cpu')\n",
    "# device = torch.device('cpu')\n",
    "print(device)"
   ]
  },
  {
   "cell_type": "code",
   "execution_count": 15,
   "id": "fad13d19",
   "metadata": {},
   "outputs": [],
   "source": [
    "device = torch.device('cpu')"
   ]
  },
  {
   "cell_type": "code",
   "execution_count": 9,
   "id": "130e5791",
   "metadata": {},
   "outputs": [],
   "source": [
    "class SWat_dataset(Dataset):\n",
    "    def __init__(self, dataframe: pd.DataFrame, target: pd.DataFrame,  window_size):\n",
    "        self.data = dataframe\n",
    "        self.window_size = window_size\n",
    "\n",
    "    def __len__(self):\n",
    "        return len(self.data) - self.window_size\n",
    "\n",
    "    def __getitem__(self, idx):\n",
    "        window = self.data[idx: idx + self.window_size]\n",
    "        features = torch.tensor(window.iloc[:,:].values).float().to(device)\n",
    "        return features"
   ]
  },
  {
   "cell_type": "code",
   "execution_count": 11,
   "id": "7bb00e04",
   "metadata": {},
   "outputs": [],
   "source": [
    "train_dataset = SWat_dataset(train_set, train_set, window_size)\n",
    "validation_dataset = SWat_dataset(validation_set, validation_set, window_size)\n",
    "\n",
    "batch_size = 4096\n",
    "train_loader = DataLoader(train_dataset, batch_size=batch_size, shuffle=True, num_workers=0)\n",
    "validation_loader = DataLoader(validation_dataset, batch_size=batch_size, shuffle=True, num_workers=0)"
   ]
  },
  {
   "cell_type": "markdown",
   "id": "22cf1ae6",
   "metadata": {},
   "source": [
    "## Setting up the model structure"
   ]
  },
  {
   "cell_type": "code",
   "execution_count": 12,
   "id": "4582b348",
   "metadata": {},
   "outputs": [],
   "source": [
    "class Encoder(nn.Module):\n",
    "    def __init__(self, input_size, hidden_size):\n",
    "        super(Encoder, self).__init__()\n",
    "        self.input_size = input_size\n",
    "        self.hidden_size = hidden_size\n",
    "        self.fc1 = nn.Linear(input_size, input_size // 2)\n",
    "        self.relu = nn.ReLU(True)\n",
    "        self.fc2 = nn.Linear(input_size // 2, input_size // 4)\n",
    "        self.fc3 = nn.Linear(input_size // 4, hidden_size)\n",
    "    \n",
    "    def forward(self, x):\n",
    "        out = self.relu(self.fc1(x))\n",
    "        out = self.relu(self.fc2(out))\n",
    "        out = self.relu(self.fc3(out))\n",
    "        return out\n",
    "\n",
    "\n",
    "class AutoEncoder(nn.Module):\n",
    "    def __init__(self, input_size, hidden_size, encoder):        \n",
    "        super(AutoEncoder, self).__init__()\n",
    "        self.encoder = encoder\n",
    "        self.input_size = input_size\n",
    "        self.hidden_size = hidden_size\n",
    "        self.sigmoid = nn.Sigmoid()\n",
    "        self.relu = nn.ReLU(True)\n",
    "        self.fc1 = nn.Linear(hidden_size, input_size // 4)\n",
    "        self.fc2 = nn.Linear(input_size // 4, input_size // 2)\n",
    "        self.fc3 = nn.Linear(input_size // 2, input_size)\n",
    "        \n",
    "    def forward(self, x):\n",
    "        out = self.encoder(x)\n",
    "        out = self.relu(self.fc1(out))\n",
    "        out = self.relu(self.fc2(out))\n",
    "        out = self.sigmoid(self.fc3(out))\n",
    "        return out"
   ]
  },
  {
   "cell_type": "code",
   "execution_count": 13,
   "id": "7aa83ddb",
   "metadata": {},
   "outputs": [],
   "source": [
    "shared_encoder = Encoder(input_size, latent_space)\n",
    "AE1 = AutoEncoder(input_size, latent_space, shared_encoder)\n",
    "AE2 = AutoEncoder(input_size, latent_space, shared_encoder)"
   ]
  },
  {
   "cell_type": "code",
   "execution_count": 14,
   "id": "4d306383",
   "metadata": {},
   "outputs": [
    {
     "data": {
      "text/plain": [
       "AutoEncoder(\n",
       "  (encoder): Encoder(\n",
       "    (fc1): Linear(in_features=612, out_features=306, bias=True)\n",
       "    (relu): ReLU(inplace=True)\n",
       "    (fc2): Linear(in_features=306, out_features=153, bias=True)\n",
       "    (fc3): Linear(in_features=153, out_features=120, bias=True)\n",
       "  )\n",
       "  (sigmoid): Sigmoid()\n",
       "  (relu): ReLU(inplace=True)\n",
       "  (fc1): Linear(in_features=120, out_features=153, bias=True)\n",
       "  (fc2): Linear(in_features=153, out_features=306, bias=True)\n",
       "  (fc3): Linear(in_features=306, out_features=612, bias=True)\n",
       ")"
      ]
     },
     "execution_count": 14,
     "metadata": {},
     "output_type": "execute_result"
    }
   ],
   "source": [
    "shared_encoder.to(device)\n",
    "AE1.to(device)\n",
    "AE2.to(device)"
   ]
  },
  {
   "cell_type": "code",
   "execution_count": 15,
   "id": "b37bf476",
   "metadata": {},
   "outputs": [],
   "source": [
    "optimizer1 = torch.optim.Adam(AE1.parameters())\n",
    "optimizer2 = torch.optim.Adam(AE2.parameters())"
   ]
  },
  {
   "cell_type": "markdown",
   "id": "015328f9",
   "metadata": {},
   "source": [
    "## Training the model"
   ]
  },
  {
   "cell_type": "markdown",
   "id": "abf47e12",
   "metadata": {},
   "source": [
    "### Training"
   ]
  },
  {
   "cell_type": "code",
   "execution_count": 16,
   "id": "4a86afc5",
   "metadata": {
    "scrolled": true
   },
   "outputs": [
    {
     "name": "stdout",
     "output_type": "stream",
     "text": [
      "Epoch: 0 ---> Val loss: AE1 0.0108, AE2: 0.0114\n",
      "Train loss: AE1 0.0426, AE2 0.0413\n",
      "Epoch: 1 ---> Val loss: AE1 0.0124, AE2: -0.0023\n",
      "Train loss: AE1 0.0257, AE2 -0.0051\n",
      "Epoch: 2 ---> Val loss: AE1 0.0188, AE2: -0.0119\n",
      "Train loss: AE1 0.0222, AE2 -0.0132\n",
      "Epoch: 3 ---> Val loss: AE1 0.0181, AE2: -0.0138\n",
      "Train loss: AE1 0.0238, AE2 -0.0175\n",
      "Epoch: 4 ---> Val loss: AE1 0.0181, AE2: -0.0145\n",
      "Train loss: AE1 0.0248, AE2 -0.0198\n",
      "Epoch: 5 ---> Val loss: AE1 0.0169, AE2: -0.0139\n",
      "Train loss: AE1 0.0258, AE2 -0.0213\n",
      "Epoch: 6 ---> Val loss: AE1 0.0188, AE2: -0.0163\n",
      "Train loss: AE1 0.0256, AE2 -0.0225\n",
      "Epoch: 7 ---> Val loss: AE1 0.0185, AE2: -0.0168\n",
      "Train loss: AE1 0.0262, AE2 -0.0232\n",
      "Epoch: 8 ---> Val loss: AE1 0.0186, AE2: -0.0169\n",
      "Train loss: AE1 0.0260, AE2 -0.0237\n",
      "Epoch: 9 ---> Val loss: AE1 0.0221, AE2: -0.0203\n",
      "Train loss: AE1 0.0263, AE2 -0.0244\n",
      "Epoch: 10 ---> Val loss: AE1 0.0218, AE2: -0.0203\n",
      "Train loss: AE1 0.0313, AE2 -0.0288\n",
      "Epoch: 11 ---> Val loss: AE1 0.0210, AE2: -0.0197\n",
      "Train loss: AE1 0.0303, AE2 -0.0282\n",
      "Epoch: 12 ---> Val loss: AE1 0.0219, AE2: -0.0202\n",
      "Train loss: AE1 0.0297, AE2 -0.0279\n",
      "Epoch: 13 ---> Val loss: AE1 0.0210, AE2: -0.0201\n",
      "Train loss: AE1 0.0298, AE2 -0.0284\n",
      "Epoch: 14 ---> Val loss: AE1 0.0212, AE2: -0.0205\n",
      "Train loss: AE1 0.0296, AE2 -0.0285\n",
      "Epoch: 15 ---> Val loss: AE1 0.0222, AE2: -0.0214\n",
      "Train loss: AE1 0.0303, AE2 -0.0292\n",
      "Epoch: 16 ---> Val loss: AE1 0.0225, AE2: -0.0218\n",
      "Train loss: AE1 0.0312, AE2 -0.0301\n",
      "Epoch: 17 ---> Val loss: AE1 0.0293, AE2: -0.0259\n",
      "Train loss: AE1 0.0442, AE2 -0.0390\n",
      "Epoch: 18 ---> Val loss: AE1 0.0258, AE2: -0.0228\n",
      "Train loss: AE1 0.0360, AE2 -0.0319\n",
      "Epoch: 19 ---> Val loss: AE1 0.0247, AE2: -0.0219\n",
      "Train loss: AE1 0.0335, AE2 -0.0299\n",
      "Epoch: 20 ---> Val loss: AE1 0.0244, AE2: -0.0217\n",
      "Train loss: AE1 0.0329, AE2 -0.0293\n",
      "Epoch: 21 ---> Val loss: AE1 0.0232, AE2: -0.0207\n",
      "Train loss: AE1 0.0335, AE2 -0.0302\n",
      "Epoch: 22 ---> Val loss: AE1 0.0231, AE2: -0.0207\n",
      "Train loss: AE1 0.0344, AE2 -0.0312\n",
      "Epoch: 23 ---> Val loss: AE1 0.0261, AE2: -0.0237\n",
      "Train loss: AE1 0.0352, AE2 -0.0321\n",
      "Epoch: 24 ---> Val loss: AE1 0.0275, AE2: -0.0251\n",
      "Train loss: AE1 0.0366, AE2 -0.0336\n",
      "Epoch: 25 ---> Val loss: AE1 0.0318, AE2: -0.0293\n",
      "Train loss: AE1 0.0381, AE2 -0.0351\n",
      "Epoch: 26 ---> Val loss: AE1 0.0882, AE2: -0.0836\n",
      "Train loss: AE1 0.0676, AE2 -0.0635\n",
      "Epoch: 27 ---> Val loss: AE1 0.0874, AE2: -0.0830\n",
      "Train loss: AE1 0.0877, AE2 -0.0830\n",
      "Epoch: 28 ---> Val loss: AE1 0.0845, AE2: -0.0804\n",
      "Train loss: AE1 0.0862, AE2 -0.0817\n",
      "Epoch: 29 ---> Val loss: AE1 0.0848, AE2: -0.0808\n",
      "Train loss: AE1 0.0852, AE2 -0.0809\n",
      "Epoch: 30 ---> Val loss: AE1 0.0849, AE2: -0.0811\n",
      "Train loss: AE1 0.0858, AE2 -0.0816\n",
      "Epoch: 31 ---> Val loss: AE1 0.1029, AE2: -0.0984\n",
      "Train loss: AE1 0.0891, AE2 -0.0849\n",
      "Epoch: 32 ---> Val loss: AE1 0.1031, AE2: -0.0988\n",
      "Train loss: AE1 0.1041, AE2 -0.0994\n",
      "Epoch: 33 ---> Val loss: AE1 0.1036, AE2: -0.0995\n",
      "Train loss: AE1 0.1044, AE2 -0.1000\n",
      "Epoch: 34 ---> Val loss: AE1 0.1036, AE2: -0.0996\n",
      "Train loss: AE1 0.1045, AE2 -0.1002\n",
      "Epoch: 35 ---> Val loss: AE1 0.1036, AE2: -0.0998\n",
      "Train loss: AE1 0.1045, AE2 -0.1004\n",
      "Epoch: 36 ---> Val loss: AE1 0.1037, AE2: -0.1000\n",
      "Train loss: AE1 0.1046, AE2 -0.1006\n",
      "Epoch: 37 ---> Val loss: AE1 0.1093, AE2: -0.1054\n",
      "Train loss: AE1 0.1044, AE2 -0.1005\n",
      "Epoch: 38 ---> Val loss: AE1 0.1091, AE2: -0.1055\n",
      "Train loss: AE1 0.1102, AE2 -0.1062\n",
      "Epoch: 39 ---> Val loss: AE1 0.1082, AE2: -0.1046\n",
      "Train loss: AE1 0.1096, AE2 -0.1058\n",
      "Epoch: 40 ---> Val loss: AE1 0.1098, AE2: -0.1063\n",
      "Train loss: AE1 0.1105, AE2 -0.1068\n",
      "Epoch: 41 ---> Val loss: AE1 0.1104, AE2: -0.1070\n",
      "Train loss: AE1 0.1112, AE2 -0.1076\n",
      "Epoch: 42 ---> Val loss: AE1 0.1123, AE2: -0.1089\n",
      "Train loss: AE1 0.1127, AE2 -0.1090\n",
      "Epoch: 43 ---> Val loss: AE1 0.1122, AE2: -0.1089\n",
      "Train loss: AE1 0.1132, AE2 -0.1096\n",
      "Epoch: 44 ---> Val loss: AE1 0.1128, AE2: -0.1095\n",
      "Train loss: AE1 0.1134, AE2 -0.1099\n",
      "Epoch: 45 ---> Val loss: AE1 0.1140, AE2: -0.1108\n",
      "Train loss: AE1 0.1141, AE2 -0.1107\n",
      "Epoch: 46 ---> Val loss: AE1 0.1139, AE2: -0.1108\n",
      "Train loss: AE1 0.1143, AE2 -0.1110\n",
      "Epoch: 47 ---> Val loss: AE1 0.1141, AE2: -0.1110\n",
      "Train loss: AE1 0.1144, AE2 -0.1111\n",
      "Epoch: 48 ---> Val loss: AE1 0.1141, AE2: -0.1111\n",
      "Train loss: AE1 0.1144, AE2 -0.1113\n",
      "Epoch: 49 ---> Val loss: AE1 0.1143, AE2: -0.1113\n",
      "Train loss: AE1 0.1146, AE2 -0.1114\n",
      "Epoch: 50 ---> Val loss: AE1 0.1142, AE2: -0.1113\n",
      "Train loss: AE1 0.1146, AE2 -0.1116\n",
      "Epoch: 51 ---> Val loss: AE1 0.1207, AE2: -0.1173\n",
      "Train loss: AE1 0.1210, AE2 -0.1175\n",
      "Epoch: 52 ---> Val loss: AE1 0.1186, AE2: -0.1157\n",
      "Train loss: AE1 0.1235, AE2 -0.1201\n",
      "Epoch: 53 ---> Val loss: AE1 0.1179, AE2: -0.1150\n",
      "Train loss: AE1 0.1212, AE2 -0.1181\n",
      "Epoch: 54 ---> Val loss: AE1 0.1171, AE2: -0.1145\n",
      "Train loss: AE1 0.1211, AE2 -0.1181\n",
      "Epoch: 55 ---> Val loss: AE1 0.1171, AE2: -0.1146\n",
      "Train loss: AE1 0.1205, AE2 -0.1177\n",
      "Epoch: 56 ---> Val loss: AE1 0.1172, AE2: -0.1147\n",
      "Train loss: AE1 0.1205, AE2 -0.1177\n",
      "Epoch: 57 ---> Val loss: AE1 0.1171, AE2: -0.1147\n",
      "Train loss: AE1 0.1205, AE2 -0.1178\n",
      "Epoch: 58 ---> Val loss: AE1 0.1172, AE2: -0.1147\n",
      "Train loss: AE1 0.1205, AE2 -0.1179\n",
      "Epoch: 59 ---> Val loss: AE1 0.1172, AE2: -0.1148\n",
      "Train loss: AE1 0.1205, AE2 -0.1179\n",
      "Epoch: 60 ---> Val loss: AE1 0.1172, AE2: -0.1149\n",
      "Train loss: AE1 0.1205, AE2 -0.1180\n",
      "Epoch: 61 ---> Val loss: AE1 0.1172, AE2: -0.1149\n",
      "Train loss: AE1 0.1205, AE2 -0.1180\n",
      "Epoch: 62 ---> Val loss: AE1 0.1196, AE2: -0.1173\n",
      "Train loss: AE1 0.1222, AE2 -0.1197\n",
      "Epoch: 63 ---> Val loss: AE1 0.1197, AE2: -0.1174\n",
      "Train loss: AE1 0.1229, AE2 -0.1204\n",
      "Epoch: 64 ---> Val loss: AE1 0.1197, AE2: -0.1175\n",
      "Train loss: AE1 0.1229, AE2 -0.1205\n",
      "Epoch: 65 ---> Val loss: AE1 0.1198, AE2: -0.1175\n",
      "Train loss: AE1 0.1230, AE2 -0.1205\n",
      "Epoch: 66 ---> Val loss: AE1 0.1197, AE2: -0.1175\n",
      "Train loss: AE1 0.1230, AE2 -0.1206\n",
      "Epoch: 67 ---> Val loss: AE1 0.1198, AE2: -0.1176\n",
      "Train loss: AE1 0.1230, AE2 -0.1206\n",
      "Epoch: 68 ---> Val loss: AE1 0.1486, AE2: -0.1456\n",
      "Train loss: AE1 0.1247, AE2 -0.1221\n",
      "Epoch: 69 ---> Val loss: AE1 0.1246, AE2: -0.1222\n",
      "Train loss: AE1 0.1320, AE2 -0.1291\n",
      "Epoch: 70 ---> Val loss: AE1 0.1237, AE2: -0.1215\n",
      "Train loss: AE1 0.1268, AE2 -0.1244\n",
      "Epoch: 71 ---> Val loss: AE1 0.1237, AE2: -0.1216\n",
      "Train loss: AE1 0.1268, AE2 -0.1245\n",
      "Epoch: 72 ---> Val loss: AE1 0.1237, AE2: -0.1216\n",
      "Train loss: AE1 0.1268, AE2 -0.1245\n",
      "Epoch: 73 ---> Val loss: AE1 0.1237, AE2: -0.1217\n",
      "Train loss: AE1 0.1268, AE2 -0.1246\n",
      "Epoch: 74 ---> Val loss: AE1 0.1237, AE2: -0.1217\n",
      "Train loss: AE1 0.1268, AE2 -0.1246\n",
      "Epoch: 75 ---> Val loss: AE1 0.1237, AE2: -0.1217\n",
      "Train loss: AE1 0.1268, AE2 -0.1246\n",
      "Epoch: 76 ---> Val loss: AE1 0.1237, AE2: -0.1217\n",
      "Train loss: AE1 0.1268, AE2 -0.1247\n",
      "Epoch: 77 ---> Val loss: AE1 0.1237, AE2: -0.1218\n",
      "Train loss: AE1 0.1268, AE2 -0.1247\n",
      "Epoch: 78 ---> Val loss: AE1 0.1237, AE2: -0.1218\n",
      "Train loss: AE1 0.1268, AE2 -0.1247\n",
      "Epoch: 79 ---> Val loss: AE1 0.1239, AE2: -0.1216\n",
      "Train loss: AE1 0.1269, AE2 -0.1246\n",
      "Epoch: 80 ---> Val loss: AE1 0.1231, AE2: -0.1208\n",
      "Train loss: AE1 0.1278, AE2 -0.1255\n",
      "Epoch: 81 ---> Val loss: AE1 0.1252, AE2: -0.1230\n",
      "Train loss: AE1 0.1334, AE2 -0.1310\n",
      "Epoch: 82 ---> Val loss: AE1 0.1194, AE2: -0.1174\n",
      "Train loss: AE1 0.1306, AE2 -0.1282\n",
      "Epoch: 83 ---> Val loss: AE1 0.1212, AE2: -0.1191\n",
      "Train loss: AE1 0.1305, AE2 -0.1282\n",
      "Epoch: 84 ---> Val loss: AE1 0.1239, AE2: -0.1218\n",
      "Train loss: AE1 0.1329, AE2 -0.1306\n",
      "Epoch: 85 ---> Val loss: AE1 0.1221, AE2: -0.1201\n",
      "Train loss: AE1 0.1326, AE2 -0.1304\n",
      "Epoch: 86 ---> Val loss: AE1 0.1231, AE2: -0.1211\n",
      "Train loss: AE1 0.1325, AE2 -0.1303\n",
      "Epoch: 87 ---> Val loss: AE1 0.1218, AE2: -0.1200\n",
      "Train loss: AE1 0.1322, AE2 -0.1301\n",
      "Epoch: 88 ---> Val loss: AE1 0.1216, AE2: -0.1197\n",
      "Train loss: AE1 0.1319, AE2 -0.1299\n",
      "Epoch: 89 ---> Val loss: AE1 0.1217, AE2: -0.1199\n",
      "Train loss: AE1 0.1318, AE2 -0.1298\n",
      "Epoch: 90 ---> Val loss: AE1 0.1217, AE2: -0.1199\n",
      "Train loss: AE1 0.1318, AE2 -0.1298\n",
      "Epoch: 91 ---> Val loss: AE1 0.1215, AE2: -0.1197\n",
      "Train loss: AE1 0.1315, AE2 -0.1295\n",
      "Epoch: 92 ---> Val loss: AE1 0.1211, AE2: -0.1194\n",
      "Train loss: AE1 0.1310, AE2 -0.1290\n",
      "Epoch: 93 ---> Val loss: AE1 0.1213, AE2: -0.1195\n",
      "Train loss: AE1 0.1308, AE2 -0.1288\n",
      "Epoch: 94 ---> Val loss: AE1 0.1844, AE2: -0.1817\n",
      "Train loss: AE1 0.1627, AE2 -0.1598\n",
      "Epoch: 95 ---> Val loss: AE1 0.1845, AE2: -0.1818\n",
      "Train loss: AE1 0.1839, AE2 -0.1811\n",
      "Epoch: 96 ---> Val loss: AE1 0.1843, AE2: -0.1817\n",
      "Train loss: AE1 0.1839, AE2 -0.1811\n",
      "Epoch: 97 ---> Val loss: AE1 0.1844, AE2: -0.1818\n",
      "Train loss: AE1 0.1839, AE2 -0.1811\n",
      "Epoch: 98 ---> Val loss: AE1 0.1843, AE2: -0.1818\n",
      "Train loss: AE1 0.1839, AE2 -0.1812\n",
      "Epoch: 99 ---> Val loss: AE1 0.1845, AE2: -0.1819\n",
      "Train loss: AE1 0.1839, AE2 -0.1812\n"
     ]
    }
   ],
   "source": [
    "AE1_val_history = []\n",
    "AE2_val_history = []\n",
    "for i in range(epochs):\n",
    "    running_loss_AE1 = []\n",
    "    running_loss_AE2 = []\n",
    "    val_loss_AE1 = []\n",
    "    val_loss_AE2 = []\n",
    "    for index_b, features in enumerate(train_loader):\n",
    "        features = features.view(features.shape[0], -1)\n",
    "        \n",
    "        w1 = AE1(features)\n",
    "        w2 = AE2(features)\n",
    "        w3 = AE2(w1)\n",
    "        lossAE1 = (1 / (i + 1)) * torch.mean((features - w1) ** 2) + (1 - (1 / (i + 1))) * torch.mean((features - w3) ** 2)\n",
    "        lossAE2 = (1 / (i + 1)) * torch.mean((features - w2) ** 2) - (1 - (1 / (i + 1))) * torch.mean((features - w3) ** 2)\n",
    "        \n",
    "        running_loss_AE1.append(lossAE1)\n",
    "        lossAE1.backward()\n",
    "        optimizer1.step()\n",
    "        optimizer1.zero_grad()\n",
    "        \n",
    "        w1 = AE1(features)\n",
    "        w2 = AE2(features)\n",
    "        w3 = AE2(w1)\n",
    "        lossAE1 = (1 / (i + 1)) * torch.mean((features - w1) ** 2) + (1 - (1 / (i + 1))) * torch.mean((features - w3) ** 2)\n",
    "        lossAE2 = (1 / (i + 1)) * torch.mean((features - w2) ** 2) - (1 - (1 / (i + 1))) * torch.mean((features - w3) ** 2)\n",
    "        \n",
    "        running_loss_AE2.append(lossAE2)\n",
    "        lossAE2.backward()\n",
    "        optimizer2.step()\n",
    "        optimizer2.zero_grad()\n",
    "    \n",
    "    for index_b, features in enumerate(validation_loader):\n",
    "        with torch.no_grad():\n",
    "            features = features.view(features.shape[0], -1)\n",
    "        \n",
    "            w1 = AE1(features)\n",
    "            w2 = AE2(features)\n",
    "            w3 = AE2(w1)\n",
    "            lossAE1 = (1 / (i + 1)) * torch.mean((features - w1) ** 2) + (1 - (1 / (i + 1))) * torch.mean((features - w3) ** 2)\n",
    "            lossAE2 = (1 / (i + 1)) * torch.mean((features - w2) ** 2) - (1 - (1 / (i + 1))) * torch.mean((features - w3) ** 2)\n",
    "            val_loss_AE1.append(lossAE1)\n",
    "            val_loss_AE2.append(lossAE2)\n",
    "    AE1_val_history.append(torch.stack(val_loss_AE1).mean().item())\n",
    "    AE2_val_history.append(torch.stack(val_loss_AE2).mean().item())\n",
    "    print(f'Epoch: {i} ---> Val loss: AE1 {AE1_val_history[-1]:.4f}, AE2: {AE2_val_history[-1]:.4f}')\n",
    "    print(f'Train loss: AE1 {torch.stack(running_loss_AE1).mean().item():.4f}, AE2 {torch.stack(running_loss_AE2).mean().item():.4f}')"
   ]
  },
  {
   "cell_type": "code",
   "execution_count": 23,
   "id": "c0445749-d836-4611-9fc3-bdbcbaa52cda",
   "metadata": {},
   "outputs": [],
   "source": [
    "def plot_history(losses1, losses2):\n",
    "    plt.plot(losses1, '-x', label=\"loss1\")\n",
    "    plt.plot(losses2, '-x', label=\"loss2\")\n",
    "    plt.xlabel('epoch')\n",
    "    plt.ylabel('loss')\n",
    "    plt.legend()\n",
    "    plt.title('Losses vs. No. of epochs')\n",
    "    plt.grid()\n",
    "    plt.savefig('Training_history.png')\n",
    "    plt.show()"
   ]
  },
  {
   "cell_type": "code",
   "execution_count": 24,
   "id": "ba9d6536-38ca-491a-938f-231c67614048",
   "metadata": {},
   "outputs": [
    {
     "data": {
      "image/png": "[encoded data removed]",
      "text/plain": [
       "<Figure size 640x480 with 1 Axes>"
      ]
     },
     "metadata": {},
     "output_type": "display_data"
    }
   ],
   "source": [
    "plot_history(AE1_val_history, AE2_val_history)"
   ]
  },
  {
   "cell_type": "code",
   "execution_count": 17,
   "id": "d7c94e94",
   "metadata": {},
   "outputs": [],
   "source": [
    "torch.save(AE1.state_dict(), 'my_USAD_without_downsampling_AE1_hidden_10_random.pth')\n",
    "torch.save(AE2.state_dict(), 'my_USAD_without_downsampling_AE2_hidden_10_random.pth')"
   ]
  },
  {
   "cell_type": "code",
   "execution_count": 37,
   "id": "685d44f1",
   "metadata": {},
   "outputs": [
    {
     "data": {
      "text/plain": [
       "<All keys matched successfully>"
      ]
     },
     "execution_count": 37,
     "metadata": {},
     "output_type": "execute_result"
    }
   ],
   "source": [
    "AE1.load_state_dict(torch.load('my_USAD_without_downsampling_AE1_100_hidden.pth'))\n",
    "AE2.load_state_dict(torch.load('my_USAD_without_downsampling_AE2_100_hidden.pth'))"
   ]
  },
  {
   "cell_type": "markdown",
   "id": "93a3cc44",
   "metadata": {},
   "source": [
    "## Testing"
   ]
  },
  {
   "cell_type": "code",
   "execution_count": 25,
   "id": "caf3ee9f",
   "metadata": {},
   "outputs": [],
   "source": [
    "df2 = pd.read_csv('./data/SWaT_Dataset_Attack_v0.csv')\n",
    "labels = df2['Normal/Attack']\n",
    "df2 = df2.drop(columns=[' Timestamp', 'Normal/Attack'])\n",
    "df2 = df2.astype('float64')\n",
    "df2.columns = df.columns"
   ]
  },
  {
   "cell_type": "code",
   "execution_count": 26,
   "id": "b8cd8f00",
   "metadata": {},
   "outputs": [
    {
     "name": "stderr",
     "output_type": "stream",
     "text": [
      "/home/ahmad/anaconda3/envs/art/lib/python3.11/site-packages/sklearn/utils/validation.py:767: FutureWarning: is_sparse is deprecated and will be removed in a future version. Check `isinstance(dtype, pd.SparseDtype)` instead.\n",
      "  if not hasattr(array, \"sparse\") and array.dtypes.apply(is_sparse).any():\n",
      "/home/ahmad/anaconda3/envs/art/lib/python3.11/site-packages/sklearn/utils/validation.py:605: FutureWarning: is_sparse is deprecated and will be removed in a future version. Check `isinstance(dtype, pd.SparseDtype)` instead.\n",
      "  if is_sparse(pd_dtype):\n",
      "/home/ahmad/anaconda3/envs/art/lib/python3.11/site-packages/sklearn/utils/validation.py:614: FutureWarning: is_sparse is deprecated and will be removed in a future version. Check `isinstance(dtype, pd.SparseDtype)` instead.\n",
      "  if is_sparse(pd_dtype) or not is_extension_array_dtype(pd_dtype):\n"
     ]
    }
   ],
   "source": [
    "test_normalized = pd.DataFrame(mm.transform(df2))"
   ]
  },
  {
   "cell_type": "code",
   "execution_count": 27,
   "id": "74fb20b9",
   "metadata": {},
   "outputs": [],
   "source": [
    "test_dataset = SWat_dataset(test_normalized, test_normalized, window_size)\n",
    "test_loader = DataLoader(test_dataset, batch_size=batch_size, shuffle=False, num_workers=0)"
   ]
  },
  {
   "cell_type": "code",
   "execution_count": 28,
   "id": "53ae0a10",
   "metadata": {},
   "outputs": [],
   "source": [
    "def testing(test_loader, alpha=.5, beta=.5):\n",
    "    results=[]\n",
    "    with torch.no_grad():\n",
    "        for batch in test_loader:\n",
    "            batch = batch.view(batch.shape[0], -1)\n",
    "            w1=AE1(batch)\n",
    "            w2=AE2(w1)\n",
    "            results.append(alpha*torch.mean((batch-w1)**2,axis=1)+beta*torch.mean((batch-w2)**2,axis=1))\n",
    "    return results"
   ]
  },
  {
   "cell_type": "code",
   "execution_count": 29,
   "id": "19a22d18",
   "metadata": {},
   "outputs": [],
   "source": [
    "labels = labels.values\n",
    "labels = [0 if (lab == 'Normal') else 1 for lab in labels]"
   ]
  },
  {
   "cell_type": "code",
   "execution_count": 30,
   "id": "cf332b9e-783c-4e83-b35f-adb26977a061",
   "metadata": {},
   "outputs": [
    {
     "data": {
      "text/plain": [
       "54621"
      ]
     },
     "execution_count": 30,
     "metadata": {},
     "output_type": "execute_result"
    }
   ],
   "source": [
    "np.sum(labels)"
   ]
  },
  {
   "cell_type": "code",
   "execution_count": 31,
   "id": "812d1112",
   "metadata": {},
   "outputs": [],
   "source": [
    "windows_labels=[]\n",
    "for i in range(len(labels)-window_size):\n",
    "    windows_labels.append(list(np.int32(labels[i:i+window_size])))"
   ]
  },
  {
   "cell_type": "code",
   "execution_count": 32,
   "id": "a2caf045",
   "metadata": {},
   "outputs": [],
   "source": [
    "y_test = [1.0 if (np.sum(window) > 0) else 0 for window in windows_labels]"
   ]
  },
  {
   "cell_type": "code",
   "execution_count": 33,
   "id": "b40ee266-cc6c-4d16-8779-cbb6a2afa5c2",
   "metadata": {},
   "outputs": [
    {
     "data": {
      "text/plain": [
       "55006.0"
      ]
     },
     "execution_count": 33,
     "metadata": {},
     "output_type": "execute_result"
    }
   ],
   "source": [
    "np.sum(y_test)"
   ]
  },
  {
   "cell_type": "code",
   "execution_count": 52,
   "id": "9d9385ba",
   "metadata": {},
   "outputs": [],
   "source": [
    "results=testing(test_loader, alpha=0.3, beta=0.7)"
   ]
  },
  {
   "cell_type": "code",
   "execution_count": 53,
   "id": "fbacc678",
   "metadata": {},
   "outputs": [],
   "source": [
    "y_pred=np.concatenate([torch.stack(results[:-1]).flatten().detach().cpu().numpy(),\n",
    "                              results[-1].flatten().detach().cpu().numpy()])"
   ]
  },
  {
   "cell_type": "code",
   "execution_count": 42,
   "id": "123b12c1",
   "metadata": {},
   "outputs": [],
   "source": [
    "def ROC(y_test,y_pred):\n",
    "    fpr,tpr,tr=roc_curve(y_test,y_pred)\n",
    "    auc=roc_auc_score(y_test,y_pred)\n",
    "    idx=np.argwhere(np.diff(np.sign(tpr-(1-fpr)))).flatten()\n",
    "\n",
    "    plt.xlabel(\"FPR\")\n",
    "    plt.ylabel(\"TPR\")\n",
    "    plt.plot(fpr,tpr,label=\"AUC=\"+str(auc))\n",
    "    plt.plot(fpr,1-fpr,'r:')\n",
    "    plt.plot(fpr[idx],tpr[idx], 'ro')\n",
    "    plt.legend(loc=4)\n",
    "    plt.grid()\n",
    "    plt.show()\n",
    "    return tr[idx]"
   ]
  },
  {
   "cell_type": "code",
   "execution_count": 54,
   "id": "f9eeda54",
   "metadata": {},
   "outputs": [
    {
     "data": {
      "image/png": "[encoded data removed]",
      "text/plain": [
       "<Figure size 640x480 with 1 Axes>"
      ]
     },
     "metadata": {},
     "output_type": "display_data"
    }
   ],
   "source": [
    "threshold = ROC(y_test,y_pred)"
   ]
  },
  {
   "cell_type": "code",
   "execution_count": 55,
   "id": "71bf6f2c",
   "metadata": {},
   "outputs": [
    {
     "data": {
      "text/plain": [
       "array([0.44096243], dtype=float32)"
      ]
     },
     "execution_count": 55,
     "metadata": {},
     "output_type": "execute_result"
    }
   ],
   "source": [
    "threshold"
   ]
  },
  {
   "cell_type": "code",
   "execution_count": 45,
   "id": "e7a0ac7a-0a4d-4bfa-9c97-eeb402e388fd",
   "metadata": {},
   "outputs": [
    {
     "data": {
      "image/png": "[encoded data removed]",
      "text/plain": [
       "<Figure size 640x480 with 1 Axes>"
      ]
     },
     "metadata": {},
     "output_type": "display_data"
    }
   ],
   "source": [
    "x_vals = 0.4 + np.linspace(0, 0.3, 50)\n",
    "plt.plot(x_vals, f_history)\n",
    "plt.xlabel('Threshold')\n",
    "plt.ylabel('F1 score')\n",
    "\n",
    "max_y = max(f_history)\n",
    "max_x = np.argmax(f_history)\n",
    "plt.axhline(y=max_y, color='r', linestyle='--', label='Max Y')\n",
    "plt.text(0.6, max_y + 0.05, f'Max F1= {max_y: .4f}', color='r')\n",
    "plt.ylim(0, 1)\n",
    "plt.grid(True)\n",
    "\n",
    "plt.savefig('my_plot.png')\n",
    "\n",
    "plt.show()"
   ]
  },
  {
   "cell_type": "code",
   "execution_count": 57,
   "id": "513a1746",
   "metadata": {},
   "outputs": [
    {
     "name": "stdout",
     "output_type": "stream",
     "text": [
      "best: 0.5581632653061224 F1: 0.721027309227812\n"
     ]
    },
    {
     "data": {
      "text/plain": [
       "[<matplotlib.lines.Line2D at 0x7f1b05d261d0>]"
      ]
     },
     "execution_count": 57,
     "metadata": {},
     "output_type": "execute_result"
    },
    {
     "data": {
      "image/png": "[encoded data removed]",
      "text/plain": [
       "<Figure size 640x480 with 1 Axes>"
      ]
     },
     "metadata": {},
     "output_type": "display_data"
    }
   ],
   "source": [
    "ff = 0\n",
    "f_history = []\n",
    "initial_y = 0.35\n",
    "best = -1\n",
    "for inc in np.linspace(0, 0.3, 50):\n",
    "    y_pred_int = [1 if (yy > initial_y + inc) else 0 for yy in y_pred]\n",
    "    conf_matrix = confusion_matrix(y_test, y_pred_int)\n",
    "    TP = conf_matrix[1, 1]\n",
    "    TN = conf_matrix[0, 0]\n",
    "    FP = conf_matrix[0, 1]\n",
    "    FN = conf_matrix[1, 0]\n",
    "    F1 = f1_score(y_test, y_pred_int)\n",
    "    f_history.append(F1)\n",
    "\n",
    "    precision = precision_score(y_test, y_pred_int)\n",
    "    recall = recall_score(y_test, y_pred_int)\n",
    "    if F1 > ff:\n",
    "        ff = F1\n",
    "        best = inc\n",
    "print(f'best: {best + initial_y} F1: {ff}')\n",
    "plt.plot(f_history)"
   ]
  },
  {
   "cell_type": "code",
   "execution_count": 62,
   "id": "04a5c9f7",
   "metadata": {},
   "outputs": [
    {
     "name": "stdout",
     "output_type": "stream",
     "text": [
      "Precision: 0.9629258517034068\n",
      "Recall: 0.5765371050430862\n",
      "F1 Score: 0.7212417557425518\n",
      "TP: 31713\n",
      "TN: 393680\n",
      "FP: 1221\n",
      "FN: 23293\n"
     ]
    }
   ],
   "source": [
    "y_pred_int = [1 if (yy > 0.558) else 0 for yy in y_pred]\n",
    "conf_matrix = confusion_matrix(y_test, y_pred_int)\n",
    "TP = conf_matrix[1, 1]\n",
    "TN = conf_matrix[0, 0]\n",
    "FP = conf_matrix[0, 1]\n",
    "FN = conf_matrix[1, 0]\n",
    "F1 = f1_score(y_test, y_pred_int)\n",
    "\n",
    "precision = precision_score(y_test, y_pred_int)\n",
    "recall = recall_score(y_test, y_pred_int)\n",
    "print(\"Precision:\", precision)\n",
    "print(\"Recall:\", recall)\n",
    "print(\"F1 Score:\", F1)\n",
    "print(f'TP: {TP}\\nTN: {TN}\\nFP: {FP}\\nFN: {FN}')"
   ]
  },
  {
   "cell_type": "markdown",
   "id": "9ee47f5c-9fde-4809-b6eb-3de158eac2f3",
   "metadata": {},
   "source": [
    "# Try adjust point"
   ]
  },
  {
   "cell_type": "code",
   "execution_count": 90,
   "id": "c63f4973",
   "metadata": {},
   "outputs": [
    {
     "data": {
      "text/plain": [
       "0.012121212121212121"
      ]
     },
     "execution_count": 90,
     "metadata": {},
     "output_type": "execute_result"
    }
   ],
   "source": [
    "best"
   ]
  }
 ],
 "metadata": {
  "kernelspec": {
   "display_name": "NIS",
   "language": "python",
   "name": "art"
  },
  "language_info": {
   "codemirror_mode": {
    "name": "ipython",
    "version": 3
   },
   "file_extension": ".py",
   "mimetype": "text/x-python",
   "name": "python",
   "nbconvert_exporter": "python",
   "pygments_lexer": "ipython3",
   "version": "3.11.5"
  }
 },
 "nbformat": 4,
 "nbformat_minor": 5
}
