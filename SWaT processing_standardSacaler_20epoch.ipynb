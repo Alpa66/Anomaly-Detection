{
 "cells": [
  {
   "cell_type": "markdown",
   "id": "9f6c384a",
   "metadata": {},
   "source": [
    "# USAD\n",
    "## Importing packages"
   ]
  },
  {
   "cell_type": "code",
   "execution_count": 1,
   "id": "06186c5f",
   "metadata": {},
   "outputs": [],
   "source": [
    "import pandas as pd\n",
    "import numpy as np\n",
    "import torch\n",
    "import torch.nn as nn\n",
    "import matplotlib.pyplot as plt\n",
    "from tqdm.auto import tqdm\n",
    "from torch.utils.data import Dataset, DataLoader\n",
    "from sklearn.preprocessing import MinMaxScaler, StandardScaler\n",
    "\n",
    "from sklearn.metrics import confusion_matrix, f1_score, roc_curve, roc_auc_score, precision_score, recall_score"
   ]
  },
  {
   "cell_type": "code",
   "execution_count": 2,
   "id": "9c3c4c7a",
   "metadata": {},
   "outputs": [
    {
     "name": "stdout",
     "output_type": "stream",
     "text": [
      " MNIST\t\t\t       SWaT_Dataset_Normal_v1.xlsx\n",
      " SWaT_Dataset_Attack_v0.csv    WADI_14days_new.csv\n",
      " SWaT_Dataset_Attack_v0.xlsx  'WADI.A1_9 Oct 2017'\n",
      " SWaT_Dataset_Normal_v0.csv   'WADI.A2_19 Nov 2019'\n",
      " SWaT_Dataset_Normal_v0.xlsx   WADI_attackdataLABLE.csv\n",
      " SWaT_Dataset_Normal_v1.csv\n"
     ]
    }
   ],
   "source": [
    "!ls data"
   ]
  },
  {
   "cell_type": "markdown",
   "id": "7d53da8a",
   "metadata": {},
   "source": [
    "## Reading data"
   ]
  },
  {
   "cell_type": "code",
   "execution_count": 38,
   "id": "4c83de10",
   "metadata": {},
   "outputs": [],
   "source": [
    "df = pd.read_csv('../datasets/swat/Physical/SWaT_Dataset_Normal_v1.csv')\n",
    "df = df.drop(columns=[' Timestamp', 'Normal/Attack'])\n",
    "df = df.astype('float64')"
   ]
  },
  {
   "cell_type": "markdown",
   "id": "55f4af0a",
   "metadata": {},
   "source": [
    "### Processing data"
   ]
  },
  {
   "cell_type": "code",
   "execution_count": 39,
   "id": "44f6ff7f",
   "metadata": {},
   "outputs": [],
   "source": [
    "grouping_array = np.arange(len(df)) // 5\n",
    "df = df.groupby(grouping_array).median()"
   ]
  },
  {
   "cell_type": "code",
   "execution_count": 40,
   "id": "0c1ead44",
   "metadata": {},
   "outputs": [
    {
     "data": {
      "text/plain": [
       "(99000, 51)"
      ]
     },
     "execution_count": 40,
     "metadata": {},
     "output_type": "execute_result"
    }
   ],
   "source": [
    "df.shape"
   ]
  },
  {
   "cell_type": "code",
   "execution_count": 41,
   "id": "ae339864",
   "metadata": {},
   "outputs": [],
   "source": [
    "window_size = 12\n",
    "input_size = window_size * 51\n",
    "latent_space = 10 * window_size\n",
    "epochs = 20"
   ]
  },
  {
   "cell_type": "code",
   "execution_count": 42,
   "id": "7dfe6caa",
   "metadata": {},
   "outputs": [],
   "source": [
    "mm = StandardScaler()"
   ]
  },
  {
   "cell_type": "code",
   "execution_count": 43,
   "id": "83abe587",
   "metadata": {},
   "outputs": [],
   "source": [
    "Normalized = pd.DataFrame(mm.fit_transform(df))\n",
    "train_set = Normalized[: int(0.8 * Normalized.shape[0])]\n",
    "validation_set = Normalized[int(0.8 * Normalized.shape[0]):]"
   ]
  },
  {
   "cell_type": "code",
   "execution_count": 44,
   "id": "c3de137d",
   "metadata": {},
   "outputs": [
    {
     "name": "stdout",
     "output_type": "stream",
     "text": [
      "cuda:0\n"
     ]
    }
   ],
   "source": [
    "device = torch.device('cuda:0' if torch.cuda.is_available() else 'cpu')\n",
    "# device = torch.device('cpu')\n",
    "print(device)"
   ]
  },
  {
   "cell_type": "code",
   "execution_count": 45,
   "id": "fad13d19",
   "metadata": {},
   "outputs": [],
   "source": [
    "#device = torch.device('cpu')"
   ]
  },
  {
   "cell_type": "code",
   "execution_count": 46,
   "id": "130e5791",
   "metadata": {},
   "outputs": [],
   "source": [
    "class SWat_dataset(Dataset):\n",
    "    def __init__(self, dataframe: pd.DataFrame, target: pd.DataFrame,  window_size):\n",
    "        self.data = dataframe\n",
    "        self.window_size = window_size\n",
    "\n",
    "    def __len__(self):\n",
    "        return len(self.data) - self.window_size\n",
    "\n",
    "    def __getitem__(self, idx):\n",
    "        window = self.data[idx: idx + self.window_size]\n",
    "        features = torch.tensor(window.iloc[:,:].values).float().to(device)\n",
    "        return features"
   ]
  },
  {
   "cell_type": "code",
   "execution_count": 47,
   "id": "7bb00e04",
   "metadata": {},
   "outputs": [],
   "source": [
    "train_dataset = SWat_dataset(train_set, train_set, window_size)\n",
    "validation_dataset = SWat_dataset(validation_set, validation_set, window_size)\n",
    "\n",
    "batch_size = 4096\n",
    "train_loader = DataLoader(train_dataset, batch_size=batch_size, shuffle=True, num_workers=0)\n",
    "validation_loader = DataLoader(validation_dataset, batch_size=batch_size, shuffle=True, num_workers=0)"
   ]
  },
  {
   "cell_type": "markdown",
   "id": "22cf1ae6",
   "metadata": {},
   "source": [
    "## Setting up the model structure"
   ]
  },
  {
   "cell_type": "code",
   "execution_count": 48,
   "id": "4582b348",
   "metadata": {},
   "outputs": [],
   "source": [
    "class Encoder(nn.Module):\n",
    "    def __init__(self, input_size, hidden_size):\n",
    "        super(Encoder, self).__init__()\n",
    "        self.input_size = input_size\n",
    "        self.hidden_size = hidden_size\n",
    "        self.fc1 = nn.Linear(input_size, input_size // 2)\n",
    "        self.relu = nn.ReLU(True)\n",
    "        self.fc2 = nn.Linear(input_size // 2, input_size // 4)\n",
    "        self.fc3 = nn.Linear(input_size // 4, hidden_size)\n",
    "    \n",
    "    def forward(self, x):\n",
    "        out = self.relu(self.fc1(x))\n",
    "        out = self.relu(self.fc2(out))\n",
    "        out = self.relu(self.fc3(out))\n",
    "        return out\n",
    "\n",
    "\n",
    "class AutoEncoder(nn.Module):\n",
    "    def __init__(self, input_size, hidden_size, encoder):        \n",
    "        super(AutoEncoder, self).__init__()\n",
    "        self.encoder = encoder\n",
    "        self.input_size = input_size\n",
    "        self.hidden_size = hidden_size\n",
    "        self.sigmoid = nn.Sigmoid()\n",
    "        self.relu = nn.ReLU(True)\n",
    "        self.fc1 = nn.Linear(hidden_size, input_size // 4)\n",
    "        self.fc2 = nn.Linear(input_size // 4, input_size // 2)\n",
    "        self.fc3 = nn.Linear(input_size // 2, input_size)\n",
    "        \n",
    "    def forward(self, x):\n",
    "        out = self.encoder(x)\n",
    "        out = self.relu(self.fc1(out))\n",
    "        out = self.relu(self.fc2(out))\n",
    "        out = self.fc3(out)\n",
    "        return out"
   ]
  },
  {
   "cell_type": "code",
   "execution_count": 49,
   "id": "7aa83ddb",
   "metadata": {},
   "outputs": [],
   "source": [
    "shared_encoder = Encoder(input_size, latent_space)\n",
    "AE1 = AutoEncoder(input_size, latent_space, shared_encoder)\n",
    "AE2 = AutoEncoder(input_size, latent_space, shared_encoder)"
   ]
  },
  {
   "cell_type": "code",
   "execution_count": 50,
   "id": "4d306383",
   "metadata": {},
   "outputs": [
    {
     "data": {
      "text/plain": [
       "AutoEncoder(\n",
       "  (encoder): Encoder(\n",
       "    (fc1): Linear(in_features=612, out_features=306, bias=True)\n",
       "    (relu): ReLU(inplace=True)\n",
       "    (fc2): Linear(in_features=306, out_features=153, bias=True)\n",
       "    (fc3): Linear(in_features=153, out_features=120, bias=True)\n",
       "  )\n",
       "  (sigmoid): Sigmoid()\n",
       "  (relu): ReLU(inplace=True)\n",
       "  (fc1): Linear(in_features=120, out_features=153, bias=True)\n",
       "  (fc2): Linear(in_features=153, out_features=306, bias=True)\n",
       "  (fc3): Linear(in_features=306, out_features=612, bias=True)\n",
       ")"
      ]
     },
     "execution_count": 50,
     "metadata": {},
     "output_type": "execute_result"
    }
   ],
   "source": [
    "shared_encoder.to(device)\n",
    "AE1.to(device)\n",
    "AE2.to(device)"
   ]
  },
  {
   "cell_type": "code",
   "execution_count": 51,
   "id": "b37bf476",
   "metadata": {},
   "outputs": [],
   "source": [
    "optimizer1 = torch.optim.Adam(AE1.parameters())\n",
    "optimizer2 = torch.optim.Adam(AE2.parameters())"
   ]
  },
  {
   "cell_type": "markdown",
   "id": "015328f9",
   "metadata": {},
   "source": [
    "## Training the model"
   ]
  },
  {
   "cell_type": "markdown",
   "id": "abf47e12",
   "metadata": {},
   "source": [
    "### Training"
   ]
  },
  {
   "cell_type": "code",
   "execution_count": 52,
   "id": "4a86afc5",
   "metadata": {},
   "outputs": [
    {
     "name": "stdout",
     "output_type": "stream",
     "text": [
      "Epoch: 0 ---> Val loss: AE1 0.2630, AE2: 0.2606\n",
      "Train loss: AE1 0.6110, AE2 0.5915\n",
      "Epoch: 1 ---> Val loss: AE1 0.2305, AE2: -0.0274\n",
      "Train loss: AE1 0.3413, AE2 -0.0283\n",
      "Epoch: 2 ---> Val loss: AE1 0.2857, AE2: -0.1228\n",
      "Train loss: AE1 0.6188, AE2 -0.2720\n",
      "Epoch: 3 ---> Val loss: AE1 0.3147, AE2: -0.1909\n",
      "Train loss: AE1 0.6370, AE2 -0.3954\n",
      "Epoch: 4 ---> Val loss: AE1 0.4247, AE2: -0.3062\n",
      "Train loss: AE1 0.7204, AE2 -0.5272\n",
      "Epoch: 5 ---> Val loss: AE1 0.4217, AE2: -0.3537\n",
      "Train loss: AE1 0.8029, AE2 -0.6919\n",
      "Epoch: 6 ---> Val loss: AE1 0.4313, AE2: -0.3794\n",
      "Train loss: AE1 0.8030, AE2 -0.7301\n",
      "Epoch: 7 ---> Val loss: AE1 0.4269, AE2: -0.3849\n",
      "Train loss: AE1 0.8130, AE2 -0.7545\n",
      "Epoch: 8 ---> Val loss: AE1 0.4295, AE2: -0.3932\n",
      "Train loss: AE1 0.8212, AE2 -0.7699\n",
      "Epoch: 9 ---> Val loss: AE1 0.4273, AE2: -0.3964\n",
      "Train loss: AE1 0.8292, AE2 -0.7874\n",
      "Epoch: 10 ---> Val loss: AE1 0.4312, AE2: -0.4038\n",
      "Train loss: AE1 0.8214, AE2 -0.7872\n",
      "Epoch: 11 ---> Val loss: AE1 0.4265, AE2: -0.4023\n",
      "Train loss: AE1 0.8340, AE2 -0.8014\n",
      "Epoch: 12 ---> Val loss: AE1 0.4302, AE2: -0.4082\n",
      "Train loss: AE1 0.8184, AE2 -0.7905\n",
      "Epoch: 13 ---> Val loss: AE1 0.4321, AE2: -0.4113\n",
      "Train loss: AE1 0.8402, AE2 -0.8153\n",
      "Epoch: 14 ---> Val loss: AE1 0.4213, AE2: -0.4026\n",
      "Train loss: AE1 0.8227, AE2 -0.8004\n",
      "Epoch: 15 ---> Val loss: AE1 0.4281, AE2: -0.4108\n",
      "Train loss: AE1 0.8417, AE2 -0.8127\n",
      "Epoch: 16 ---> Val loss: AE1 0.4291, AE2: -0.4136\n",
      "Train loss: AE1 0.8455, AE2 -0.8231\n",
      "Epoch: 17 ---> Val loss: AE1 0.4343, AE2: -0.4200\n",
      "Train loss: AE1 0.8412, AE2 -0.8224\n",
      "Epoch: 18 ---> Val loss: AE1 0.4286, AE2: -0.4153\n",
      "Train loss: AE1 0.8393, AE2 -0.8233\n",
      "Epoch: 19 ---> Val loss: AE1 0.4311, AE2: -0.4186\n",
      "Train loss: AE1 0.8305, AE2 -0.8167\n"
     ]
    }
   ],
   "source": [
    "AE1_val_history = []\n",
    "AE2_val_history = []\n",
    "for i in range(epochs):\n",
    "    running_loss_AE1 = []\n",
    "    running_loss_AE2 = []\n",
    "    val_loss_AE1 = []\n",
    "    val_loss_AE2 = []\n",
    "    for index_b, features in enumerate(train_loader):\n",
    "        features = features.view(features.shape[0], -1)\n",
    "        \n",
    "        w1 = AE1(features)\n",
    "        w2 = AE2(features)\n",
    "        w3 = AE2(w1)\n",
    "        lossAE1 = (1 / (i + 1)) * torch.mean((features - w1) ** 2) + (1 - (1 / (i + 1))) * torch.mean((features - w3) ** 2)\n",
    "        lossAE2 = (1 / (i + 1)) * torch.mean((features - w2) ** 2) - (1 - (1 / (i + 1))) * torch.mean((features - w3) ** 2)\n",
    "        \n",
    "        running_loss_AE1.append(lossAE1)\n",
    "        lossAE1.backward()\n",
    "        optimizer1.step()\n",
    "        optimizer1.zero_grad()\n",
    "        \n",
    "        w1 = AE1(features)\n",
    "        w2 = AE2(features)\n",
    "        w3 = AE2(w1)\n",
    "        lossAE1 = (1 / (i + 1)) * torch.mean((features - w1) ** 2) + (1 - (1 / (i + 1))) * torch.mean((features - w3) ** 2)\n",
    "        lossAE2 = (1 / (i + 1)) * torch.mean((features - w2) ** 2) - (1 - (1 / (i + 1))) * torch.mean((features - w3) ** 2)\n",
    "        \n",
    "        running_loss_AE2.append(lossAE2)\n",
    "        lossAE2.backward()\n",
    "        optimizer2.step()\n",
    "        optimizer2.zero_grad()\n",
    "    \n",
    "    for index_b, features in enumerate(validation_loader):\n",
    "        with torch.no_grad():\n",
    "            features = features.view(features.shape[0], -1)\n",
    "        \n",
    "            w1 = AE1(features)\n",
    "            w2 = AE2(features)\n",
    "            w3 = AE2(w1)\n",
    "            lossAE1 = (1 / (i + 1)) * torch.mean((features - w1) ** 2) + (1 - (1 / (i + 1))) * torch.mean((features - w3) ** 2)\n",
    "            lossAE2 = (1 / (i + 1)) * torch.mean((features - w2) ** 2) - (1 - (1 / (i + 1))) * torch.mean((features - w3) ** 2)\n",
    "            val_loss_AE1.append(lossAE1)\n",
    "            val_loss_AE2.append(lossAE2)\n",
    "    AE1_val_history.append(torch.stack(val_loss_AE1).mean().item())\n",
    "    AE2_val_history.append(torch.stack(val_loss_AE2).mean().item())\n",
    "    print(f'Epoch: {i} ---> Val loss: AE1 {AE1_val_history[-1]:.4f}, AE2: {AE2_val_history[-1]:.4f}')\n",
    "    print(f'Train loss: AE1 {torch.stack(running_loss_AE1).mean().item():.4f}, AE2 {torch.stack(running_loss_AE2).mean().item():.4f}')"
   ]
  },
  {
   "cell_type": "code",
   "execution_count": 53,
   "id": "c0445749-d836-4611-9fc3-bdbcbaa52cda",
   "metadata": {},
   "outputs": [],
   "source": [
    "def plot_history(losses1, losses2):\n",
    "    plt.plot(losses1, '-x', label=\"loss1\")\n",
    "    plt.plot(losses2, '-x', label=\"loss2\")\n",
    "    plt.xlabel('epoch')\n",
    "    plt.ylabel('loss')\n",
    "    plt.legend()\n",
    "    plt.title('Losses vs. No. of epochs')\n",
    "    plt.grid()\n",
    "    plt.savefig('Training_history.png')\n",
    "    plt.show()"
   ]
  },
  {
   "cell_type": "code",
   "execution_count": 54,
   "id": "ba9d6536-38ca-491a-938f-231c67614048",
   "metadata": {},
   "outputs": [
    {
     "data": {
      "image/png": "[encoded data removed]",
      "text/plain": [
       "<Figure size 640x480 with 1 Axes>"
      ]
     },
     "metadata": {},
     "output_type": "display_data"
    }
   ],
   "source": [
    "plot_history(AE1_val_history, AE2_val_history)"
   ]
  },
  {
   "cell_type": "code",
   "execution_count": null,
   "id": "d7c94e94",
   "metadata": {},
   "outputs": [],
   "source": [
    "torch.save(AE1.state_dict(), 'my_USAD_without_downsampling_AE1_hidden_10_random.pth')\n",
    "torch.save(AE2.state_dict(), 'my_USAD_without_downsampling_AE2_hidden_10_random.pth')"
   ]
  },
  {
   "cell_type": "code",
   "execution_count": 37,
   "id": "685d44f1",
   "metadata": {},
   "outputs": [
    {
     "data": {
      "text/plain": [
       "<All keys matched successfully>"
      ]
     },
     "execution_count": 37,
     "metadata": {},
     "output_type": "execute_result"
    }
   ],
   "source": [
    "AE1.load_state_dict(torch.load('my_USAD_without_downsampling_AE1_100_hidden.pth'))\n",
    "AE2.load_state_dict(torch.load('my_USAD_without_downsampling_AE2_100_hidden.pth'))"
   ]
  },
  {
   "cell_type": "markdown",
   "id": "93a3cc44",
   "metadata": {},
   "source": [
    "## Testing"
   ]
  },
  {
   "cell_type": "code",
   "execution_count": 55,
   "id": "caf3ee9f",
   "metadata": {},
   "outputs": [],
   "source": [
    "df2 = pd.read_csv('../datasets/swat/Physical/SWaT_Dataset_Attack_v0.csv')\n",
    "labels = df2['Normal/Attack']\n",
    "df2 = df2.drop(columns=[' Timestamp', 'Normal/Attack'])\n",
    "df2 = df2.astype('float64')\n",
    "df2.columns = df.columns"
   ]
  },
  {
   "cell_type": "code",
   "execution_count": 56,
   "id": "b8cd8f00",
   "metadata": {},
   "outputs": [],
   "source": [
    "test_normalized = pd.DataFrame(mm.transform(df2))"
   ]
  },
  {
   "cell_type": "code",
   "execution_count": 57,
   "id": "74fb20b9",
   "metadata": {},
   "outputs": [],
   "source": [
    "test_dataset = SWat_dataset(test_normalized, test_normalized, window_size)\n",
    "test_loader = DataLoader(test_dataset, batch_size=batch_size, shuffle=False, num_workers=0)"
   ]
  },
  {
   "cell_type": "code",
   "execution_count": 58,
   "id": "53ae0a10",
   "metadata": {},
   "outputs": [],
   "source": [
    "def testing(test_loader, alpha=.5, beta=.5):\n",
    "    results=[]\n",
    "    with torch.no_grad():\n",
    "        for batch in test_loader:\n",
    "            batch = batch.view(batch.shape[0], -1)\n",
    "            w1=AE1(batch)\n",
    "            w2=AE2(w1)\n",
    "            results.append(alpha*torch.mean((batch-w1)**2,axis=1)+beta*torch.mean((batch-w2)**2,axis=1))\n",
    "    return results"
   ]
  },
  {
   "cell_type": "code",
   "execution_count": 59,
   "id": "19a22d18",
   "metadata": {},
   "outputs": [],
   "source": [
    "labels = labels.values\n",
    "labels = [0 if (lab == 'Normal') else 1 for lab in labels]"
   ]
  },
  {
   "cell_type": "code",
   "execution_count": 60,
   "id": "cf332b9e-783c-4e83-b35f-adb26977a061",
   "metadata": {},
   "outputs": [
    {
     "data": {
      "text/plain": [
       "54621"
      ]
     },
     "execution_count": 60,
     "metadata": {},
     "output_type": "execute_result"
    }
   ],
   "source": [
    "np.sum(labels)"
   ]
  },
  {
   "cell_type": "code",
   "execution_count": 61,
   "id": "812d1112",
   "metadata": {},
   "outputs": [],
   "source": [
    "windows_labels=[]\n",
    "for i in range(len(labels)-window_size):\n",
    "    windows_labels.append(list(np.int32(labels[i:i+window_size])))"
   ]
  },
  {
   "cell_type": "code",
   "execution_count": 62,
   "id": "a2caf045",
   "metadata": {},
   "outputs": [],
   "source": [
    "y_test = [1.0 if (np.sum(window) > 0) else 0 for window in windows_labels]"
   ]
  },
  {
   "cell_type": "code",
   "execution_count": 63,
   "id": "b40ee266-cc6c-4d16-8779-cbb6a2afa5c2",
   "metadata": {},
   "outputs": [
    {
     "data": {
      "text/plain": [
       "55006.0"
      ]
     },
     "execution_count": 63,
     "metadata": {},
     "output_type": "execute_result"
    }
   ],
   "source": [
    "np.sum(y_test)"
   ]
  },
  {
   "cell_type": "code",
   "execution_count": 64,
   "id": "9d9385ba",
   "metadata": {},
   "outputs": [],
   "source": [
    "results=testing(test_loader)"
   ]
  },
  {
   "cell_type": "code",
   "execution_count": 65,
   "id": "fbacc678",
   "metadata": {},
   "outputs": [],
   "source": [
    "y_pred=np.concatenate([torch.stack(results[:-1]).flatten().detach().cpu().numpy(),\n",
    "                              results[-1].flatten().detach().cpu().numpy()])"
   ]
  },
  {
   "cell_type": "code",
   "execution_count": 66,
   "id": "b4101aa2-2ec8-4971-b002-7bf10ff7d055",
   "metadata": {},
   "outputs": [
    {
     "data": {
      "text/plain": [
       "(449907,)"
      ]
     },
     "execution_count": 66,
     "metadata": {},
     "output_type": "execute_result"
    }
   ],
   "source": [
    "y_pred.shape"
   ]
  },
  {
   "cell_type": "code",
   "execution_count": 67,
   "id": "123b12c1",
   "metadata": {},
   "outputs": [],
   "source": [
    "def ROC(y_test,y_pred):\n",
    "    fpr,tpr,tr=roc_curve(y_test,y_pred)\n",
    "    auc=roc_auc_score(y_test,y_pred)\n",
    "    idx=np.argwhere(np.diff(np.sign(tpr-(1-fpr)))).flatten()\n",
    "\n",
    "    plt.xlabel(\"FPR\")\n",
    "    plt.ylabel(\"TPR\")\n",
    "    plt.plot(fpr,tpr,label=\"AUC=\"+str(auc))\n",
    "    plt.plot(fpr,1-fpr,'r:')\n",
    "    plt.plot(fpr[idx],tpr[idx], 'ro')\n",
    "    plt.legend(loc=4)\n",
    "    plt.grid()\n",
    "    plt.show()\n",
    "    return tr[idx]"
   ]
  },
  {
   "cell_type": "code",
   "execution_count": 68,
   "id": "f9eeda54",
   "metadata": {},
   "outputs": [
    {
     "data": {
      "image/png": "[encoded data removed]",
      "text/plain": [
       "<Figure size 640x480 with 1 Axes>"
      ]
     },
     "metadata": {},
     "output_type": "display_data"
    }
   ],
   "source": [
    "threshold = ROC(y_test,y_pred)"
   ]
  },
  {
   "cell_type": "code",
   "execution_count": 69,
   "id": "71bf6f2c",
   "metadata": {},
   "outputs": [
    {
     "data": {
      "text/plain": [
       "array([6.2146053], dtype=float32)"
      ]
     },
     "execution_count": 69,
     "metadata": {},
     "output_type": "execute_result"
    }
   ],
   "source": [
    "threshold"
   ]
  },
  {
   "cell_type": "code",
   "execution_count": 73,
   "id": "e7a0ac7a-0a4d-4bfa-9c97-eeb402e388fd",
   "metadata": {},
   "outputs": [
    {
     "data": {
      "image/png": "[encoded data removed]",
      "text/plain": [
       "<Figure size 640x480 with 1 Axes>"
      ]
     },
     "metadata": {},
     "output_type": "display_data"
    }
   ],
   "source": [
    "x_vals = 0. + np.linspace(0, 20, 50)\n",
    "plt.plot(x_vals, f_history)\n",
    "plt.xlabel('Threshold')\n",
    "plt.ylabel('F1 score')\n",
    "\n",
    "max_y = max(f_history)\n",
    "max_x = np.argmax(f_history)\n",
    "plt.axhline(y=max_y, color='r', linestyle='--', label='Max Y')\n",
    "plt.text(0.6, max_y + 0.05, f'Max F1= {max_y: .4f}', color='r')\n",
    "plt.ylim(0, 1)\n",
    "plt.grid(True)\n",
    "\n",
    "plt.savefig('my_plot.png')\n",
    "\n",
    "plt.show()"
   ]
  },
  {
   "cell_type": "code",
   "execution_count": 70,
   "id": "513a1746",
   "metadata": {},
   "outputs": [
    {
     "name": "stdout",
     "output_type": "stream",
     "text": [
      "best: 13.061224489795919 F1: 0.7654229939771826\n"
     ]
    },
    {
     "data": {
      "text/plain": [
       "[<matplotlib.lines.Line2D at 0x7bc6ef123c50>]"
      ]
     },
     "execution_count": 70,
     "metadata": {},
     "output_type": "execute_result"
    },
    {
     "data": {
      "image/png": "[encoded data removed]",
      "text/plain": [
       "<Figure size 640x480 with 1 Axes>"
      ]
     },
     "metadata": {},
     "output_type": "display_data"
    }
   ],
   "source": [
    "ff = 0\n",
    "f_history = []\n",
    "initial_y = 0.\n",
    "best = -1\n",
    "for inc in np.linspace(0, 20, 50):\n",
    "    y_pred_int = [1 if (yy > initial_y + inc) else 0 for yy in y_pred]\n",
    "    conf_matrix = confusion_matrix(y_test, y_pred_int)\n",
    "    TP = conf_matrix[1, 1]\n",
    "    TN = conf_matrix[0, 0]\n",
    "    FP = conf_matrix[0, 1]\n",
    "    FN = conf_matrix[1, 0]\n",
    "    F1 = f1_score(y_test, y_pred_int)\n",
    "    f_history.append(F1)\n",
    "\n",
    "    precision = precision_score(y_test, y_pred_int)\n",
    "    recall = recall_score(y_test, y_pred_int)\n",
    "    if F1 > ff:\n",
    "        ff = F1\n",
    "        best = inc\n",
    "print(f'best: {best + initial_y} F1: {ff}')\n",
    "plt.plot(f_history)"
   ]
  },
  {
   "cell_type": "code",
   "execution_count": 76,
   "id": "04a5c9f7",
   "metadata": {},
   "outputs": [
    {
     "name": "stdout",
     "output_type": "stream",
     "text": [
      "Precision: 0.9928975213799102\n",
      "Recall: 0.622659346253136\n",
      "F1 Score: 0.7653545770438319\n",
      "TP: 34250\n",
      "TN: 394656\n",
      "FP: 245\n",
      "FN: 20756\n"
     ]
    }
   ],
   "source": [
    "y_pred_int = [1 if (yy > 13.) else 0 for yy in y_pred]\n",
    "conf_matrix = confusion_matrix(y_test, y_pred_int)\n",
    "TP = conf_matrix[1, 1]\n",
    "TN = conf_matrix[0, 0]\n",
    "FP = conf_matrix[0, 1]\n",
    "FN = conf_matrix[1, 0]\n",
    "F1 = f1_score(y_test, y_pred_int)\n",
    "\n",
    "precision = precision_score(y_test, y_pred_int)\n",
    "recall = recall_score(y_test, y_pred_int)\n",
    "print(\"Precision:\", precision)\n",
    "print(\"Recall:\", recall)\n",
    "print(\"F1 Score:\", F1)\n",
    "print(f'TP: {TP}\\nTN: {TN}\\nFP: {FP}\\nFN: {FN}')"
   ]
  },
  {
   "cell_type": "markdown",
   "id": "9ee47f5c-9fde-4809-b6eb-3de158eac2f3",
   "metadata": {},
   "source": [
    "# Try adjust point"
   ]
  },
  {
   "cell_type": "code",
   "execution_count": 77,
   "id": "c63f4973",
   "metadata": {},
   "outputs": [
    {
     "data": {
      "text/plain": [
       "13.061224489795919"
      ]
     },
     "execution_count": 77,
     "metadata": {},
     "output_type": "execute_result"
    }
   ],
   "source": [
    "best"
   ]
  },
  {
   "cell_type": "code",
   "execution_count": null,
   "id": "71669c67-aeb3-482d-898f-5aafe15a2226",
   "metadata": {},
   "outputs": [],
   "source": []
  }
 ],
 "metadata": {
  "kernelspec": {
   "display_name": "Python 3 (ipykernel)",
   "language": "python",
   "name": "python3"
  },
  "language_info": {
   "codemirror_mode": {
    "name": "ipython",
    "version": 3
   },
   "file_extension": ".py",
   "mimetype": "text/x-python",
   "name": "python",
   "nbconvert_exporter": "python",
   "pygments_lexer": "ipython3",
   "version": "3.11.5"
  }
 },
 "nbformat": 4,
 "nbformat_minor": 5
}
