{
 "cells": [
  {
   "cell_type": "markdown",
   "metadata": {},
   "source": [
    "# Experiment 8\n",
    "In this experiment, the adversarial learning technique is dropped altogether, a single Graph-based auto-encoder is used, using anothoer implementation of the Graph autoencoder, and the without using torch_geometry's implementation"
   ]
  },
  {
   "cell_type": "code",
   "execution_count": 1,
   "metadata": {},
   "outputs": [
    {
     "name": "stdout",
     "output_type": "stream",
     "text": [
      " MNIST\t\t\t       SWaT_Dataset_Normal_v1.xlsx\n",
      " SWaT_Dataset_Attack_v0.csv    WADI_14days_new.csv\n",
      " SWaT_Dataset_Attack_v0.xlsx  'WADI.A1_9 Oct 2017'\n",
      " SWaT_Dataset_Normal_v0.csv   'WADI.A2_19 Nov 2019'\n",
      " SWaT_Dataset_Normal_v0.xlsx   WADI_attackdataLABLE.csv\n",
      " SWaT_Dataset_Normal_v1.csv\n"
     ]
    }
   ],
   "source": [
    "!ls ../../Projects/data/"
   ]
  },
  {
   "cell_type": "code",
   "execution_count": 1,
   "metadata": {},
   "outputs": [],
   "source": [
    "import numpy as np\n",
    "import pandas as pd\n",
    "import torch\n",
    "import torch.nn as nn\n",
    "import matplotlib.pyplot as plt\n",
    "import torch.nn.functional as F\n",
    "import torch_geometric.transforms as T\n",
    "\n",
    "from torch.optim import Adam\n",
    "from torch_geometric.nn import GAE, VGAE, GCNConv\n",
    "from torch.utils.data import Dataset, DataLoader\n",
    "from sklearn.preprocessing import StandardScaler\n",
    "from layers import *\n",
    "\n",
    "from sklearn.metrics import confusion_matrix, f1_score, roc_curve, roc_auc_score, precision_score, recall_score"
   ]
  },
  {
   "cell_type": "markdown",
   "metadata": {},
   "source": [
    "### Dataset:"
   ]
  },
  {
   "cell_type": "code",
   "execution_count": 2,
   "metadata": {},
   "outputs": [],
   "source": [
    "df = pd.read_csv('../../Projects/data/SWaT_Dataset_Normal_v1.csv')\n",
    "df = df.drop(columns=[' Timestamp', 'Normal/Attack'])\n",
    "df = df.astype('float64')\n",
    "df = df.iloc[21600:]\n",
    "mm = StandardScaler()\n",
    "Normalized = pd.DataFrame(mm.fit_transform(df))\n",
    "train_set = Normalized[: int(0.8 * Normalized.shape[0])]\n",
    "validation_set = Normalized[int(0.8 * Normalized.shape[0]):]"
   ]
  },
  {
   "cell_type": "code",
   "execution_count": 3,
   "metadata": {},
   "outputs": [
    {
     "data": {
      "text/plain": [
       "device(type='cuda')"
      ]
     },
     "execution_count": 3,
     "metadata": {},
     "output_type": "execute_result"
    }
   ],
   "source": [
    "device = torch.device('cuda' if torch.cuda.is_available() else 'cpu')\n",
    "device"
   ]
  },
  {
   "cell_type": "markdown",
   "metadata": {},
   "source": [
    "### Dataloader:"
   ]
  },
  {
   "cell_type": "code",
   "execution_count": 4,
   "metadata": {},
   "outputs": [],
   "source": [
    "window_size = 100\n",
    "input_size = window_size * 51\n",
    "latent_space = 10 * window_size\n",
    "epochs = 50\n",
    "train_dataset = SWat_dataset(train_set, train_set, window_size, device)\n",
    "validation_dataset = SWat_dataset(validation_set, validation_set, window_size, device)\n",
    "\n",
    "batch_size = 4096\n",
    "train_loader = DataLoader(train_dataset, batch_size=batch_size, shuffle=True, num_workers=0)\n",
    "validation_loader = DataLoader(validation_dataset, batch_size=batch_size, shuffle=True, num_workers=0)"
   ]
  },
  {
   "cell_type": "markdown",
   "metadata": {},
   "source": [
    "### Model:"
   ]
  },
  {
   "cell_type": "code",
   "execution_count": 5,
   "metadata": {},
   "outputs": [],
   "source": [
    "class GEncoder(nn.Module):\n",
    "    def __init__(self, num_nodes, window_size):\n",
    "        super(GEncoder, self).__init__()\n",
    "        self.num_nodes = num_nodes\n",
    "        self.window_size = window_size\n",
    "        self.conv1 = GCNLayer(window_size, 12)\n",
    "        self.conv2 = GCNLayer(12, 4)\n",
    "        self.idx = torch.arange(num_nodes).to(device)\n",
    "        self.A = Graph_ReLu_W(num_nodes, k, device)\n",
    "\n",
    "    def forward(self, X):\n",
    "        X = torch.transpose(X, 1, 2)\n",
    "        adj = self.A(self.idx)\n",
    "        h = self.conv1(adj, X).relu()\n",
    "        h = self.conv2(adj, h).relu()\n",
    "        return h\n",
    "        \n",
    "        \n",
    "\n",
    "class GCN_autoencoder(nn.Module):\n",
    "    def __init__(self, encoder, num_nodes, window_size):\n",
    "        super(GCN_autoencoder, self).__init__()\n",
    "        self.window_size = window_size\n",
    "        self.num_nodes = num_nodes\n",
    "        self.encoder = encoder\n",
    "        self.decoder = nn.Sequential(\n",
    "            nn.Linear(204, 400),\n",
    "            nn.ReLU(),\n",
    "            nn.Linear(400, 800),\n",
    "            nn.ReLU(),\n",
    "            nn.Linear(800, num_nodes * window_size)\n",
    "        )\n",
    "        \n",
    "    def forward(self, X):\n",
    "        x = self.encoder(X)\n",
    "        x = torch.flatten(x,1)\n",
    "        x = self.decoder(x)\n",
    "        return x.view(-1, self.window_size, self.num_nodes)"
   ]
  },
  {
   "cell_type": "code",
   "execution_count": 6,
   "metadata": {},
   "outputs": [],
   "source": [
    "num_nodes = 51 # number of nodes\n",
    "ngnn = 1 # number of graph structure learning layers\n",
    "gsllayer = 'directed' # type of graph structure learning layer ('relu', 'directed', 'unidirected', 'undirected')\n",
    "hidden_nodes = 50 # feature size in GCN layers\n",
    "alpha = 0.1 # hyperparameter for weights of edges\n",
    "k = 15 # max number of edges for each node\n",
    "out_channels = 2 # number of process states"
   ]
  },
  {
   "cell_type": "code",
   "execution_count": 7,
   "metadata": {},
   "outputs": [],
   "source": [
    "Encoder = GEncoder(num_nodes, window_size)\n",
    "AE1 = GCN_autoencoder(Encoder, num_nodes, window_size)\n",
    "AE2 = GCN_autoencoder(Encoder, num_nodes, window_size)"
   ]
  },
  {
   "cell_type": "code",
   "execution_count": 8,
   "metadata": {},
   "outputs": [
    {
     "data": {
      "text/plain": [
       "GCN_autoencoder(\n",
       "  (encoder): GEncoder(\n",
       "    (conv1): GCNLayer(\n",
       "      (dense): Linear(in_features=100, out_features=12, bias=True)\n",
       "    )\n",
       "    (conv2): GCNLayer(\n",
       "      (dense): Linear(in_features=12, out_features=4, bias=True)\n",
       "    )\n",
       "    (A): Graph_ReLu_W()\n",
       "  )\n",
       "  (decoder): Sequential(\n",
       "    (0): Linear(in_features=204, out_features=400, bias=True)\n",
       "    (1): ReLU()\n",
       "    (2): Linear(in_features=400, out_features=800, bias=True)\n",
       "    (3): ReLU()\n",
       "    (4): Linear(in_features=800, out_features=5100, bias=True)\n",
       "  )\n",
       ")"
      ]
     },
     "execution_count": 8,
     "metadata": {},
     "output_type": "execute_result"
    }
   ],
   "source": [
    "AE1.to(device)\n",
    "AE2.to(device)"
   ]
  },
  {
   "cell_type": "code",
   "execution_count": 9,
   "metadata": {},
   "outputs": [],
   "source": [
    "optimizer1 = torch.optim.Adam(AE1.parameters())\n",
    "optimizer2 = torch.optim.Adam(AE2.parameters())"
   ]
  },
  {
   "cell_type": "code",
   "execution_count": 19,
   "metadata": {},
   "outputs": [],
   "source": [
    "from torch.utils.tensorboard import SummaryWriter"
   ]
  },
  {
   "cell_type": "code",
   "execution_count": 22,
   "metadata": {},
   "outputs": [
    {
     "data": {
      "text/plain": [
       "torch.Size([4096, 100, 51])"
      ]
     },
     "execution_count": 22,
     "metadata": {},
     "output_type": "execute_result"
    }
   ],
   "source": [
    "features.shape"
   ]
  },
  {
   "cell_type": "code",
   "execution_count": 10,
   "metadata": {},
   "outputs": [
    {
     "name": "stdout",
     "output_type": "stream",
     "text": [
      "Epoch: 0 ---> Val loss: AE1 0.1809, AE2: 0.1772\n",
      "Train loss: AE1 0.3739, AE2 0.3688\n",
      "Epoch: 1 ---> Val loss: AE1 0.1659, AE2: -0.0105\n",
      "Train loss: AE1 0.2152, AE2 -0.0235\n",
      "Epoch: 2 ---> Val loss: AE1 0.1577, AE2: -0.0612\n",
      "Train loss: AE1 0.1630, AE2 -0.0589\n",
      "Epoch: 3 ---> Val loss: AE1 0.1418, AE2: -0.0754\n",
      "Train loss: AE1 0.1514, AE2 -0.0788\n",
      "Epoch: 4 ---> Val loss: AE1 0.1357, AE2: -0.0858\n",
      "Train loss: AE1 0.1420, AE2 -0.0880\n",
      "Epoch: 5 ---> Val loss: AE1 0.1563, AE2: -0.1104\n",
      "Train loss: AE1 0.1425, AE2 -0.0973\n",
      "Epoch: 6 ---> Val loss: AE1 0.1290, AE2: -0.0956\n",
      "Train loss: AE1 0.1351, AE2 -0.0982\n",
      "Epoch: 7 ---> Val loss: AE1 0.1224, AE2: -0.0940\n",
      "Train loss: AE1 0.1257, AE2 -0.0953\n",
      "Epoch: 8 ---> Val loss: AE1 0.1233, AE2: -0.0986\n",
      "Train loss: AE1 0.1274, AE2 -0.0996\n",
      "Epoch: 9 ---> Val loss: AE1 0.1459, AE2: -0.1219\n",
      "Train loss: AE1 0.1359, AE2 -0.1091\n",
      "Epoch: 10 ---> Val loss: AE1 0.1469, AE2: -0.1252\n",
      "Train loss: AE1 0.1346, AE2 -0.1106\n",
      "Epoch: 11 ---> Val loss: AE1 0.1356, AE2: -0.1165\n",
      "Train loss: AE1 0.1306, AE2 -0.1097\n",
      "Epoch: 12 ---> Val loss: AE1 0.1274, AE2: -0.1099\n",
      "Train loss: AE1 0.1336, AE2 -0.1137\n",
      "Epoch: 13 ---> Val loss: AE1 0.1379, AE2: -0.1224\n",
      "Train loss: AE1 0.1326, AE2 -0.1151\n",
      "Epoch: 14 ---> Val loss: AE1 0.1244, AE2: -0.1104\n",
      "Train loss: AE1 0.1295, AE2 -0.1133\n",
      "Epoch: 15 ---> Val loss: AE1 0.1225, AE2: -0.1098\n",
      "Train loss: AE1 0.1213, AE2 -0.1074\n",
      "Epoch: 16 ---> Val loss: AE1 0.1191, AE2: -0.1073\n",
      "Train loss: AE1 0.1187, AE2 -0.1058\n",
      "Epoch: 17 ---> Val loss: AE1 0.1209, AE2: -0.1095\n",
      "Train loss: AE1 0.1225, AE2 -0.1095\n",
      "Epoch: 18 ---> Val loss: AE1 0.1235, AE2: -0.1130\n",
      "Train loss: AE1 0.1231, AE2 -0.1109\n",
      "Epoch: 19 ---> Val loss: AE1 0.1267, AE2: -0.1164\n",
      "Train loss: AE1 0.1301, AE2 -0.1178\n",
      "Epoch: 20 ---> Val loss: AE1 0.1255, AE2: -0.1158\n",
      "Train loss: AE1 0.1281, AE2 -0.1167\n",
      "Epoch: 21 ---> Val loss: AE1 0.1362, AE2: -0.1268\n",
      "Train loss: AE1 0.1223, AE2 -0.1120\n",
      "Epoch: 22 ---> Val loss: AE1 0.1494, AE2: -0.1395\n",
      "Train loss: AE1 0.1318, AE2 -0.1207\n",
      "Epoch: 23 ---> Val loss: AE1 0.1392, AE2: -0.1305\n",
      "Train loss: AE1 0.1338, AE2 -0.1233\n",
      "Epoch: 24 ---> Val loss: AE1 0.1367, AE2: -0.1283\n",
      "Train loss: AE1 0.1362, AE2 -0.1260\n",
      "Epoch: 25 ---> Val loss: AE1 0.1439, AE2: -0.1357\n",
      "Train loss: AE1 0.1317, AE2 -0.1225\n",
      "Epoch: 26 ---> Val loss: AE1 0.1323, AE2: -0.1249\n",
      "Train loss: AE1 0.1331, AE2 -0.1240\n",
      "Epoch: 27 ---> Val loss: AE1 0.1547, AE2: -0.1470\n",
      "Train loss: AE1 0.1368, AE2 -0.1277\n",
      "Epoch: 28 ---> Val loss: AE1 0.1397, AE2: -0.1327\n",
      "Train loss: AE1 0.1342, AE2 -0.1259\n",
      "Epoch: 29 ---> Val loss: AE1 0.1312, AE2: -0.1244\n",
      "Train loss: AE1 0.1338, AE2 -0.1256\n",
      "Epoch: 30 ---> Val loss: AE1 0.1459, AE2: -0.1393\n",
      "Train loss: AE1 0.1348, AE2 -0.1270\n",
      "Epoch: 31 ---> Val loss: AE1 0.1417, AE2: -0.1353\n",
      "Train loss: AE1 0.1386, AE2 -0.1307\n",
      "Epoch: 32 ---> Val loss: AE1 0.1427, AE2: -0.1364\n",
      "Train loss: AE1 0.1408, AE2 -0.1329\n",
      "Epoch: 33 ---> Val loss: AE1 0.1594, AE2: -0.1531\n",
      "Train loss: AE1 0.1517, AE2 -0.1434\n",
      "Epoch: 34 ---> Val loss: AE1 0.1516, AE2: -0.1457\n",
      "Train loss: AE1 0.1434, AE2 -0.1362\n",
      "Epoch: 35 ---> Val loss: AE1 0.1544, AE2: -0.1486\n",
      "Train loss: AE1 0.1420, AE2 -0.1351\n",
      "Epoch: 36 ---> Val loss: AE1 0.1540, AE2: -0.1484\n",
      "Train loss: AE1 0.1418, AE2 -0.1351\n",
      "Epoch: 37 ---> Val loss: AE1 0.1641, AE2: -0.1586\n",
      "Train loss: AE1 0.1429, AE2 -0.1365\n",
      "Epoch: 38 ---> Val loss: AE1 0.1604, AE2: -0.1551\n",
      "Train loss: AE1 0.1423, AE2 -0.1361\n",
      "Epoch: 39 ---> Val loss: AE1 0.1650, AE2: -0.1597\n",
      "Train loss: AE1 0.1530, AE2 -0.1457\n",
      "Epoch: 40 ---> Val loss: AE1 0.1638, AE2: -0.1587\n",
      "Train loss: AE1 0.1455, AE2 -0.1396\n",
      "Epoch: 41 ---> Val loss: AE1 0.1674, AE2: -0.1626\n",
      "Train loss: AE1 0.1470, AE2 -0.1413\n",
      "Epoch: 42 ---> Val loss: AE1 0.1658, AE2: -0.1611\n",
      "Train loss: AE1 0.1470, AE2 -0.1412\n",
      "Epoch: 43 ---> Val loss: AE1 0.1629, AE2: -0.1583\n",
      "Train loss: AE1 0.1474, AE2 -0.1421\n",
      "Epoch: 44 ---> Val loss: AE1 0.1795, AE2: -0.1746\n",
      "Train loss: AE1 0.1536, AE2 -0.1473\n",
      "Epoch: 45 ---> Val loss: AE1 0.1782, AE2: -0.1738\n",
      "Train loss: AE1 0.1576, AE2 -0.1520\n",
      "Epoch: 46 ---> Val loss: AE1 0.1686, AE2: -0.1644\n",
      "Train loss: AE1 0.1500, AE2 -0.1452\n",
      "Epoch: 47 ---> Val loss: AE1 0.1784, AE2: -0.1740\n",
      "Train loss: AE1 0.1546, AE2 -0.1490\n",
      "Epoch: 48 ---> Val loss: AE1 0.1798, AE2: -0.1758\n",
      "Train loss: AE1 0.1564, AE2 -0.1514\n",
      "Epoch: 49 ---> Val loss: AE1 0.1788, AE2: -0.1749\n",
      "Train loss: AE1 0.1556, AE2 -0.1509\n"
     ]
    }
   ],
   "source": [
    "# writer = SummaryWriter('runs/GAE_' + f'{epochs}_epochs' + 'only autoencoder')\n",
    "AE1_val_history = []\n",
    "AE2_val_history = []\n",
    "for i in range(epochs):\n",
    "    running_loss_AE1 = []\n",
    "    running_loss_AE2 = []\n",
    "    val_loss_AE1 = []\n",
    "    val_loss_AE2 = []\n",
    "    for index_b, features in enumerate(train_loader):\n",
    "        # features = torch.transpose(features, 1, 2)\n",
    "        \n",
    "        w1 = AE1(features)\n",
    "        w2 = AE2(features)\n",
    "        w3 = AE2(w1)\n",
    "        lossAE1 = (1 / (i + 1)) * torch.mean((features - w1) ** 2) + (1 - (1 / (i + 1))) * torch.mean((features - w3) ** 2)\n",
    "        lossAE2 = (1 / (i + 1)) * torch.mean((features - w2) ** 2) - (1 - (1 / (i + 1))) * torch.mean((features - w3) ** 2)\n",
    "        \n",
    "        running_loss_AE1.append(lossAE1)\n",
    "        lossAE1.backward()\n",
    "        optimizer1.step()\n",
    "        optimizer1.zero_grad()\n",
    "\n",
    "        w1 = AE1(features)\n",
    "        w2 = AE2(features)\n",
    "        w3 = AE2(w1)\n",
    "        lossAE1 = (1 / (i + 1)) * torch.mean((features - w1) ** 2) + (1 - (1 / (i + 1))) * torch.mean((features - w3) ** 2)\n",
    "        lossAE2 = (1 / (i + 1)) * torch.mean((features - w2) ** 2) - (1 - (1 / (i + 1))) * torch.mean((features - w3) ** 2)\n",
    "        \n",
    "        running_loss_AE2.append(lossAE2)\n",
    "        lossAE2.backward()\n",
    "        optimizer2.step()\n",
    "        optimizer2.zero_grad()\n",
    "    \n",
    "    for index_b, features in enumerate(validation_loader):\n",
    "        with torch.no_grad():\n",
    "            # features = torch.transpose(features, 1, 2)\n",
    "        \n",
    "            w1 = AE1(features)\n",
    "            w2 = AE2(features)\n",
    "            w3 = AE2(w1)\n",
    "            lossAE1 = (1 / (i + 1)) * torch.mean((features - w1) ** 2) + (1 - (1 / (i + 1))) * torch.mean((features - w3) ** 2)\n",
    "            lossAE2 = (1 / (i + 1)) * torch.mean((features - w2) ** 2) - (1 - (1 / (i + 1))) * torch.mean((features - w3) ** 2)\n",
    "            val_loss_AE1.append(lossAE1)\n",
    "            val_loss_AE2.append(lossAE2)\n",
    "    AE1_val_history.append(torch.stack(val_loss_AE1).mean().item())\n",
    "    AE2_val_history.append(torch.stack(val_loss_AE2).mean().item())\n",
    "    print(f'Epoch: {i} ---> Val loss: AE1 {AE1_val_history[-1]:.4f}, AE2: {AE2_val_history[-1]:.4f}')\n",
    "    print(f'Train loss: AE1 {torch.stack(running_loss_AE1).mean().item():.4f}, AE2 {torch.stack(running_loss_AE2).mean().item():.4f}')"
   ]
  },
  {
   "cell_type": "code",
   "execution_count": 44,
   "metadata": {},
   "outputs": [
    {
     "data": {
      "text/plain": [
       "torch.Size([4096, 51, 200])"
      ]
     },
     "execution_count": 44,
     "metadata": {},
     "output_type": "execute_result"
    }
   ],
   "source": [
    "features.shape"
   ]
  },
  {
   "cell_type": "markdown",
   "metadata": {},
   "source": [
    "# Testing"
   ]
  },
  {
   "cell_type": "code",
   "execution_count": 11,
   "metadata": {},
   "outputs": [],
   "source": [
    "df2 = pd.read_csv('../../Projects/data/SWaT_Dataset_Attack_v0.csv')\n",
    "labels = df2['Normal/Attack']\n",
    "df2 = df2.drop(columns=[' Timestamp', 'Normal/Attack'])\n",
    "df2 = df2.astype('float64')\n",
    "df2.columns = df.columns\n",
    "test_normalized = pd.DataFrame(mm.transform(df2))"
   ]
  },
  {
   "cell_type": "code",
   "execution_count": 12,
   "metadata": {},
   "outputs": [],
   "source": [
    "test_dataset = SWat_dataset(test_normalized, test_normalized, window_size, device)\n",
    "test_loader = DataLoader(test_dataset, batch_size=batch_size, shuffle=False, num_workers=0)"
   ]
  },
  {
   "cell_type": "code",
   "execution_count": 13,
   "metadata": {},
   "outputs": [],
   "source": [
    "def testing(test_loader, alpha=.5, beta=.5):\n",
    "    results=[]\n",
    "    with torch.no_grad():\n",
    "        for batch in test_loader:\n",
    "            # batch = torch.transpose(batch, 1, 2)\n",
    "            w1=AE1(batch)\n",
    "            results.append(torch.mean(torch.mean((batch-w1)**2, axis=1), axis=1))\n",
    "    return results"
   ]
  },
  {
   "cell_type": "code",
   "execution_count": 14,
   "metadata": {},
   "outputs": [],
   "source": [
    "labels = labels.values\n",
    "labels = [0 if (lab == 'Normal') else 1 for lab in labels]\n",
    "windows_labels=[]\n",
    "for i in range(len(labels)-window_size):\n",
    "    windows_labels.append(list(np.int32(labels[i:i+window_size])))"
   ]
  },
  {
   "cell_type": "code",
   "execution_count": 15,
   "metadata": {},
   "outputs": [],
   "source": [
    "y_test = [1.0 if (np.sum(window) > 0) else 0 for window in windows_labels]"
   ]
  },
  {
   "cell_type": "code",
   "execution_count": 16,
   "metadata": {},
   "outputs": [],
   "source": [
    "results=testing(test_loader, alpha=0.3, beta=0.7)"
   ]
  },
  {
   "cell_type": "code",
   "execution_count": 17,
   "metadata": {},
   "outputs": [],
   "source": [
    "y_pred=np.concatenate([torch.stack(results[:-1]).flatten().detach().cpu().numpy(),\n",
    "                              results[-1].flatten().detach().cpu().numpy()])"
   ]
  },
  {
   "cell_type": "code",
   "execution_count": 23,
   "metadata": {},
   "outputs": [
    {
     "data": {
      "text/plain": [
       "449819"
      ]
     },
     "execution_count": 23,
     "metadata": {},
     "output_type": "execute_result"
    }
   ],
   "source": [
    "len(y_pred)"
   ]
  },
  {
   "cell_type": "code",
   "execution_count": 19,
   "metadata": {},
   "outputs": [],
   "source": [
    "def ROC(y_test,y_pred):\n",
    "    fpr,tpr,tr=roc_curve(y_test,y_pred)\n",
    "    auc=roc_auc_score(y_test,y_pred)\n",
    "    idx=np.argwhere(np.diff(np.sign(tpr-(1-fpr)))).flatten()\n",
    "\n",
    "    plt.xlabel(\"FPR\")\n",
    "    plt.ylabel(\"TPR\")\n",
    "    plt.plot(fpr,tpr,label=\"AUC=\"+str(auc))\n",
    "    plt.plot(fpr,1-fpr,'r:')\n",
    "    plt.plot(fpr[idx],tpr[idx], 'ro')\n",
    "    plt.legend(loc=4)\n",
    "    plt.grid()\n",
    "    plt.show()\n",
    "    return tr[idx]"
   ]
  },
  {
   "cell_type": "code",
   "execution_count": 20,
   "metadata": {},
   "outputs": [
    {
     "data": {
      "image/png": "[encoded data removed]",
      "text/plain": [
       "<Figure size 640x480 with 1 Axes>"
      ]
     },
     "metadata": {},
     "output_type": "display_data"
    },
    {
     "data": {
      "text/plain": [
       "array([5.5964627], dtype=float32)"
      ]
     },
     "execution_count": 20,
     "metadata": {},
     "output_type": "execute_result"
    }
   ],
   "source": [
    "threshold = ROC(y_test,y_pred)\n",
    "threshold"
   ]
  },
  {
   "cell_type": "code",
   "execution_count": 22,
   "metadata": {},
   "outputs": [
    {
     "name": "stdout",
     "output_type": "stream",
     "text": [
      "best: 13.142857142857142 F1: 0.7561803509670808\n"
     ]
    },
    {
     "data": {
      "text/plain": [
       "[<matplotlib.lines.Line2D at 0x7fb66087e6c0>]"
      ]
     },
     "execution_count": 22,
     "metadata": {},
     "output_type": "execute_result"
    },
    {
     "data": {
      "image/png": "[encoded data removed]",
      "text/plain": [
       "<Figure size 640x480 with 1 Axes>"
      ]
     },
     "metadata": {},
     "output_type": "display_data"
    }
   ],
   "source": [
    "ff = 0\n",
    "f_history = []\n",
    "initial_y = 11\n",
    "best = -1\n",
    "for inc in np.linspace(0, 5, 50):\n",
    "    y_pred_int = [1 if (yy > initial_y + inc) else 0 for yy in y_pred]\n",
    "    conf_matrix = confusion_matrix(y_test, y_pred_int)\n",
    "    TP = conf_matrix[1, 1]\n",
    "    TN = conf_matrix[0, 0]\n",
    "    FP = conf_matrix[0, 1]\n",
    "    FN = conf_matrix[1, 0]\n",
    "    F1 = f1_score(y_test, y_pred_int)\n",
    "    f_history.append(F1)\n",
    "\n",
    "    precision = precision_score(y_test, y_pred_int)\n",
    "    recall = recall_score(y_test, y_pred_int)\n",
    "    if F1 > ff:\n",
    "        ff = F1\n",
    "        best = inc\n",
    "print(f'best: {best + initial_y} F1: {ff}')\n",
    "plt.plot(f_history)"
   ]
  },
  {
   "cell_type": "code",
   "execution_count": 36,
   "metadata": {},
   "outputs": [
    {
     "data": {
      "image/png": "[encoded data removed]",
      "text/plain": [
       "<Figure size 640x480 with 1 Axes>"
      ]
     },
     "metadata": {},
     "output_type": "display_data"
    }
   ],
   "source": [
    "x_vals = 0.4 + np.linspace(0, 0.3, 50)\n",
    "plt.plot(x_vals, f_history)\n",
    "plt.xlabel('Threshold')\n",
    "plt.ylabel('F1 score')\n",
    "\n",
    "max_y = max(f_history)\n",
    "max_x = np.argmax(f_history)\n",
    "plt.axhline(y=max_y, color='r', linestyle='--', label='Max Y')\n",
    "plt.text(0.6, max_y + 0.05, f'Max F1= {max_y: .4f}', color='r')\n",
    "plt.ylim(0, 1)\n",
    "plt.grid(True)\n",
    "\n",
    "# plt.savefig('my_plot.png')\n",
    "\n",
    "plt.show()"
   ]
  },
  {
   "cell_type": "code",
   "execution_count": 33,
   "metadata": {},
   "outputs": [
    {
     "name": "stdout",
     "output_type": "stream",
     "text": [
      "Precision: 0.6346748574674437\n",
      "Recall: 0.49212097484584516\n",
      "F1 Score: 0.5543804842192309\n",
      "TP: 30168\n",
      "TN: 371052\n",
      "FP: 17365\n",
      "FN: 31134\n"
     ]
    }
   ],
   "source": [
    "y_pred_int = [1 if (yy > 0.46938775510204084) else 0 for yy in y_pred]\n",
    "conf_matrix = confusion_matrix(y_test, y_pred_int)\n",
    "TP = conf_matrix[1, 1]\n",
    "TN = conf_matrix[0, 0]\n",
    "FP = conf_matrix[0, 1]\n",
    "FN = conf_matrix[1, 0]\n",
    "F1 = f1_score(y_test, y_pred_int)\n",
    "\n",
    "precision = precision_score(y_test, y_pred_int)\n",
    "recall = recall_score(y_test, y_pred_int)\n",
    "print(\"Precision:\", precision)\n",
    "print(\"Recall:\", recall)\n",
    "print(\"F1 Score:\", F1)\n",
    "print(f'TP: {TP}\\nTN: {TN}\\nFP: {FP}\\nFN: {FN}')"
   ]
  },
  {
   "cell_type": "code",
   "execution_count": null,
   "metadata": {},
   "outputs": [],
   "source": []
  },
  {
   "cell_type": "code",
   "execution_count": null,
   "metadata": {},
   "outputs": [],
   "source": []
  },
  {
   "cell_type": "code",
   "execution_count": null,
   "metadata": {},
   "outputs": [],
   "source": []
  }
 ],
 "metadata": {
  "kernelspec": {
   "display_name": "NIS2",
   "language": "python",
   "name": "art2"
  },
  "language_info": {
   "codemirror_mode": {
    "name": "ipython",
    "version": 3
   },
   "file_extension": ".py",
   "mimetype": "text/x-python",
   "name": "python",
   "nbconvert_exporter": "python",
   "pygments_lexer": "ipython3",
   "version": "3.12.2"
  }
 },
 "nbformat": 4,
 "nbformat_minor": 4
}
