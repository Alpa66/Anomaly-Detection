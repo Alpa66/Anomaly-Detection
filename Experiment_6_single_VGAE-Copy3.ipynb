{
 "cells": [
  {
   "cell_type": "markdown",
   "metadata": {},
   "source": [
    "# Experiment 6\n",
    "In this experiment, the adversarial learning technique is dropped altogether, a single Variational Graph-based auto-encoder is used, using the torch geometry implementation of the VGAE\n",
    "\n",
    "VGAE proved to be inferior (to be tested) so back to experimenting with a model written from scratch"
   ]
  },
  {
   "cell_type": "code",
   "execution_count": 1,
   "metadata": {},
   "outputs": [
    {
     "name": "stdout",
     "output_type": "stream",
     "text": [
      " MNIST\t\t\t       SWaT_Dataset_Normal_v1.xlsx\n",
      " SWaT_Dataset_Attack_v0.csv    WADI_14days_new.csv\n",
      " SWaT_Dataset_Attack_v0.xlsx  'WADI.A1_9 Oct 2017'\n",
      " SWaT_Dataset_Normal_v0.csv   'WADI.A2_19 Nov 2019'\n",
      " SWaT_Dataset_Normal_v0.xlsx   WADI_attackdataLABLE.csv\n",
      " SWaT_Dataset_Normal_v1.csv\n"
     ]
    }
   ],
   "source": [
    "!ls ../../Projects/data/"
   ]
  },
  {
   "cell_type": "code",
   "execution_count": 1,
   "metadata": {},
   "outputs": [],
   "source": [
    "import numpy as np\n",
    "import pandas as pd\n",
    "import torch\n",
    "import torch.nn as nn\n",
    "import matplotlib.pyplot as plt\n",
    "import torch.nn.functional as F\n",
    "import torch_geometric.transforms as T\n",
    "\n",
    "from torch.optim import Adam\n",
    "from torch_geometric.utils import add_self_loops, remove_self_loops\n",
    "from torch_geometric.nn import GAE, VGAE, GCNConv, GATConv\n",
    "from torch_geometric.data import Data, Batch\n",
    "from torch.utils.data import Dataset, DataLoader\n",
    "from sklearn.preprocessing import StandardScaler\n",
    "from layers import *\n",
    "\n",
    "from sklearn.metrics import confusion_matrix, f1_score, roc_curve, roc_auc_score, precision_score, recall_score\n",
    "set_seed(2727)"
   ]
  },
  {
   "cell_type": "markdown",
   "metadata": {},
   "source": [
    "### Dataset:"
   ]
  },
  {
   "cell_type": "code",
   "execution_count": 2,
   "metadata": {},
   "outputs": [],
   "source": [
    "df = pd.read_csv('../../Projects/data/SWaT_Dataset_Normal_v1.csv')\n",
    "df = df.drop(columns=[' Timestamp', 'Normal/Attack'])\n",
    "df = df.astype('float64')\n",
    "mm = StandardScaler()\n",
    "Normalized = pd.DataFrame(mm.fit_transform(df))\n",
    "train_set = Normalized[: int(0.8 * Normalized.shape[0])]\n",
    "validation_set = Normalized[int(0.8 * Normalized.shape[0]):]"
   ]
  },
  {
   "cell_type": "code",
   "execution_count": 3,
   "metadata": {},
   "outputs": [
    {
     "data": {
      "text/plain": [
       "device(type='cuda')"
      ]
     },
     "execution_count": 3,
     "metadata": {},
     "output_type": "execute_result"
    }
   ],
   "source": [
    "device = torch.device('cuda' if torch.cuda.is_available() else 'cpu')\n",
    "device"
   ]
  },
  {
   "cell_type": "markdown",
   "metadata": {},
   "source": [
    "### Dataloader:"
   ]
  },
  {
   "cell_type": "code",
   "execution_count": 4,
   "metadata": {},
   "outputs": [],
   "source": [
    "window_size = 16\n",
    "\n",
    "train_dataset = SWat_dataset(train_set, train_set, window_size, device)\n",
    "validation_dataset = SWat_dataset(validation_set, validation_set, window_size, device)\n",
    "\n",
    "batch_size = 4096\n",
    "train_loader = DataLoader(train_dataset, batch_size=batch_size, shuffle=True, num_workers=0)\n",
    "validation_loader = DataLoader(validation_dataset, batch_size=batch_size, shuffle=False, num_workers=0)"
   ]
  },
  {
   "cell_type": "markdown",
   "metadata": {},
   "source": [
    "### Model:"
   ]
  },
  {
   "cell_type": "code",
   "execution_count": 5,
   "metadata": {},
   "outputs": [],
   "source": [
    "class GEncoder(nn.Module):\n",
    "    def __init__(self, num_nodes, window_size, alpha, k, device):\n",
    "        super(GEncoder, self).__init__()\n",
    "        self.num_nodes = num_nodes\n",
    "        self.window_size = window_size\n",
    "        self.conv1 = GCNLayer(window_size, 10)\n",
    "        self.conv2 = GCNLayer(10, 6)\n",
    "        self.idx = torch.arange(num_nodes).to(device)\n",
    "        self.A = Graph_Directed_A(num_nodes, window_size, alpha, k, device)\n",
    "        self.device = device\n",
    "\n",
    "    def forward(self, X):\n",
    "        X = torch.transpose(X, 1, 2)\n",
    "        adj = self.A(self.idx)\n",
    "        h = self.conv1(adj, X).relu()\n",
    "        h = self.conv2(adj, h).relu()\n",
    "        return h\n",
    "        \n",
    "        \n",
    "\n",
    "class GCN_autoencoder(nn.Module):\n",
    "    def __init__(self, encoder, num_nodes, window_size):\n",
    "        super(GCN_autoencoder, self).__init__()\n",
    "        self.window_size = window_size\n",
    "        self.num_nodes = num_nodes\n",
    "        self.encoder = encoder\n",
    "        self.decoder = nn.Sequential(\n",
    "            nn.Linear(306, 450),\n",
    "            nn.ReLU(),\n",
    "            nn.Linear(450, num_nodes * window_size)\n",
    "        )\n",
    "        \n",
    "    def forward(self, X):\n",
    "        x = self.encoder(X)\n",
    "        x = torch.flatten(x,1)\n",
    "        x = self.decoder(x)\n",
    "        return x.view(-1, self.window_size, self.num_nodes)\n",
    "\n",
    "    def get_adj(self):\n",
    "        return self.encoder.A(self.encoder.idx)"
   ]
  },
  {
   "cell_type": "code",
   "execution_count": 6,
   "metadata": {},
   "outputs": [],
   "source": [
    "num_nodes = 51 # number of nodes\n",
    "alpha = 0.2 # hyperparameter for weights of edges\n",
    "k = None  # max number of edges for each node\n",
    "epochs = 50\n",
    "hidden_size = 23\n",
    "dropout = 0.05\n",
    "heads = 3"
   ]
  },
  {
   "cell_type": "code",
   "execution_count": 7,
   "metadata": {},
   "outputs": [],
   "source": [
    "Encoder = GEncoder(num_nodes, window_size, alpha, k, device)\n",
    "AE1 = GCN_autoencoder(Encoder, num_nodes, window_size)"
   ]
  },
  {
   "cell_type": "code",
   "execution_count": 8,
   "metadata": {},
   "outputs": [
    {
     "data": {
      "text/plain": [
       "GCN_autoencoder(\n",
       "  (encoder): GEncoder(\n",
       "    (conv1): GCNLayer(\n",
       "      (dense): Linear(in_features=16, out_features=10, bias=True)\n",
       "    )\n",
       "    (conv2): GCNLayer(\n",
       "      (dense): Linear(in_features=10, out_features=6, bias=True)\n",
       "    )\n",
       "    (A): Graph_Directed_A(\n",
       "      (e1): Embedding(51, 16)\n",
       "      (e2): Embedding(51, 16)\n",
       "      (l1): Linear(in_features=16, out_features=16, bias=True)\n",
       "      (l2): Linear(in_features=16, out_features=16, bias=True)\n",
       "    )\n",
       "  )\n",
       "  (decoder): Sequential(\n",
       "    (0): Linear(in_features=306, out_features=450, bias=True)\n",
       "    (1): ReLU()\n",
       "    (2): Linear(in_features=450, out_features=816, bias=True)\n",
       "  )\n",
       ")"
      ]
     },
     "execution_count": 8,
     "metadata": {},
     "output_type": "execute_result"
    }
   ],
   "source": [
    "AE1.to(device)"
   ]
  },
  {
   "cell_type": "code",
   "execution_count": 9,
   "metadata": {},
   "outputs": [
    {
     "data": {
      "text/plain": [
       "<All keys matched successfully>"
      ]
     },
     "execution_count": 9,
     "metadata": {},
     "output_type": "execute_result"
    }
   ],
   "source": [
    "optimizer1 = torch.optim.Adam(AE1.parameters())\n",
    "AE1.load_state_dict(torch.load('GAE_for_GAT_temp.pth'))"
   ]
  },
  {
   "cell_type": "code",
   "execution_count": 10,
   "metadata": {},
   "outputs": [],
   "source": [
    "# from torch.utils.tensorboard import SummaryWriter"
   ]
  },
  {
   "cell_type": "code",
   "execution_count": 11,
   "metadata": {},
   "outputs": [
    {
     "name": "stdout",
     "output_type": "stream",
     "text": [
      "Epoch: 0 ---> Val loss: AE1 0.0432\n",
      "Train loss: AE1 0.2107\n",
      "Epoch: 1 ---> Val loss: AE1 0.0215\n",
      "Train loss: AE1 0.0279\n",
      "Epoch: 2 ---> Val loss: AE1 0.0150\n",
      "Train loss: AE1 0.0172\n",
      "Epoch: 3 ---> Val loss: AE1 0.0117\n",
      "Train loss: AE1 0.0132\n",
      "Epoch: 4 ---> Val loss: AE1 0.0103\n",
      "Train loss: AE1 0.0111\n",
      "Epoch: 5 ---> Val loss: AE1 0.0095\n",
      "Train loss: AE1 0.0099\n",
      "Epoch: 6 ---> Val loss: AE1 0.0087\n",
      "Train loss: AE1 0.0090\n",
      "Epoch: 7 ---> Val loss: AE1 0.0081\n",
      "Train loss: AE1 0.0082\n",
      "Epoch: 8 ---> Val loss: AE1 0.0076\n",
      "Train loss: AE1 0.0076\n",
      "CPU times: user 5min 47s, sys: 2.32 s, total: 5min 49s\n",
      "Wall time: 5min 24s\n"
     ]
    }
   ],
   "source": [
    "%%time\n",
    "AE1_val_history = []\n",
    "for i in range(epochs):\n",
    "    running_loss_AE1 = []\n",
    "    val_loss_AE1 = []\n",
    "    for index_b, features in enumerate(train_loader):\n",
    "        \n",
    "        w1 = AE1(features)\n",
    "        lossAE1 = torch.mean((features - w1) ** 2)\n",
    "        \n",
    "        running_loss_AE1.append(lossAE1)\n",
    "        lossAE1.backward()\n",
    "        optimizer1.step()\n",
    "        optimizer1.zero_grad()\n",
    "    \n",
    "    for index_b, features in enumerate(validation_loader):\n",
    "        with torch.no_grad():\n",
    "\n",
    "            w1 = AE1(features)\n",
    "            lossAE1 = torch.mean((features - w1) ** 2)\n",
    "            val_loss_AE1.append(lossAE1)\n",
    "    AE1_val_history.append(torch.stack(val_loss_AE1).mean().item())\n",
    "    # writer.add_scalar('Autoendoer_1_train_loss epoch', torch.stack(running_loss_AE1).mean().item(), i + 1)\n",
    "    # writer.add_scalar('Autoendoer_1_train_loss epoch', AE1_val_history[-1], i + 1)\n",
    "    print(f'Epoch: {i} ---> Val loss: AE1 {AE1_val_history[-1]:.4f}')\n",
    "    print(f'Train loss: AE1 {torch.stack(running_loss_AE1).mean().item():.4f}')\n",
    "    if round(AE1_val_history[-1], 4) == round(torch.stack(running_loss_AE1).mean().item(), 4):\n",
    "        break"
   ]
  },
  {
   "cell_type": "code",
   "execution_count": 21,
   "metadata": {},
   "outputs": [],
   "source": [
    "torch.save(AE1.state_dict(), 'GAE_for_GAT_temp.pth')"
   ]
  },
  {
   "cell_type": "code",
   "execution_count": 10,
   "metadata": {},
   "outputs": [],
   "source": [
    "adj = AE1.get_adj()\n",
    "adj2 = []\n",
    "for orig_row in adj:\n",
    "    row = [elem.item() if elem > 0.002 else 0 for elem in orig_row]\n",
    "    adj2.append(row)\n",
    "adj2 = torch.Tensor(adj2)\n",
    "edge_index = get_edges(adj2)\n",
    "edge_index, _ = remove_self_loops(edge_index)\n",
    "edge_index, _ = add_self_loops(edge_index)\n",
    "edge_index = edge_index.to(torch.int32).to(device)"
   ]
  },
  {
   "cell_type": "code",
   "execution_count": 11,
   "metadata": {},
   "outputs": [],
   "source": [
    "train_dataset = SWat_dataset_GAT(train_set, train_set, window_size, edge_index, device)\n",
    "validation_dataset = SWat_dataset_GAT(validation_set, validation_set, window_size, edge_index, device)\n",
    "\n",
    "batch_size = 4096\n",
    "train_loader = DataLoader(train_dataset, batch_size=batch_size, shuffle=True, num_workers=0)\n",
    "validation_loader = DataLoader(validation_dataset, batch_size=batch_size, shuffle=True, num_workers=0)"
   ]
  },
  {
   "cell_type": "code",
   "execution_count": 12,
   "metadata": {},
   "outputs": [],
   "source": [
    "def get_batch(tens, edges):\n",
    "    list_data = []\n",
    "    for row in tens:\n",
    "        list_data.append(Data(x=row, edge_index=edges))\n",
    "    return Batch.from_data_list(list_data)"
   ]
  },
  {
   "cell_type": "code",
   "execution_count": 13,
   "metadata": {},
   "outputs": [],
   "source": [
    "class GAT(torch.nn.Module):\n",
    "    def __init__(self, num_nodes, window_size, hidden_size, dropout, heads = 1):\n",
    "        super(GAT, self).__init__()\n",
    "        self.dropout = dropout\n",
    "        self.window_size = window_size\n",
    "        self.num_nodes = num_nodes\n",
    "        \n",
    "        self.conv1 = GATConv(window_size, hidden_size, heads=heads)\n",
    "        self.conv2 = GATConv(hidden_size * heads, window_size, concat=False)\n",
    "\n",
    "    def forward(self, batch):\n",
    "        x, edge_index = batch.x, batch.edge_index\n",
    "        x = self.conv1(x, edge_index)\n",
    "        x = F.elu(x)\n",
    "        \n",
    "        return self.conv2(x, edge_index).view(-1, self.num_nodes, self.window_size)"
   ]
  },
  {
   "cell_type": "code",
   "execution_count": 14,
   "metadata": {},
   "outputs": [],
   "source": [
    "GAT_AE = GAT(num_nodes, window_size, hidden_size, dropout, heads)\n",
    "model = GAT_AE"
   ]
  },
  {
   "cell_type": "code",
   "execution_count": 15,
   "metadata": {},
   "outputs": [
    {
     "data": {
      "text/plain": [
       "GAT(\n",
       "  (conv1): GATConv(16, 23, heads=3)\n",
       "  (conv2): GATConv(69, 16, heads=1)\n",
       ")"
      ]
     },
     "execution_count": 15,
     "metadata": {},
     "output_type": "execute_result"
    }
   ],
   "source": [
    "GAT_AE.to(device)"
   ]
  },
  {
   "cell_type": "code",
   "execution_count": 16,
   "metadata": {},
   "outputs": [],
   "source": [
    "optimizer = torch.optim.Adam(model.parameters())"
   ]
  },
  {
   "cell_type": "code",
   "execution_count": 17,
   "metadata": {},
   "outputs": [
    {
     "name": "stdout",
     "output_type": "stream",
     "text": [
      "Epoch: 0 ---> Val loss: AE1 0.3700\n",
      "Train loss: AE1 0.7806\n",
      "Epoch: 1 ---> Val loss: AE1 0.3654\n",
      "Train loss: AE1 0.7065\n",
      "Epoch: 2 ---> Val loss: AE1 0.3629\n",
      "Train loss: AE1 0.6870\n",
      "Epoch: 3 ---> Val loss: AE1 0.3565\n",
      "Train loss: AE1 0.6715\n",
      "Epoch: 4 ---> Val loss: AE1 0.3417\n",
      "Train loss: AE1 0.6487\n",
      "Epoch: 5 ---> Val loss: AE1 0.3200\n",
      "Train loss: AE1 0.6133\n",
      "Epoch: 6 ---> Val loss: AE1 0.3028\n",
      "Train loss: AE1 0.5839\n",
      "Epoch: 7 ---> Val loss: AE1 0.2953\n",
      "Train loss: AE1 0.5631\n",
      "Epoch: 8 ---> Val loss: AE1 0.2880\n",
      "Train loss: AE1 0.5463\n",
      "Epoch: 9 ---> Val loss: AE1 0.2800\n",
      "Train loss: AE1 0.5312\n",
      "Epoch: 10 ---> Val loss: AE1 0.2675\n",
      "Train loss: AE1 0.5165\n",
      "Epoch: 11 ---> Val loss: AE1 0.2640\n",
      "Train loss: AE1 0.4998\n",
      "Epoch: 12 ---> Val loss: AE1 0.2591\n",
      "Train loss: AE1 0.4882\n",
      "Epoch: 13 ---> Val loss: AE1 0.2527\n",
      "Train loss: AE1 0.4814\n",
      "Epoch: 14 ---> Val loss: AE1 0.2510\n",
      "Train loss: AE1 0.4723\n",
      "Epoch: 15 ---> Val loss: AE1 0.2520\n",
      "Train loss: AE1 0.4727\n",
      "Epoch: 16 ---> Val loss: AE1 0.2482\n",
      "Train loss: AE1 0.4655\n",
      "Epoch: 17 ---> Val loss: AE1 0.2469\n",
      "Train loss: AE1 0.4611\n",
      "Epoch: 18 ---> Val loss: AE1 0.2440\n",
      "Train loss: AE1 0.4593\n",
      "Epoch: 19 ---> Val loss: AE1 0.2435\n",
      "Train loss: AE1 0.4539\n",
      "Epoch: 20 ---> Val loss: AE1 0.2426\n",
      "Train loss: AE1 0.4481\n",
      "Epoch: 21 ---> Val loss: AE1 0.2418\n",
      "Train loss: AE1 0.4512\n",
      "Epoch: 22 ---> Val loss: AE1 0.2399\n",
      "Train loss: AE1 0.4490\n",
      "Epoch: 23 ---> Val loss: AE1 0.2390\n",
      "Train loss: AE1 0.4432\n",
      "Epoch: 24 ---> Val loss: AE1 0.2361\n",
      "Train loss: AE1 0.4391\n",
      "Epoch: 25 ---> Val loss: AE1 0.2341\n",
      "Train loss: AE1 0.4375\n",
      "Epoch: 26 ---> Val loss: AE1 0.2344\n",
      "Train loss: AE1 0.4361\n",
      "Epoch: 27 ---> Val loss: AE1 0.2312\n",
      "Train loss: AE1 0.4315\n",
      "Epoch: 28 ---> Val loss: AE1 0.2334\n",
      "Train loss: AE1 0.4363\n",
      "Epoch: 29 ---> Val loss: AE1 0.2297\n",
      "Train loss: AE1 0.4314\n",
      "Epoch: 30 ---> Val loss: AE1 0.2307\n",
      "Train loss: AE1 0.4304\n",
      "Epoch: 31 ---> Val loss: AE1 0.2287\n",
      "Train loss: AE1 0.4278\n",
      "Epoch: 32 ---> Val loss: AE1 0.2252\n",
      "Train loss: AE1 0.4267\n",
      "Epoch: 33 ---> Val loss: AE1 0.2258\n",
      "Train loss: AE1 0.4224\n",
      "Epoch: 34 ---> Val loss: AE1 0.2261\n",
      "Train loss: AE1 0.4247\n",
      "Epoch: 35 ---> Val loss: AE1 0.2236\n",
      "Train loss: AE1 0.4285\n",
      "Epoch: 36 ---> Val loss: AE1 0.2220\n",
      "Train loss: AE1 0.4172\n",
      "Epoch: 37 ---> Val loss: AE1 0.2245\n",
      "Train loss: AE1 0.4176\n",
      "Epoch: 38 ---> Val loss: AE1 0.2297\n",
      "Train loss: AE1 0.4244\n",
      "Epoch: 39 ---> Val loss: AE1 0.2189\n",
      "Train loss: AE1 0.4179\n",
      "Epoch: 40 ---> Val loss: AE1 0.2181\n",
      "Train loss: AE1 0.4190\n",
      "Epoch: 41 ---> Val loss: AE1 0.2194\n",
      "Train loss: AE1 0.4152\n",
      "Epoch: 42 ---> Val loss: AE1 0.2162\n",
      "Train loss: AE1 0.4159\n",
      "Epoch: 43 ---> Val loss: AE1 0.2216\n",
      "Train loss: AE1 0.4237\n",
      "Epoch: 44 ---> Val loss: AE1 0.2174\n",
      "Train loss: AE1 0.4136\n",
      "Epoch: 45 ---> Val loss: AE1 0.2144\n",
      "Train loss: AE1 0.4096\n",
      "Epoch: 46 ---> Val loss: AE1 0.2168\n",
      "Train loss: AE1 0.4121\n",
      "Epoch: 47 ---> Val loss: AE1 0.2140\n",
      "Train loss: AE1 0.4188\n",
      "Epoch: 48 ---> Val loss: AE1 0.2151\n",
      "Train loss: AE1 0.4103\n",
      "Epoch: 49 ---> Val loss: AE1 0.2129\n",
      "Train loss: AE1 0.4114\n"
     ]
    }
   ],
   "source": [
    "AE1_val_history = []\n",
    "for i in range(epochs):\n",
    "    running_loss_AE1 = []\n",
    "    model.train()\n",
    "    val_loss_AE1 = []\n",
    "    for features in train_loader:\n",
    "        batch = get_batch(features, edge_index)\n",
    "        w1 = model(batch)\n",
    "        lossAE1 = torch.mean((features - w1) ** 2)\n",
    "        \n",
    "        running_loss_AE1.append(lossAE1)\n",
    "        lossAE1.backward()\n",
    "        optimizer.step()\n",
    "        optimizer.zero_grad()\n",
    "    model.eval()\n",
    "    for features in validation_loader:\n",
    "        with torch.no_grad():\n",
    "            batch = get_batch(features, edge_index)\n",
    "            w1 = model(batch) \n",
    "            lossAE1 = torch.mean((features - w1) ** 2)\n",
    "            val_loss_AE1.append(lossAE1)\n",
    "    AE1_val_history.append(torch.stack(val_loss_AE1).mean().item())\n",
    "    # writer.add_scalar('Autoendoer_1_train_loss epoch', torch.stack(running_loss_AE1).mean().item(), i + 1)\n",
    "    # writer.add_scalar('Autoendoer_1_train_loss epoch', AE1_val_history[-1], i + 1)\n",
    "    print(f'Epoch: {i} ---> Val loss: AE1 {AE1_val_history[-1]:.4f}')\n",
    "    print(f'Train loss: AE1 {torch.stack(running_loss_AE1).mean().item():.4f}')"
   ]
  },
  {
   "cell_type": "markdown",
   "metadata": {},
   "source": [
    "# Testing"
   ]
  },
  {
   "cell_type": "code",
   "execution_count": 20,
   "metadata": {},
   "outputs": [],
   "source": [
    "df2 = pd.read_csv('../../Projects/data/SWaT_Dataset_Attack_v0.csv')\n",
    "labels = df2['Normal/Attack']\n",
    "df2 = df2.drop(columns=[' Timestamp', 'Normal/Attack'])\n",
    "df2 = df2.astype('float64')\n",
    "df2.columns = df.columns\n",
    "test_normalized = pd.DataFrame(mm.transform(df2))"
   ]
  },
  {
   "cell_type": "code",
   "execution_count": 22,
   "metadata": {},
   "outputs": [],
   "source": [
    "test_dataset = SWat_dataset_GAT(test_normalized, test_normalized, window_size, edge_index, device)\n",
    "test_loader = DataLoader(test_dataset, batch_size=batch_size, shuffle=False, num_workers=0)"
   ]
  },
  {
   "cell_type": "code",
   "execution_count": 30,
   "metadata": {},
   "outputs": [],
   "source": [
    "def testing(test_loader, alpha=.5, beta=.5):\n",
    "    model.eval()\n",
    "    results=[]\n",
    "    with torch.no_grad():\n",
    "        for features in test_loader:\n",
    "            batch = get_batch(features, edge_index)\n",
    "            w1=model(batch)\n",
    "            results.append(torch.mean(torch.mean((features-w1)**2, axis=2), axis=1))\n",
    "    return results"
   ]
  },
  {
   "cell_type": "code",
   "execution_count": 23,
   "metadata": {},
   "outputs": [],
   "source": [
    "labels = labels.values\n",
    "labels = [0 if (lab == 'Normal') else 1 for lab in labels]\n",
    "windows_labels=[]\n",
    "for i in range(len(labels)-window_size):\n",
    "    windows_labels.append(list(np.int32(labels[i:i+window_size])))"
   ]
  },
  {
   "cell_type": "code",
   "execution_count": 24,
   "metadata": {},
   "outputs": [],
   "source": [
    "y_test = [1.0 if (np.sum(window) > 0) else 0 for window in windows_labels]"
   ]
  },
  {
   "cell_type": "code",
   "execution_count": 31,
   "metadata": {},
   "outputs": [],
   "source": [
    "results=testing(test_loader, alpha=0.3, beta=0.7)"
   ]
  },
  {
   "cell_type": "code",
   "execution_count": 32,
   "metadata": {},
   "outputs": [],
   "source": [
    "y_pred=np.concatenate([torch.stack(results[:-1]).flatten().detach().cpu().numpy(),\n",
    "                              results[-1].flatten().detach().cpu().numpy()])"
   ]
  },
  {
   "cell_type": "code",
   "execution_count": 33,
   "metadata": {},
   "outputs": [
    {
     "data": {
      "image/png": "[encoded data removed]",
      "text/plain": [
       "<Figure size 640x480 with 1 Axes>"
      ]
     },
     "metadata": {},
     "output_type": "display_data"
    },
    {
     "data": {
      "text/plain": [
       "array([4.1279087], dtype=float32)"
      ]
     },
     "execution_count": 33,
     "metadata": {},
     "output_type": "execute_result"
    }
   ],
   "source": [
    "threshold = ROC(y_test,y_pred)\n",
    "threshold"
   ]
  },
  {
   "cell_type": "code",
   "execution_count": 35,
   "metadata": {},
   "outputs": [
    {
     "name": "stdout",
     "output_type": "stream",
     "text": [
      "best: 9.294117647058822 F1: 0.7646094299003915\n"
     ]
    },
    {
     "data": {
      "text/plain": [
       "[<matplotlib.lines.Line2D at 0x72c25a2a2f00>]"
      ]
     },
     "execution_count": 35,
     "metadata": {},
     "output_type": "execute_result"
    },
    {
     "data": {
      "image/png": "[encoded data removed]",
      "text/plain": [
       "<Figure size 640x480 with 1 Axes>"
      ]
     },
     "metadata": {},
     "output_type": "display_data"
    }
   ],
   "source": [
    "ff = 0\n",
    "f_history = []\n",
    "initial_y = 4\n",
    "best = -1\n",
    "for inc in np.linspace(0, 10, 35):\n",
    "    y_pred_int = [1 if (yy > initial_y + inc) else 0 for yy in y_pred]\n",
    "    conf_matrix = confusion_matrix(y_test, y_pred_int)\n",
    "    TP = conf_matrix[1, 1]\n",
    "    TN = conf_matrix[0, 0]\n",
    "    FP = conf_matrix[0, 1]\n",
    "    FN = conf_matrix[1, 0]\n",
    "    F1 = f1_score(y_test, y_pred_int)\n",
    "    f_history.append(F1)\n",
    "\n",
    "    precision = precision_score(y_test, y_pred_int)\n",
    "    recall = recall_score(y_test, y_pred_int)\n",
    "    if F1 > ff:\n",
    "        ff = F1\n",
    "        best = inc\n",
    "print(f'best: {best + initial_y} F1: {ff}')\n",
    "plt.plot(f_history)"
   ]
  },
  {
   "cell_type": "code",
   "execution_count": 21,
   "metadata": {},
   "outputs": [],
   "source": [
    "def testing(loader, alpha=.5, beta=.5):\n",
    "    results=[]\n",
    "    with torch.no_grad():\n",
    "        for batch in loader:\n",
    "            w1=AE1(batch)\n",
    "            results.append(torch.mean((batch-w1)**2, axis=1))\n",
    "    return results\n",
    "\n",
    "def get_threshold(val_loader):\n",
    "    recon_errors = testing(val_loader)\n",
    "    complete_vals = np.concatenate([torch.stack(recon_errors[:-1]).view(-1, num_nodes).detach().cpu().numpy(),\n",
    "                                    recon_errors[-1].view(-1, num_nodes).detach().cpu().numpy()])\n",
    "    return np.max(complete_vals, axis=0)"
   ]
  },
  {
   "cell_type": "code",
   "execution_count": 22,
   "metadata": {},
   "outputs": [],
   "source": [
    "y_test = [1.0 if (np.sum(window) > 0) else 0 for window in windows_labels]"
   ]
  },
  {
   "cell_type": "code",
   "execution_count": 23,
   "metadata": {},
   "outputs": [],
   "source": [
    "thresholds = get_threshold(validation_loader)\n",
    "results=testing(test_loader, alpha=0.3, beta=0.7)\n",
    "y_pred=np.concatenate([torch.stack(results[:-1]).view(-1, num_nodes).detach().cpu().numpy(), \n",
    "                       results[-1].view(-1, num_nodes).detach().cpu().numpy()])"
   ]
  },
  {
   "cell_type": "code",
   "execution_count": 24,
   "metadata": {},
   "outputs": [],
   "source": [
    "factor = 1"
   ]
  },
  {
   "cell_type": "code",
   "execution_count": 43,
   "metadata": {},
   "outputs": [
    {
     "name": "stdout",
     "output_type": "stream",
     "text": [
      "Precision: 0.9892194788940721\n",
      "Recall: 0.6330457259356342\n",
      "F1 Score: 0.7720330328997026\n",
      "TP: 34777\n",
      "TN: 394594\n",
      "FP: 379\n",
      "FN: 20159\n",
      "Factor is: 720\n"
     ]
    }
   ],
   "source": [
    "factor = 720\n",
    "res = y_pred > (thresholds * factor)\n",
    "boo = np.any(res, axis = 1)\n",
    "verdicts = [1 if elem else 0 for elem in boo]\n",
    "conf_matrix = confusion_matrix(y_test, verdicts)\n",
    "TP = conf_matrix[1, 1]\n",
    "TN = conf_matrix[0, 0]\n",
    "FP = conf_matrix[0, 1]\n",
    "FN = conf_matrix[1, 0]\n",
    "F1 = f1_score(y_test, verdicts)\n",
    "precision = precision_score(y_test, verdicts)\n",
    "recall = recall_score(y_test, verdicts)\n",
    "print(\"Precision:\", precision)\n",
    "print(\"Recall:\", recall)\n",
    "print(\"F1 Score:\", F1)\n",
    "print(f'TP: {TP}\\nTN: {TN}\\nFP: {FP}\\nFN: {FN}')\n",
    "print(f'Factor is: {factor}')"
   ]
  },
  {
   "cell_type": "code",
   "execution_count": null,
   "metadata": {},
   "outputs": [],
   "source": []
  }
 ],
 "metadata": {
  "kernelspec": {
   "display_name": "NIS2",
   "language": "python",
   "name": "art2"
  },
  "language_info": {
   "codemirror_mode": {
    "name": "ipython",
    "version": 3
   },
   "file_extension": ".py",
   "mimetype": "text/x-python",
   "name": "python",
   "nbconvert_exporter": "python",
   "pygments_lexer": "ipython3",
   "version": "3.12.2"
  }
 },
 "nbformat": 4,
 "nbformat_minor": 4
}
